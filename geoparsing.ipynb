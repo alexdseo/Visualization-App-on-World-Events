{
  "nbformat": 4,
  "nbformat_minor": 0,
  "metadata": {
    "colab": {
      "name": "Geoparsing.ipynb",
      "provenance": [],
      "collapsed_sections": []
    },
    "kernelspec": {
      "name": "python3",
      "display_name": "Python 3"
    },
    "language_info": {
      "name": "python"
    },
    "accelerator": "GPU"
  },
  "cells": [
    {
      "cell_type": "markdown",
      "source": [
        "## Geoparsing using GPE and LOC from each article"
      ],
      "metadata": {
        "id": "QjJ0FbwR9InI"
      }
    },
    {
      "cell_type": "code",
      "source": [
        "#Mount your drive to get cleaned_text\n",
        "from google.colab import drive\n",
        "drive.mount('/content/drive')"
      ],
      "metadata": {
        "colab": {
          "base_uri": "https://localhost:8080/"
        },
        "id": "Y0zJVXvx9H6V",
        "outputId": "3faafd34-03c0-4187-e052-7e1f57252a83"
      },
      "execution_count": 29,
      "outputs": [
        {
          "output_type": "stream",
          "name": "stdout",
          "text": [
            "Mounted at /content/drive\n"
          ]
        }
      ]
    },
    {
      "cell_type": "code",
      "source": [
        "#Clone this repository\n",
        "!git clone https://github.com/alexdseo/Visualization-App-on-World-Events"
      ],
      "metadata": {
        "colab": {
          "base_uri": "https://localhost:8080/"
        },
        "id": "7huR9Q1t9OYr",
        "outputId": "4fb4e0fa-d425-4e09-dc13-2503168671c1"
      },
      "execution_count": 30,
      "outputs": [
        {
          "output_type": "stream",
          "name": "stdout",
          "text": [
            "Cloning into 'Visualization-App-on-World-Events'...\n",
            "remote: Enumerating objects: 197, done.\u001b[K\n",
            "remote: Counting objects: 100% (11/11), done.\u001b[K\n",
            "remote: Compressing objects: 100% (9/9), done.\u001b[K\n",
            "remote: Total 197 (delta 4), reused 7 (delta 2), pack-reused 186\u001b[K\n",
            "Receiving objects: 100% (197/197), 1.49 GiB | 12.10 MiB/s, done.\n",
            "Resolving deltas: 100% (37/37), done.\n"
          ]
        }
      ]
    },
    {
      "cell_type": "code",
      "source": [
        "#Change directory\n",
        "%cd Visualization-App-on-World-Events"
      ],
      "metadata": {
        "colab": {
          "base_uri": "https://localhost:8080/"
        },
        "id": "mzX1W4uY9P3_",
        "outputId": "34565a63-14c0-4112-bac8-e3987bb25674"
      },
      "execution_count": 31,
      "outputs": [
        {
          "output_type": "stream",
          "name": "stdout",
          "text": [
            "/content/Visualization-App-on-World-Events\n"
          ]
        }
      ]
    },
    {
      "cell_type": "code",
      "source": [
        "import spacy\n",
        "#from spacy import displacy #visualize option\n",
        "from collections import Counter\n",
        "from pprint import pprint\n",
        "from geopy.geocoders import Nominatim"
      ],
      "metadata": {
        "id": "1Qz0cVXT9Rtg"
      },
      "execution_count": 32,
      "outputs": []
    },
    {
      "cell_type": "code",
      "source": [
        "# Use GPU\n",
        "spacy.prefer_gpu()"
      ],
      "metadata": {
        "colab": {
          "base_uri": "https://localhost:8080/"
        },
        "id": "iXtvqntQ9TRN",
        "outputId": "b2dee273-6d2c-459a-adce-5e690064b8e1"
      },
      "execution_count": 33,
      "outputs": [
        {
          "output_type": "execute_result",
          "data": {
            "text/plain": [
              "True"
            ]
          },
          "metadata": {},
          "execution_count": 33
        }
      ]
    },
    {
      "cell_type": "code",
      "source": [
        "#Load nlp machine\n",
        "import en_core_web_sm\n",
        "nlp = en_core_web_sm.load()\n",
        "nlp.max_length = 4000000"
      ],
      "metadata": {
        "id": "8rfsPSVZ9TXH"
      },
      "execution_count": 34,
      "outputs": []
    },
    {
      "cell_type": "code",
      "source": [
        "#Get file_path\n",
        "import os\n",
        "\n",
        "all_filepaths = []\n",
        "\n",
        "for newssource in os.listdir('/content/drive/MyDrive/cleaned_text'):\n",
        "    if newssource != \".DS_Store\":\n",
        "        for filename in os.listdir(os.path.join('/content/drive/MyDrive/cleaned_text',newssource)):\n",
        "            if filename != \".DS_Store\":\n",
        "                all_filepaths.append(f\"/content/drive/MyDrive/cleaned_text/{newssource}/{filename}\")\n",
        "\n",
        "all_filepaths.sort()"
      ],
      "metadata": {
        "id": "1VIhS0AR9Zhk"
      },
      "execution_count": 35,
      "outputs": []
    },
    {
      "cell_type": "code",
      "source": [
        "len(all_filepaths)"
      ],
      "metadata": {
        "colab": {
          "base_uri": "https://localhost:8080/"
        },
        "id": "oc-lTUK-9Z9o",
        "outputId": "26ddf67a-d4f1-4b59-f77e-0dd0173387d0"
      },
      "execution_count": 36,
      "outputs": [
        {
          "output_type": "execute_result",
          "data": {
            "text/plain": [
              "81"
            ]
          },
          "metadata": {},
          "execution_count": 36
        }
      ]
    },
    {
      "cell_type": "code",
      "source": [
        "import pandas as pd\n",
        "import numpy as np\n",
        "#Make empty dataset to fill in\n",
        "# 81 article, GPE/LOC entity type, Top 20 for each entity type\n",
        "geoparse=pd.DataFrame()\n",
        "col_list =['Entity','Entity Type', 'Year', 'Month', 'Day', 'Latitude', 'Longitude', 'Country', 'City', 'News Source']"
      ],
      "metadata": {
        "id": "wxt4Klg3GEMB"
      },
      "execution_count": 79,
      "outputs": []
    },
    {
      "cell_type": "code",
      "source": [
        "#Fill in day of the article and the news source, entity type\n",
        "#Geoparsing using Nominatim API\n",
        "geolocator = Nominatim(user_agent=\"NSF\", timeout =10)\n",
        "\n",
        "for i in all_filepaths:\n",
        "    f = open(i,\"r\").read().replace('\\n', ' ')\n",
        "    components = i.split(\"/\")\n",
        "    day = int(components[6].split('-')[1])\n",
        "    news_source = components[5]\n",
        "    \n",
        "    article=nlp(f)\n",
        "    GPE_placeholder, LOC_placeholder = [], []\n",
        "    for t in article.ents:\n",
        "      if t.label_ == 'GPE':\n",
        "        GPE_placeholder.append(t.text)   \n",
        "      if t.label_ == 'LOC':\n",
        "        LOC_placeholder.append(t.text)\n",
        "\n",
        "    GPE_20=Counter(GPE_placeholder).most_common(20)\n",
        "    LOC_20=Counter(LOC_placeholder).most_common(20)\n",
        "    \n",
        "    if len(GPE_20) >0:\n",
        "      for e in range(len(GPE_20)):\n",
        "        GPE_entity = str(GPE_20[e][0])\n",
        "        locations = geolocator.geocode(GPE_entity)\n",
        "        try:\n",
        "          address= geolocator.reverse(str(locations.latitude)+\",\"+str(locations.longitude), language='en')\n",
        "\n",
        "          temp=[[GPE_entity, 'GPE', 2022, 3, day, str(locations.latitude),str(locations.longitude),\n",
        "                address.raw['address'].get('country'), address.raw['address'].get('city'), news_source]]\n",
        "\n",
        "          temp_df=pd.DataFrame(temp, columns = col_list)\n",
        "          geoparse=pd.concat([geoparse,temp_df], ignore_index=True)\n",
        "\n",
        "        #geocode not available for the entity\n",
        "        except AttributeError:\n",
        "          temp=[[GPE_entity, 'GPE', 2022, 3, day, np.nan , np.nan, np.nan, np.nan, news_source]]\n",
        "          temp_df=pd.DataFrame(temp, columns = col_list)\n",
        "          geoparse=pd.concat([geoparse,temp_df], ignore_index=True)\n",
        "        \n",
        "        #geocode not available to get address\n",
        "        except KeyError:\n",
        "          temp=[[GPE_entity, 'GPE', 2022, 3, day, str(locations.latitude),str(locations.longitude),\n",
        "                 np.nan, np.nan, news_source]]\n",
        "          temp_df=pd.DataFrame(temp, columns = col_list)\n",
        "          geoparse=pd.concat([geoparse,temp_df], ignore_index=True)\n",
        "\n",
        "    if len(LOC_20) >0:\n",
        "      for e in range(len(LOC_20)):\n",
        "        LOC_entity = str(LOC_20[e][0])\n",
        "        locations = geolocator.geocode(LOC_entity)\n",
        "        try:\n",
        "          address= geolocator.reverse(str(locations.latitude)+\",\"+str(locations.longitude), language='en')\n",
        "\n",
        "          temp=[[LOC_entity, 'LOC', 2022, 3, day, str(locations.latitude),str(locations.longitude),\n",
        "                address.raw['address'].get('country'), address.raw['address'].get('city'), news_source]]\n",
        "          \n",
        "          temp_df=pd.DataFrame(temp, columns = col_list)\n",
        "          geoparse=pd.concat([geoparse,temp_df], ignore_index=True)\n",
        "        \n",
        "        #geocode not available for the entity\n",
        "        except AttributeError:\n",
        "          temp=[[LOC_entity, 'LOC', 2022, 3, day, np.nan , np.nan, np.nan, np.nan, news_source]]\n",
        "          temp_df=pd.DataFrame(temp, columns = col_list)\n",
        "          geoparse=pd.concat([geoparse,temp_df], ignore_index=True)\n",
        "        \n",
        "        #geocode not available to get address\n",
        "        except KeyError:\n",
        "          temp=[[LOC_entity, 'LOC', 2022, 3, day, str(locations.latitude),str(locations.longitude),\n",
        "                 np.nan, np.nan, news_source]]\n",
        "          temp_df=pd.DataFrame(temp, columns = col_list)\n",
        "          geoparse=pd.concat([geoparse,temp_df], ignore_index=True)\n",
        "\n"
      ],
      "metadata": {
        "id": "jZer-ygMH5pF"
      },
      "execution_count": 80,
      "outputs": []
    },
    {
      "cell_type": "code",
      "source": [
        "geoparse"
      ],
      "metadata": {
        "colab": {
          "base_uri": "https://localhost:8080/",
          "height": 423
        },
        "id": "Yk0cn-fdQMnO",
        "outputId": "925652ae-fa16-4cf0-d42c-e98fc6671d7e"
      },
      "execution_count": 83,
      "outputs": [
        {
          "output_type": "execute_result",
          "data": {
            "text/plain": [
              "               Entity Entity Type  Year  Month  Day     Latitude  \\\n",
              "0             Ukraine         GPE  2022      3    1   49.4871968   \n",
              "1              Russia         GPE  2022      3    1   64.6863136   \n",
              "2                  US         GPE  2022      3    1   39.7837304   \n",
              "3              Moscow         GPE  2022      3    1   55.7504461   \n",
              "4              Poland         GPE  2022      3    1    52.215933   \n",
              "...               ...         ...   ...    ...  ...          ...   \n",
              "2346           Europe         LOC  2022      3   31         51.0   \n",
              "2347    Latin America         LOC  2022      3   31  48.84774885   \n",
              "2348  the Middle East         LOC  2022      3   31   42.3638002   \n",
              "2349   Southeast Asia         LOC  2022      3   31   51.3305381   \n",
              "2350           Africa         LOC  2022      3   31   11.5024338   \n",
              "\n",
              "              Longitude        Country       City News Source  \n",
              "0            31.2718321        Ukraine       None   aljazeera  \n",
              "1            97.7453061         Russia       None   aljazeera  \n",
              "2           -100.445882  United States       None   aljazeera  \n",
              "3            37.6174943         Russia     Moscow   aljazeera  \n",
              "4             19.134422         Poland       None   aljazeera  \n",
              "...                 ...            ...        ...         ...  \n",
              "2346               10.0        Germany       None         fox  \n",
              "2347  2.351138358927914         France      Paris         fox  \n",
              "2348        -71.1013814  United States  Cambridge         fox  \n",
              "2349         12.3786243        Germany    Leipzig         fox  \n",
              "2350         17.7578122           Chad       None         fox  \n",
              "\n",
              "[2351 rows x 10 columns]"
            ],
            "text/html": [
              "\n",
              "  <div id=\"df-b350a256-6a29-45d5-8fe4-d03cd0f52a00\">\n",
              "    <div class=\"colab-df-container\">\n",
              "      <div>\n",
              "<style scoped>\n",
              "    .dataframe tbody tr th:only-of-type {\n",
              "        vertical-align: middle;\n",
              "    }\n",
              "\n",
              "    .dataframe tbody tr th {\n",
              "        vertical-align: top;\n",
              "    }\n",
              "\n",
              "    .dataframe thead th {\n",
              "        text-align: right;\n",
              "    }\n",
              "</style>\n",
              "<table border=\"1\" class=\"dataframe\">\n",
              "  <thead>\n",
              "    <tr style=\"text-align: right;\">\n",
              "      <th></th>\n",
              "      <th>Entity</th>\n",
              "      <th>Entity Type</th>\n",
              "      <th>Year</th>\n",
              "      <th>Month</th>\n",
              "      <th>Day</th>\n",
              "      <th>Latitude</th>\n",
              "      <th>Longitude</th>\n",
              "      <th>Country</th>\n",
              "      <th>City</th>\n",
              "      <th>News Source</th>\n",
              "    </tr>\n",
              "  </thead>\n",
              "  <tbody>\n",
              "    <tr>\n",
              "      <th>0</th>\n",
              "      <td>Ukraine</td>\n",
              "      <td>GPE</td>\n",
              "      <td>2022</td>\n",
              "      <td>3</td>\n",
              "      <td>1</td>\n",
              "      <td>49.4871968</td>\n",
              "      <td>31.2718321</td>\n",
              "      <td>Ukraine</td>\n",
              "      <td>None</td>\n",
              "      <td>aljazeera</td>\n",
              "    </tr>\n",
              "    <tr>\n",
              "      <th>1</th>\n",
              "      <td>Russia</td>\n",
              "      <td>GPE</td>\n",
              "      <td>2022</td>\n",
              "      <td>3</td>\n",
              "      <td>1</td>\n",
              "      <td>64.6863136</td>\n",
              "      <td>97.7453061</td>\n",
              "      <td>Russia</td>\n",
              "      <td>None</td>\n",
              "      <td>aljazeera</td>\n",
              "    </tr>\n",
              "    <tr>\n",
              "      <th>2</th>\n",
              "      <td>US</td>\n",
              "      <td>GPE</td>\n",
              "      <td>2022</td>\n",
              "      <td>3</td>\n",
              "      <td>1</td>\n",
              "      <td>39.7837304</td>\n",
              "      <td>-100.445882</td>\n",
              "      <td>United States</td>\n",
              "      <td>None</td>\n",
              "      <td>aljazeera</td>\n",
              "    </tr>\n",
              "    <tr>\n",
              "      <th>3</th>\n",
              "      <td>Moscow</td>\n",
              "      <td>GPE</td>\n",
              "      <td>2022</td>\n",
              "      <td>3</td>\n",
              "      <td>1</td>\n",
              "      <td>55.7504461</td>\n",
              "      <td>37.6174943</td>\n",
              "      <td>Russia</td>\n",
              "      <td>Moscow</td>\n",
              "      <td>aljazeera</td>\n",
              "    </tr>\n",
              "    <tr>\n",
              "      <th>4</th>\n",
              "      <td>Poland</td>\n",
              "      <td>GPE</td>\n",
              "      <td>2022</td>\n",
              "      <td>3</td>\n",
              "      <td>1</td>\n",
              "      <td>52.215933</td>\n",
              "      <td>19.134422</td>\n",
              "      <td>Poland</td>\n",
              "      <td>None</td>\n",
              "      <td>aljazeera</td>\n",
              "    </tr>\n",
              "    <tr>\n",
              "      <th>...</th>\n",
              "      <td>...</td>\n",
              "      <td>...</td>\n",
              "      <td>...</td>\n",
              "      <td>...</td>\n",
              "      <td>...</td>\n",
              "      <td>...</td>\n",
              "      <td>...</td>\n",
              "      <td>...</td>\n",
              "      <td>...</td>\n",
              "      <td>...</td>\n",
              "    </tr>\n",
              "    <tr>\n",
              "      <th>2346</th>\n",
              "      <td>Europe</td>\n",
              "      <td>LOC</td>\n",
              "      <td>2022</td>\n",
              "      <td>3</td>\n",
              "      <td>31</td>\n",
              "      <td>51.0</td>\n",
              "      <td>10.0</td>\n",
              "      <td>Germany</td>\n",
              "      <td>None</td>\n",
              "      <td>fox</td>\n",
              "    </tr>\n",
              "    <tr>\n",
              "      <th>2347</th>\n",
              "      <td>Latin America</td>\n",
              "      <td>LOC</td>\n",
              "      <td>2022</td>\n",
              "      <td>3</td>\n",
              "      <td>31</td>\n",
              "      <td>48.84774885</td>\n",
              "      <td>2.351138358927914</td>\n",
              "      <td>France</td>\n",
              "      <td>Paris</td>\n",
              "      <td>fox</td>\n",
              "    </tr>\n",
              "    <tr>\n",
              "      <th>2348</th>\n",
              "      <td>the Middle East</td>\n",
              "      <td>LOC</td>\n",
              "      <td>2022</td>\n",
              "      <td>3</td>\n",
              "      <td>31</td>\n",
              "      <td>42.3638002</td>\n",
              "      <td>-71.1013814</td>\n",
              "      <td>United States</td>\n",
              "      <td>Cambridge</td>\n",
              "      <td>fox</td>\n",
              "    </tr>\n",
              "    <tr>\n",
              "      <th>2349</th>\n",
              "      <td>Southeast Asia</td>\n",
              "      <td>LOC</td>\n",
              "      <td>2022</td>\n",
              "      <td>3</td>\n",
              "      <td>31</td>\n",
              "      <td>51.3305381</td>\n",
              "      <td>12.3786243</td>\n",
              "      <td>Germany</td>\n",
              "      <td>Leipzig</td>\n",
              "      <td>fox</td>\n",
              "    </tr>\n",
              "    <tr>\n",
              "      <th>2350</th>\n",
              "      <td>Africa</td>\n",
              "      <td>LOC</td>\n",
              "      <td>2022</td>\n",
              "      <td>3</td>\n",
              "      <td>31</td>\n",
              "      <td>11.5024338</td>\n",
              "      <td>17.7578122</td>\n",
              "      <td>Chad</td>\n",
              "      <td>None</td>\n",
              "      <td>fox</td>\n",
              "    </tr>\n",
              "  </tbody>\n",
              "</table>\n",
              "<p>2351 rows × 10 columns</p>\n",
              "</div>\n",
              "      <button class=\"colab-df-convert\" onclick=\"convertToInteractive('df-b350a256-6a29-45d5-8fe4-d03cd0f52a00')\"\n",
              "              title=\"Convert this dataframe to an interactive table.\"\n",
              "              style=\"display:none;\">\n",
              "        \n",
              "  <svg xmlns=\"http://www.w3.org/2000/svg\" height=\"24px\"viewBox=\"0 0 24 24\"\n",
              "       width=\"24px\">\n",
              "    <path d=\"M0 0h24v24H0V0z\" fill=\"none\"/>\n",
              "    <path d=\"M18.56 5.44l.94 2.06.94-2.06 2.06-.94-2.06-.94-.94-2.06-.94 2.06-2.06.94zm-11 1L8.5 8.5l.94-2.06 2.06-.94-2.06-.94L8.5 2.5l-.94 2.06-2.06.94zm10 10l.94 2.06.94-2.06 2.06-.94-2.06-.94-.94-2.06-.94 2.06-2.06.94z\"/><path d=\"M17.41 7.96l-1.37-1.37c-.4-.4-.92-.59-1.43-.59-.52 0-1.04.2-1.43.59L10.3 9.45l-7.72 7.72c-.78.78-.78 2.05 0 2.83L4 21.41c.39.39.9.59 1.41.59.51 0 1.02-.2 1.41-.59l7.78-7.78 2.81-2.81c.8-.78.8-2.07 0-2.86zM5.41 20L4 18.59l7.72-7.72 1.47 1.35L5.41 20z\"/>\n",
              "  </svg>\n",
              "      </button>\n",
              "      \n",
              "  <style>\n",
              "    .colab-df-container {\n",
              "      display:flex;\n",
              "      flex-wrap:wrap;\n",
              "      gap: 12px;\n",
              "    }\n",
              "\n",
              "    .colab-df-convert {\n",
              "      background-color: #E8F0FE;\n",
              "      border: none;\n",
              "      border-radius: 50%;\n",
              "      cursor: pointer;\n",
              "      display: none;\n",
              "      fill: #1967D2;\n",
              "      height: 32px;\n",
              "      padding: 0 0 0 0;\n",
              "      width: 32px;\n",
              "    }\n",
              "\n",
              "    .colab-df-convert:hover {\n",
              "      background-color: #E2EBFA;\n",
              "      box-shadow: 0px 1px 2px rgba(60, 64, 67, 0.3), 0px 1px 3px 1px rgba(60, 64, 67, 0.15);\n",
              "      fill: #174EA6;\n",
              "    }\n",
              "\n",
              "    [theme=dark] .colab-df-convert {\n",
              "      background-color: #3B4455;\n",
              "      fill: #D2E3FC;\n",
              "    }\n",
              "\n",
              "    [theme=dark] .colab-df-convert:hover {\n",
              "      background-color: #434B5C;\n",
              "      box-shadow: 0px 1px 3px 1px rgba(0, 0, 0, 0.15);\n",
              "      filter: drop-shadow(0px 1px 2px rgba(0, 0, 0, 0.3));\n",
              "      fill: #FFFFFF;\n",
              "    }\n",
              "  </style>\n",
              "\n",
              "      <script>\n",
              "        const buttonEl =\n",
              "          document.querySelector('#df-b350a256-6a29-45d5-8fe4-d03cd0f52a00 button.colab-df-convert');\n",
              "        buttonEl.style.display =\n",
              "          google.colab.kernel.accessAllowed ? 'block' : 'none';\n",
              "\n",
              "        async function convertToInteractive(key) {\n",
              "          const element = document.querySelector('#df-b350a256-6a29-45d5-8fe4-d03cd0f52a00');\n",
              "          const dataTable =\n",
              "            await google.colab.kernel.invokeFunction('convertToInteractive',\n",
              "                                                     [key], {});\n",
              "          if (!dataTable) return;\n",
              "\n",
              "          const docLinkHtml = 'Like what you see? Visit the ' +\n",
              "            '<a target=\"_blank\" href=https://colab.research.google.com/notebooks/data_table.ipynb>data table notebook</a>'\n",
              "            + ' to learn more about interactive tables.';\n",
              "          element.innerHTML = '';\n",
              "          dataTable['output_type'] = 'display_data';\n",
              "          await google.colab.output.renderOutput(dataTable, element);\n",
              "          const docLink = document.createElement('div');\n",
              "          docLink.innerHTML = docLinkHtml;\n",
              "          element.appendChild(docLink);\n",
              "        }\n",
              "      </script>\n",
              "    </div>\n",
              "  </div>\n",
              "  "
            ]
          },
          "metadata": {},
          "execution_count": 83
        }
      ]
    },
    {
      "cell_type": "code",
      "source": [
        "geoparse.to_csv('geoparse.csv', encoding='utf-8', index=False)"
      ],
      "metadata": {
        "id": "EFxZ83LHIt7U"
      },
      "execution_count": 85,
      "outputs": []
    }
  ]
}