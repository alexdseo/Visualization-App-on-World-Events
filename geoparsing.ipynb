{
  "nbformat": 4,
  "nbformat_minor": 0,
  "metadata": {
    "colab": {
      "name": "geoparsing.ipynb",
      "provenance": [],
      "collapsed_sections": []
    },
    "kernelspec": {
      "name": "python3",
      "display_name": "Python 3"
    },
    "language_info": {
      "name": "python"
    },
    "accelerator": "GPU"
  },
  "cells": [
    {
      "cell_type": "markdown",
      "source": [
        "## Geoparsing using GPE and LOC from each article"
      ],
      "metadata": {
        "id": "QjJ0FbwR9InI"
      }
    },
    {
      "cell_type": "code",
      "source": [
        "#Mount your drive to get cleaned_text\n",
        "from google.colab import drive\n",
        "drive.mount('/content/drive')"
      ],
      "metadata": {
        "colab": {
          "base_uri": "https://localhost:8080/"
        },
        "id": "Y0zJVXvx9H6V",
        "outputId": "a9645bce-16fc-4517-bf8b-0eba2f18a319"
      },
      "execution_count": 2,
      "outputs": [
        {
          "output_type": "stream",
          "name": "stdout",
          "text": [
            "Mounted at /content/drive\n"
          ]
        }
      ]
    },
    {
      "cell_type": "code",
      "source": [
        "#Clone this repository\n",
        "!git clone https://github.com/alexdseo/Visualization-App-on-World-Events"
      ],
      "metadata": {
        "colab": {
          "base_uri": "https://localhost:8080/"
        },
        "id": "7huR9Q1t9OYr",
        "outputId": "6ac937b2-3fd2-4498-c0f0-23c506ba280f"
      },
      "execution_count": 3,
      "outputs": [
        {
          "output_type": "stream",
          "name": "stdout",
          "text": [
            "Cloning into 'Visualization-App-on-World-Events'...\n",
            "remote: Enumerating objects: 258, done.\u001b[K\n",
            "remote: Counting objects: 100% (72/72), done.\u001b[K\n",
            "remote: Compressing objects: 100% (55/55), done.\u001b[K\n",
            "remote: Total 258 (delta 35), reused 40 (delta 13), pack-reused 186\u001b[K\n",
            "Receiving objects: 100% (258/258), 1.49 GiB | 11.85 MiB/s, done.\n",
            "Resolving deltas: 100% (68/68), done.\n"
          ]
        }
      ]
    },
    {
      "cell_type": "code",
      "source": [
        "#Change directory\n",
        "%cd Visualization-App-on-World-Events"
      ],
      "metadata": {
        "colab": {
          "base_uri": "https://localhost:8080/"
        },
        "id": "mzX1W4uY9P3_",
        "outputId": "31cc816f-f7ce-4806-f001-a66b82d663a3"
      },
      "execution_count": 4,
      "outputs": [
        {
          "output_type": "stream",
          "name": "stdout",
          "text": [
            "/content/Visualization-App-on-World-Events\n"
          ]
        }
      ]
    },
    {
      "cell_type": "code",
      "source": [
        "import spacy\n",
        "#from spacy import displacy #visualize option\n",
        "from collections import Counter\n",
        "from pprint import pprint\n",
        "from geopy.geocoders import Nominatim"
      ],
      "metadata": {
        "id": "1Qz0cVXT9Rtg"
      },
      "execution_count": 5,
      "outputs": []
    },
    {
      "cell_type": "code",
      "source": [
        "# Use GPU\n",
        "spacy.prefer_gpu()"
      ],
      "metadata": {
        "colab": {
          "base_uri": "https://localhost:8080/"
        },
        "id": "iXtvqntQ9TRN",
        "outputId": "66aee337-7b4b-49c5-b92a-4f46872836d9"
      },
      "execution_count": 6,
      "outputs": [
        {
          "output_type": "execute_result",
          "data": {
            "text/plain": [
              "True"
            ]
          },
          "metadata": {},
          "execution_count": 6
        }
      ]
    },
    {
      "cell_type": "code",
      "source": [
        "#Load nlp machine\n",
        "import en_core_web_sm\n",
        "nlp = en_core_web_sm.load()\n",
        "nlp.max_length = 4000000"
      ],
      "metadata": {
        "id": "8rfsPSVZ9TXH"
      },
      "execution_count": 7,
      "outputs": []
    },
    {
      "cell_type": "code",
      "source": [
        "#Get file_path\n",
        "import os\n",
        "\n",
        "all_filepaths = []\n",
        "\n",
        "for newssource in os.listdir('/content/drive/MyDrive/cleaned_text'):\n",
        "    if newssource != \".DS_Store\":\n",
        "        for filename in os.listdir(os.path.join('/content/drive/MyDrive/cleaned_text',newssource)):\n",
        "            if filename != \".DS_Store\":\n",
        "                all_filepaths.append(f\"/content/drive/MyDrive/cleaned_text/{newssource}/{filename}\")\n",
        "\n",
        "all_filepaths.sort()"
      ],
      "metadata": {
        "id": "1VIhS0AR9Zhk"
      },
      "execution_count": 8,
      "outputs": []
    },
    {
      "cell_type": "code",
      "source": [
        "len(all_filepaths)"
      ],
      "metadata": {
        "colab": {
          "base_uri": "https://localhost:8080/"
        },
        "id": "oc-lTUK-9Z9o",
        "outputId": "d6414220-086c-4b0c-ce5e-1e3de8fb4d32"
      },
      "execution_count": 9,
      "outputs": [
        {
          "output_type": "execute_result",
          "data": {
            "text/plain": [
              "81"
            ]
          },
          "metadata": {},
          "execution_count": 9
        }
      ]
    },
    {
      "cell_type": "code",
      "source": [
        "import pandas as pd\n",
        "import numpy as np\n",
        "#Make empty dataset to fill in\n",
        "# 81 article, GPE/LOC entity type, Top 20 for each entity type\n",
        "geoparse=pd.DataFrame()\n",
        "col_list =['Entity','Frequency','Entity Type', 'Year', 'Month', 'Day', 'Latitude', 'Longitude', 'Country', 'City', 'News Source']"
      ],
      "metadata": {
        "id": "wxt4Klg3GEMB"
      },
      "execution_count": 10,
      "outputs": []
    },
    {
      "cell_type": "code",
      "source": [
        "#Fill in day of the article and the news source, entity type\n",
        "#Geoparsing using Nominatim API\n",
        "geolocator = Nominatim(user_agent=\"NSF\", timeout =10)\n",
        "\n",
        "for i in all_filepaths:\n",
        "    f = open(i,\"r\").read().replace('\\n', ' ')\n",
        "    components = i.split(\"/\")\n",
        "    day = int(components[6].split('-')[1])\n",
        "    news_source = components[5]\n",
        "    \n",
        "    article=nlp(f)\n",
        "    GPE_placeholder, LOC_placeholder = [], []\n",
        "    for t in article.ents:\n",
        "      if t.label_ == 'GPE':\n",
        "        GPE_placeholder.append(t.text)   \n",
        "      if t.label_ == 'LOC':\n",
        "        LOC_placeholder.append(t.text)\n",
        "\n",
        "    GPE_20=Counter(GPE_placeholder).most_common(20)\n",
        "    LOC_20=Counter(LOC_placeholder).most_common(20)\n",
        "    \n",
        "    if len(GPE_20) >0:\n",
        "      for e in range(len(GPE_20)):\n",
        "        GPE_entity = str(GPE_20[e][0])\n",
        "        GPE_frequency = GPE_20[e][1]\n",
        "        locations = geolocator.geocode(GPE_entity)\n",
        "        try:\n",
        "          address= geolocator.reverse(str(locations.latitude)+\",\"+str(locations.longitude), language='en').raw['address']\n",
        "\n",
        "          temp=[[GPE_entity, GPE_frequency, 'GPE', 2022, 3, day, str(locations.latitude),str(locations.longitude),\n",
        "                address.get('country'), address.get('city'), news_source]]\n",
        "\n",
        "          temp_df=pd.DataFrame(temp, columns = col_list)\n",
        "          geoparse=pd.concat([geoparse,temp_df], ignore_index=True)\n",
        "\n",
        "        #geocode not available for the entity\n",
        "        except AttributeError:\n",
        "          temp=[[GPE_entity, GPE_frequency,'GPE', 2022, 3, day, np.nan , np.nan, np.nan, np.nan, news_source]]\n",
        "          temp_df=pd.DataFrame(temp, columns = col_list)\n",
        "          geoparse=pd.concat([geoparse,temp_df], ignore_index=True)\n",
        "        \n",
        "        #geocode not available to get address\n",
        "        except KeyError:\n",
        "          temp=[[GPE_entity, GPE_frequency,'GPE', 2022, 3, day, str(locations.latitude),str(locations.longitude),\n",
        "                 np.nan, np.nan, news_source]]\n",
        "          temp_df=pd.DataFrame(temp, columns = col_list)\n",
        "          geoparse=pd.concat([geoparse,temp_df], ignore_index=True)\n",
        "\n",
        "    if len(LOC_20) >0:\n",
        "      for e in range(len(LOC_20)):\n",
        "        LOC_entity = str(LOC_20[e][0])\n",
        "        LOC_frequency= LOC_20[e][1]\n",
        "        locations = geolocator.geocode(LOC_entity)\n",
        "        try:\n",
        "          address= geolocator.reverse(str(locations.latitude)+\",\"+str(locations.longitude), language='en').raw['address']\n",
        "\n",
        "          temp=[[LOC_entity, LOC_frequency,'LOC', 2022, 3, day, str(locations.latitude),str(locations.longitude),\n",
        "                address.get('country'), address.get('city'), news_source]]\n",
        "          \n",
        "          temp_df=pd.DataFrame(temp, columns = col_list)\n",
        "          geoparse=pd.concat([geoparse,temp_df], ignore_index=True)\n",
        "        \n",
        "        #geocode not available for the entity\n",
        "        except AttributeError:\n",
        "          temp=[[LOC_entity, LOC_frequency,'LOC', 2022, 3, day, np.nan , np.nan, np.nan, np.nan, news_source]]\n",
        "          temp_df=pd.DataFrame(temp, columns = col_list)\n",
        "          geoparse=pd.concat([geoparse,temp_df], ignore_index=True)\n",
        "        \n",
        "        #geocode not available to get address\n",
        "        except KeyError:\n",
        "          temp=[[LOC_entity, LOC_frequency,'LOC', 2022, 3, day, str(locations.latitude),str(locations.longitude),\n",
        "                 np.nan, np.nan, news_source]]\n",
        "          temp_df=pd.DataFrame(temp, columns = col_list)\n",
        "          geoparse=pd.concat([geoparse,temp_df], ignore_index=True)\n",
        "\n"
      ],
      "metadata": {
        "id": "jZer-ygMH5pF"
      },
      "execution_count": 11,
      "outputs": []
    },
    {
      "cell_type": "code",
      "source": [
        "geoparse"
      ],
      "metadata": {
        "colab": {
          "base_uri": "https://localhost:8080/",
          "height": 423
        },
        "id": "Yk0cn-fdQMnO",
        "outputId": "1f668075-c4ae-4800-eaed-afd913a98762"
      },
      "execution_count": 12,
      "outputs": [
        {
          "output_type": "execute_result",
          "data": {
            "text/plain": [
              "               Entity  Frequency Entity Type  Year  Month  Day     Latitude  \\\n",
              "0             Ukraine        129         GPE  2022      3    1   49.4871968   \n",
              "1              Russia        117         GPE  2022      3    1   64.6863136   \n",
              "2                  US         25         GPE  2022      3    1   39.7837304   \n",
              "3              Moscow         23         GPE  2022      3    1   55.7504461   \n",
              "4              Poland          8         GPE  2022      3    1    52.215933   \n",
              "...               ...        ...         ...   ...    ...  ...          ...   \n",
              "2347           Europe          2         LOC  2022      3   31         51.0   \n",
              "2348    Latin America          1         LOC  2022      3   31  48.84774885   \n",
              "2349  the Middle East          1         LOC  2022      3   31   42.3638002   \n",
              "2350   Southeast Asia          1         LOC  2022      3   31   51.3305381   \n",
              "2351           Africa          1         LOC  2022      3   31   11.5024338   \n",
              "\n",
              "              Longitude        Country       City News Source  \n",
              "0            31.2718321        Ukraine       None   aljazeera  \n",
              "1            97.7453061         Russia       None   aljazeera  \n",
              "2           -100.445882  United States       None   aljazeera  \n",
              "3            37.6174943         Russia     Moscow   aljazeera  \n",
              "4             19.134422         Poland       None   aljazeera  \n",
              "...                 ...            ...        ...         ...  \n",
              "2347               10.0        Germany       None         fox  \n",
              "2348  2.351138358927914         France      Paris         fox  \n",
              "2349        -71.1013814  United States  Cambridge         fox  \n",
              "2350         12.3786243        Germany    Leipzig         fox  \n",
              "2351         17.7578122           Chad       None         fox  \n",
              "\n",
              "[2352 rows x 11 columns]"
            ],
            "text/html": [
              "\n",
              "  <div id=\"df-e8d28a72-0294-46b7-95ab-e38b1d6f738d\">\n",
              "    <div class=\"colab-df-container\">\n",
              "      <div>\n",
              "<style scoped>\n",
              "    .dataframe tbody tr th:only-of-type {\n",
              "        vertical-align: middle;\n",
              "    }\n",
              "\n",
              "    .dataframe tbody tr th {\n",
              "        vertical-align: top;\n",
              "    }\n",
              "\n",
              "    .dataframe thead th {\n",
              "        text-align: right;\n",
              "    }\n",
              "</style>\n",
              "<table border=\"1\" class=\"dataframe\">\n",
              "  <thead>\n",
              "    <tr style=\"text-align: right;\">\n",
              "      <th></th>\n",
              "      <th>Entity</th>\n",
              "      <th>Frequency</th>\n",
              "      <th>Entity Type</th>\n",
              "      <th>Year</th>\n",
              "      <th>Month</th>\n",
              "      <th>Day</th>\n",
              "      <th>Latitude</th>\n",
              "      <th>Longitude</th>\n",
              "      <th>Country</th>\n",
              "      <th>City</th>\n",
              "      <th>News Source</th>\n",
              "    </tr>\n",
              "  </thead>\n",
              "  <tbody>\n",
              "    <tr>\n",
              "      <th>0</th>\n",
              "      <td>Ukraine</td>\n",
              "      <td>129</td>\n",
              "      <td>GPE</td>\n",
              "      <td>2022</td>\n",
              "      <td>3</td>\n",
              "      <td>1</td>\n",
              "      <td>49.4871968</td>\n",
              "      <td>31.2718321</td>\n",
              "      <td>Ukraine</td>\n",
              "      <td>None</td>\n",
              "      <td>aljazeera</td>\n",
              "    </tr>\n",
              "    <tr>\n",
              "      <th>1</th>\n",
              "      <td>Russia</td>\n",
              "      <td>117</td>\n",
              "      <td>GPE</td>\n",
              "      <td>2022</td>\n",
              "      <td>3</td>\n",
              "      <td>1</td>\n",
              "      <td>64.6863136</td>\n",
              "      <td>97.7453061</td>\n",
              "      <td>Russia</td>\n",
              "      <td>None</td>\n",
              "      <td>aljazeera</td>\n",
              "    </tr>\n",
              "    <tr>\n",
              "      <th>2</th>\n",
              "      <td>US</td>\n",
              "      <td>25</td>\n",
              "      <td>GPE</td>\n",
              "      <td>2022</td>\n",
              "      <td>3</td>\n",
              "      <td>1</td>\n",
              "      <td>39.7837304</td>\n",
              "      <td>-100.445882</td>\n",
              "      <td>United States</td>\n",
              "      <td>None</td>\n",
              "      <td>aljazeera</td>\n",
              "    </tr>\n",
              "    <tr>\n",
              "      <th>3</th>\n",
              "      <td>Moscow</td>\n",
              "      <td>23</td>\n",
              "      <td>GPE</td>\n",
              "      <td>2022</td>\n",
              "      <td>3</td>\n",
              "      <td>1</td>\n",
              "      <td>55.7504461</td>\n",
              "      <td>37.6174943</td>\n",
              "      <td>Russia</td>\n",
              "      <td>Moscow</td>\n",
              "      <td>aljazeera</td>\n",
              "    </tr>\n",
              "    <tr>\n",
              "      <th>4</th>\n",
              "      <td>Poland</td>\n",
              "      <td>8</td>\n",
              "      <td>GPE</td>\n",
              "      <td>2022</td>\n",
              "      <td>3</td>\n",
              "      <td>1</td>\n",
              "      <td>52.215933</td>\n",
              "      <td>19.134422</td>\n",
              "      <td>Poland</td>\n",
              "      <td>None</td>\n",
              "      <td>aljazeera</td>\n",
              "    </tr>\n",
              "    <tr>\n",
              "      <th>...</th>\n",
              "      <td>...</td>\n",
              "      <td>...</td>\n",
              "      <td>...</td>\n",
              "      <td>...</td>\n",
              "      <td>...</td>\n",
              "      <td>...</td>\n",
              "      <td>...</td>\n",
              "      <td>...</td>\n",
              "      <td>...</td>\n",
              "      <td>...</td>\n",
              "      <td>...</td>\n",
              "    </tr>\n",
              "    <tr>\n",
              "      <th>2347</th>\n",
              "      <td>Europe</td>\n",
              "      <td>2</td>\n",
              "      <td>LOC</td>\n",
              "      <td>2022</td>\n",
              "      <td>3</td>\n",
              "      <td>31</td>\n",
              "      <td>51.0</td>\n",
              "      <td>10.0</td>\n",
              "      <td>Germany</td>\n",
              "      <td>None</td>\n",
              "      <td>fox</td>\n",
              "    </tr>\n",
              "    <tr>\n",
              "      <th>2348</th>\n",
              "      <td>Latin America</td>\n",
              "      <td>1</td>\n",
              "      <td>LOC</td>\n",
              "      <td>2022</td>\n",
              "      <td>3</td>\n",
              "      <td>31</td>\n",
              "      <td>48.84774885</td>\n",
              "      <td>2.351138358927914</td>\n",
              "      <td>France</td>\n",
              "      <td>Paris</td>\n",
              "      <td>fox</td>\n",
              "    </tr>\n",
              "    <tr>\n",
              "      <th>2349</th>\n",
              "      <td>the Middle East</td>\n",
              "      <td>1</td>\n",
              "      <td>LOC</td>\n",
              "      <td>2022</td>\n",
              "      <td>3</td>\n",
              "      <td>31</td>\n",
              "      <td>42.3638002</td>\n",
              "      <td>-71.1013814</td>\n",
              "      <td>United States</td>\n",
              "      <td>Cambridge</td>\n",
              "      <td>fox</td>\n",
              "    </tr>\n",
              "    <tr>\n",
              "      <th>2350</th>\n",
              "      <td>Southeast Asia</td>\n",
              "      <td>1</td>\n",
              "      <td>LOC</td>\n",
              "      <td>2022</td>\n",
              "      <td>3</td>\n",
              "      <td>31</td>\n",
              "      <td>51.3305381</td>\n",
              "      <td>12.3786243</td>\n",
              "      <td>Germany</td>\n",
              "      <td>Leipzig</td>\n",
              "      <td>fox</td>\n",
              "    </tr>\n",
              "    <tr>\n",
              "      <th>2351</th>\n",
              "      <td>Africa</td>\n",
              "      <td>1</td>\n",
              "      <td>LOC</td>\n",
              "      <td>2022</td>\n",
              "      <td>3</td>\n",
              "      <td>31</td>\n",
              "      <td>11.5024338</td>\n",
              "      <td>17.7578122</td>\n",
              "      <td>Chad</td>\n",
              "      <td>None</td>\n",
              "      <td>fox</td>\n",
              "    </tr>\n",
              "  </tbody>\n",
              "</table>\n",
              "<p>2352 rows × 11 columns</p>\n",
              "</div>\n",
              "      <button class=\"colab-df-convert\" onclick=\"convertToInteractive('df-e8d28a72-0294-46b7-95ab-e38b1d6f738d')\"\n",
              "              title=\"Convert this dataframe to an interactive table.\"\n",
              "              style=\"display:none;\">\n",
              "        \n",
              "  <svg xmlns=\"http://www.w3.org/2000/svg\" height=\"24px\"viewBox=\"0 0 24 24\"\n",
              "       width=\"24px\">\n",
              "    <path d=\"M0 0h24v24H0V0z\" fill=\"none\"/>\n",
              "    <path d=\"M18.56 5.44l.94 2.06.94-2.06 2.06-.94-2.06-.94-.94-2.06-.94 2.06-2.06.94zm-11 1L8.5 8.5l.94-2.06 2.06-.94-2.06-.94L8.5 2.5l-.94 2.06-2.06.94zm10 10l.94 2.06.94-2.06 2.06-.94-2.06-.94-.94-2.06-.94 2.06-2.06.94z\"/><path d=\"M17.41 7.96l-1.37-1.37c-.4-.4-.92-.59-1.43-.59-.52 0-1.04.2-1.43.59L10.3 9.45l-7.72 7.72c-.78.78-.78 2.05 0 2.83L4 21.41c.39.39.9.59 1.41.59.51 0 1.02-.2 1.41-.59l7.78-7.78 2.81-2.81c.8-.78.8-2.07 0-2.86zM5.41 20L4 18.59l7.72-7.72 1.47 1.35L5.41 20z\"/>\n",
              "  </svg>\n",
              "      </button>\n",
              "      \n",
              "  <style>\n",
              "    .colab-df-container {\n",
              "      display:flex;\n",
              "      flex-wrap:wrap;\n",
              "      gap: 12px;\n",
              "    }\n",
              "\n",
              "    .colab-df-convert {\n",
              "      background-color: #E8F0FE;\n",
              "      border: none;\n",
              "      border-radius: 50%;\n",
              "      cursor: pointer;\n",
              "      display: none;\n",
              "      fill: #1967D2;\n",
              "      height: 32px;\n",
              "      padding: 0 0 0 0;\n",
              "      width: 32px;\n",
              "    }\n",
              "\n",
              "    .colab-df-convert:hover {\n",
              "      background-color: #E2EBFA;\n",
              "      box-shadow: 0px 1px 2px rgba(60, 64, 67, 0.3), 0px 1px 3px 1px rgba(60, 64, 67, 0.15);\n",
              "      fill: #174EA6;\n",
              "    }\n",
              "\n",
              "    [theme=dark] .colab-df-convert {\n",
              "      background-color: #3B4455;\n",
              "      fill: #D2E3FC;\n",
              "    }\n",
              "\n",
              "    [theme=dark] .colab-df-convert:hover {\n",
              "      background-color: #434B5C;\n",
              "      box-shadow: 0px 1px 3px 1px rgba(0, 0, 0, 0.15);\n",
              "      filter: drop-shadow(0px 1px 2px rgba(0, 0, 0, 0.3));\n",
              "      fill: #FFFFFF;\n",
              "    }\n",
              "  </style>\n",
              "\n",
              "      <script>\n",
              "        const buttonEl =\n",
              "          document.querySelector('#df-e8d28a72-0294-46b7-95ab-e38b1d6f738d button.colab-df-convert');\n",
              "        buttonEl.style.display =\n",
              "          google.colab.kernel.accessAllowed ? 'block' : 'none';\n",
              "\n",
              "        async function convertToInteractive(key) {\n",
              "          const element = document.querySelector('#df-e8d28a72-0294-46b7-95ab-e38b1d6f738d');\n",
              "          const dataTable =\n",
              "            await google.colab.kernel.invokeFunction('convertToInteractive',\n",
              "                                                     [key], {});\n",
              "          if (!dataTable) return;\n",
              "\n",
              "          const docLinkHtml = 'Like what you see? Visit the ' +\n",
              "            '<a target=\"_blank\" href=https://colab.research.google.com/notebooks/data_table.ipynb>data table notebook</a>'\n",
              "            + ' to learn more about interactive tables.';\n",
              "          element.innerHTML = '';\n",
              "          dataTable['output_type'] = 'display_data';\n",
              "          await google.colab.output.renderOutput(dataTable, element);\n",
              "          const docLink = document.createElement('div');\n",
              "          docLink.innerHTML = docLinkHtml;\n",
              "          element.appendChild(docLink);\n",
              "        }\n",
              "      </script>\n",
              "    </div>\n",
              "  </div>\n",
              "  "
            ]
          },
          "metadata": {},
          "execution_count": 12
        }
      ]
    },
    {
      "cell_type": "code",
      "source": [
        "geoparse.to_csv('geoparse.csv', encoding='utf-8', index=False)"
      ],
      "metadata": {
        "id": "EFxZ83LHIt7U"
      },
      "execution_count": 15,
      "outputs": []
    }
  ]
}