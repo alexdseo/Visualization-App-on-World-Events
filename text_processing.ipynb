{
 "cells": [
  {
   "cell_type": "markdown",
   "id": "8b96d1d7",
   "metadata": {},
   "source": [
    "# Import libraries"
   ]
  },
  {
   "cell_type": "code",
   "execution_count": 1,
   "id": "d95932c5",
   "metadata": {},
   "outputs": [],
   "source": [
    "import os\n",
    "import re"
   ]
  },
  {
   "cell_type": "markdown",
   "id": "982e85ad",
   "metadata": {},
   "source": [
    "# Get filepaths"
   ]
  },
  {
   "cell_type": "code",
   "execution_count": 2,
   "id": "ed7f2a2d",
   "metadata": {},
   "outputs": [],
   "source": [
    "all_filepaths = []\n",
    "\n",
    "for newssource in os.listdir('raw_text'):\n",
    "    if newssource != \".DS_Store\":\n",
    "        for filename in os.listdir(os.path.join('raw_text',newssource)):\n",
    "            if filename != \".DS_Store\":\n",
    "                all_filepaths.append(f\"raw_text/{newssource}/{filename}\")\n",
    "\n",
    "all_filepaths.sort()\n",
    "# all_filepaths"
   ]
  },
  {
   "cell_type": "code",
   "execution_count": 3,
   "id": "8a88f912",
   "metadata": {},
   "outputs": [],
   "source": [
    "# Sample\n",
    "# a1 = open(all_filepaths[0],\"r\").read()\n",
    "# c1 = open(all_filepaths[30],\"r\").read()\n",
    "# f1 = open(all_filepaths[61],\"r\").read()"
   ]
  },
  {
   "cell_type": "markdown",
   "id": "cfaab877",
   "metadata": {},
   "source": [
    "# Aljazeera"
   ]
  },
  {
   "cell_type": "code",
   "execution_count": 4,
   "id": "d7ecc77b",
   "metadata": {},
   "outputs": [],
   "source": [
    "def clean_aljazeera(f):\n",
    "    # Remove header\n",
    "    f = f.split(\"News | Russia-Ukraine war\\n\\n\")[1]\n",
    "    # Remove footer\n",
    "    f = f.split(\"\\n\\nWelcome to Al Jazeera’s continuing coverage of the Ukraine-Russia\")[0]\n",
    "    f = f.split(\"\\n\\nYou rely on Al Jazeera for truth and transparency\")[0]\n",
    "    f = f.split(\"\\n\\nADVERTISEMENT\")[0]\n",
    "    # Remove newsletter signup\n",
    "    f = re.sub(\"Sign up for Al Jazeera\\n\",\"\",f,flags=re.DOTALL)\n",
    "    f = re.sub(\"\\n[Ww]eekly Newsletter\\n\",\"\",f,flags=re.DOTALL)\n",
    "    f = re.sub(\"\\nThe latest news from around the world.*?\\n\",\"\",f,flags=re.DOTALL)\n",
    "    f = \"\\n\".join([i for i in f.split(\"\\n\") if not i.startswith(\"Email address\\n\\n\") and not i.startswith(\"Email address\\n\") and not i.startswith(\"Email address |\")])\n",
    "    f = re.sub(\"\\nEmail [Aa]ddress\\n\",\"\",f,flags=re.DOTALL)\n",
    "    f = f.replace(\"By signing up, you agree to our Privacy Policy\\n\\n\",\"\")\n",
    "    f = re.sub(\"By signing up, .*?\\n\",\"\",f,flags=re.DOTALL)\n",
    "    # Remove aside\n",
    "    temp_para = [i for i in f.split(\"\\n\\n\") if \"The live blog is now closed\" in i or \"This live blog is now closed\" in i]\n",
    "    f = re.sub(\"KEEP READING.*?\" + temp_para[0] + \"\\n\\n\",\"\",f,flags=re.DOTALL)\n",
    "    f = re.sub(\"KEEP READING.*?(These|Here) (are|were) the updates (from|on|for) March.*?\\n\",\"\",f,flags=re.DOTALL)\n",
    "    # Remove post metadata\n",
    "    f = re.sub(\"\\n\\d.*?GMT\\n\",\"\",f,flags=re.DOTALL)\n",
    "    # Remove image metadata\n",
    "    f = re.sub(\"via AP\\]\\n\",\"\",f,flags=re.DOTALL)\n",
    "    f = re.sub(\"via Reuters\\]\\n\",\"\",f,flags=re.DOTALL)\n",
    "    # Remove Twitter metadata\n",
    "    f = \"\\n\\n\".join([i for i in f.split(\"\\n\\n\") if \"Watch on Twitter\" not in i])\n",
    "    f = \"\\n\\n\".join([i for i in f.split(\"\\n\\n\") if \"Read the full conversation on Twitter\" not in i])\n",
    "    f = \"\\n\\n\".join([i for i in f.split(\"\\n\\n\") if \"Copylink\" not in i and \"Copy link\" not in i])\n",
    "    f = re.sub(\"\\n\\nRead \\d*? replies\\n\\n\",\"\",f,flags=re.DOTALL)\n",
    "    f = re.sub(\"\\n\\nRead \\d*?[Kk] replies\\n\\n\",\"\",f,flags=re.DOTALL)\n",
    "    f = re.sub(\"\\n\\nRead \\d*?\\.\\d*?[Kk] replies\\n\\n\",\"\",f,flags=re.DOTALL)\n",
    "    # Remove recurring ads\n",
    "    f = re.sub(\"BIG STORIES.*?Watch Now\\n\\n\",\"\",f,flags=re.DOTALL)\n",
    "    f = re.sub(\"\\nSTAY\\nCONNECTED\\n.*?CONNECT NOW\\n\",\"\",f,flags=re.DOTALL)\n",
    "    f = re.sub(\"\\nSTAY\\nCONNECTED\\n.*?\\nPARTNERS\\n\",\"\",f,flags=re.DOTALL)\n",
    "    f = re.sub(\"What would history.*?have to say\\?\",\"\",f,flags=re.DOTALL)\n",
    "    f = re.sub(\"Find Military.*?[Mm]y[Hh]eritage\",\"\",f,flags=re.DOTALL)\n",
    "    # Remove placeholder text that links out\n",
    "    f = re.sub(\"\\nShare\\n\",\"\",f,flags=re.DOTALL)\n",
    "    f = re.sub(\"Read more here.\",\"\",f,flags=re.DOTALL)\n",
    "    f = re.sub(\"Read the story here.\",\"\",f,flags=re.DOTALL)\n",
    "    f = re.sub(\"Click here to read more.\",\"\",f,flags=re.DOTALL)\n",
    "    return f"
   ]
  },
  {
   "cell_type": "markdown",
   "id": "61d4db73",
   "metadata": {},
   "source": [
    "# CNN"
   ]
  },
  {
   "cell_type": "code",
   "execution_count": 5,
   "id": "c7681a68",
   "metadata": {},
   "outputs": [],
   "source": [
    "def clean_cnn(f):\n",
    "    # Remove header\n",
    "    try:\n",
    "        f = f.split(\"HAPPENING NOW\\n\")[1]\n",
    "    except:\n",
    "        f = f\n",
    "    try:\n",
    "        f = f.split(\"Ukraine news\\n\")[1]\n",
    "    except:\n",
    "        f = f\n",
    "    try:\n",
    "        f = f.split(\"\\nWhat we covered here\\n\")[1]\n",
    "    except:\n",
    "        f = f\n",
    "    try:\n",
    "        f = f.split(\"\\nWhat we covered\\n\")[1]\n",
    "    except:\n",
    "        f = f\n",
    "    try:\n",
    "        f = f.split(\"\\nWhat we're covering\\n\")[1]\n",
    "    except:\n",
    "        f = f\n",
    "    try:\n",
    "        f = f.split(\"\\nhat we covered here\\n\")[1]\n",
    "    except:\n",
    "        f = f\n",
    "    try:\n",
    "        f = f.split(\"\\nhat we covered\\n\")[1]\n",
    "    except:\n",
    "        f = f\n",
    "    try:\n",
    "        f = f.split(\"\\nhat we're covering\\n\")[1]\n",
    "    except:\n",
    "        f = f\n",
    "    # Remove menu\n",
    "    f = \"\\n\".join([i for i in f.split(\"\\n\") if not i.startswith(\"All |\")])\n",
    "    f = \"\\n\".join([i for i in f.split(\"\\n\") if \"SORT BY Latest\" not in i])\n",
    "    # Remove footer\n",
    "    f = f.split(\"\\n\\nCONTENT BY THE ASCENT\")[0]\n",
    "    f = f.split(\"\\nGO DEEPER\\n\\n\")[0]\n",
    "    f = f.split(\"\\n\\nUS\\nWorld\\nPolitics\")[0]\n",
    "    f = f.split(\"\\n\\nFOLLOW CNN\\n\\n\")[0]\n",
    "    # Remove post metadata\n",
    "    f = re.sub(\"\\nFrom CNN('s| staff).*?\\n\",\"\",f,flags=re.DOTALL)\n",
    "    f = re.sub(\"\\n\\d.*?2022\\n\",\"\",f,flags=re.DOTALL)\n",
    "    f = re.sub(\"\\n\\d.*?min ago\\n\",\"\",f,flags=re.DOTALL)\n",
    "    # Remove image metadata\n",
    "    f = re.sub(\"for CNN\\)\\n\",\"\",f,flags=re.DOTALL)\n",
    "    f = re.sub(\"Getty [Ii]mages.*?\\)\\n\",\"\",f,flags=re.DOTALL)\n",
    "    # Remove repeated text\n",
    "    f = re.sub(\"Having connection issues.*?\\n\\n\",\"\",f,flags=re.DOTALL)\n",
    "    # Remove placeholder text that links out\n",
    "    f = re.sub(\"Read more here[.\\n,.]\",\"\",f,flags=re.DOTALL)\n",
    "    return f"
   ]
  },
  {
   "cell_type": "markdown",
   "id": "d850bbb1",
   "metadata": {},
   "source": [
    "# Fox"
   ]
  },
  {
   "cell_type": "code",
   "execution_count": 6,
   "id": "02b2019f",
   "metadata": {},
   "outputs": [],
   "source": [
    "def clean_fox(f):\n",
    "    # Remove header\n",
    "    try:\n",
    "        f = f.split(\"Last Update March\")[1]\n",
    "        f = \"\\n\".join(f.split(\"\\n\")[1:])\n",
    "    except:\n",
    "        f = f\n",
    "    try:\n",
    "        f = f.split(\"Last update March\")[1]\n",
    "        f = \"\\n\".join(f.split(\"\\n\")[1:])\n",
    "    except:\n",
    "        f = f\n",
    "    # Remove footer\n",
    "    f = f.split(\"Fox News Live Updates Page\")[0]\n",
    "    f = \"\\n\".join(f.split(\"\\n\")[:-3])\n",
    "    f = f.split(\"Live Coverage begins here\")[0]\n",
    "    f = f.split(\"Get the Best of Fox News\")[0]\n",
    "    # Remove sort menu\n",
    "    f = \"\\n\".join([i for i in f.split(\"\\n\") if \"Posts Sort\" not in i])\n",
    "    # Remove post metadata\n",
    "    f = re.sub(\"\\n[Pp]osted by.*?\\n\",\"\",f,flags=re.DOTALL)\n",
    "    f = re.sub(\"\\n\\d.*?(min|hour)\\(s\\) ago\\n\",\"\",f,flags=re.DOTALL)\n",
    "    # Remove image metadata\n",
    "    f = re.sub(\"Getty [Ii]mages.*?\\)\\n\",\"\",f,flags=re.DOTALL)\n",
    "    f = re.sub(\"AP Photo.*?\\)\\n\",\"\",f,flags=re.DOTALL)\n",
    "    # Remove Twitter metadata\n",
    "    f = \"\\n\\n\".join([i for i in f.split(\"\\n\\n\") if \"Watch on Twitter\" not in i])\n",
    "    f = \"\\n\\n\".join([i for i in f.split(\"\\n\\n\") if \"Read the full conversation on Twitter\" not in i])\n",
    "    f = \"\\n\\n\".join([i for i in f.split(\"\\n\\n\") if \"Copylink\" not in i and \"Copy link\" not in i])\n",
    "    f = re.sub(\"\\n\\nRead \\d*? replies\\n\\n\",\"\",f,flags=re.DOTALL)\n",
    "    f = re.sub(\"\\n\\nRead \\d*?[Kk] replies\\n\\n\",\"\",f,flags=re.DOTALL)\n",
    "    f = re.sub(\"\\n\\nRead \\d*?\\.\\d*?[Kk] replies\\n\\n\",\"\",f,flags=re.DOTALL)\n",
    "    # Remove recurring ads\n",
    "    f = re.sub(\"[Ss]eniors [Cc]an.*?\\n(Coverage|Coverage for this event has ended|Read The Full List Here).*?\\n\",\"\",f,flags=re.DOTALL)\n",
    "    f = re.sub(\"The New CT.*?\\n(Coverage|Coverage for this event has ended|Luxury Auto Open).*?\\n\",\"\",f,flags=re.DOTALL)\n",
    "    f = re.sub(\"Luxury Auto Open.*?\\n(Coverage|Coverage for this event has ended).*?\\n\",\"\",f,flags=re.DOTALL)\n",
    "    f = re.sub(\"How To Restore Wood Cabinets.*?\\n(Coverage|Coverage for this event has ended|Open \\>).*?\\n\",\"\",f,flags=re.DOTALL)\n",
    "    f = re.sub(\"New IPO.*?\\n(Coverage|Coverage for this event has ended).*?\\n\",\"\",f,flags=re.DOTALL)\n",
    "    f = re.sub(\"GoodHomeowner.*?\\n(Coverage|Coverage for this event has ended).*?\\n\",\"\",f,flags=re.DOTALL)\n",
    "    f = re.sub(\"Street Art Alive.*?\\n(Coverage|Coverage for this event has ended|THE LUME).*?\\n\",\"\",f,flags=re.DOTALL)\n",
    "    f = re.sub(\"\\nAll-Inclusive Overwater.*?\\nLuxury Life Open\",\"\",f,flags=re.DOTALL)\n",
    "    f = re.sub(\"\\nYour (student|personal) loan.*?\\napplication today\\n\",\"\",f,flags=re.DOTALL)\n",
    "    # Remove placeholder text that links out\n",
    "    f = re.sub(\"Click here to read more on Fox News.\",\"\",f,flags=re.DOTALL)\n",
    "    f = re.sub(\"Click here to read more.\",\"\",f,flags=re.DOTALL)\n",
    "    f = re.sub(\"\\n\\nRead more.\",\"\",f,flags=re.DOTALL)\n",
    "    return f"
   ]
  },
  {
   "cell_type": "markdown",
   "id": "981c10d9",
   "metadata": {},
   "source": [
    "# Clean all"
   ]
  },
  {
   "cell_type": "code",
   "execution_count": 7,
   "id": "0e1f4a3d",
   "metadata": {},
   "outputs": [
    {
     "name": "stdout",
     "output_type": "stream",
     "text": [
      "Cleaned 10 texts.\n",
      "Cleaned 20 texts.\n",
      "Cleaned 30 texts.\n",
      "Cleaned 40 texts.\n",
      "Cleaned 50 texts.\n",
      "Cleaned 60 texts.\n",
      "Cleaned 70 texts.\n",
      "Cleaned 80 texts.\n"
     ]
    }
   ],
   "source": [
    "count = 0\n",
    "for i in all_filepaths:\n",
    "    f = open(i,\"r\").read()\n",
    "    components = i.split(\"/\")\n",
    "    filename = f\"cleaned_text/{components[1]}/{components[2][:-4]}.txt\"\n",
    "    with open(filename, \"w\") as g:\n",
    "        if components[1] == \"aljazeera\":\n",
    "            g.write(clean_aljazeera(f))\n",
    "        elif components[1] == \"cnn\":\n",
    "            g.write(clean_cnn(f))\n",
    "        elif components[1] == \"fox\":\n",
    "            g.write(clean_fox(f))\n",
    "    count += 1\n",
    "    if count%10 == 0:\n",
    "        print(f\"Cleaned {count} texts.\") # FEEDBACK"
   ]
  },
  {
   "cell_type": "code",
   "execution_count": null,
   "id": "f8d333e1",
   "metadata": {},
   "outputs": [],
   "source": []
  }
 ],
 "metadata": {
  "kernelspec": {
   "display_name": "Python 3 (ipykernel)",
   "language": "python",
   "name": "python3"
  },
  "language_info": {
   "codemirror_mode": {
    "name": "ipython",
    "version": 3
   },
   "file_extension": ".py",
   "mimetype": "text/x-python",
   "name": "python",
   "nbconvert_exporter": "python",
   "pygments_lexer": "ipython3",
   "version": "3.9.7"
  }
 },
 "nbformat": 4,
 "nbformat_minor": 5
}
