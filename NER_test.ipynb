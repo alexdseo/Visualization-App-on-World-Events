{
  "nbformat": 4,
  "nbformat_minor": 0,
  "metadata": {
    "colab": {
      "name": "NER_test.ipynb",
      "provenance": [],
      "collapsed_sections": []
    },
    "kernelspec": {
      "name": "python3",
      "display_name": "Python 3"
    },
    "language_info": {
      "name": "python"
    },
    "accelerator": "GPU"
  },
  "cells": [
    {
      "cell_type": "code",
      "execution_count": 1,
      "metadata": {
        "colab": {
          "base_uri": "https://localhost:8080/"
        },
        "id": "Jlfodt55vVHm",
        "outputId": "7c6e5869-bc35-41c7-82fc-8b631f8050b8"
      },
      "outputs": [
        {
          "output_type": "stream",
          "name": "stdout",
          "text": [
            "Cloning into 'Visualization-App-on-World-Events'...\n",
            "remote: Enumerating objects: 163, done.\u001b[K\n",
            "remote: Counting objects: 100% (29/29), done.\u001b[K\n",
            "remote: Compressing objects: 100% (13/13), done.\u001b[K\n",
            "remote: Total 163 (delta 7), reused 28 (delta 7), pack-reused 134\u001b[K\n",
            "Receiving objects: 100% (163/163), 1.49 GiB | 35.29 MiB/s, done.\n",
            "Resolving deltas: 100% (20/20), done.\n"
          ]
        }
      ],
      "source": [
        "#Clone this repository\n",
        "!git clone https://github.com/alexdseo/Visualization-App-on-World-Events"
      ]
    },
    {
      "cell_type": "code",
      "source": [
        "#Change directory\n",
        "%cd Visualization-App-on-World-Events"
      ],
      "metadata": {
        "colab": {
          "base_uri": "https://localhost:8080/"
        },
        "id": "lOcfe7lSvpyP",
        "outputId": "a7a61fb7-b852-48e9-fef2-a9137bd973c4"
      },
      "execution_count": 3,
      "outputs": [
        {
          "output_type": "stream",
          "name": "stdout",
          "text": [
            "/content/Visualization-App-on-World-Events\n"
          ]
        }
      ]
    },
    {
      "cell_type": "code",
      "source": [
        "import spacy\n",
        "#from spacy import displacy #visualize option\n",
        "from collections import Counter\n",
        "from pprint import pprint"
      ],
      "metadata": {
        "id": "-OO4CUA5wLSv"
      },
      "execution_count": 10,
      "outputs": []
    },
    {
      "cell_type": "code",
      "source": [
        "# Use GPU\n",
        "spacy.prefer_gpu()"
      ],
      "metadata": {
        "colab": {
          "base_uri": "https://localhost:8080/"
        },
        "id": "psCMi0SJwTp8",
        "outputId": "9eb133cf-88a4-4c64-ab60-bed3ca736107"
      },
      "execution_count": 6,
      "outputs": [
        {
          "output_type": "execute_result",
          "data": {
            "text/plain": [
              "True"
            ]
          },
          "metadata": {},
          "execution_count": 6
        }
      ]
    },
    {
      "cell_type": "code",
      "source": [
        "import en_core_web_sm\n",
        "nlp = en_core_web_sm.load()"
      ],
      "metadata": {
        "id": "eC7SviQVwdpn"
      },
      "execution_count": 8,
      "outputs": []
    },
    {
      "cell_type": "code",
      "source": [
        "#Work on entitiy level\n",
        "#Example using Grover-generated text\n",
        "grover_txt = nlp('In a press release dated March 28, 2004, United States Centers for Disease Control and Prevention Director Dr. Michael Osterholm announced the results of the detection and safety trial of SARS-CoV in the Chinese trans- plantation market.')\n",
        "pprint([(t.text, t.label_) for t in grover_txt.ents])"
      ],
      "metadata": {
        "colab": {
          "base_uri": "https://localhost:8080/"
        },
        "id": "Z7quShfRxEP4",
        "outputId": "8bdd7270-ceee-4501-f946-c1fdbc369907"
      },
      "execution_count": 13,
      "outputs": [
        {
          "output_type": "stream",
          "name": "stdout",
          "text": [
            "[('March 28, 2004', 'DATE'),\n",
            " ('United States Centers for Disease Control and Prevention', 'ORG'),\n",
            " ('Michael Osterholm', 'PERSON'),\n",
            " ('Chinese', 'NORP')]\n"
          ]
        }
      ]
    },
    {
      "cell_type": "code",
      "source": [
        "#Work on token level\n",
        "# B: The first token of a multi-token entity\n",
        "# I: The inner token of a multi-token entity\n",
        "# L: The Final token of a multi-token entity\n",
        "# U: A single token # O: Non-entity token\n",
        "pprint([(t, t.ent_iob_, t.ent_type_) for t in grover_txt])"
      ],
      "metadata": {
        "colab": {
          "base_uri": "https://localhost:8080/"
        },
        "id": "Dq9kgkdHwr4y",
        "outputId": "ee0f0bf6-1d29-4a2d-e08e-3c0e826f8c4f"
      },
      "execution_count": 14,
      "outputs": [
        {
          "output_type": "stream",
          "name": "stdout",
          "text": [
            "[(In, 'O', ''),\n",
            " (a, 'O', ''),\n",
            " (press, 'O', ''),\n",
            " (release, 'O', ''),\n",
            " (dated, 'O', ''),\n",
            " (March, 'B', 'DATE'),\n",
            " (28, 'I', 'DATE'),\n",
            " (,, 'I', 'DATE'),\n",
            " (2004, 'I', 'DATE'),\n",
            " (,, 'O', ''),\n",
            " (United, 'B', 'ORG'),\n",
            " (States, 'I', 'ORG'),\n",
            " (Centers, 'I', 'ORG'),\n",
            " (for, 'I', 'ORG'),\n",
            " (Disease, 'I', 'ORG'),\n",
            " (Control, 'I', 'ORG'),\n",
            " (and, 'I', 'ORG'),\n",
            " (Prevention, 'I', 'ORG'),\n",
            " (Director, 'O', ''),\n",
            " (Dr., 'O', ''),\n",
            " (Michael, 'B', 'PERSON'),\n",
            " (Osterholm, 'I', 'PERSON'),\n",
            " (announced, 'O', ''),\n",
            " (the, 'O', ''),\n",
            " (results, 'O', ''),\n",
            " (of, 'O', ''),\n",
            " (the, 'O', ''),\n",
            " (detection, 'O', ''),\n",
            " (and, 'O', ''),\n",
            " (safety, 'O', ''),\n",
            " (trial, 'O', ''),\n",
            " (of, 'O', ''),\n",
            " (SARS, 'O', ''),\n",
            " (-, 'O', ''),\n",
            " (CoV, 'O', ''),\n",
            " (in, 'O', ''),\n",
            " (the, 'O', ''),\n",
            " (Chinese, 'B', 'NORP'),\n",
            " (trans-, 'O', ''),\n",
            " (plantation, 'O', ''),\n",
            " (market, 'O', ''),\n",
            " (., 'O', '')]\n"
          ]
        }
      ]
    },
    {
      "cell_type": "code",
      "source": [
        "with open('/content/Visualization-App-on-World-Events/raw_text/cnn/03-12-22.txt') as f:\n",
        "  cnn_txt = f.read().replace('\\n', '')"
      ],
      "metadata": {
        "id": "m66tcHLrwsA5"
      },
      "execution_count": 25,
      "outputs": []
    },
    {
      "cell_type": "code",
      "source": [
        "#Number of entities\n",
        "cnn_article = nlp(cnn_txt)\n",
        "len(cnn_article.ents)"
      ],
      "metadata": {
        "colab": {
          "base_uri": "https://localhost:8080/"
        },
        "id": "i7jqPRQG0XEg",
        "outputId": "f1ca15b1-239e-494a-ed34-28aa0c26c219"
      },
      "execution_count": 31,
      "outputs": [
        {
          "output_type": "execute_result",
          "data": {
            "text/plain": [
              "1141"
            ]
          },
          "metadata": {},
          "execution_count": 31
        }
      ]
    },
    {
      "cell_type": "code",
      "source": [
        "# Top mentioned entities\n",
        "labels = [t.label_ for t in cnn_article.ents]\n",
        "Counter(labels).most_common()"
      ],
      "metadata": {
        "colab": {
          "base_uri": "https://localhost:8080/"
        },
        "id": "lPYNw7QM1aRk",
        "outputId": "92fc0eb1-3caa-432c-b9e5-e3a45eb1c90b"
      },
      "execution_count": 32,
      "outputs": [
        {
          "output_type": "execute_result",
          "data": {
            "text/plain": [
              "[('GPE', 282),\n",
              " ('PERSON', 216),\n",
              " ('ORG', 197),\n",
              " ('NORP', 160),\n",
              " ('DATE', 133),\n",
              " ('CARDINAL', 77),\n",
              " ('TIME', 19),\n",
              " ('LOC', 13),\n",
              " ('QUANTITY', 11),\n",
              " ('MONEY', 7),\n",
              " ('PRODUCT', 6),\n",
              " ('WORK_OF_ART', 5),\n",
              " ('ORDINAL', 4),\n",
              " ('FAC', 4),\n",
              " ('PERCENT', 3),\n",
              " ('EVENT', 2),\n",
              " ('LAW', 2)]"
            ]
          },
          "metadata": {},
          "execution_count": 32
        }
      ]
    },
    {
      "cell_type": "code",
      "source": [
        "# Top 20 mentioned word\n",
        "words = [t.text for t in cnn_article.ents]\n",
        "Counter(words).most_common(20)"
      ],
      "metadata": {
        "colab": {
          "base_uri": "https://localhost:8080/"
        },
        "id": "9wfYWsr-2kvo",
        "outputId": "e1cd4b50-68fc-42f2-8f5f-f02a205ca641"
      },
      "execution_count": 35,
      "outputs": [
        {
          "output_type": "execute_result",
          "data": {
            "text/plain": [
              "[('Ukraine', 107),\n",
              " ('Russian', 74),\n",
              " ('CNN', 41),\n",
              " ('Russia', 39),\n",
              " ('Ukrainian', 39),\n",
              " ('March 12', 26),\n",
              " ('Saturday', 25),\n",
              " ('US', 20),\n",
              " ('Putin', 18),\n",
              " ('Kyiv', 16),\n",
              " ('Melitopol', 12),\n",
              " ('Mariupol', 12),\n",
              " ('Zelensky', 11),\n",
              " ('Volodymyr Zelensky', 10),\n",
              " ('Friday', 10),\n",
              " ('French', 9),\n",
              " ('two', 8),\n",
              " ('German', 8),\n",
              " ('Fedorov', 7),\n",
              " ('Macron', 7)]"
            ]
          },
          "metadata": {},
          "execution_count": 35
        }
      ]
    },
    {
      "cell_type": "code",
      "source": [
        "# Top 20 mentioned person\n",
        "words_PERSON = []\n",
        "for t in cnn_article.ents:\n",
        "  if t.label_ == 'PERSON':\n",
        "    words_PERSON.append(t.text)\n",
        "\n",
        "Counter(words_PERSON).most_common(20)"
      ],
      "metadata": {
        "colab": {
          "base_uri": "https://localhost:8080/"
        },
        "id": "tx08-UVC3S1O",
        "outputId": "77a05b07-ecb0-4187-ce4b-267f4c604d14"
      },
      "execution_count": 39,
      "outputs": [
        {
          "output_type": "execute_result",
          "data": {
            "text/plain": [
              "[('Putin', 18),\n",
              " ('Zelensky', 11),\n",
              " ('Volodymyr Zelensky', 10),\n",
              " ('Luhansk', 4),\n",
              " ('Peskov', 4),\n",
              " ('Mariupol', 4),\n",
              " ('Harris', 4),\n",
              " ('Emmanuel Macron', 4),\n",
              " ('Jim Acosta', 3),\n",
              " ('Tim Lister', 3),\n",
              " ('Olaf Scholz', 3),\n",
              " ('Vladimir Putin', 3),\n",
              " ('Parolin', 3),\n",
              " ('Sergei Ryabkov', 2),\n",
              " ('Ivan Fedorov', 2),\n",
              " ('Danilchenko', 2),\n",
              " ('Makariy', 2),\n",
              " ('Renée Rigdon', 2),\n",
              " (\"Vladimir Putin's\", 2),\n",
              " ('Dmitry Peskov', 2)]"
            ]
          },
          "metadata": {},
          "execution_count": 39
        }
      ]
    },
    {
      "cell_type": "code",
      "source": [
        "# Top 20 mentioned NORP\n",
        "words_NORP = []\n",
        "for t in cnn_article.ents:\n",
        "  if t.label_ == 'NORP':\n",
        "    words_NORP.append(t.text)\n",
        "\n",
        "Counter(words_NORP).most_common(20)"
      ],
      "metadata": {
        "colab": {
          "base_uri": "https://localhost:8080/"
        },
        "id": "s0N9puEn4UnM",
        "outputId": "2f80e513-47d4-4849-9a1f-63e5413a584f"
      },
      "execution_count": 41,
      "outputs": [
        {
          "output_type": "execute_result",
          "data": {
            "text/plain": [
              "[('Russian', 74),\n",
              " ('Ukrainian', 33),\n",
              " ('French', 9),\n",
              " ('German', 8),\n",
              " ('Ukrainians', 4),\n",
              " ('Russians', 4),\n",
              " ('European', 3),\n",
              " ('theRussian', 2),\n",
              " ('Taiwanese', 2),\n",
              " ('LvivMultiple', 1),\n",
              " ('orRussian', 1),\n",
              " ('Tato', 1),\n",
              " ('Soviet', 1),\n",
              " ('behumanitarian', 1),\n",
              " ('Republican', 1),\n",
              " ('Nazism', 1),\n",
              " ('Okko', 1),\n",
              " ('Mariupolis', 1),\n",
              " ('Moroccan', 1),\n",
              " ('toBritish', 1)]"
            ]
          },
          "metadata": {},
          "execution_count": 41
        }
      ]
    },
    {
      "cell_type": "code",
      "source": [
        "# Top 20 mentioned ORG\n",
        "words_ORG = []\n",
        "for t in cnn_article.ents:\n",
        "  if t.label_ == 'ORG':\n",
        "    words_ORG.append(t.text)\n",
        "\n",
        "Counter(words_ORG).most_common(20)"
      ],
      "metadata": {
        "colab": {
          "base_uri": "https://localhost:8080/"
        },
        "id": "kR3MBiqt4qDM",
        "outputId": "eae602b6-86d9-4c4a-d07d-9f90665b22c2"
      },
      "execution_count": 42,
      "outputs": [
        {
          "output_type": "execute_result",
          "data": {
            "text/plain": [
              "[('CNN', 41),\n",
              " ('Melitopol', 7),\n",
              " ('Fedorov', 7),\n",
              " ('NATO', 6),\n",
              " ('IAEA', 6),\n",
              " ('UN', 4),\n",
              " ('UkraineFrom', 4),\n",
              " ('ASUS', 4),\n",
              " ('Channel One', 2),\n",
              " ('White House', 2),\n",
              " ('Telegram, Danilchenko', 2),\n",
              " ('Tato', 2),\n",
              " ('Maxar Technologies', 2),\n",
              " ('Doctors Without Borders', 2),\n",
              " ('Kremlin', 2),\n",
              " ('Airbus', 2),\n",
              " ('Central Bank', 2),\n",
              " ('Energoatom', 2),\n",
              " ('the European Union', 2),\n",
              " ('Anadolu Agency', 2)]"
            ]
          },
          "metadata": {},
          "execution_count": 42
        }
      ]
    },
    {
      "cell_type": "code",
      "source": [
        "# Top 20 mentioned GPE\n",
        "words_GPE = []\n",
        "for t in cnn_article.ents:\n",
        "  if t.label_ == 'GPE':\n",
        "    words_GPE.append(t.text)\n",
        "\n",
        "Counter(words_GPE).most_common(20)"
      ],
      "metadata": {
        "colab": {
          "base_uri": "https://localhost:8080/"
        },
        "id": "As7a2EQA5DSm",
        "outputId": "6dbb817e-7403-4471-fc61-b26a3aeb9855"
      },
      "execution_count": 43,
      "outputs": [
        {
          "output_type": "execute_result",
          "data": {
            "text/plain": [
              "[('Ukraine', 107),\n",
              " ('Russia', 39),\n",
              " ('US', 20),\n",
              " ('Kyiv', 8),\n",
              " ('Mariupol', 7),\n",
              " ('Macron', 7),\n",
              " ('Ukrainian', 6),\n",
              " ('Poland', 6),\n",
              " ('Moscow', 6),\n",
              " ('the United States', 5),\n",
              " ('Germany', 5),\n",
              " ('Melitopol', 4),\n",
              " ('Makariv', 4),\n",
              " ('Lviv', 2),\n",
              " ('Chernihiv', 2),\n",
              " ('Chernobyl', 2),\n",
              " ('the Russian Federation', 2),\n",
              " ('Romania', 2),\n",
              " ('United States', 2),\n",
              " ('Iran', 2)]"
            ]
          },
          "metadata": {},
          "execution_count": 43
        }
      ]
    },
    {
      "cell_type": "code",
      "source": [
        "# Top 20 mentioned LOC\n",
        "words_LOC = []\n",
        "for t in cnn_article.ents:\n",
        "  if t.label_ == 'LOC':\n",
        "    words_LOC.append(t.text)\n",
        "\n",
        "Counter(words_LOC).most_common(20)"
      ],
      "metadata": {
        "colab": {
          "base_uri": "https://localhost:8080/"
        },
        "id": "EOJxiLUv5LWt",
        "outputId": "27d39952-5584-489d-bf4f-e24253569c20"
      },
      "execution_count": 44,
      "outputs": [
        {
          "output_type": "execute_result",
          "data": {
            "text/plain": [
              "[('Kyiv', 8),\n",
              " ('Europe', 2),\n",
              " ('western Mariupol', 1),\n",
              " ('DC.\"The ocean', 1),\n",
              " ('the Dniepr River', 1)]"
            ]
          },
          "metadata": {},
          "execution_count": 44
        }
      ]
    }
  ]
}