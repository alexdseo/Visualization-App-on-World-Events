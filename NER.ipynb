{
  "nbformat": 4,
  "nbformat_minor": 0,
  "metadata": {
    "colab": {
      "name": "NER.ipynb",
      "provenance": [],
      "collapsed_sections": []
    },
    "kernelspec": {
      "name": "python3",
      "display_name": "Python 3"
    },
    "language_info": {
      "name": "python"
    },
    "accelerator": "GPU"
  },
  "cells": [
    {
      "cell_type": "code",
      "source": [
        "#Mount your drive to get cleaned_text\n",
        "from google.colab import drive\n",
        "drive.mount('/content/drive')"
      ],
      "metadata": {
        "colab": {
          "base_uri": "https://localhost:8080/"
        },
        "id": "Y4sq006oIjbk",
        "outputId": "9e3877d4-f930-4a9b-9366-39a8011874a6"
      },
      "execution_count": 1,
      "outputs": [
        {
          "output_type": "stream",
          "name": "stdout",
          "text": [
            "Mounted at /content/drive\n"
          ]
        }
      ]
    },
    {
      "cell_type": "code",
      "execution_count": 2,
      "metadata": {
        "colab": {
          "base_uri": "https://localhost:8080/"
        },
        "id": "Jlfodt55vVHm",
        "outputId": "158649d3-03c2-46b6-908b-e6719c843937"
      },
      "outputs": [
        {
          "output_type": "stream",
          "name": "stdout",
          "text": [
            "Cloning into 'Visualization-App-on-World-Events'...\n",
            "remote: Enumerating objects: 258, done.\u001b[K\n",
            "remote: Counting objects: 100% (72/72), done.\u001b[K\n",
            "remote: Compressing objects: 100% (55/55), done.\u001b[K\n",
            "remote: Total 258 (delta 35), reused 40 (delta 13), pack-reused 186\u001b[K\n",
            "Receiving objects: 100% (258/258), 1.49 GiB | 35.32 MiB/s, done.\n",
            "Resolving deltas: 100% (68/68), done.\n"
          ]
        }
      ],
      "source": [
        "#Clone this repository\n",
        "!git clone https://github.com/alexdseo/Visualization-App-on-World-Events"
      ]
    },
    {
      "cell_type": "code",
      "source": [
        "#Change directory\n",
        "%cd Visualization-App-on-World-Events"
      ],
      "metadata": {
        "colab": {
          "base_uri": "https://localhost:8080/"
        },
        "id": "lOcfe7lSvpyP",
        "outputId": "cb1bdee2-bf82-4bee-b2cb-68b8f0a55c47"
      },
      "execution_count": 3,
      "outputs": [
        {
          "output_type": "stream",
          "name": "stdout",
          "text": [
            "/content/Visualization-App-on-World-Events\n"
          ]
        }
      ]
    },
    {
      "cell_type": "code",
      "source": [
        "import spacy\n",
        "#from spacy import displacy #visualize option\n",
        "from collections import Counter\n",
        "from pprint import pprint"
      ],
      "metadata": {
        "id": "-OO4CUA5wLSv"
      },
      "execution_count": 4,
      "outputs": []
    },
    {
      "cell_type": "code",
      "source": [
        "# Use GPU\n",
        "spacy.prefer_gpu()"
      ],
      "metadata": {
        "colab": {
          "base_uri": "https://localhost:8080/"
        },
        "id": "psCMi0SJwTp8",
        "outputId": "8a4c3f89-9369-4900-b737-cc2811b4dc6f"
      },
      "execution_count": 5,
      "outputs": [
        {
          "output_type": "execute_result",
          "data": {
            "text/plain": [
              "True"
            ]
          },
          "metadata": {},
          "execution_count": 5
        }
      ]
    },
    {
      "cell_type": "code",
      "source": [
        "#Load nlp machine\n",
        "import en_core_web_sm\n",
        "nlp = en_core_web_sm.load()\n",
        "nlp.max_length = 4000000"
      ],
      "metadata": {
        "id": "eC7SviQVwdpn"
      },
      "execution_count": 6,
      "outputs": []
    },
    {
      "cell_type": "code",
      "source": [
        "#Work on entitiy level\n",
        "#Example using Grover-generated text\n",
        "grover_txt = nlp('In a press release dated March 28, 2004, United States Centers for Disease Control and Prevention Director Dr. Michael Osterholm announced the results of the detection and safety trial of SARS-CoV in the Chinese trans- plantation market.')\n",
        "pprint([(t.text, t.label_) for t in grover_txt.ents])"
      ],
      "metadata": {
        "colab": {
          "base_uri": "https://localhost:8080/"
        },
        "id": "Z7quShfRxEP4",
        "outputId": "028a75f4-7f26-4e9e-c3fd-63daad685033"
      },
      "execution_count": 7,
      "outputs": [
        {
          "output_type": "stream",
          "name": "stdout",
          "text": [
            "[('March 28, 2004', 'DATE'),\n",
            " ('United States Centers for Disease Control and Prevention', 'ORG'),\n",
            " ('Michael Osterholm', 'PERSON'),\n",
            " ('Chinese', 'NORP')]\n"
          ]
        }
      ]
    },
    {
      "cell_type": "code",
      "source": [
        "#Work on token level\n",
        "# B: The first token of a multi-token entity\n",
        "# I: The inner token of a multi-token entity\n",
        "# L: The Final token of a multi-token entity\n",
        "# U: A single token # O: Non-entity token\n",
        "pprint([(t, t.ent_iob_, t.ent_type_) for t in grover_txt])"
      ],
      "metadata": {
        "colab": {
          "base_uri": "https://localhost:8080/"
        },
        "id": "Dq9kgkdHwr4y",
        "outputId": "fbf2e10e-03ea-425a-8775-795d6851487e"
      },
      "execution_count": 8,
      "outputs": [
        {
          "output_type": "stream",
          "name": "stdout",
          "text": [
            "[(In, 'O', ''),\n",
            " (a, 'O', ''),\n",
            " (press, 'O', ''),\n",
            " (release, 'O', ''),\n",
            " (dated, 'O', ''),\n",
            " (March, 'B', 'DATE'),\n",
            " (28, 'I', 'DATE'),\n",
            " (,, 'I', 'DATE'),\n",
            " (2004, 'I', 'DATE'),\n",
            " (,, 'O', ''),\n",
            " (United, 'B', 'ORG'),\n",
            " (States, 'I', 'ORG'),\n",
            " (Centers, 'I', 'ORG'),\n",
            " (for, 'I', 'ORG'),\n",
            " (Disease, 'I', 'ORG'),\n",
            " (Control, 'I', 'ORG'),\n",
            " (and, 'I', 'ORG'),\n",
            " (Prevention, 'I', 'ORG'),\n",
            " (Director, 'O', ''),\n",
            " (Dr., 'O', ''),\n",
            " (Michael, 'B', 'PERSON'),\n",
            " (Osterholm, 'I', 'PERSON'),\n",
            " (announced, 'O', ''),\n",
            " (the, 'O', ''),\n",
            " (results, 'O', ''),\n",
            " (of, 'O', ''),\n",
            " (the, 'O', ''),\n",
            " (detection, 'O', ''),\n",
            " (and, 'O', ''),\n",
            " (safety, 'O', ''),\n",
            " (trial, 'O', ''),\n",
            " (of, 'O', ''),\n",
            " (SARS, 'O', ''),\n",
            " (-, 'O', ''),\n",
            " (CoV, 'O', ''),\n",
            " (in, 'O', ''),\n",
            " (the, 'O', ''),\n",
            " (Chinese, 'B', 'NORP'),\n",
            " (trans-, 'O', ''),\n",
            " (plantation, 'O', ''),\n",
            " (market, 'O', ''),\n",
            " (., 'O', '')]\n"
          ]
        }
      ]
    },
    {
      "cell_type": "code",
      "source": [
        "#Get file_path\n",
        "import os\n",
        "\n",
        "all_filepaths = []\n",
        "\n",
        "for newssource in os.listdir('/content/drive/MyDrive/cleaned_text'):\n",
        "    if newssource != \".DS_Store\":\n",
        "        for filename in os.listdir(os.path.join('/content/drive/MyDrive/cleaned_text',newssource)):\n",
        "            if filename != \".DS_Store\":\n",
        "                all_filepaths.append(f\"/content/drive/MyDrive/cleaned_text/{newssource}/{filename}\")\n",
        "\n",
        "all_filepaths.sort()"
      ],
      "metadata": {
        "id": "FZgvA6QxI_LW"
      },
      "execution_count": 9,
      "outputs": []
    },
    {
      "cell_type": "code",
      "source": [
        "len(all_filepaths)"
      ],
      "metadata": {
        "colab": {
          "base_uri": "https://localhost:8080/"
        },
        "id": "GYRT4l6HJsps",
        "outputId": "39c5efc1-f647-418c-fd46-64d52df72e4f"
      },
      "execution_count": 10,
      "outputs": [
        {
          "output_type": "execute_result",
          "data": {
            "text/plain": [
              "81"
            ]
          },
          "metadata": {},
          "execution_count": 10
        }
      ]
    },
    {
      "cell_type": "code",
      "source": [
        "# All txt files into string\n",
        "cnn_texts=''\n",
        "alja_texts=''\n",
        "fox_texts=''\n",
        "all_texts=''\n",
        "for i in all_filepaths:\n",
        "    f = open(i,\"r\").read().replace('\\n', ' ')\n",
        "    components = i.split(\"/\")\n",
        "\n",
        "    all_texts += f\n",
        "    all_texts += ' '\n",
        "\n",
        "    if components[5] == \"aljazeera\":\n",
        "      alja_texts += f\n",
        "      alja_texts += ' '\n",
        "    elif components[5] == \"cnn\":\n",
        "      cnn_texts += f\n",
        "      cnn_texts += ' '\n",
        "    elif components[5] == \"fox\":\n",
        "      fox_texts += f\n",
        "      fox_texts += ' '"
      ],
      "metadata": {
        "id": "9FKf5MT4KSmD"
      },
      "execution_count": 11,
      "outputs": []
    },
    {
      "cell_type": "code",
      "source": [
        "#select 03/12~03/30 files\n",
        "#Fox news missing 03/01~03/11 and aljazeera missing 03/31\n",
        "selected_files=[]\n",
        "for i in all_filepaths:\n",
        "  comp=i.split(\"/\")\n",
        "  day=comp[6].split(\"-\")\n",
        "  if int(day[1]) in range(12,31):\n",
        "    selected_files.append(i)"
      ],
      "metadata": {
        "id": "pUuWiW9NayBz"
      },
      "execution_count": 12,
      "outputs": []
    },
    {
      "cell_type": "code",
      "source": [
        "#19files each with total 57 files\n",
        "len(selected_files)"
      ],
      "metadata": {
        "colab": {
          "base_uri": "https://localhost:8080/"
        },
        "id": "nNV-Lbt0bxkc",
        "outputId": "6587bf63-6fc8-451b-ab85-7cb3d9e0a6cd"
      },
      "execution_count": 13,
      "outputs": [
        {
          "output_type": "execute_result",
          "data": {
            "text/plain": [
              "57"
            ]
          },
          "metadata": {},
          "execution_count": 13
        }
      ]
    },
    {
      "cell_type": "code",
      "source": [
        "#selected 03/12~03/30 files to into string\n",
        "#Fox news missing 03/01~03/11 and aljazeera missing 03/31\n",
        "\n",
        "cnn_texts_1230=''\n",
        "alja_texts_1230=''\n",
        "fox_texts_1230=''\n",
        "all_texts_1230=''\n",
        "for i in selected_files:\n",
        "    f = open(i,\"r\").read().replace('\\n', ' ')\n",
        "    components = i.split(\"/\")\n",
        "\n",
        "    all_texts_1230 += f\n",
        "    all_texts_1230 += ' '\n",
        "\n",
        "    if components[5] == \"aljazeera\":\n",
        "      alja_texts_1230 += f\n",
        "      alja_texts_1230 += ' '\n",
        "    elif components[5] == \"cnn\":\n",
        "      cnn_texts_1230 += f\n",
        "      cnn_texts_1230 += ' '\n",
        "    elif components[5] == \"fox\":\n",
        "      fox_texts_1230 += f\n",
        "      fox_texts_1230 += ' '"
      ],
      "metadata": {
        "id": "U9vR5aVRYiGJ"
      },
      "execution_count": 14,
      "outputs": []
    },
    {
      "cell_type": "code",
      "source": [
        "#Length of texts\n",
        "print('Length of all texts:', len(all_texts))\n",
        "print('Length of cnn texts:',len(cnn_texts))\n",
        "print('Length of fox texts:',len(fox_texts))\n",
        "print('Length of aljazeera texts:',len(alja_texts))"
      ],
      "metadata": {
        "colab": {
          "base_uri": "https://localhost:8080/"
        },
        "id": "Zebet8NhN5rG",
        "outputId": "d41f1634-1e82-45dc-b3db-804357fe7273"
      },
      "execution_count": 15,
      "outputs": [
        {
          "output_type": "stream",
          "name": "stdout",
          "text": [
            "Length of all texts: 3606869\n",
            "Length of cnn texts: 1557844\n",
            "Length of fox texts: 601993\n",
            "Length of aljazeera texts: 1447032\n"
          ]
        }
      ]
    },
    {
      "cell_type": "code",
      "source": [
        "#Length of selected texts\n",
        "print('Length of all selected texts:', len(all_texts_1230))\n",
        "print('Length of selected cnn texts:',len(cnn_texts_1230))\n",
        "print('Length of selected fox texts:',len(fox_texts_1230))\n",
        "print('Length of selected aljazeera texts:',len(alja_texts_1230))"
      ],
      "metadata": {
        "colab": {
          "base_uri": "https://localhost:8080/"
        },
        "id": "0WtalqdLcksF",
        "outputId": "92517d95-43c4-44e5-d940-9e48ac799907"
      },
      "execution_count": 16,
      "outputs": [
        {
          "output_type": "stream",
          "name": "stdout",
          "text": [
            "Length of all selected texts: 2419505\n",
            "Length of selected cnn texts: 942275\n",
            "Length of selected fox texts: 579352\n",
            "Length of selected aljazeera texts: 897878\n"
          ]
        }
      ]
    },
    {
      "cell_type": "code",
      "source": [
        "#Train all\n",
        "#Gets out of memory error\n",
        "#all_article = nlp(all_texts)\n",
        "#len(all_article.ents)"
      ],
      "metadata": {
        "id": "z6bPMCWuTuHo"
      },
      "execution_count": 17,
      "outputs": []
    },
    {
      "cell_type": "code",
      "source": [
        "#Train pipeline\n",
        "fox_article = nlp(fox_texts)\n",
        "#Number of entities in fox datasets\n",
        "len(fox_article.ents)"
      ],
      "metadata": {
        "colab": {
          "base_uri": "https://localhost:8080/"
        },
        "id": "SmpCcKruQeBF",
        "outputId": "e27f32a2-a7f4-442f-cc30-65b20e120b40"
      },
      "execution_count": 18,
      "outputs": [
        {
          "output_type": "execute_result",
          "data": {
            "text/plain": [
              "15956"
            ]
          },
          "metadata": {},
          "execution_count": 18
        }
      ]
    },
    {
      "cell_type": "code",
      "source": [
        "#Train pipeline\n",
        "cnn_article = nlp(cnn_texts)\n",
        "#Number of entities in cnn datasets\n",
        "len(cnn_article.ents)"
      ],
      "metadata": {
        "colab": {
          "base_uri": "https://localhost:8080/"
        },
        "id": "uwMYF72HQ1ms",
        "outputId": "0622dcff-9be2-4902-df47-9cb8ac84c819"
      },
      "execution_count": 19,
      "outputs": [
        {
          "output_type": "execute_result",
          "data": {
            "text/plain": [
              "33815"
            ]
          },
          "metadata": {},
          "execution_count": 19
        }
      ]
    },
    {
      "cell_type": "code",
      "source": [
        "#Train pipeline\n",
        "alja_article = nlp(alja_texts)\n",
        "#Number of entities in aljazeera datasets\n",
        "len(alja_article.ents)"
      ],
      "metadata": {
        "colab": {
          "base_uri": "https://localhost:8080/"
        },
        "id": "ZOfjOvIPQ2Qe",
        "outputId": "8d1d9c4b-980c-40ef-e624-c9c2a8dadc03"
      },
      "execution_count": 20,
      "outputs": [
        {
          "output_type": "execute_result",
          "data": {
            "text/plain": [
              "34779"
            ]
          },
          "metadata": {},
          "execution_count": 20
        }
      ]
    },
    {
      "cell_type": "code",
      "source": [
        "#Train pipeline\n",
        "fox_article_1230 = nlp(fox_texts_1230)\n",
        "#Number of entities in selected fox datasets\n",
        "len(fox_article_1230.ents)"
      ],
      "metadata": {
        "colab": {
          "base_uri": "https://localhost:8080/"
        },
        "id": "vVpycCaRcsyc",
        "outputId": "3506dc43-07be-4ba7-bd57-7629e76b8878"
      },
      "execution_count": 21,
      "outputs": [
        {
          "output_type": "execute_result",
          "data": {
            "text/plain": [
              "15398"
            ]
          },
          "metadata": {},
          "execution_count": 21
        }
      ]
    },
    {
      "cell_type": "code",
      "source": [
        "#Train pipeline\n",
        "cnn_article_1230 = nlp(cnn_texts_1230)\n",
        "#Number of entities in selected cnn datasets\n",
        "len(cnn_article_1230.ents)"
      ],
      "metadata": {
        "colab": {
          "base_uri": "https://localhost:8080/"
        },
        "id": "nXr1WSVqcs5p",
        "outputId": "7647efc1-a8fb-4898-f7f1-2becacf37145"
      },
      "execution_count": 22,
      "outputs": [
        {
          "output_type": "execute_result",
          "data": {
            "text/plain": [
              "20697"
            ]
          },
          "metadata": {},
          "execution_count": 22
        }
      ]
    },
    {
      "cell_type": "code",
      "source": [
        "#Train pipeline\n",
        "alja_article_1230 = nlp(alja_texts_1230)\n",
        "#Number of entities in selected aljazeera datasets\n",
        "len(alja_article_1230.ents)"
      ],
      "metadata": {
        "colab": {
          "base_uri": "https://localhost:8080/"
        },
        "id": "TwHI-uLLcs9g",
        "outputId": "96e3b3c0-e1f3-4ab9-c74b-ae4b9d7bb1c5"
      },
      "execution_count": 23,
      "outputs": [
        {
          "output_type": "execute_result",
          "data": {
            "text/plain": [
              "21811"
            ]
          },
          "metadata": {},
          "execution_count": 23
        }
      ]
    },
    {
      "cell_type": "code",
      "source": [
        "#All entities\n",
        "all_article_ents = fox_article.ents + cnn_article.ents + alja_article.ents"
      ],
      "metadata": {
        "id": "kY2Zka1Ibo_L"
      },
      "execution_count": 24,
      "outputs": []
    },
    {
      "cell_type": "code",
      "source": [
        "#length of all article\n",
        "len(all_article_ents)"
      ],
      "metadata": {
        "colab": {
          "base_uri": "https://localhost:8080/"
        },
        "id": "-pP9sO36b85x",
        "outputId": "8926ad3b-127d-4cbd-b804-1c2012e15eb4"
      },
      "execution_count": 25,
      "outputs": [
        {
          "output_type": "execute_result",
          "data": {
            "text/plain": [
              "84550"
            ]
          },
          "metadata": {},
          "execution_count": 25
        }
      ]
    },
    {
      "cell_type": "markdown",
      "source": [
        "## Get all 10 entities from the text and list the Top 20"
      ],
      "metadata": {
        "id": "-3MDkg-h33Me"
      }
    },
    {
      "cell_type": "code",
      "source": [
        "# Save PERSON in list from text\n",
        "# List Top 20 mentioned PERSON in all article\n",
        "person_all = []\n",
        "for t in all_article_ents:\n",
        "  if t.label_ == 'PERSON':\n",
        "    person_all.append(t.text)\n",
        "\n",
        "Counter(person_all).most_common(20)"
      ],
      "metadata": {
        "colab": {
          "base_uri": "https://localhost:8080/"
        },
        "id": "_PCw5xOgkFxY",
        "outputId": "3c635120-d09f-46f0-d80f-0e76fad03360"
      },
      "execution_count": 26,
      "outputs": [
        {
          "output_type": "execute_result",
          "data": {
            "text/plain": [
              "[('Putin', 1113),\n",
              " ('Biden', 624),\n",
              " ('Zelenskyy', 531),\n",
              " ('Vladimir Putin', 404),\n",
              " ('Zelensky', 352),\n",
              " ('Joe Biden', 283),\n",
              " ('Mariupol', 273),\n",
              " ('Kharkiv', 241),\n",
              " ('Volodymyr Zelensky', 204),\n",
              " ('Volodymyr Zelenskyy', 203),\n",
              " ('Kirby', 119),\n",
              " ('Blinken', 104),\n",
              " ('Dmytro Kuleba', 89),\n",
              " ('Lviv', 88),\n",
              " ('Antony Blinken', 87),\n",
              " ('Lavrov', 72),\n",
              " ('Boris Johnson', 71),\n",
              " ('John Kirby', 69),\n",
              " ('Emmanuel Macron', 66),\n",
              " ('Peskov', 65)]"
            ]
          },
          "metadata": {},
          "execution_count": 26
        }
      ]
    },
    {
      "cell_type": "code",
      "source": [
        "# Save NORP in list from text\n",
        "# List Top 20 mentioned NORP in all article\n",
        "norp_all = []\n",
        "for t in all_article_ents:\n",
        "  if t.label_ == 'NORP':\n",
        "    norp_all.append(t.text)\n",
        "\n",
        "Counter(norp_all).most_common(20)"
      ],
      "metadata": {
        "colab": {
          "base_uri": "https://localhost:8080/"
        },
        "id": "O1jLBsQ_kXh3",
        "outputId": "1aa0fbfd-3cae-45e6-9d3a-192c972ad923"
      },
      "execution_count": 27,
      "outputs": [
        {
          "output_type": "execute_result",
          "data": {
            "text/plain": [
              "[('Russian', 5795),\n",
              " ('Ukrainian', 2778),\n",
              " ('Ukrainians', 482),\n",
              " ('Russians', 381),\n",
              " ('European', 208),\n",
              " ('French', 184),\n",
              " ('American', 182),\n",
              " ('Polish', 178),\n",
              " ('Chinese', 135),\n",
              " ('British', 119),\n",
              " ('German', 113),\n",
              " ('Western', 110),\n",
              " ('Zaporizhzhia', 107),\n",
              " ('Turkish', 97),\n",
              " ('Belarusian', 90),\n",
              " ('Sumy', 66),\n",
              " ('Israeli', 53),\n",
              " ('Americans', 52),\n",
              " ('Biden', 51),\n",
              " ('Republican', 39)]"
            ]
          },
          "metadata": {},
          "execution_count": 27
        }
      ]
    },
    {
      "cell_type": "code",
      "source": [
        "# Save ORG in list from text\n",
        "# List Top 20 mentioned ORG in all article\n",
        "org_all = []\n",
        "for t in all_article_ents:\n",
        "  if t.label_ == 'ORG':\n",
        "    org_all.append(t.text)\n",
        "\n",
        "Counter(org_all).most_common(20)"
      ],
      "metadata": {
        "colab": {
          "base_uri": "https://localhost:8080/"
        },
        "id": "OYf9C8LlkklU",
        "outputId": "63a5a884-1db2-4bd7-f9f1-b90811ed048f"
      },
      "execution_count": 28,
      "outputs": [
        {
          "output_type": "execute_result",
          "data": {
            "text/plain": [
              "[('NATO', 1040),\n",
              " ('CNN', 744),\n",
              " ('UN', 430),\n",
              " ('EU', 347),\n",
              " ('Kremlin', 320),\n",
              " ('IAEA', 205),\n",
              " ('Al Jazeera', 200),\n",
              " ('Pentagon', 197),\n",
              " ('Kyiv', 178),\n",
              " ('Reuters', 163),\n",
              " ('White House', 156),\n",
              " ('Fox News', 142),\n",
              " ('the White House', 136),\n",
              " ('Telegram', 124),\n",
              " ('State', 121),\n",
              " ('Congress', 101),\n",
              " ('RUSSIA', 95),\n",
              " ('Facebook', 82),\n",
              " ('AP', 74),\n",
              " ('Maxar Technologies', 74)]"
            ]
          },
          "metadata": {},
          "execution_count": 28
        }
      ]
    },
    {
      "cell_type": "code",
      "source": [
        "# Save GPE in list from text\n",
        "# List Top 20 mentioned GPE in all article\n",
        "gpe_all = []\n",
        "for t in all_article_ents:\n",
        "  if t.label_ == 'GPE':\n",
        "    gpe_all.append(t.text)\n",
        "\n",
        "Counter(gpe_all).most_common(20)"
      ],
      "metadata": {
        "colab": {
          "base_uri": "https://localhost:8080/"
        },
        "id": "7LnUHLYokroZ",
        "outputId": "cd9c0c82-1c08-4dc2-e99f-b6c4a5f4f413"
      },
      "execution_count": 29,
      "outputs": [
        {
          "output_type": "execute_result",
          "data": {
            "text/plain": [
              "[('Ukraine', 7968),\n",
              " ('Russia', 5810),\n",
              " ('US', 1958),\n",
              " ('Moscow', 888),\n",
              " ('Mariupol', 735),\n",
              " ('Poland', 570),\n",
              " ('China', 480),\n",
              " ('Kyiv', 395),\n",
              " ('UK', 368),\n",
              " ('Ukrainian', 355),\n",
              " ('U.S.', 243),\n",
              " ('Germany', 227),\n",
              " ('the United States', 227),\n",
              " ('Belarus', 215),\n",
              " ('Turkey', 192),\n",
              " ('Chernobyl', 187),\n",
              " ('Brussels', 168),\n",
              " ('France', 151),\n",
              " ('Warsaw', 113),\n",
              " ('Donbas', 102)]"
            ]
          },
          "metadata": {},
          "execution_count": 29
        }
      ]
    },
    {
      "cell_type": "code",
      "source": [
        "# Save LOC in list from text\n",
        "# List Top 20 mentioned LOC in all article\n",
        "loc_all = []\n",
        "for t in all_article_ents:\n",
        "  if t.label_ == 'LOC':\n",
        "    loc_all.append(t.text)\n",
        "\n",
        "Counter(loc_all).most_common(20)"
      ],
      "metadata": {
        "colab": {
          "base_uri": "https://localhost:8080/"
        },
        "id": "jS7uSbJXkzyO",
        "outputId": "ba777ca7-deb9-46df-e3ed-2d72b62e4c50"
      },
      "execution_count": 30,
      "outputs": [
        {
          "output_type": "execute_result",
          "data": {
            "text/plain": [
              "[('Kyiv', 664),\n",
              " ('Europe', 423),\n",
              " ('West', 103),\n",
              " ('the Black Sea', 49),\n",
              " ('Black Sea', 45),\n",
              " ('Biden', 38),\n",
              " ('Mariupol', 28),\n",
              " ('the Middle East', 16),\n",
              " ('the Irpin River', 15),\n",
              " ('Eastern Europe', 13),\n",
              " ('Africa', 13),\n",
              " ('the Sea of Azov', 13),\n",
              " ('the Crimean Peninsula', 12),\n",
              " ('Asia', 11),\n",
              " ('Dnipro', 10),\n",
              " ('Berdyansk', 8),\n",
              " ('the Azov Sea', 7),\n",
              " ('the Dnieper River', 7),\n",
              " ('Gulf', 7),\n",
              " ('Podilskyi district', 6)]"
            ]
          },
          "metadata": {},
          "execution_count": 30
        }
      ]
    },
    {
      "cell_type": "code",
      "source": [
        "# Save FAC in list from text\n",
        "# List Top 20 mentioned FAC in all article\n",
        "fac_all = []\n",
        "for t in all_article_ents:\n",
        "  if t.label_ == 'FAC':\n",
        "    fac_all.append(t.text)\n",
        "\n",
        "Counter(fac_all).most_common(20)"
      ],
      "metadata": {
        "colab": {
          "base_uri": "https://localhost:8080/"
        },
        "id": "mFv5XbA7bRDh",
        "outputId": "0c287211-901c-46e5-9a86-a781fdb6e482"
      },
      "execution_count": 31,
      "outputs": [
        {
          "output_type": "execute_result",
          "data": {
            "text/plain": [
              "[('the White House', 29),\n",
              " ('the Royal Castle', 15),\n",
              " ('Telegram', 10),\n",
              " ('Vatican', 9),\n",
              " ('the International Space Station', 8),\n",
              " ('G7', 8),\n",
              " ('Ramstein Air Base', 7),\n",
              " ('Dnipro', 7),\n",
              " ('the Doha Forum', 7),\n",
              " ('Crimea', 6),\n",
              " ('Kremlin', 6),\n",
              " ('Facebook', 5),\n",
              " ('Downing Street', 5),\n",
              " ('Capitol', 5),\n",
              " ('the International Center for Peacekeeping and Security', 4),\n",
              " ('the Chernobyl Nuclear Power Plant', 4),\n",
              " ('Nuclear Power Plant', 4),\n",
              " ('the Zaporizhzhia Nuclear Power Plant', 4),\n",
              " ('the Elysee Palace', 4),\n",
              " ('Kyiv', 4)]"
            ]
          },
          "metadata": {},
          "execution_count": 31
        }
      ]
    },
    {
      "cell_type": "code",
      "source": [
        "# Save PRODUCT in list from text\n",
        "# List Top 20 mentioned PRODUCT in all article\n",
        "pro_all = []\n",
        "for t in all_article_ents:\n",
        "  if t.label_ == 'PRODUCT':\n",
        "    pro_all.append(t.text)\n",
        "\n",
        "Counter(pro_all).most_common(20)"
      ],
      "metadata": {
        "colab": {
          "base_uri": "https://localhost:8080/"
        },
        "id": "_2i-NeT4cPiO",
        "outputId": "2bceb237-8a0d-4ead-c481-754d89fde827"
      },
      "execution_count": 32,
      "outputs": [
        {
          "output_type": "execute_result",
          "data": {
            "text/plain": [
              "[('Mariupol', 48),\n",
              " ('G7', 18),\n",
              " ('MiG-29', 15),\n",
              " ('Lviv', 10),\n",
              " ('Javelin', 10),\n",
              " ('YouTube', 9),\n",
              " ('Air Force One', 8),\n",
              " ('Kyiv', 7),\n",
              " ('Soyuz', 6),\n",
              " ('Children', 5),\n",
              " ('Shoigu', 5),\n",
              " ('@nexta_tv', 5),\n",
              " ('Twitter', 5),\n",
              " ('|', 5),\n",
              " ('Odesa', 5),\n",
              " ('MiG-29s', 4),\n",
              " ('Slavutych', 4),\n",
              " ('Stingers', 3),\n",
              " ('Protesters', 3),\n",
              " ('USS', 2)]"
            ]
          },
          "metadata": {},
          "execution_count": 32
        }
      ]
    },
    {
      "cell_type": "code",
      "source": [
        "# Save EVENT in list from text\n",
        "# List Top 20 mentioned EVENT in all article\n",
        "event_all = []\n",
        "for t in all_article_ents:\n",
        "  if t.label_ == 'EVENT':\n",
        "    event_all.append(t.text)\n",
        "\n",
        "Counter(event_all).most_common(20)"
      ],
      "metadata": {
        "colab": {
          "base_uri": "https://localhost:8080/"
        },
        "id": "hKZ-mZ8ucZJl",
        "outputId": "95e5c8d3-d120-4f0c-d1f5-b24efad1ea13"
      },
      "execution_count": 33,
      "outputs": [
        {
          "output_type": "execute_result",
          "data": {
            "text/plain": [
              "[('World War II', 30),\n",
              " ('World War Il', 16),\n",
              " ('World War III', 11),\n",
              " ('the Cold War', 10),\n",
              " ('World War', 6),\n",
              " ('Cold War', 6),\n",
              " ('Kyiv', 5),\n",
              " ('Winter Games', 5),\n",
              " ('Olympics', 4),\n",
              " ('the NATO summit', 4),\n",
              " ('UKRAINE WAR', 4),\n",
              " ('World War Ill', 3),\n",
              " ('WWII', 3),\n",
              " ('World Cup', 3),\n",
              " ('War', 3),\n",
              " ('World War Ill.', 2),\n",
              " ('the NATO alliance', 2),\n",
              " (\"World War'\", 2),\n",
              " ('the Beijing Olympics', 2),\n",
              " ('the \"Middle East and', 2)]"
            ]
          },
          "metadata": {},
          "execution_count": 33
        }
      ]
    },
    {
      "cell_type": "code",
      "source": [
        "# Save DATE in list from text\n",
        "# List Top 20 mentioned DATE in all article\n",
        "date_all = []\n",
        "for t in all_article_ents:\n",
        "  if t.label_ == 'DATE':\n",
        "    date_all.append(t.text)\n",
        "\n",
        "Counter(date_all).most_common(20)"
      ],
      "metadata": {
        "colab": {
          "base_uri": "https://localhost:8080/"
        },
        "id": "dRIXGicqcoIF",
        "outputId": "aac1d4b2-f6e1-4039-860a-e6422109c40a"
      },
      "execution_count": 34,
      "outputs": [
        {
          "output_type": "execute_result",
          "data": {
            "text/plain": [
              "[('Thursday', 432),\n",
              " ('Friday', 429),\n",
              " ('Tuesday', 427),\n",
              " ('Wednesday', 404),\n",
              " ('Monday', 393),\n",
              " ('Sunday', 330),\n",
              " ('Saturday', 321),\n",
              " ('today', 208),\n",
              " ('last week', 115),\n",
              " ('this week', 108),\n",
              " ('2014', 80),\n",
              " ('February 24', 73),\n",
              " ('recent days', 61),\n",
              " ('March 14th', 52),\n",
              " ('weeks', 49),\n",
              " ('March 16th', 49),\n",
              " ('daily', 46),\n",
              " ('March 29th', 46),\n",
              " ('March 18th', 45),\n",
              " ('tomorrow', 44)]"
            ]
          },
          "metadata": {},
          "execution_count": 34
        }
      ]
    },
    {
      "cell_type": "code",
      "source": [
        "# Save TIME in list from text\n",
        "# List Top 20 mentioned TIME in all article\n",
        "time_all = []\n",
        "for t in all_article_ents:\n",
        "  if t.label_ == 'TIME':\n",
        "    time_all.append(t.text)\n",
        "\n",
        "Counter(time_all).most_common(20)"
      ],
      "metadata": {
        "colab": {
          "base_uri": "https://localhost:8080/"
        },
        "id": "EOzTERWhcuRk",
        "outputId": "9f67f97b-91ca-49bf-bb91-45b6e60ed4bc"
      },
      "execution_count": 35,
      "outputs": [
        {
          "output_type": "execute_result",
          "data": {
            "text/plain": [
              "[('morning', 59),\n",
              " ('evening', 39),\n",
              " ('night', 24),\n",
              " ('the last 24 hours', 20),\n",
              " ('this morning', 18),\n",
              " ('tonight', 15),\n",
              " ('afternoon', 13),\n",
              " ('10 a.m.', 13),\n",
              " ('the past 24 hours', 12),\n",
              " ('overnight', 11),\n",
              " ('hours', 11),\n",
              " ('last night', 10),\n",
              " ('Earlier today', 9),\n",
              " ('24 hours', 9),\n",
              " ('72 hours', 8),\n",
              " ('midnight', 8),\n",
              " ('Wednesday night', 8),\n",
              " ('later today', 8),\n",
              " ('10 p.m.', 7),\n",
              " ('5 a.m.', 6)]"
            ]
          },
          "metadata": {},
          "execution_count": 35
        }
      ]
    },
    {
      "cell_type": "markdown",
      "source": [
        "## Plot top 20 mentioned PERSON, NORP, ORG, GPE and LOC in the entire dataset."
      ],
      "metadata": {
        "id": "7ChXqMvq4f0F"
      }
    },
    {
      "cell_type": "code",
      "source": [
        "import altair as alt\n",
        "import pandas as pd\n",
        "#PERSON: Person\n",
        "person_20=pd.DataFrame(Counter(person_all).most_common(20), columns=['Person', 'Frequency'])\n",
        "\n",
        "#NORP: Nationalities or religious or political groups\n",
        "norp_20=pd.DataFrame(Counter(norp_all).most_common(20), columns=['Nationality', 'Frequency'])\n",
        "\n",
        "#ORG: Organization\n",
        "org_20=pd.DataFrame(Counter(org_all).most_common(20), columns=['Organization', 'Frequency'])\n",
        "\n",
        "#GPE: Geopolitical entity\n",
        "gpe_20=pd.DataFrame(Counter(gpe_all).most_common(20), columns=['Geo-political', 'Frequency'])\n",
        "\n",
        "#LOC: Loacation \n",
        "loc_20=pd.DataFrame(Counter(loc_all).most_common(20), columns=['Location', 'Frequency'])\n"
      ],
      "metadata": {
        "id": "MBETr8n_5FhR"
      },
      "execution_count": 36,
      "outputs": []
    },
    {
      "cell_type": "code",
      "source": [
        "#Plot top 20 mentioned PERSON in the entire datset\n",
        "alt.Chart(person_20).mark_bar().encode(\n",
        "    x='Person',\n",
        "    y='Frequency'\n",
        ")"
      ],
      "metadata": {
        "colab": {
          "base_uri": "https://localhost:8080/",
          "height": 453
        },
        "id": "HARsEzXJk5Ox",
        "outputId": "d3a6e95c-da7a-4641-f6aa-a144ef4d8bfd"
      },
      "execution_count": 37,
      "outputs": [
        {
          "output_type": "execute_result",
          "data": {
            "text/html": [
              "\n",
              "<div id=\"altair-viz-008a124c0c2a4bb49550e88c6d575f08\"></div>\n",
              "<script type=\"text/javascript\">\n",
              "  var VEGA_DEBUG = (typeof VEGA_DEBUG == \"undefined\") ? {} : VEGA_DEBUG;\n",
              "  (function(spec, embedOpt){\n",
              "    let outputDiv = document.currentScript.previousElementSibling;\n",
              "    if (outputDiv.id !== \"altair-viz-008a124c0c2a4bb49550e88c6d575f08\") {\n",
              "      outputDiv = document.getElementById(\"altair-viz-008a124c0c2a4bb49550e88c6d575f08\");\n",
              "    }\n",
              "    const paths = {\n",
              "      \"vega\": \"https://cdn.jsdelivr.net/npm//vega@5?noext\",\n",
              "      \"vega-lib\": \"https://cdn.jsdelivr.net/npm//vega-lib?noext\",\n",
              "      \"vega-lite\": \"https://cdn.jsdelivr.net/npm//vega-lite@4.17.0?noext\",\n",
              "      \"vega-embed\": \"https://cdn.jsdelivr.net/npm//vega-embed@6?noext\",\n",
              "    };\n",
              "\n",
              "    function maybeLoadScript(lib, version) {\n",
              "      var key = `${lib.replace(\"-\", \"\")}_version`;\n",
              "      return (VEGA_DEBUG[key] == version) ?\n",
              "        Promise.resolve(paths[lib]) :\n",
              "        new Promise(function(resolve, reject) {\n",
              "          var s = document.createElement('script');\n",
              "          document.getElementsByTagName(\"head\")[0].appendChild(s);\n",
              "          s.async = true;\n",
              "          s.onload = () => {\n",
              "            VEGA_DEBUG[key] = version;\n",
              "            return resolve(paths[lib]);\n",
              "          };\n",
              "          s.onerror = () => reject(`Error loading script: ${paths[lib]}`);\n",
              "          s.src = paths[lib];\n",
              "        });\n",
              "    }\n",
              "\n",
              "    function showError(err) {\n",
              "      outputDiv.innerHTML = `<div class=\"error\" style=\"color:red;\">${err}</div>`;\n",
              "      throw err;\n",
              "    }\n",
              "\n",
              "    function displayChart(vegaEmbed) {\n",
              "      vegaEmbed(outputDiv, spec, embedOpt)\n",
              "        .catch(err => showError(`Javascript Error: ${err.message}<br>This usually means there's a typo in your chart specification. See the javascript console for the full traceback.`));\n",
              "    }\n",
              "\n",
              "    if(typeof define === \"function\" && define.amd) {\n",
              "      requirejs.config({paths});\n",
              "      require([\"vega-embed\"], displayChart, err => showError(`Error loading script: ${err.message}`));\n",
              "    } else {\n",
              "      maybeLoadScript(\"vega\", \"5\")\n",
              "        .then(() => maybeLoadScript(\"vega-lite\", \"4.17.0\"))\n",
              "        .then(() => maybeLoadScript(\"vega-embed\", \"6\"))\n",
              "        .catch(showError)\n",
              "        .then(() => displayChart(vegaEmbed));\n",
              "    }\n",
              "  })({\"config\": {\"view\": {\"continuousWidth\": 400, \"continuousHeight\": 300}}, \"data\": {\"name\": \"data-bad52aa17f435042bf84452c30a5232a\"}, \"mark\": \"bar\", \"encoding\": {\"x\": {\"field\": \"Person\", \"type\": \"nominal\"}, \"y\": {\"field\": \"Frequency\", \"type\": \"quantitative\"}}, \"$schema\": \"https://vega.github.io/schema/vega-lite/v4.17.0.json\", \"datasets\": {\"data-bad52aa17f435042bf84452c30a5232a\": [{\"Person\": \"Putin\", \"Frequency\": 1113}, {\"Person\": \"Biden\", \"Frequency\": 624}, {\"Person\": \"Zelenskyy\", \"Frequency\": 531}, {\"Person\": \"Vladimir Putin\", \"Frequency\": 404}, {\"Person\": \"Zelensky\", \"Frequency\": 352}, {\"Person\": \"Joe Biden\", \"Frequency\": 283}, {\"Person\": \"Mariupol\", \"Frequency\": 273}, {\"Person\": \"Kharkiv\", \"Frequency\": 241}, {\"Person\": \"Volodymyr Zelensky\", \"Frequency\": 204}, {\"Person\": \"Volodymyr Zelenskyy\", \"Frequency\": 203}, {\"Person\": \"Kirby\", \"Frequency\": 119}, {\"Person\": \"Blinken\", \"Frequency\": 104}, {\"Person\": \"Dmytro Kuleba\", \"Frequency\": 89}, {\"Person\": \"Lviv\", \"Frequency\": 88}, {\"Person\": \"Antony Blinken\", \"Frequency\": 87}, {\"Person\": \"Lavrov\", \"Frequency\": 72}, {\"Person\": \"Boris Johnson\", \"Frequency\": 71}, {\"Person\": \"John Kirby\", \"Frequency\": 69}, {\"Person\": \"Emmanuel Macron\", \"Frequency\": 66}, {\"Person\": \"Peskov\", \"Frequency\": 65}]}}, {\"mode\": \"vega-lite\"});\n",
              "</script>"
            ],
            "text/plain": [
              "alt.Chart(...)"
            ]
          },
          "metadata": {},
          "execution_count": 37
        }
      ]
    },
    {
      "cell_type": "code",
      "source": [
        "#Plot top 20 mentioned NORP in the entire datset\n",
        "alt.Chart(norp_20).mark_bar().encode(\n",
        "    x='Nationality',\n",
        "    y='Frequency'\n",
        ")"
      ],
      "metadata": {
        "colab": {
          "base_uri": "https://localhost:8080/",
          "height": 416
        },
        "id": "U3QfkGXJl_cb",
        "outputId": "79a625de-5ce0-4c29-ebb2-ea7f99a3f1db"
      },
      "execution_count": 38,
      "outputs": [
        {
          "output_type": "execute_result",
          "data": {
            "text/html": [
              "\n",
              "<div id=\"altair-viz-cc3d807774754c9d931c7a086612b408\"></div>\n",
              "<script type=\"text/javascript\">\n",
              "  var VEGA_DEBUG = (typeof VEGA_DEBUG == \"undefined\") ? {} : VEGA_DEBUG;\n",
              "  (function(spec, embedOpt){\n",
              "    let outputDiv = document.currentScript.previousElementSibling;\n",
              "    if (outputDiv.id !== \"altair-viz-cc3d807774754c9d931c7a086612b408\") {\n",
              "      outputDiv = document.getElementById(\"altair-viz-cc3d807774754c9d931c7a086612b408\");\n",
              "    }\n",
              "    const paths = {\n",
              "      \"vega\": \"https://cdn.jsdelivr.net/npm//vega@5?noext\",\n",
              "      \"vega-lib\": \"https://cdn.jsdelivr.net/npm//vega-lib?noext\",\n",
              "      \"vega-lite\": \"https://cdn.jsdelivr.net/npm//vega-lite@4.17.0?noext\",\n",
              "      \"vega-embed\": \"https://cdn.jsdelivr.net/npm//vega-embed@6?noext\",\n",
              "    };\n",
              "\n",
              "    function maybeLoadScript(lib, version) {\n",
              "      var key = `${lib.replace(\"-\", \"\")}_version`;\n",
              "      return (VEGA_DEBUG[key] == version) ?\n",
              "        Promise.resolve(paths[lib]) :\n",
              "        new Promise(function(resolve, reject) {\n",
              "          var s = document.createElement('script');\n",
              "          document.getElementsByTagName(\"head\")[0].appendChild(s);\n",
              "          s.async = true;\n",
              "          s.onload = () => {\n",
              "            VEGA_DEBUG[key] = version;\n",
              "            return resolve(paths[lib]);\n",
              "          };\n",
              "          s.onerror = () => reject(`Error loading script: ${paths[lib]}`);\n",
              "          s.src = paths[lib];\n",
              "        });\n",
              "    }\n",
              "\n",
              "    function showError(err) {\n",
              "      outputDiv.innerHTML = `<div class=\"error\" style=\"color:red;\">${err}</div>`;\n",
              "      throw err;\n",
              "    }\n",
              "\n",
              "    function displayChart(vegaEmbed) {\n",
              "      vegaEmbed(outputDiv, spec, embedOpt)\n",
              "        .catch(err => showError(`Javascript Error: ${err.message}<br>This usually means there's a typo in your chart specification. See the javascript console for the full traceback.`));\n",
              "    }\n",
              "\n",
              "    if(typeof define === \"function\" && define.amd) {\n",
              "      requirejs.config({paths});\n",
              "      require([\"vega-embed\"], displayChart, err => showError(`Error loading script: ${err.message}`));\n",
              "    } else {\n",
              "      maybeLoadScript(\"vega\", \"5\")\n",
              "        .then(() => maybeLoadScript(\"vega-lite\", \"4.17.0\"))\n",
              "        .then(() => maybeLoadScript(\"vega-embed\", \"6\"))\n",
              "        .catch(showError)\n",
              "        .then(() => displayChart(vegaEmbed));\n",
              "    }\n",
              "  })({\"config\": {\"view\": {\"continuousWidth\": 400, \"continuousHeight\": 300}}, \"data\": {\"name\": \"data-fff857a7b504e83baad1676dc6a28cde\"}, \"mark\": \"bar\", \"encoding\": {\"x\": {\"field\": \"Nationality\", \"type\": \"nominal\"}, \"y\": {\"field\": \"Frequency\", \"type\": \"quantitative\"}}, \"$schema\": \"https://vega.github.io/schema/vega-lite/v4.17.0.json\", \"datasets\": {\"data-fff857a7b504e83baad1676dc6a28cde\": [{\"Nationality\": \"Russian\", \"Frequency\": 5795}, {\"Nationality\": \"Ukrainian\", \"Frequency\": 2778}, {\"Nationality\": \"Ukrainians\", \"Frequency\": 482}, {\"Nationality\": \"Russians\", \"Frequency\": 381}, {\"Nationality\": \"European\", \"Frequency\": 208}, {\"Nationality\": \"French\", \"Frequency\": 184}, {\"Nationality\": \"American\", \"Frequency\": 182}, {\"Nationality\": \"Polish\", \"Frequency\": 178}, {\"Nationality\": \"Chinese\", \"Frequency\": 135}, {\"Nationality\": \"British\", \"Frequency\": 119}, {\"Nationality\": \"German\", \"Frequency\": 113}, {\"Nationality\": \"Western\", \"Frequency\": 110}, {\"Nationality\": \"Zaporizhzhia\", \"Frequency\": 107}, {\"Nationality\": \"Turkish\", \"Frequency\": 97}, {\"Nationality\": \"Belarusian\", \"Frequency\": 90}, {\"Nationality\": \"Sumy\", \"Frequency\": 66}, {\"Nationality\": \"Israeli\", \"Frequency\": 53}, {\"Nationality\": \"Americans\", \"Frequency\": 52}, {\"Nationality\": \"Biden\", \"Frequency\": 51}, {\"Nationality\": \"Republican\", \"Frequency\": 39}]}}, {\"mode\": \"vega-lite\"});\n",
              "</script>"
            ],
            "text/plain": [
              "alt.Chart(...)"
            ]
          },
          "metadata": {},
          "execution_count": 38
        }
      ]
    },
    {
      "cell_type": "code",
      "source": [
        "#Plot top 20 mentioned ORG in the entire datset\n",
        "alt.Chart(org_20).mark_bar().encode(\n",
        "    x='Organization',\n",
        "    y='Frequency'\n",
        ")"
      ],
      "metadata": {
        "colab": {
          "base_uri": "https://localhost:8080/",
          "height": 447
        },
        "id": "0Y8rzdjCmMG7",
        "outputId": "c8fba10a-3df5-43ad-c38e-9761b018fa04"
      },
      "execution_count": 39,
      "outputs": [
        {
          "output_type": "execute_result",
          "data": {
            "text/html": [
              "\n",
              "<div id=\"altair-viz-dd22aa6608b74220a9b7c4993ab2f315\"></div>\n",
              "<script type=\"text/javascript\">\n",
              "  var VEGA_DEBUG = (typeof VEGA_DEBUG == \"undefined\") ? {} : VEGA_DEBUG;\n",
              "  (function(spec, embedOpt){\n",
              "    let outputDiv = document.currentScript.previousElementSibling;\n",
              "    if (outputDiv.id !== \"altair-viz-dd22aa6608b74220a9b7c4993ab2f315\") {\n",
              "      outputDiv = document.getElementById(\"altair-viz-dd22aa6608b74220a9b7c4993ab2f315\");\n",
              "    }\n",
              "    const paths = {\n",
              "      \"vega\": \"https://cdn.jsdelivr.net/npm//vega@5?noext\",\n",
              "      \"vega-lib\": \"https://cdn.jsdelivr.net/npm//vega-lib?noext\",\n",
              "      \"vega-lite\": \"https://cdn.jsdelivr.net/npm//vega-lite@4.17.0?noext\",\n",
              "      \"vega-embed\": \"https://cdn.jsdelivr.net/npm//vega-embed@6?noext\",\n",
              "    };\n",
              "\n",
              "    function maybeLoadScript(lib, version) {\n",
              "      var key = `${lib.replace(\"-\", \"\")}_version`;\n",
              "      return (VEGA_DEBUG[key] == version) ?\n",
              "        Promise.resolve(paths[lib]) :\n",
              "        new Promise(function(resolve, reject) {\n",
              "          var s = document.createElement('script');\n",
              "          document.getElementsByTagName(\"head\")[0].appendChild(s);\n",
              "          s.async = true;\n",
              "          s.onload = () => {\n",
              "            VEGA_DEBUG[key] = version;\n",
              "            return resolve(paths[lib]);\n",
              "          };\n",
              "          s.onerror = () => reject(`Error loading script: ${paths[lib]}`);\n",
              "          s.src = paths[lib];\n",
              "        });\n",
              "    }\n",
              "\n",
              "    function showError(err) {\n",
              "      outputDiv.innerHTML = `<div class=\"error\" style=\"color:red;\">${err}</div>`;\n",
              "      throw err;\n",
              "    }\n",
              "\n",
              "    function displayChart(vegaEmbed) {\n",
              "      vegaEmbed(outputDiv, spec, embedOpt)\n",
              "        .catch(err => showError(`Javascript Error: ${err.message}<br>This usually means there's a typo in your chart specification. See the javascript console for the full traceback.`));\n",
              "    }\n",
              "\n",
              "    if(typeof define === \"function\" && define.amd) {\n",
              "      requirejs.config({paths});\n",
              "      require([\"vega-embed\"], displayChart, err => showError(`Error loading script: ${err.message}`));\n",
              "    } else {\n",
              "      maybeLoadScript(\"vega\", \"5\")\n",
              "        .then(() => maybeLoadScript(\"vega-lite\", \"4.17.0\"))\n",
              "        .then(() => maybeLoadScript(\"vega-embed\", \"6\"))\n",
              "        .catch(showError)\n",
              "        .then(() => displayChart(vegaEmbed));\n",
              "    }\n",
              "  })({\"config\": {\"view\": {\"continuousWidth\": 400, \"continuousHeight\": 300}}, \"data\": {\"name\": \"data-16094142aab8058a61bec14a2cafe405\"}, \"mark\": \"bar\", \"encoding\": {\"x\": {\"field\": \"Organization\", \"type\": \"nominal\"}, \"y\": {\"field\": \"Frequency\", \"type\": \"quantitative\"}}, \"$schema\": \"https://vega.github.io/schema/vega-lite/v4.17.0.json\", \"datasets\": {\"data-16094142aab8058a61bec14a2cafe405\": [{\"Organization\": \"NATO\", \"Frequency\": 1040}, {\"Organization\": \"CNN\", \"Frequency\": 744}, {\"Organization\": \"UN\", \"Frequency\": 430}, {\"Organization\": \"EU\", \"Frequency\": 347}, {\"Organization\": \"Kremlin\", \"Frequency\": 320}, {\"Organization\": \"IAEA\", \"Frequency\": 205}, {\"Organization\": \"Al Jazeera\", \"Frequency\": 200}, {\"Organization\": \"Pentagon\", \"Frequency\": 197}, {\"Organization\": \"Kyiv\", \"Frequency\": 178}, {\"Organization\": \"Reuters\", \"Frequency\": 163}, {\"Organization\": \"White House\", \"Frequency\": 156}, {\"Organization\": \"Fox News\", \"Frequency\": 142}, {\"Organization\": \"the White House\", \"Frequency\": 136}, {\"Organization\": \"Telegram\", \"Frequency\": 124}, {\"Organization\": \"State\", \"Frequency\": 121}, {\"Organization\": \"Congress\", \"Frequency\": 101}, {\"Organization\": \"RUSSIA\", \"Frequency\": 95}, {\"Organization\": \"Facebook\", \"Frequency\": 82}, {\"Organization\": \"AP\", \"Frequency\": 74}, {\"Organization\": \"Maxar Technologies\", \"Frequency\": 74}]}}, {\"mode\": \"vega-lite\"});\n",
              "</script>"
            ],
            "text/plain": [
              "alt.Chart(...)"
            ]
          },
          "metadata": {},
          "execution_count": 39
        }
      ]
    },
    {
      "cell_type": "code",
      "source": [
        "#Plot top 20 mentioned GPE in the entire datset\n",
        "alt.Chart(gpe_20).mark_bar().encode(\n",
        "    x='Geo-political',\n",
        "    y='Frequency'\n",
        ")"
      ],
      "metadata": {
        "colab": {
          "base_uri": "https://localhost:8080/",
          "height": 435
        },
        "id": "PbH-9l2XmSaz",
        "outputId": "00bfff75-a77e-41b3-ac94-6a7c704d45a6"
      },
      "execution_count": 40,
      "outputs": [
        {
          "output_type": "execute_result",
          "data": {
            "text/html": [
              "\n",
              "<div id=\"altair-viz-98b9e10ff93d4152a7487ea8c77b346a\"></div>\n",
              "<script type=\"text/javascript\">\n",
              "  var VEGA_DEBUG = (typeof VEGA_DEBUG == \"undefined\") ? {} : VEGA_DEBUG;\n",
              "  (function(spec, embedOpt){\n",
              "    let outputDiv = document.currentScript.previousElementSibling;\n",
              "    if (outputDiv.id !== \"altair-viz-98b9e10ff93d4152a7487ea8c77b346a\") {\n",
              "      outputDiv = document.getElementById(\"altair-viz-98b9e10ff93d4152a7487ea8c77b346a\");\n",
              "    }\n",
              "    const paths = {\n",
              "      \"vega\": \"https://cdn.jsdelivr.net/npm//vega@5?noext\",\n",
              "      \"vega-lib\": \"https://cdn.jsdelivr.net/npm//vega-lib?noext\",\n",
              "      \"vega-lite\": \"https://cdn.jsdelivr.net/npm//vega-lite@4.17.0?noext\",\n",
              "      \"vega-embed\": \"https://cdn.jsdelivr.net/npm//vega-embed@6?noext\",\n",
              "    };\n",
              "\n",
              "    function maybeLoadScript(lib, version) {\n",
              "      var key = `${lib.replace(\"-\", \"\")}_version`;\n",
              "      return (VEGA_DEBUG[key] == version) ?\n",
              "        Promise.resolve(paths[lib]) :\n",
              "        new Promise(function(resolve, reject) {\n",
              "          var s = document.createElement('script');\n",
              "          document.getElementsByTagName(\"head\")[0].appendChild(s);\n",
              "          s.async = true;\n",
              "          s.onload = () => {\n",
              "            VEGA_DEBUG[key] = version;\n",
              "            return resolve(paths[lib]);\n",
              "          };\n",
              "          s.onerror = () => reject(`Error loading script: ${paths[lib]}`);\n",
              "          s.src = paths[lib];\n",
              "        });\n",
              "    }\n",
              "\n",
              "    function showError(err) {\n",
              "      outputDiv.innerHTML = `<div class=\"error\" style=\"color:red;\">${err}</div>`;\n",
              "      throw err;\n",
              "    }\n",
              "\n",
              "    function displayChart(vegaEmbed) {\n",
              "      vegaEmbed(outputDiv, spec, embedOpt)\n",
              "        .catch(err => showError(`Javascript Error: ${err.message}<br>This usually means there's a typo in your chart specification. See the javascript console for the full traceback.`));\n",
              "    }\n",
              "\n",
              "    if(typeof define === \"function\" && define.amd) {\n",
              "      requirejs.config({paths});\n",
              "      require([\"vega-embed\"], displayChart, err => showError(`Error loading script: ${err.message}`));\n",
              "    } else {\n",
              "      maybeLoadScript(\"vega\", \"5\")\n",
              "        .then(() => maybeLoadScript(\"vega-lite\", \"4.17.0\"))\n",
              "        .then(() => maybeLoadScript(\"vega-embed\", \"6\"))\n",
              "        .catch(showError)\n",
              "        .then(() => displayChart(vegaEmbed));\n",
              "    }\n",
              "  })({\"config\": {\"view\": {\"continuousWidth\": 400, \"continuousHeight\": 300}}, \"data\": {\"name\": \"data-d2f9106bc6dc7ce53382adeaddd78698\"}, \"mark\": \"bar\", \"encoding\": {\"x\": {\"field\": \"Geo-political\", \"type\": \"nominal\"}, \"y\": {\"field\": \"Frequency\", \"type\": \"quantitative\"}}, \"$schema\": \"https://vega.github.io/schema/vega-lite/v4.17.0.json\", \"datasets\": {\"data-d2f9106bc6dc7ce53382adeaddd78698\": [{\"Geo-political\": \"Ukraine\", \"Frequency\": 7968}, {\"Geo-political\": \"Russia\", \"Frequency\": 5810}, {\"Geo-political\": \"US\", \"Frequency\": 1958}, {\"Geo-political\": \"Moscow\", \"Frequency\": 888}, {\"Geo-political\": \"Mariupol\", \"Frequency\": 735}, {\"Geo-political\": \"Poland\", \"Frequency\": 570}, {\"Geo-political\": \"China\", \"Frequency\": 480}, {\"Geo-political\": \"Kyiv\", \"Frequency\": 395}, {\"Geo-political\": \"UK\", \"Frequency\": 368}, {\"Geo-political\": \"Ukrainian\", \"Frequency\": 355}, {\"Geo-political\": \"U.S.\", \"Frequency\": 243}, {\"Geo-political\": \"Germany\", \"Frequency\": 227}, {\"Geo-political\": \"the United States\", \"Frequency\": 227}, {\"Geo-political\": \"Belarus\", \"Frequency\": 215}, {\"Geo-political\": \"Turkey\", \"Frequency\": 192}, {\"Geo-political\": \"Chernobyl\", \"Frequency\": 187}, {\"Geo-political\": \"Brussels\", \"Frequency\": 168}, {\"Geo-political\": \"France\", \"Frequency\": 151}, {\"Geo-political\": \"Warsaw\", \"Frequency\": 113}, {\"Geo-political\": \"Donbas\", \"Frequency\": 102}]}}, {\"mode\": \"vega-lite\"});\n",
              "</script>"
            ],
            "text/plain": [
              "alt.Chart(...)"
            ]
          },
          "metadata": {},
          "execution_count": 40
        }
      ]
    },
    {
      "cell_type": "code",
      "source": [
        "#Plot top 20 mentioned LOC in the entire datset\n",
        "alt.Chart(loc_20).mark_bar().encode(\n",
        "    x='Location',\n",
        "    y='Frequency'\n",
        ")"
      ],
      "metadata": {
        "colab": {
          "base_uri": "https://localhost:8080/",
          "height": 460
        },
        "id": "-kOpiF9ZmY43",
        "outputId": "083bb1b3-e0f7-4a4e-b087-3277736e88ae"
      },
      "execution_count": 41,
      "outputs": [
        {
          "output_type": "execute_result",
          "data": {
            "text/html": [
              "\n",
              "<div id=\"altair-viz-51cc41316e464deeb09d886c98e46212\"></div>\n",
              "<script type=\"text/javascript\">\n",
              "  var VEGA_DEBUG = (typeof VEGA_DEBUG == \"undefined\") ? {} : VEGA_DEBUG;\n",
              "  (function(spec, embedOpt){\n",
              "    let outputDiv = document.currentScript.previousElementSibling;\n",
              "    if (outputDiv.id !== \"altair-viz-51cc41316e464deeb09d886c98e46212\") {\n",
              "      outputDiv = document.getElementById(\"altair-viz-51cc41316e464deeb09d886c98e46212\");\n",
              "    }\n",
              "    const paths = {\n",
              "      \"vega\": \"https://cdn.jsdelivr.net/npm//vega@5?noext\",\n",
              "      \"vega-lib\": \"https://cdn.jsdelivr.net/npm//vega-lib?noext\",\n",
              "      \"vega-lite\": \"https://cdn.jsdelivr.net/npm//vega-lite@4.17.0?noext\",\n",
              "      \"vega-embed\": \"https://cdn.jsdelivr.net/npm//vega-embed@6?noext\",\n",
              "    };\n",
              "\n",
              "    function maybeLoadScript(lib, version) {\n",
              "      var key = `${lib.replace(\"-\", \"\")}_version`;\n",
              "      return (VEGA_DEBUG[key] == version) ?\n",
              "        Promise.resolve(paths[lib]) :\n",
              "        new Promise(function(resolve, reject) {\n",
              "          var s = document.createElement('script');\n",
              "          document.getElementsByTagName(\"head\")[0].appendChild(s);\n",
              "          s.async = true;\n",
              "          s.onload = () => {\n",
              "            VEGA_DEBUG[key] = version;\n",
              "            return resolve(paths[lib]);\n",
              "          };\n",
              "          s.onerror = () => reject(`Error loading script: ${paths[lib]}`);\n",
              "          s.src = paths[lib];\n",
              "        });\n",
              "    }\n",
              "\n",
              "    function showError(err) {\n",
              "      outputDiv.innerHTML = `<div class=\"error\" style=\"color:red;\">${err}</div>`;\n",
              "      throw err;\n",
              "    }\n",
              "\n",
              "    function displayChart(vegaEmbed) {\n",
              "      vegaEmbed(outputDiv, spec, embedOpt)\n",
              "        .catch(err => showError(`Javascript Error: ${err.message}<br>This usually means there's a typo in your chart specification. See the javascript console for the full traceback.`));\n",
              "    }\n",
              "\n",
              "    if(typeof define === \"function\" && define.amd) {\n",
              "      requirejs.config({paths});\n",
              "      require([\"vega-embed\"], displayChart, err => showError(`Error loading script: ${err.message}`));\n",
              "    } else {\n",
              "      maybeLoadScript(\"vega\", \"5\")\n",
              "        .then(() => maybeLoadScript(\"vega-lite\", \"4.17.0\"))\n",
              "        .then(() => maybeLoadScript(\"vega-embed\", \"6\"))\n",
              "        .catch(showError)\n",
              "        .then(() => displayChart(vegaEmbed));\n",
              "    }\n",
              "  })({\"config\": {\"view\": {\"continuousWidth\": 400, \"continuousHeight\": 300}}, \"data\": {\"name\": \"data-0dd9deb44c68acf9f1dc59bcae9b21ec\"}, \"mark\": \"bar\", \"encoding\": {\"x\": {\"field\": \"Location\", \"type\": \"nominal\"}, \"y\": {\"field\": \"Frequency\", \"type\": \"quantitative\"}}, \"$schema\": \"https://vega.github.io/schema/vega-lite/v4.17.0.json\", \"datasets\": {\"data-0dd9deb44c68acf9f1dc59bcae9b21ec\": [{\"Location\": \"Kyiv\", \"Frequency\": 664}, {\"Location\": \"Europe\", \"Frequency\": 423}, {\"Location\": \"West\", \"Frequency\": 103}, {\"Location\": \"the Black Sea\", \"Frequency\": 49}, {\"Location\": \"Black Sea\", \"Frequency\": 45}, {\"Location\": \"Biden\", \"Frequency\": 38}, {\"Location\": \"Mariupol\", \"Frequency\": 28}, {\"Location\": \"the Middle East\", \"Frequency\": 16}, {\"Location\": \"the Irpin River\", \"Frequency\": 15}, {\"Location\": \"Eastern Europe\", \"Frequency\": 13}, {\"Location\": \"Africa\", \"Frequency\": 13}, {\"Location\": \"the Sea of Azov\", \"Frequency\": 13}, {\"Location\": \"the Crimean Peninsula\", \"Frequency\": 12}, {\"Location\": \"Asia\", \"Frequency\": 11}, {\"Location\": \"Dnipro\", \"Frequency\": 10}, {\"Location\": \"Berdyansk\", \"Frequency\": 8}, {\"Location\": \"the Azov Sea\", \"Frequency\": 7}, {\"Location\": \"the Dnieper River\", \"Frequency\": 7}, {\"Location\": \"Gulf\", \"Frequency\": 7}, {\"Location\": \"Podilskyi district\", \"Frequency\": 6}]}}, {\"mode\": \"vega-lite\"});\n",
              "</script>"
            ],
            "text/plain": [
              "alt.Chart(...)"
            ]
          },
          "metadata": {},
          "execution_count": 41
        }
      ]
    },
    {
      "cell_type": "markdown",
      "source": [
        "## Compare the distributions of the entities between the news sources."
      ],
      "metadata": {
        "id": "Qu_udtOJg8yo"
      }
    },
    {
      "cell_type": "code",
      "source": [
        "# News from 03/12/2022 ~ 03/30/2022\n",
        "# Top 20 mentioned person in fox\n",
        "person_fox = []\n",
        "for t in fox_article_1230.ents:\n",
        "  if t.label_ == 'PERSON':\n",
        "    person_fox.append(t.text)\n",
        "\n",
        "# Top 20 mentioned person in cnn\n",
        "person_cnn = []\n",
        "for t in cnn_article_1230.ents:\n",
        "  if t.label_ == 'PERSON':\n",
        "    person_cnn.append(t.text)\n",
        "\n",
        "\n",
        "# Top 20 mentioned person in aljazeera\n",
        "person_alja = []\n",
        "for t in alja_article_1230.ents:\n",
        "  if t.label_ == 'PERSON':\n",
        "    person_alja.append(t.text)\n"
      ],
      "metadata": {
        "id": "sOFLGfa4ndAo"
      },
      "execution_count": 42,
      "outputs": []
    },
    {
      "cell_type": "code",
      "source": [
        "# News from 03/12/2022 ~ 03/30/2022\n",
        "# Top 20 mentioned NORP in fox\n",
        "norp_fox = []\n",
        "for t in fox_article_1230.ents:\n",
        "  if t.label_ == 'NORP':\n",
        "    norp_fox.append(t.text)\n",
        "\n",
        "# Top 20 mentioned NORP in cnn\n",
        "norp_cnn = []\n",
        "for t in cnn_article_1230.ents:\n",
        "  if t.label_ == 'NORP':\n",
        "    norp_cnn.append(t.text)\n",
        "\n",
        "# Top 20 mentioned NORP in aljazeera\n",
        "norp_alja = []\n",
        "for t in alja_article_1230.ents:\n",
        "  if t.label_ == 'NORP':\n",
        "    norp_alja.append(t.text)\n"
      ],
      "metadata": {
        "id": "4cUkUESJoepe"
      },
      "execution_count": 43,
      "outputs": []
    },
    {
      "cell_type": "code",
      "source": [
        "# News from 03/12/2022 ~ 03/30/2022\n",
        "# Top 20 mentioned ORG in fox\n",
        "org_fox = []\n",
        "for t in fox_article_1230.ents:\n",
        "  if t.label_ == 'ORG':\n",
        "    org_fox.append(t.text)\n",
        "\n",
        "# Top 20 mentioned ORG in cnn\n",
        "org_cnn = []\n",
        "for t in cnn_article_1230.ents:\n",
        "  if t.label_ == 'ORG':\n",
        "    org_cnn.append(t.text)\n",
        "\n",
        "# Top 20 mentioned ORG in aljazeera\n",
        "org_alja = []\n",
        "for t in alja_article_1230.ents:\n",
        "  if t.label_ == 'ORG':\n",
        "    org_alja.append(t.text)\n"
      ],
      "metadata": {
        "id": "86ArWUpSo3J9"
      },
      "execution_count": 44,
      "outputs": []
    },
    {
      "cell_type": "code",
      "source": [
        "# News from 03/12/2022 ~ 03/30/2022\n",
        "# Top 20 mentioned GPE in fox\n",
        "gpe_fox = []\n",
        "for t in fox_article_1230.ents:\n",
        "  if t.label_ == 'GPE':\n",
        "    gpe_fox.append(t.text)\n",
        "\n",
        "# Top 20 mentioned GPE in cnn\n",
        "gpe_cnn = []\n",
        "for t in cnn_article_1230.ents:\n",
        "  if t.label_ == 'GPE':\n",
        "    gpe_cnn.append(t.text)\n",
        "\n",
        "# Top 20 mentioned GPE in aljazeera\n",
        "gpe_alja = []\n",
        "for t in alja_article_1230.ents:\n",
        "  if t.label_ == 'GPE':\n",
        "    gpe_alja.append(t.text)\n"
      ],
      "metadata": {
        "id": "0QTMyQnFpMf_"
      },
      "execution_count": 45,
      "outputs": []
    },
    {
      "cell_type": "code",
      "source": [
        "# News from 03/12/2022 ~ 03/30/2022\n",
        "# Top 20 mentioned LOC in fox\n",
        "loc_fox = []\n",
        "for t in fox_article_1230.ents:\n",
        "  if t.label_ == 'LOC':\n",
        "    loc_fox.append(t.text)\n",
        "\n",
        "# Top 20 mentioned LOC in cnn\n",
        "loc_cnn = []\n",
        "for t in cnn_article_1230.ents:\n",
        "  if t.label_ == 'LOC':\n",
        "    loc_cnn.append(t.text)\n",
        "\n",
        "# Top 20 mentioned LOC in aljazeera\n",
        "loc_alja = []\n",
        "for t in alja_article_1230.ents:\n",
        "  if t.label_ == 'LOC':\n",
        "    loc_alja.append(t.text)\n"
      ],
      "metadata": {
        "id": "2pf6s19WpfS3"
      },
      "execution_count": 46,
      "outputs": []
    },
    {
      "cell_type": "markdown",
      "source": [
        "> I don't think 'Biden' and 'Macron' is a country or Loacation... Misclassification!"
      ],
      "metadata": {
        "id": "42miBfRup_sj"
      }
    },
    {
      "cell_type": "code",
      "source": [
        "#FOX\n",
        "#PERSON: Person \n",
        "person_fox20=pd.DataFrame(Counter(person_fox).most_common(20), columns=['Person', 'Frequency'])\n",
        "\n",
        "#NORP: Nationalities or religious or political groups\n",
        "norp_fox20=pd.DataFrame(Counter(norp_fox).most_common(20), columns=['Nationality', 'Frequency'])\n",
        "\n",
        "#ORG: Organization\n",
        "org_fox20=pd.DataFrame(Counter(org_fox).most_common(20), columns=['Organization', 'Frequency'])\n",
        "\n",
        "#GPE: Geopolitical entity\n",
        "gpe_fox20=pd.DataFrame(Counter(gpe_fox).most_common(20), columns=['Geo-political', 'Frequency'])\n",
        "\n",
        "#LOC: Loacation \n",
        "loc_fox20=pd.DataFrame(Counter(loc_fox).most_common(20), columns=['Location', 'Frequency'])\n"
      ],
      "metadata": {
        "id": "S_kZd2pQg-C2"
      },
      "execution_count": 47,
      "outputs": []
    },
    {
      "cell_type": "code",
      "source": [
        "#CNN\n",
        "#PERSON: Person \n",
        "person_cnn20=pd.DataFrame(Counter(person_cnn).most_common(20), columns=['Person', 'Frequency'])\n",
        "\n",
        "#NORP: Nationalities or religious or political groups\n",
        "norp_cnn20=pd.DataFrame(Counter(norp_cnn).most_common(20), columns=['Nationality', 'Frequency'])\n",
        "\n",
        "#ORG: Organization\n",
        "org_cnn20=pd.DataFrame(Counter(org_cnn).most_common(20), columns=['Organization', 'Frequency'])\n",
        "\n",
        "#GPE: Geopolitical entity\n",
        "gpe_cnn20=pd.DataFrame(Counter(gpe_cnn).most_common(20), columns=['Geo-political', 'Frequency'])\n",
        "\n",
        "#LOC: Loacation \n",
        "loc_cnn20=pd.DataFrame(Counter(loc_cnn).most_common(20), columns=['Location', 'Frequency'])\n"
      ],
      "metadata": {
        "id": "CrWgGMd4qW3R"
      },
      "execution_count": 48,
      "outputs": []
    },
    {
      "cell_type": "code",
      "source": [
        "#ALJAZEERA\n",
        "#PERSON: Person \n",
        "person_alja20=pd.DataFrame(Counter(person_alja).most_common(20), columns=['Person', 'Frequency'])\n",
        "\n",
        "#NORP: Nationalities or religious or political groups\n",
        "norp_alja20=pd.DataFrame(Counter(norp_alja).most_common(20), columns=['Nationality', 'Frequency'])\n",
        "\n",
        "#ORG: Organization\n",
        "org_alja20=pd.DataFrame(Counter(org_alja).most_common(20), columns=['Organization', 'Frequency'])\n",
        "\n",
        "#GPE: Geopolitical entity\n",
        "gpe_alja20=pd.DataFrame(Counter(gpe_alja).most_common(20), columns=['Geo-political', 'Frequency'])\n",
        "\n",
        "#LOC: Loacation \n",
        "loc_alja20=pd.DataFrame(Counter(loc_alja).most_common(20), columns=['Location', 'Frequency'])\n"
      ],
      "metadata": {
        "id": "3f8zpJkPqXcm"
      },
      "execution_count": 49,
      "outputs": []
    },
    {
      "cell_type": "markdown",
      "source": [
        "### Distribution of \"PERSON\" Entity from each news source "
      ],
      "metadata": {
        "id": "9kA2Ok21q_0f"
      }
    },
    {
      "cell_type": "code",
      "source": [
        "#Bar plots\n",
        "hist1=alt.Chart(person_fox20).mark_bar().encode(\n",
        "    x='Person',\n",
        "    y='Frequency'\n",
        ").properties(\n",
        "    width=350,\n",
        "    height=350,\n",
        "    title='Fox'\n",
        ")\n",
        "\n",
        "hist2=alt.Chart(person_cnn20).mark_bar().encode(\n",
        "    x='Person',\n",
        "    y='Frequency'\n",
        ").properties(\n",
        "    width=350,\n",
        "    height=350,\n",
        "    title='CNN'\n",
        ")\n",
        "\n",
        "hist3=alt.Chart(person_alja20).mark_bar().encode(\n",
        "    x='Person',\n",
        "    y='Frequency'\n",
        ").properties(\n",
        "    width=350,\n",
        "    height=350,\n",
        "    title='Aljazeera'\n",
        ")\n",
        "\n",
        "hist1 | hist2 | hist3"
      ],
      "metadata": {
        "colab": {
          "base_uri": "https://localhost:8080/",
          "height": 522
        },
        "id": "vcmqVC5_qo62",
        "outputId": "6bcc7cac-a59f-41e2-869d-dbf03d9d355b"
      },
      "execution_count": 50,
      "outputs": [
        {
          "output_type": "execute_result",
          "data": {
            "text/html": [
              "\n",
              "<div id=\"altair-viz-e47f95c9095e4b7785e86ee7ebd8b0f1\"></div>\n",
              "<script type=\"text/javascript\">\n",
              "  var VEGA_DEBUG = (typeof VEGA_DEBUG == \"undefined\") ? {} : VEGA_DEBUG;\n",
              "  (function(spec, embedOpt){\n",
              "    let outputDiv = document.currentScript.previousElementSibling;\n",
              "    if (outputDiv.id !== \"altair-viz-e47f95c9095e4b7785e86ee7ebd8b0f1\") {\n",
              "      outputDiv = document.getElementById(\"altair-viz-e47f95c9095e4b7785e86ee7ebd8b0f1\");\n",
              "    }\n",
              "    const paths = {\n",
              "      \"vega\": \"https://cdn.jsdelivr.net/npm//vega@5?noext\",\n",
              "      \"vega-lib\": \"https://cdn.jsdelivr.net/npm//vega-lib?noext\",\n",
              "      \"vega-lite\": \"https://cdn.jsdelivr.net/npm//vega-lite@4.17.0?noext\",\n",
              "      \"vega-embed\": \"https://cdn.jsdelivr.net/npm//vega-embed@6?noext\",\n",
              "    };\n",
              "\n",
              "    function maybeLoadScript(lib, version) {\n",
              "      var key = `${lib.replace(\"-\", \"\")}_version`;\n",
              "      return (VEGA_DEBUG[key] == version) ?\n",
              "        Promise.resolve(paths[lib]) :\n",
              "        new Promise(function(resolve, reject) {\n",
              "          var s = document.createElement('script');\n",
              "          document.getElementsByTagName(\"head\")[0].appendChild(s);\n",
              "          s.async = true;\n",
              "          s.onload = () => {\n",
              "            VEGA_DEBUG[key] = version;\n",
              "            return resolve(paths[lib]);\n",
              "          };\n",
              "          s.onerror = () => reject(`Error loading script: ${paths[lib]}`);\n",
              "          s.src = paths[lib];\n",
              "        });\n",
              "    }\n",
              "\n",
              "    function showError(err) {\n",
              "      outputDiv.innerHTML = `<div class=\"error\" style=\"color:red;\">${err}</div>`;\n",
              "      throw err;\n",
              "    }\n",
              "\n",
              "    function displayChart(vegaEmbed) {\n",
              "      vegaEmbed(outputDiv, spec, embedOpt)\n",
              "        .catch(err => showError(`Javascript Error: ${err.message}<br>This usually means there's a typo in your chart specification. See the javascript console for the full traceback.`));\n",
              "    }\n",
              "\n",
              "    if(typeof define === \"function\" && define.amd) {\n",
              "      requirejs.config({paths});\n",
              "      require([\"vega-embed\"], displayChart, err => showError(`Error loading script: ${err.message}`));\n",
              "    } else {\n",
              "      maybeLoadScript(\"vega\", \"5\")\n",
              "        .then(() => maybeLoadScript(\"vega-lite\", \"4.17.0\"))\n",
              "        .then(() => maybeLoadScript(\"vega-embed\", \"6\"))\n",
              "        .catch(showError)\n",
              "        .then(() => displayChart(vegaEmbed));\n",
              "    }\n",
              "  })({\"config\": {\"view\": {\"continuousWidth\": 400, \"continuousHeight\": 300}}, \"hconcat\": [{\"data\": {\"name\": \"data-e8dd1c69804a970ad60b8acad53f6704\"}, \"mark\": \"bar\", \"encoding\": {\"x\": {\"field\": \"Person\", \"type\": \"nominal\"}, \"y\": {\"field\": \"Frequency\", \"type\": \"quantitative\"}}, \"height\": 350, \"title\": \"Fox\", \"width\": 350}, {\"data\": {\"name\": \"data-0b6f32f09e5d945dfed72fe4faeb3cf1\"}, \"mark\": \"bar\", \"encoding\": {\"x\": {\"field\": \"Person\", \"type\": \"nominal\"}, \"y\": {\"field\": \"Frequency\", \"type\": \"quantitative\"}}, \"height\": 350, \"title\": \"CNN\", \"width\": 350}, {\"data\": {\"name\": \"data-50153e01ed0e36e5d72763e5e7cf3780\"}, \"mark\": \"bar\", \"encoding\": {\"x\": {\"field\": \"Person\", \"type\": \"nominal\"}, \"y\": {\"field\": \"Frequency\", \"type\": \"quantitative\"}}, \"height\": 350, \"title\": \"Aljazeera\", \"width\": 350}], \"$schema\": \"https://vega.github.io/schema/vega-lite/v4.17.0.json\", \"datasets\": {\"data-e8dd1c69804a970ad60b8acad53f6704\": [{\"Person\": \"Putin\", \"Frequency\": 260}, {\"Person\": \"Biden\", \"Frequency\": 219}, {\"Person\": \"Zelenskyy\", \"Frequency\": 168}, {\"Person\": \"Vladimir Putin\", \"Frequency\": 127}, {\"Person\": \"Volodymyr Zelenskyy\", \"Frequency\": 120}, {\"Person\": \"Mariupol\", \"Frequency\": 36}, {\"Person\": \"Kirby\", \"Frequency\": 32}, {\"Person\": \"Joe Biden\", \"Frequency\": 23}, {\"Person\": \"John Kirby\", \"Frequency\": 21}, {\"Person\": \"Dmytro Kuleba\", \"Frequency\": 18}, {\"Person\": \"Lviv\", \"Frequency\": 18}, {\"Person\": \"Viadimir Putin\", \"Frequency\": 18}, {\"Person\": \"Xi Jinping\", \"Frequency\": 15}, {\"Person\": \"Boris Johnson\", \"Frequency\": 15}, {\"Person\": \"Brie Stimson\", \"Frequency\": 14}, {\"Person\": \"Greg Norman\", \"Frequency\": 14}, {\"Person\": \"Antony Blinken\", \"Frequency\": 13}, {\"Person\": \"Lawrence Richard\", \"Frequency\": 13}, {\"Person\": \"Jens Stoltenberg\", \"Frequency\": 13}, {\"Person\": \"Blinken\", \"Frequency\": 12}], \"data-0b6f32f09e5d945dfed72fe4faeb3cf1\": [{\"Person\": \"Zelensky\", \"Frequency\": 227}, {\"Person\": \"Putin\", \"Frequency\": 225}, {\"Person\": \"Biden\", \"Frequency\": 207}, {\"Person\": \"Joe Biden\", \"Frequency\": 146}, {\"Person\": \"Volodymyr Zelensky\", \"Frequency\": 139}, {\"Person\": \"Vladimir Putin\", \"Frequency\": 112}, {\"Person\": \"Mariupol\", \"Frequency\": 69}, {\"Person\": \"Kharkiv\", \"Frequency\": 48}, {\"Person\": \"Sullivan\", \"Frequency\": 36}, {\"Person\": \"Lviv\", \"Frequency\": 33}, {\"Person\": \"Kirby\", \"Frequency\": 27}, {\"Person\": \"Luhansk\", \"Frequency\": 23}, {\"Person\": \"Emmanuel Macron\", \"Frequency\": 23}, {\"Person\": \"Brent Renaud\", \"Frequency\": 23}, {\"Person\": \"Antony Blinken\", \"Frequency\": 19}, {\"Person\": \"Peskov\", \"Frequency\": 18}, {\"Person\": \"Jake Sullivan\", \"Frequency\": 18}, {\"Person\": \"Johnson\", \"Frequency\": 18}, {\"Person\": \"Jen Psaki\", \"Frequency\": 15}, {\"Person\": \"Dana Bash\", \"Frequency\": 14}], \"data-50153e01ed0e36e5d72763e5e7cf3780\": [{\"Person\": \"Putin\", \"Frequency\": 271}, {\"Person\": \"Zelenskyy\", \"Frequency\": 229}, {\"Person\": \"Biden\", \"Frequency\": 100}, {\"Person\": \"Mariupol\", \"Frequency\": 80}, {\"Person\": \"Vladimir Putin\", \"Frequency\": 75}, {\"Person\": \"Kharkiv\", \"Frequency\": 69}, {\"Person\": \"Volodymyr Zelenskyy\", \"Frequency\": 63}, {\"Person\": \"Joe Biden\", \"Frequency\": 50}, {\"Person\": \"Iryna Vereshchuk\", \"Frequency\": 32}, {\"Person\": \"Kyiv\", \"Frequency\": 26}, {\"Person\": \"Dmitry Peskov\", \"Frequency\": 25}, {\"Person\": \"Peskov\", \"Frequency\": 23}, {\"Person\": \"Blinken\", \"Frequency\": 23}, {\"Person\": \"Dmytro Kuleba\", \"Frequency\": 22}, {\"Person\": \"Lviv\", \"Frequency\": 20}, {\"Person\": \"Abramovich\", \"Frequency\": 20}, {\"Person\": \"Lavrov\", \"Frequency\": 20}, {\"Person\": \"Erdogan\", \"Frequency\": 19}, {\"Person\": \"Johnson\", \"Frequency\": 19}, {\"Person\": \"Sergey Lavrov\", \"Frequency\": 18}]}}, {\"mode\": \"vega-lite\"});\n",
              "</script>"
            ],
            "text/plain": [
              "alt.HConcatChart(...)"
            ]
          },
          "metadata": {},
          "execution_count": 50
        }
      ]
    },
    {
      "cell_type": "markdown",
      "source": [
        "### Distribution of \"NORP\" Entity from each news source "
      ],
      "metadata": {
        "id": "-aupVDI1tHJ3"
      }
    },
    {
      "cell_type": "code",
      "source": [
        "#Bar plots\n",
        "hist1=alt.Chart(norp_fox20).mark_bar().encode(\n",
        "    x='Nationality',\n",
        "    y='Frequency'\n",
        ").properties(\n",
        "    width=350,\n",
        "    height=350,\n",
        "    title='Fox'\n",
        ")\n",
        "\n",
        "hist2=alt.Chart(norp_cnn20).mark_bar().encode(\n",
        "    x='Nationality',\n",
        "    y='Frequency'\n",
        ").properties(\n",
        "    width=350,\n",
        "    height=350,\n",
        "    title='CNN'\n",
        ")\n",
        "\n",
        "hist3=alt.Chart(norp_alja20).mark_bar().encode(\n",
        "    x='Nationality',\n",
        "    y='Frequency'\n",
        ").properties(\n",
        "    width=350,\n",
        "    height=350,\n",
        "    title='Aljazeera'\n",
        ")\n",
        "\n",
        "hist1 | hist2 | hist3"
      ],
      "metadata": {
        "colab": {
          "base_uri": "https://localhost:8080/",
          "height": 485
        },
        "id": "aNGHQpKZtEko",
        "outputId": "5d8055e8-3479-4366-fcaa-11b3c859ef3d"
      },
      "execution_count": 51,
      "outputs": [
        {
          "output_type": "execute_result",
          "data": {
            "text/html": [
              "\n",
              "<div id=\"altair-viz-cf480a5a28e4493da046deaf767fb1a1\"></div>\n",
              "<script type=\"text/javascript\">\n",
              "  var VEGA_DEBUG = (typeof VEGA_DEBUG == \"undefined\") ? {} : VEGA_DEBUG;\n",
              "  (function(spec, embedOpt){\n",
              "    let outputDiv = document.currentScript.previousElementSibling;\n",
              "    if (outputDiv.id !== \"altair-viz-cf480a5a28e4493da046deaf767fb1a1\") {\n",
              "      outputDiv = document.getElementById(\"altair-viz-cf480a5a28e4493da046deaf767fb1a1\");\n",
              "    }\n",
              "    const paths = {\n",
              "      \"vega\": \"https://cdn.jsdelivr.net/npm//vega@5?noext\",\n",
              "      \"vega-lib\": \"https://cdn.jsdelivr.net/npm//vega-lib?noext\",\n",
              "      \"vega-lite\": \"https://cdn.jsdelivr.net/npm//vega-lite@4.17.0?noext\",\n",
              "      \"vega-embed\": \"https://cdn.jsdelivr.net/npm//vega-embed@6?noext\",\n",
              "    };\n",
              "\n",
              "    function maybeLoadScript(lib, version) {\n",
              "      var key = `${lib.replace(\"-\", \"\")}_version`;\n",
              "      return (VEGA_DEBUG[key] == version) ?\n",
              "        Promise.resolve(paths[lib]) :\n",
              "        new Promise(function(resolve, reject) {\n",
              "          var s = document.createElement('script');\n",
              "          document.getElementsByTagName(\"head\")[0].appendChild(s);\n",
              "          s.async = true;\n",
              "          s.onload = () => {\n",
              "            VEGA_DEBUG[key] = version;\n",
              "            return resolve(paths[lib]);\n",
              "          };\n",
              "          s.onerror = () => reject(`Error loading script: ${paths[lib]}`);\n",
              "          s.src = paths[lib];\n",
              "        });\n",
              "    }\n",
              "\n",
              "    function showError(err) {\n",
              "      outputDiv.innerHTML = `<div class=\"error\" style=\"color:red;\">${err}</div>`;\n",
              "      throw err;\n",
              "    }\n",
              "\n",
              "    function displayChart(vegaEmbed) {\n",
              "      vegaEmbed(outputDiv, spec, embedOpt)\n",
              "        .catch(err => showError(`Javascript Error: ${err.message}<br>This usually means there's a typo in your chart specification. See the javascript console for the full traceback.`));\n",
              "    }\n",
              "\n",
              "    if(typeof define === \"function\" && define.amd) {\n",
              "      requirejs.config({paths});\n",
              "      require([\"vega-embed\"], displayChart, err => showError(`Error loading script: ${err.message}`));\n",
              "    } else {\n",
              "      maybeLoadScript(\"vega\", \"5\")\n",
              "        .then(() => maybeLoadScript(\"vega-lite\", \"4.17.0\"))\n",
              "        .then(() => maybeLoadScript(\"vega-embed\", \"6\"))\n",
              "        .catch(showError)\n",
              "        .then(() => displayChart(vegaEmbed));\n",
              "    }\n",
              "  })({\"config\": {\"view\": {\"continuousWidth\": 400, \"continuousHeight\": 300}}, \"hconcat\": [{\"data\": {\"name\": \"data-f708bb2e3da0b8603faff03787134a25\"}, \"mark\": \"bar\", \"encoding\": {\"x\": {\"field\": \"Nationality\", \"type\": \"nominal\"}, \"y\": {\"field\": \"Frequency\", \"type\": \"quantitative\"}}, \"height\": 350, \"title\": \"Fox\", \"width\": 350}, {\"data\": {\"name\": \"data-b32927d429cc76b39c5f881a0d49531d\"}, \"mark\": \"bar\", \"encoding\": {\"x\": {\"field\": \"Nationality\", \"type\": \"nominal\"}, \"y\": {\"field\": \"Frequency\", \"type\": \"quantitative\"}}, \"height\": 350, \"title\": \"CNN\", \"width\": 350}, {\"data\": {\"name\": \"data-c0c10b5c4b977402e8cf24ed55d1c133\"}, \"mark\": \"bar\", \"encoding\": {\"x\": {\"field\": \"Nationality\", \"type\": \"nominal\"}, \"y\": {\"field\": \"Frequency\", \"type\": \"quantitative\"}}, \"height\": 350, \"title\": \"Aljazeera\", \"width\": 350}], \"$schema\": \"https://vega.github.io/schema/vega-lite/v4.17.0.json\", \"datasets\": {\"data-f708bb2e3da0b8603faff03787134a25\": [{\"Nationality\": \"Russian\", \"Frequency\": 1003}, {\"Nationality\": \"Ukrainian\", \"Frequency\": 482}, {\"Nationality\": \"Russians\", \"Frequency\": 81}, {\"Nationality\": \"Ukrainians\", \"Frequency\": 78}, {\"Nationality\": \"American\", \"Frequency\": 53}, {\"Nationality\": \"Chinese\", \"Frequency\": 31}, {\"Nationality\": \"Polish\", \"Frequency\": 26}, {\"Nationality\": \"European\", \"Frequency\": 19}, {\"Nationality\": \"British\", \"Frequency\": 14}, {\"Nationality\": \"Biden\", \"Frequency\": 12}, {\"Nationality\": \"Turkish\", \"Frequency\": 11}, {\"Nationality\": \"Republican\", \"Frequency\": 10}, {\"Nationality\": \"German\", \"Frequency\": 10}, {\"Nationality\": \"Instagram\", \"Frequency\": 9}, {\"Nationality\": \"Israeli\", \"Frequency\": 9}, {\"Nationality\": \"Democrats\", \"Frequency\": 8}, {\"Nationality\": \"Soviet\", \"Frequency\": 8}, {\"Nationality\": \"French\", \"Frequency\": 7}, {\"Nationality\": \"Belarusian\", \"Frequency\": 6}, {\"Nationality\": \"Japanese\", \"Frequency\": 6}], \"data-b32927d429cc76b39c5f881a0d49531d\": [{\"Nationality\": \"Russian\", \"Frequency\": 1425}, {\"Nationality\": \"Ukrainian\", \"Frequency\": 765}, {\"Nationality\": \"Ukrainians\", \"Frequency\": 153}, {\"Nationality\": \"Russians\", \"Frequency\": 114}, {\"Nationality\": \"European\", \"Frequency\": 74}, {\"Nationality\": \"American\", \"Frequency\": 73}, {\"Nationality\": \"French\", \"Frequency\": 68}, {\"Nationality\": \"Chinese\", \"Frequency\": 44}, {\"Nationality\": \"Polish\", \"Frequency\": 33}, {\"Nationality\": \"German\", \"Frequency\": 31}, {\"Nationality\": \"Western\", \"Frequency\": 29}, {\"Nationality\": \"Turkish\", \"Frequency\": 28}, {\"Nationality\": \"Belarusian\", \"Frequency\": 19}, {\"Nationality\": \"Biden\", \"Frequency\": 18}, {\"Nationality\": \"British\", \"Frequency\": 15}, {\"Nationality\": \"Soviet\", \"Frequency\": 13}, {\"Nationality\": \"Republican\", \"Frequency\": 11}, {\"Nationality\": \"Israeli\", \"Frequency\": 10}, {\"Nationality\": \"Zaporizhzhia\", \"Frequency\": 8}, {\"Nationality\": \"Democrats\", \"Frequency\": 8}], \"data-c0c10b5c4b977402e8cf24ed55d1c133\": [{\"Nationality\": \"Russian\", \"Frequency\": 1447}, {\"Nationality\": \"Ukrainian\", \"Frequency\": 664}, {\"Nationality\": \"Ukrainians\", \"Frequency\": 89}, {\"Nationality\": \"Russians\", \"Frequency\": 69}, {\"Nationality\": \"Polish\", \"Frequency\": 55}, {\"Nationality\": \"French\", \"Frequency\": 53}, {\"Nationality\": \"European\", \"Frequency\": 52}, {\"Nationality\": \"British\", \"Frequency\": 45}, {\"Nationality\": \"Western\", \"Frequency\": 45}, {\"Nationality\": \"Turkish\", \"Frequency\": 39}, {\"Nationality\": \"German\", \"Frequency\": 34}, {\"Nationality\": \"Chinese\", \"Frequency\": 33}, {\"Nationality\": \"Sumy\", \"Frequency\": 23}, {\"Nationality\": \"Belarusian\", \"Frequency\": 18}, {\"Nationality\": \"Italian\", \"Frequency\": 18}, {\"Nationality\": \"Israeli\", \"Frequency\": 18}, {\"Nationality\": \"Japanese\", \"Frequency\": 16}, {\"Nationality\": \"American\", \"Frequency\": 15}, {\"Nationality\": \"Zaporizhzhia\", \"Frequency\": 14}, {\"Nationality\": \"Interfax\", \"Frequency\": 14}]}}, {\"mode\": \"vega-lite\"});\n",
              "</script>"
            ],
            "text/plain": [
              "alt.HConcatChart(...)"
            ]
          },
          "metadata": {},
          "execution_count": 51
        }
      ]
    },
    {
      "cell_type": "markdown",
      "source": [
        "### Distribution of \"ORG\" Entity from each news source "
      ],
      "metadata": {
        "id": "Dz8PzR5ftY5V"
      }
    },
    {
      "cell_type": "code",
      "source": [
        "#Bar plots\n",
        "hist1=alt.Chart(org_fox20).mark_bar().encode(\n",
        "    x='Organization',\n",
        "    y='Frequency'\n",
        ").properties(\n",
        "    width=350,\n",
        "    height=350,\n",
        "    title='Fox'\n",
        ")\n",
        "\n",
        "hist2=alt.Chart(org_cnn20).mark_bar().encode(\n",
        "    x='Organization',\n",
        "    y='Frequency'\n",
        ").properties(\n",
        "    width=350,\n",
        "    height=350,\n",
        "    title='CNN'\n",
        ")\n",
        "\n",
        "hist3=alt.Chart(org_alja20).mark_bar().encode(\n",
        "    x='Organization',\n",
        "    y='Frequency'\n",
        ").properties(\n",
        "    width=350,\n",
        "    height=350,\n",
        "    title='Aljazeera'\n",
        ")\n",
        "\n",
        "hist1 | hist2 | hist3"
      ],
      "metadata": {
        "colab": {
          "base_uri": "https://localhost:8080/",
          "height": 525
        },
        "id": "kLrIZ0jMtdkX",
        "outputId": "06b68e44-778e-423a-e888-d1aa9611d0ea"
      },
      "execution_count": 52,
      "outputs": [
        {
          "output_type": "execute_result",
          "data": {
            "text/html": [
              "\n",
              "<div id=\"altair-viz-5ffe2063ad7642dbbf1abde012b0666d\"></div>\n",
              "<script type=\"text/javascript\">\n",
              "  var VEGA_DEBUG = (typeof VEGA_DEBUG == \"undefined\") ? {} : VEGA_DEBUG;\n",
              "  (function(spec, embedOpt){\n",
              "    let outputDiv = document.currentScript.previousElementSibling;\n",
              "    if (outputDiv.id !== \"altair-viz-5ffe2063ad7642dbbf1abde012b0666d\") {\n",
              "      outputDiv = document.getElementById(\"altair-viz-5ffe2063ad7642dbbf1abde012b0666d\");\n",
              "    }\n",
              "    const paths = {\n",
              "      \"vega\": \"https://cdn.jsdelivr.net/npm//vega@5?noext\",\n",
              "      \"vega-lib\": \"https://cdn.jsdelivr.net/npm//vega-lib?noext\",\n",
              "      \"vega-lite\": \"https://cdn.jsdelivr.net/npm//vega-lite@4.17.0?noext\",\n",
              "      \"vega-embed\": \"https://cdn.jsdelivr.net/npm//vega-embed@6?noext\",\n",
              "    };\n",
              "\n",
              "    function maybeLoadScript(lib, version) {\n",
              "      var key = `${lib.replace(\"-\", \"\")}_version`;\n",
              "      return (VEGA_DEBUG[key] == version) ?\n",
              "        Promise.resolve(paths[lib]) :\n",
              "        new Promise(function(resolve, reject) {\n",
              "          var s = document.createElement('script');\n",
              "          document.getElementsByTagName(\"head\")[0].appendChild(s);\n",
              "          s.async = true;\n",
              "          s.onload = () => {\n",
              "            VEGA_DEBUG[key] = version;\n",
              "            return resolve(paths[lib]);\n",
              "          };\n",
              "          s.onerror = () => reject(`Error loading script: ${paths[lib]}`);\n",
              "          s.src = paths[lib];\n",
              "        });\n",
              "    }\n",
              "\n",
              "    function showError(err) {\n",
              "      outputDiv.innerHTML = `<div class=\"error\" style=\"color:red;\">${err}</div>`;\n",
              "      throw err;\n",
              "    }\n",
              "\n",
              "    function displayChart(vegaEmbed) {\n",
              "      vegaEmbed(outputDiv, spec, embedOpt)\n",
              "        .catch(err => showError(`Javascript Error: ${err.message}<br>This usually means there's a typo in your chart specification. See the javascript console for the full traceback.`));\n",
              "    }\n",
              "\n",
              "    if(typeof define === \"function\" && define.amd) {\n",
              "      requirejs.config({paths});\n",
              "      require([\"vega-embed\"], displayChart, err => showError(`Error loading script: ${err.message}`));\n",
              "    } else {\n",
              "      maybeLoadScript(\"vega\", \"5\")\n",
              "        .then(() => maybeLoadScript(\"vega-lite\", \"4.17.0\"))\n",
              "        .then(() => maybeLoadScript(\"vega-embed\", \"6\"))\n",
              "        .catch(showError)\n",
              "        .then(() => displayChart(vegaEmbed));\n",
              "    }\n",
              "  })({\"config\": {\"view\": {\"continuousWidth\": 400, \"continuousHeight\": 300}}, \"hconcat\": [{\"data\": {\"name\": \"data-a86d44b9c0f81536dd866603930e0790\"}, \"mark\": \"bar\", \"encoding\": {\"x\": {\"field\": \"Organization\", \"type\": \"nominal\"}, \"y\": {\"field\": \"Frequency\", \"type\": \"quantitative\"}}, \"height\": 350, \"title\": \"Fox\", \"width\": 350}, {\"data\": {\"name\": \"data-8d35b91c2caaec56e2fd30f0109c8b04\"}, \"mark\": \"bar\", \"encoding\": {\"x\": {\"field\": \"Organization\", \"type\": \"nominal\"}, \"y\": {\"field\": \"Frequency\", \"type\": \"quantitative\"}}, \"height\": 350, \"title\": \"CNN\", \"width\": 350}, {\"data\": {\"name\": \"data-d011d0d56cd81c01ac9343fa57d1952a\"}, \"mark\": \"bar\", \"encoding\": {\"x\": {\"field\": \"Organization\", \"type\": \"nominal\"}, \"y\": {\"field\": \"Frequency\", \"type\": \"quantitative\"}}, \"height\": 350, \"title\": \"Aljazeera\", \"width\": 350}], \"$schema\": \"https://vega.github.io/schema/vega-lite/v4.17.0.json\", \"datasets\": {\"data-a86d44b9c0f81536dd866603930e0790\": [{\"Organization\": \"NATO\", \"Frequency\": 241}, {\"Organization\": \"Fox News\", \"Frequency\": 123}, {\"Organization\": \"The Associated Press\", \"Frequency\": 62}, {\"Organization\": \"AP\", \"Frequency\": 55}, {\"Organization\": \"Kremlin\", \"Frequency\": 44}, {\"Organization\": \"Pentagon\", \"Frequency\": 40}, {\"Organization\": \"Reuters\", \"Frequency\": 37}, {\"Organization\": \"Fox News Digital\", \"Frequency\": 36}, {\"Organization\": \"White House\", \"Frequency\": 35}, {\"Organization\": \"Congress\", \"Frequency\": 35}, {\"Organization\": \"the Associated Press\", \"Frequency\": 31}, {\"Organization\": \"the White House\", \"Frequency\": 29}, {\"Organization\": \"UN\", \"Frequency\": 23}, {\"Organization\": \"State\", \"Frequency\": 21}, {\"Organization\": \"EU\", \"Frequency\": 21}, {\"Organization\": \"The White House\", \"Frequency\": 18}, {\"Organization\": \"Kyiv\", \"Frequency\": 17}, {\"Organization\": \"Defense\", \"Frequency\": 13}, {\"Organization\": \"Satellite\", \"Frequency\": 12}, {\"Organization\": \"Maxar Technologies\", \"Frequency\": 12}], \"data-8d35b91c2caaec56e2fd30f0109c8b04\": [{\"Organization\": \"CNN\", \"Frequency\": 464}, {\"Organization\": \"NATO\", \"Frequency\": 320}, {\"Organization\": \"UN\", \"Frequency\": 68}, {\"Organization\": \"White House\", \"Frequency\": 54}, {\"Organization\": \"IAEA\", \"Frequency\": 50}, {\"Organization\": \"Kremlin\", \"Frequency\": 44}, {\"Organization\": \"EU\", \"Frequency\": 43}, {\"Organization\": \"Maxar Technologies\", \"Frequency\": 42}, {\"Organization\": \"Pentagon\", \"Frequency\": 39}, {\"Organization\": \"the White House\", \"Frequency\": 39}, {\"Organization\": \"Congress\", \"Frequency\": 38}, {\"Organization\": \"Telegram\", \"Frequency\": 35}, {\"Organization\": \"State\", \"Frequency\": 32}, {\"Organization\": \"Kyiv\", \"Frequency\": 27}, {\"Organization\": \"Renault\", \"Frequency\": 25}, {\"Organization\": \"Melitopol\", \"Frequency\": 20}, {\"Organization\": \"Senate\", \"Frequency\": 19}, {\"Organization\": \"Defense\", \"Frequency\": 19}, {\"Organization\": \"the European Union\", \"Frequency\": 18}, {\"Organization\": \"Facebook\", \"Frequency\": 18}], \"data-d011d0d56cd81c01ac9343fa57d1952a\": [{\"Organization\": \"NATO\", \"Frequency\": 237}, {\"Organization\": \"EU\", \"Frequency\": 156}, {\"Organization\": \"Kremlin\", \"Frequency\": 143}, {\"Organization\": \"UN\", \"Frequency\": 140}, {\"Organization\": \"Al Jazeera\", \"Frequency\": 111}, {\"Organization\": \"Reuters\", \"Frequency\": 71}, {\"Organization\": \"Kyiv\", \"Frequency\": 56}, {\"Organization\": \"Telegram\", \"Frequency\": 47}, {\"Organization\": \"IAEA\", \"Frequency\": 45}, {\"Organization\": \"RUSSIA\", \"Frequency\": 39}, {\"Organization\": \"Pentagon\", \"Frequency\": 34}, {\"Organization\": \"White House\", \"Frequency\": 30}, {\"Organization\": \"Facebook\", \"Frequency\": 25}, {\"Organization\": \"GMT\", \"Frequency\": 25}, {\"Organization\": \"the White House\", \"Frequency\": 22}, {\"Organization\": \"European Union\", \"Frequency\": 22}, {\"Organization\": \"Biden\", \"Frequency\": 22}, {\"Organization\": \"ICRC\", \"Frequency\": 21}, {\"Organization\": \"State\", \"Frequency\": 20}, {\"Organization\": \"Mykhailo Podolyak\", \"Frequency\": 15}]}}, {\"mode\": \"vega-lite\"});\n",
              "</script>"
            ],
            "text/plain": [
              "alt.HConcatChart(...)"
            ]
          },
          "metadata": {},
          "execution_count": 52
        }
      ]
    },
    {
      "cell_type": "markdown",
      "source": [
        "### Distribution of \"GPE\" Entity from each news source "
      ],
      "metadata": {
        "id": "ppKZxNi4t2Wo"
      }
    },
    {
      "cell_type": "code",
      "source": [
        "#Bar plots\n",
        "hist1=alt.Chart(gpe_fox20).mark_bar().encode(\n",
        "    x='Geo-political',\n",
        "    y='Frequency'\n",
        ").properties(\n",
        "    width=350,\n",
        "    height=350,\n",
        "    title='Fox'\n",
        ")\n",
        "\n",
        "hist2=alt.Chart(gpe_cnn20).mark_bar().encode(\n",
        "    x='Geo-political',\n",
        "    y='Frequency'\n",
        ").properties(\n",
        "    width=350,\n",
        "    height=350,\n",
        "    title='CNN'\n",
        ")\n",
        "\n",
        "hist3=alt.Chart(gpe_alja20).mark_bar().encode(\n",
        "    x='Geo-political',\n",
        "    y='Frequency'\n",
        ").properties(\n",
        "    width=350,\n",
        "    height=350,\n",
        "    title='Aljazeera'\n",
        ")\n",
        "\n",
        "hist1 | hist2 | hist3"
      ],
      "metadata": {
        "colab": {
          "base_uri": "https://localhost:8080/",
          "height": 504
        },
        "id": "LnokTrh1t60d",
        "outputId": "986b3096-3ef6-44bf-8b6a-47efd405e1fb"
      },
      "execution_count": 53,
      "outputs": [
        {
          "output_type": "execute_result",
          "data": {
            "text/html": [
              "\n",
              "<div id=\"altair-viz-8144853e562b406da789eec36c718e5a\"></div>\n",
              "<script type=\"text/javascript\">\n",
              "  var VEGA_DEBUG = (typeof VEGA_DEBUG == \"undefined\") ? {} : VEGA_DEBUG;\n",
              "  (function(spec, embedOpt){\n",
              "    let outputDiv = document.currentScript.previousElementSibling;\n",
              "    if (outputDiv.id !== \"altair-viz-8144853e562b406da789eec36c718e5a\") {\n",
              "      outputDiv = document.getElementById(\"altair-viz-8144853e562b406da789eec36c718e5a\");\n",
              "    }\n",
              "    const paths = {\n",
              "      \"vega\": \"https://cdn.jsdelivr.net/npm//vega@5?noext\",\n",
              "      \"vega-lib\": \"https://cdn.jsdelivr.net/npm//vega-lib?noext\",\n",
              "      \"vega-lite\": \"https://cdn.jsdelivr.net/npm//vega-lite@4.17.0?noext\",\n",
              "      \"vega-embed\": \"https://cdn.jsdelivr.net/npm//vega-embed@6?noext\",\n",
              "    };\n",
              "\n",
              "    function maybeLoadScript(lib, version) {\n",
              "      var key = `${lib.replace(\"-\", \"\")}_version`;\n",
              "      return (VEGA_DEBUG[key] == version) ?\n",
              "        Promise.resolve(paths[lib]) :\n",
              "        new Promise(function(resolve, reject) {\n",
              "          var s = document.createElement('script');\n",
              "          document.getElementsByTagName(\"head\")[0].appendChild(s);\n",
              "          s.async = true;\n",
              "          s.onload = () => {\n",
              "            VEGA_DEBUG[key] = version;\n",
              "            return resolve(paths[lib]);\n",
              "          };\n",
              "          s.onerror = () => reject(`Error loading script: ${paths[lib]}`);\n",
              "          s.src = paths[lib];\n",
              "        });\n",
              "    }\n",
              "\n",
              "    function showError(err) {\n",
              "      outputDiv.innerHTML = `<div class=\"error\" style=\"color:red;\">${err}</div>`;\n",
              "      throw err;\n",
              "    }\n",
              "\n",
              "    function displayChart(vegaEmbed) {\n",
              "      vegaEmbed(outputDiv, spec, embedOpt)\n",
              "        .catch(err => showError(`Javascript Error: ${err.message}<br>This usually means there's a typo in your chart specification. See the javascript console for the full traceback.`));\n",
              "    }\n",
              "\n",
              "    if(typeof define === \"function\" && define.amd) {\n",
              "      requirejs.config({paths});\n",
              "      require([\"vega-embed\"], displayChart, err => showError(`Error loading script: ${err.message}`));\n",
              "    } else {\n",
              "      maybeLoadScript(\"vega\", \"5\")\n",
              "        .then(() => maybeLoadScript(\"vega-lite\", \"4.17.0\"))\n",
              "        .then(() => maybeLoadScript(\"vega-embed\", \"6\"))\n",
              "        .catch(showError)\n",
              "        .then(() => displayChart(vegaEmbed));\n",
              "    }\n",
              "  })({\"config\": {\"view\": {\"continuousWidth\": 400, \"continuousHeight\": 300}}, \"hconcat\": [{\"data\": {\"name\": \"data-b0e93285d0930a13a94a9b5b12d7d157\"}, \"mark\": \"bar\", \"encoding\": {\"x\": {\"field\": \"Geo-political\", \"type\": \"nominal\"}, \"y\": {\"field\": \"Frequency\", \"type\": \"quantitative\"}}, \"height\": 350, \"title\": \"Fox\", \"width\": 350}, {\"data\": {\"name\": \"data-33c4d7af7463f13ce0840ad809c599b2\"}, \"mark\": \"bar\", \"encoding\": {\"x\": {\"field\": \"Geo-political\", \"type\": \"nominal\"}, \"y\": {\"field\": \"Frequency\", \"type\": \"quantitative\"}}, \"height\": 350, \"title\": \"CNN\", \"width\": 350}, {\"data\": {\"name\": \"data-304293c6971235f384d17311d1eeaa7a\"}, \"mark\": \"bar\", \"encoding\": {\"x\": {\"field\": \"Geo-political\", \"type\": \"nominal\"}, \"y\": {\"field\": \"Frequency\", \"type\": \"quantitative\"}}, \"height\": 350, \"title\": \"Aljazeera\", \"width\": 350}], \"$schema\": \"https://vega.github.io/schema/vega-lite/v4.17.0.json\", \"datasets\": {\"data-b0e93285d0930a13a94a9b5b12d7d157\": [{\"Geo-political\": \"Ukraine\", \"Frequency\": 1385}, {\"Geo-political\": \"Russia\", \"Frequency\": 942}, {\"Geo-political\": \"U.S.\", \"Frequency\": 205}, {\"Geo-political\": \"Poland\", \"Frequency\": 117}, {\"Geo-political\": \"Mariupol\", \"Frequency\": 112}, {\"Geo-political\": \"US\", \"Frequency\": 104}, {\"Geo-political\": \"China\", \"Frequency\": 94}, {\"Geo-political\": \"Moscow\", \"Frequency\": 85}, {\"Geo-political\": \"Kyiv\", \"Frequency\": 68}, {\"Geo-political\": \"Ukrainian\", \"Frequency\": 57}, {\"Geo-political\": \"the United States\", \"Frequency\": 49}, {\"Geo-political\": \"Turkey\", \"Frequency\": 35}, {\"Geo-political\": \"Brussels\", \"Frequency\": 33}, {\"Geo-political\": \"Biden\", \"Frequency\": 28}, {\"Geo-political\": \"Germany\", \"Frequency\": 25}, {\"Geo-political\": \"Belarus\", \"Frequency\": 22}, {\"Geo-political\": \"Warsaw\", \"Frequency\": 20}, {\"Geo-political\": \"UK\", \"Frequency\": 20}, {\"Geo-political\": \"Chernobyl\", \"Frequency\": 18}, {\"Geo-political\": \"Donetsk\", \"Frequency\": 16}], \"data-33c4d7af7463f13ce0840ad809c599b2\": [{\"Geo-political\": \"Ukraine\", \"Frequency\": 1736}, {\"Geo-political\": \"Russia\", \"Frequency\": 1138}, {\"Geo-political\": \"US\", \"Frequency\": 692}, {\"Geo-political\": \"Mariupol\", \"Frequency\": 172}, {\"Geo-political\": \"Poland\", \"Frequency\": 140}, {\"Geo-political\": \"China\", \"Frequency\": 133}, {\"Geo-political\": \"Moscow\", \"Frequency\": 102}, {\"Geo-political\": \"Ukrainian\", \"Frequency\": 92}, {\"Geo-political\": \"Kyiv\", \"Frequency\": 90}, {\"Geo-political\": \"UK\", \"Frequency\": 71}, {\"Geo-political\": \"Germany\", \"Frequency\": 58}, {\"Geo-political\": \"Brussels\", \"Frequency\": 56}, {\"Geo-political\": \"the United States\", \"Frequency\": 54}, {\"Geo-political\": \"Warsaw\", \"Frequency\": 44}, {\"Geo-political\": \"France\", \"Frequency\": 40}, {\"Geo-political\": \"Macron\", \"Frequency\": 37}, {\"Geo-political\": \"Lviv\", \"Frequency\": 35}, {\"Geo-political\": \"Chernobyl\", \"Frequency\": 35}, {\"Geo-political\": \"Turkey\", \"Frequency\": 33}, {\"Geo-political\": \"Donbas\", \"Frequency\": 33}], \"data-304293c6971235f384d17311d1eeaa7a\": [{\"Geo-political\": \"Ukraine\", \"Frequency\": 2350}, {\"Geo-political\": \"Russia\", \"Frequency\": 1792}, {\"Geo-political\": \"US\", \"Frequency\": 413}, {\"Geo-political\": \"Moscow\", \"Frequency\": 374}, {\"Geo-political\": \"Mariupol\", \"Frequency\": 234}, {\"Geo-political\": \"China\", \"Frequency\": 172}, {\"Geo-political\": \"UK\", \"Frequency\": 145}, {\"Geo-political\": \"Poland\", \"Frequency\": 121}, {\"Geo-political\": \"Kyiv\", \"Frequency\": 105}, {\"Geo-political\": \"Ukrainian\", \"Frequency\": 88}, {\"Geo-political\": \"Germany\", \"Frequency\": 72}, {\"Geo-political\": \"Turkey\", \"Frequency\": 70}, {\"Geo-political\": \"France\", \"Frequency\": 59}, {\"Geo-political\": \"Japan\", \"Frequency\": 59}, {\"Geo-political\": \"Chernobyl\", \"Frequency\": 57}, {\"Geo-political\": \"Brussels\", \"Frequency\": 51}, {\"Geo-political\": \"Belarus\", \"Frequency\": 51}, {\"Geo-political\": \"Donetsk\", \"Frequency\": 38}, {\"Geo-political\": \"the United States\", \"Frequency\": 37}, {\"Geo-political\": \"Beijing\", \"Frequency\": 36}]}}, {\"mode\": \"vega-lite\"});\n",
              "</script>"
            ],
            "text/plain": [
              "alt.HConcatChart(...)"
            ]
          },
          "metadata": {},
          "execution_count": 53
        }
      ]
    },
    {
      "cell_type": "markdown",
      "source": [
        "### Distribution of \"LOC\" Entity from each news source "
      ],
      "metadata": {
        "id": "NME4Yd4st5PJ"
      }
    },
    {
      "cell_type": "code",
      "source": [
        "#Bar plots\n",
        "hist1=alt.Chart(loc_fox20).mark_bar().encode(\n",
        "    x='Location',\n",
        "    y='Frequency'\n",
        ").properties(\n",
        "    width=350,\n",
        "    height=350,\n",
        "    title='Fox'\n",
        ")\n",
        "\n",
        "hist2=alt.Chart(loc_cnn20).mark_bar().encode(\n",
        "    x='Location',\n",
        "    y='Frequency'\n",
        ").properties(\n",
        "    width=350,\n",
        "    height=350,\n",
        "    title='CNN'\n",
        ")\n",
        "\n",
        "hist3=alt.Chart(loc_alja20).mark_bar().encode(\n",
        "    x='Location',\n",
        "    y='Frequency'\n",
        ").properties(\n",
        "    width=350,\n",
        "    height=350,\n",
        "    title='Aljazeera'\n",
        ")\n",
        "\n",
        "hist1 | hist2 | hist3"
      ],
      "metadata": {
        "colab": {
          "base_uri": "https://localhost:8080/",
          "height": 533
        },
        "id": "zSyWkgJJt7Lg",
        "outputId": "2503a140-294e-4898-c636-ec54dbacaffb"
      },
      "execution_count": 54,
      "outputs": [
        {
          "output_type": "execute_result",
          "data": {
            "text/html": [
              "\n",
              "<div id=\"altair-viz-1f2b4871b0eb4cdcb9eb3afee489c9fa\"></div>\n",
              "<script type=\"text/javascript\">\n",
              "  var VEGA_DEBUG = (typeof VEGA_DEBUG == \"undefined\") ? {} : VEGA_DEBUG;\n",
              "  (function(spec, embedOpt){\n",
              "    let outputDiv = document.currentScript.previousElementSibling;\n",
              "    if (outputDiv.id !== \"altair-viz-1f2b4871b0eb4cdcb9eb3afee489c9fa\") {\n",
              "      outputDiv = document.getElementById(\"altair-viz-1f2b4871b0eb4cdcb9eb3afee489c9fa\");\n",
              "    }\n",
              "    const paths = {\n",
              "      \"vega\": \"https://cdn.jsdelivr.net/npm//vega@5?noext\",\n",
              "      \"vega-lib\": \"https://cdn.jsdelivr.net/npm//vega-lib?noext\",\n",
              "      \"vega-lite\": \"https://cdn.jsdelivr.net/npm//vega-lite@4.17.0?noext\",\n",
              "      \"vega-embed\": \"https://cdn.jsdelivr.net/npm//vega-embed@6?noext\",\n",
              "    };\n",
              "\n",
              "    function maybeLoadScript(lib, version) {\n",
              "      var key = `${lib.replace(\"-\", \"\")}_version`;\n",
              "      return (VEGA_DEBUG[key] == version) ?\n",
              "        Promise.resolve(paths[lib]) :\n",
              "        new Promise(function(resolve, reject) {\n",
              "          var s = document.createElement('script');\n",
              "          document.getElementsByTagName(\"head\")[0].appendChild(s);\n",
              "          s.async = true;\n",
              "          s.onload = () => {\n",
              "            VEGA_DEBUG[key] = version;\n",
              "            return resolve(paths[lib]);\n",
              "          };\n",
              "          s.onerror = () => reject(`Error loading script: ${paths[lib]}`);\n",
              "          s.src = paths[lib];\n",
              "        });\n",
              "    }\n",
              "\n",
              "    function showError(err) {\n",
              "      outputDiv.innerHTML = `<div class=\"error\" style=\"color:red;\">${err}</div>`;\n",
              "      throw err;\n",
              "    }\n",
              "\n",
              "    function displayChart(vegaEmbed) {\n",
              "      vegaEmbed(outputDiv, spec, embedOpt)\n",
              "        .catch(err => showError(`Javascript Error: ${err.message}<br>This usually means there's a typo in your chart specification. See the javascript console for the full traceback.`));\n",
              "    }\n",
              "\n",
              "    if(typeof define === \"function\" && define.amd) {\n",
              "      requirejs.config({paths});\n",
              "      require([\"vega-embed\"], displayChart, err => showError(`Error loading script: ${err.message}`));\n",
              "    } else {\n",
              "      maybeLoadScript(\"vega\", \"5\")\n",
              "        .then(() => maybeLoadScript(\"vega-lite\", \"4.17.0\"))\n",
              "        .then(() => maybeLoadScript(\"vega-embed\", \"6\"))\n",
              "        .catch(showError)\n",
              "        .then(() => displayChart(vegaEmbed));\n",
              "    }\n",
              "  })({\"config\": {\"view\": {\"continuousWidth\": 400, \"continuousHeight\": 300}}, \"hconcat\": [{\"data\": {\"name\": \"data-c61a11cbcb400961be73dd6e64401a27\"}, \"mark\": \"bar\", \"encoding\": {\"x\": {\"field\": \"Location\", \"type\": \"nominal\"}, \"y\": {\"field\": \"Frequency\", \"type\": \"quantitative\"}}, \"height\": 350, \"title\": \"Fox\", \"width\": 350}, {\"data\": {\"name\": \"data-0bcd0e8a77a26e7d5f6172c8b94dbe9c\"}, \"mark\": \"bar\", \"encoding\": {\"x\": {\"field\": \"Location\", \"type\": \"nominal\"}, \"y\": {\"field\": \"Frequency\", \"type\": \"quantitative\"}}, \"height\": 350, \"title\": \"CNN\", \"width\": 350}, {\"data\": {\"name\": \"data-a5672c2701632a69889406ac840a4d76\"}, \"mark\": \"bar\", \"encoding\": {\"x\": {\"field\": \"Location\", \"type\": \"nominal\"}, \"y\": {\"field\": \"Frequency\", \"type\": \"quantitative\"}}, \"height\": 350, \"title\": \"Aljazeera\", \"width\": 350}], \"$schema\": \"https://vega.github.io/schema/vega-lite/v4.17.0.json\", \"datasets\": {\"data-c61a11cbcb400961be73dd6e64401a27\": [{\"Location\": \"Kyiv\", \"Frequency\": 97}, {\"Location\": \"Europe\", \"Frequency\": 55}, {\"Location\": \"West\", \"Frequency\": 19}, {\"Location\": \"Biden\", \"Frequency\": 9}, {\"Location\": \"the Black Sea\", \"Frequency\": 6}, {\"Location\": \"MiGs\", \"Frequency\": 5}, {\"Location\": \"the Crimean Peninsula\", \"Frequency\": 4}, {\"Location\": \"Mariupol\", \"Frequency\": 3}, {\"Location\": \"the Azov Sea\", \"Frequency\": 3}, {\"Location\": \"Black Sea\", \"Frequency\": 3}, {\"Location\": \"Snake Island\", \"Frequency\": 3}, {\"Location\": \"Earth\", \"Frequency\": 2}, {\"Location\": \"Pearl Harbor\", \"Frequency\": 2}, {\"Location\": \"Katya Hill\", \"Frequency\": 2}, {\"Location\": \"West 255th Street\", \"Frequency\": 2}, {\"Location\": \"the Zaporizhzhia Oblast\", \"Frequency\": 2}, {\"Location\": \"Daines\", \"Frequency\": 1}, {\"Location\": \"western Mariupol\", \"Frequency\": 1}, {\"Location\": \"Dnipro\", \"Frequency\": 1}, {\"Location\": \"Pocivicbki oKynaHtu\", \"Frequency\": 1}], \"data-0bcd0e8a77a26e7d5f6172c8b94dbe9c\": [{\"Location\": \"Kyiv\", \"Frequency\": 179}, {\"Location\": \"Europe\", \"Frequency\": 98}, {\"Location\": \"West\", \"Frequency\": 20}, {\"Location\": \"the Irpin River\", \"Frequency\": 14}, {\"Location\": \"Black Sea\", \"Frequency\": 13}, {\"Location\": \"the Black Sea\", \"Frequency\": 11}, {\"Location\": \"Biden\", \"Frequency\": 7}, {\"Location\": \"Mariupol\", \"Frequency\": 7}, {\"Location\": \"Irpin River\", \"Frequency\": 6}, {\"Location\": \"Asia\", \"Frequency\": 5}, {\"Location\": \"Gulf\", \"Frequency\": 5}, {\"Location\": \"Berdyansk\", \"Frequency\": 4}, {\"Location\": \"Kharkiv\", \"Frequency\": 4}, {\"Location\": \"the Sea of Azov\", \"Frequency\": 4}, {\"Location\": \"Africa\", \"Frequency\": 4}, {\"Location\": \"Luhansk\", \"Frequency\": 3}, {\"Location\": \"Livoberezhny\", \"Frequency\": 3}, {\"Location\": \"the Dnieper River\", \"Frequency\": 3}, {\"Location\": \"western Mariupol\", \"Frequency\": 3}, {\"Location\": \"the far east\", \"Frequency\": 3}], \"data-a5672c2701632a69889406ac840a4d76\": [{\"Location\": \"Kyiv\", \"Frequency\": 165}, {\"Location\": \"Europe\", \"Frequency\": 117}, {\"Location\": \"West\", \"Frequency\": 31}, {\"Location\": \"the Black Sea\", \"Frequency\": 16}, {\"Location\": \"Black Sea\", \"Frequency\": 15}, {\"Location\": \"Biden\", \"Frequency\": 10}, {\"Location\": \"Mariupol\", \"Frequency\": 9}, {\"Location\": \"Dnipro\", \"Frequency\": 7}, {\"Location\": \"the Sea of Azov\", \"Frequency\": 7}, {\"Location\": \"the Crimean Peninsula\", \"Frequency\": 6}, {\"Location\": \"the Middle East\", \"Frequency\": 6}, {\"Location\": \"Eastern Europe\", \"Frequency\": 6}, {\"Location\": \"Mars\", \"Frequency\": 5}, {\"Location\": \"Asia\", \"Frequency\": 5}, {\"Location\": \"Berdyansk\", \"Frequency\": 3}, {\"Location\": \"Podilskyi district\", \"Frequency\": 3}, {\"Location\": \"Middle East\", \"Frequency\": 3}, {\"Location\": \"Africa\", \"Frequency\": 3}, {\"Location\": \"East\", \"Frequency\": 2}, {\"Location\": \"Pacific\", \"Frequency\": 2}]}}, {\"mode\": \"vega-lite\"});\n",
              "</script>"
            ],
            "text/plain": [
              "alt.HConcatChart(...)"
            ]
          },
          "metadata": {},
          "execution_count": 54
        }
      ]
    },
    {
      "cell_type": "markdown",
      "source": [
        "## Additional statistics\n",
        "\n",
        "### Top mentioned Entities for each news source"
      ],
      "metadata": {
        "id": "rW_-RG_ag_dW"
      }
    },
    {
      "cell_type": "code",
      "source": [
        "# Top mentioned entities in fox\n",
        "labels_fox = [t.label_ for t in fox_article.ents]\n",
        "Counter(labels_fox).most_common()"
      ],
      "metadata": {
        "colab": {
          "base_uri": "https://localhost:8080/"
        },
        "id": "0mJP-mQXSvgU",
        "outputId": "20831b32-05e0-4899-accc-5115423f4b4b"
      },
      "execution_count": 55,
      "outputs": [
        {
          "output_type": "execute_result",
          "data": {
            "text/plain": [
              "[('GPE', 4392),\n",
              " ('PERSON', 2767),\n",
              " ('ORG', 2474),\n",
              " ('NORP', 2126),\n",
              " ('DATE', 2086),\n",
              " ('CARDINAL', 1003),\n",
              " ('LOC', 271),\n",
              " ('TIME', 225),\n",
              " ('ORDINAL', 124),\n",
              " ('WORK_OF_ART', 104),\n",
              " ('PRODUCT', 98),\n",
              " ('FAC', 67),\n",
              " ('MONEY', 63),\n",
              " ('PERCENT', 47),\n",
              " ('EVENT', 40),\n",
              " ('QUANTITY', 35),\n",
              " ('LAW', 21),\n",
              " ('LANGUAGE', 13)]"
            ]
          },
          "metadata": {},
          "execution_count": 55
        }
      ]
    },
    {
      "cell_type": "code",
      "source": [
        "# Top mentioned entities in cnn\n",
        "labels_cnn = [t.label_ for t in cnn_article.ents]\n",
        "Counter(labels_cnn).most_common()"
      ],
      "metadata": {
        "colab": {
          "base_uri": "https://localhost:8080/"
        },
        "id": "lPYNw7QM1aRk",
        "outputId": "62d8e3e6-ceb2-46a6-a651-184a3ba9a72f"
      },
      "execution_count": 56,
      "outputs": [
        {
          "output_type": "execute_result",
          "data": {
            "text/plain": [
              "[('GPE', 10060),\n",
              " ('ORG', 5433),\n",
              " ('PERSON', 5427),\n",
              " ('NORP', 5284),\n",
              " ('DATE', 3266),\n",
              " ('CARDINAL', 1787),\n",
              " ('LOC', 759),\n",
              " ('TIME', 417),\n",
              " ('ORDINAL', 217),\n",
              " ('QUANTITY', 208),\n",
              " ('FAC', 201),\n",
              " ('WORK_OF_ART', 191),\n",
              " ('PRODUCT', 171),\n",
              " ('MONEY', 153),\n",
              " ('PERCENT', 92),\n",
              " ('EVENT', 77),\n",
              " ('LAW', 47),\n",
              " ('LANGUAGE', 25)]"
            ]
          },
          "metadata": {},
          "execution_count": 56
        }
      ]
    },
    {
      "cell_type": "code",
      "source": [
        "# Top mentioned entities in aljazeera\n",
        "labels_alja = [t.label_ for t in alja_article.ents]\n",
        "Counter(labels_alja).most_common()"
      ],
      "metadata": {
        "colab": {
          "base_uri": "https://localhost:8080/"
        },
        "id": "vKIE-ktiSwGX",
        "outputId": "2fb16712-02bb-4df5-c130-309403e0b22a"
      },
      "execution_count": 57,
      "outputs": [
        {
          "output_type": "execute_result",
          "data": {
            "text/plain": [
              "[('GPE', 12646),\n",
              " ('ORG', 5409),\n",
              " ('NORP', 5120),\n",
              " ('PERSON', 4984),\n",
              " ('CARDINAL', 2246),\n",
              " ('DATE', 1987),\n",
              " ('LOC', 802),\n",
              " ('ORDINAL', 257),\n",
              " ('TIME', 240),\n",
              " ('MONEY', 238),\n",
              " ('FAC', 174),\n",
              " ('WORK_OF_ART', 158),\n",
              " ('QUANTITY', 150),\n",
              " ('PRODUCT', 141),\n",
              " ('PERCENT', 92),\n",
              " ('EVENT', 78),\n",
              " ('LANGUAGE', 31),\n",
              " ('LAW', 26)]"
            ]
          },
          "metadata": {},
          "execution_count": 57
        }
      ]
    },
    {
      "cell_type": "markdown",
      "source": [
        "### Top mentioned words for each news source"
      ],
      "metadata": {
        "id": "jcpj4TpwYDE2"
      }
    },
    {
      "cell_type": "code",
      "source": [
        "# Top 20 mentioned word in fox\n",
        "words_fox = [t.text for t in fox_article.ents]\n",
        "Counter(words_fox).most_common(20)"
      ],
      "metadata": {
        "colab": {
          "base_uri": "https://localhost:8080/"
        },
        "id": "Ks0R97KST0vr",
        "outputId": "90770b34-ef18-4a3f-c407-c2c5b34c7480"
      },
      "execution_count": 58,
      "outputs": [
        {
          "output_type": "execute_result",
          "data": {
            "text/plain": [
              "[('Ukraine', 1439),\n",
              " ('Russian', 1053),\n",
              " ('Russia', 987),\n",
              " ('Ukrainian', 557),\n",
              " ('Biden', 287),\n",
              " ('Putin', 273),\n",
              " ('NATO', 243),\n",
              " ('U.S.', 219),\n",
              " ('Kyiv', 207),\n",
              " ('Zelenskyy', 181),\n",
              " ('Mariupol', 174),\n",
              " ('Vladimir Putin', 132),\n",
              " ('Fox News', 128),\n",
              " ('Wednesday', 126),\n",
              " ('Volodymyr Zelenskyy', 124),\n",
              " ('Poland', 118),\n",
              " ('Friday', 115),\n",
              " ('Thursday', 110),\n",
              " ('US', 109),\n",
              " ('Monday', 101)]"
            ]
          },
          "metadata": {},
          "execution_count": 58
        }
      ]
    },
    {
      "cell_type": "code",
      "source": [
        "# Top 20 mentioned word in cnn\n",
        "words_cnn = [t.text for t in cnn_article.ents]\n",
        "Counter(words_cnn).most_common(20)"
      ],
      "metadata": {
        "colab": {
          "base_uri": "https://localhost:8080/"
        },
        "id": "9wfYWsr-2kvo",
        "outputId": "3da6f2a2-dbda-45b1-b652-172e213903f4"
      },
      "execution_count": 59,
      "outputs": [
        {
          "output_type": "execute_result",
          "data": {
            "text/plain": [
              "[('Ukraine', 2824),\n",
              " ('Russian', 2374),\n",
              " ('Russia', 1905),\n",
              " ('Ukrainian', 1361),\n",
              " ('US', 1156),\n",
              " ('CNN', 726),\n",
              " ('Kyiv', 528),\n",
              " ('NATO', 455),\n",
              " ('Putin', 385),\n",
              " ('Mariupol', 377),\n",
              " ('Zelensky', 372),\n",
              " ('Biden', 354),\n",
              " ('Poland', 267),\n",
              " ('Ukrainians', 248),\n",
              " ('two', 234),\n",
              " ('Friday', 232),\n",
              " ('Tuesday', 230),\n",
              " ('Thursday', 227),\n",
              " ('Wednesday', 211),\n",
              " ('Volodymyr Zelensky', 202)]"
            ]
          },
          "metadata": {},
          "execution_count": 59
        }
      ]
    },
    {
      "cell_type": "code",
      "source": [
        "# Top 20 mentioned word in aljazeera\n",
        "words_alja = [t.text for t in alja_article.ents]\n",
        "Counter(words_alja).most_common(20)"
      ],
      "metadata": {
        "colab": {
          "base_uri": "https://localhost:8080/"
        },
        "id": "byoms8c_T7UT",
        "outputId": "acf45a0d-963d-4a90-9014-89b812735f1d"
      },
      "execution_count": 60,
      "outputs": [
        {
          "output_type": "execute_result",
          "data": {
            "text/plain": [
              "[('Ukraine', 3734),\n",
              " ('Russia', 2919),\n",
              " ('Russian', 2411),\n",
              " ('Ukrainian', 1216),\n",
              " ('US', 693),\n",
              " ('Moscow', 629),\n",
              " ('Kyiv', 598),\n",
              " ('Mariupol', 557),\n",
              " ('Putin', 455),\n",
              " ('Zelenskyy', 357),\n",
              " ('NATO', 342),\n",
              " ('UN', 279),\n",
              " ('EU', 247),\n",
              " ('UK', 235),\n",
              " ('Biden', 217),\n",
              " ('Kremlin', 213),\n",
              " ('China', 211),\n",
              " ('Al Jazeera', 203),\n",
              " ('Europe', 198),\n",
              " ('two', 195)]"
            ]
          },
          "metadata": {},
          "execution_count": 60
        }
      ]
    }
  ]
}