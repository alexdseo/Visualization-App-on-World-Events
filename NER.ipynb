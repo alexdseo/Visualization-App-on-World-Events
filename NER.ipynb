{
  "nbformat": 4,
  "nbformat_minor": 0,
  "metadata": {
    "colab": {
      "name": "NER.ipynb",
      "provenance": [],
      "collapsed_sections": []
    },
    "kernelspec": {
      "name": "python3",
      "display_name": "Python 3"
    },
    "language_info": {
      "name": "python"
    },
    "accelerator": "GPU"
  },
  "cells": [
    {
      "cell_type": "code",
      "source": [
        "#Mount your drive to get cleaned_text\n",
        "from google.colab import drive\n",
        "drive.mount('/content/drive')"
      ],
      "metadata": {
        "colab": {
          "base_uri": "https://localhost:8080/"
        },
        "id": "Y4sq006oIjbk",
        "outputId": "735f7c1e-881b-4f22-e85a-5ac8692196e2"
      },
      "execution_count": 1,
      "outputs": [
        {
          "output_type": "stream",
          "name": "stdout",
          "text": [
            "Mounted at /content/drive\n"
          ]
        }
      ]
    },
    {
      "cell_type": "code",
      "execution_count": 2,
      "metadata": {
        "colab": {
          "base_uri": "https://localhost:8080/"
        },
        "id": "Jlfodt55vVHm",
        "outputId": "89ff4d74-d412-46a0-efd8-083da1f1217a"
      },
      "outputs": [
        {
          "output_type": "stream",
          "name": "stdout",
          "text": [
            "Cloning into 'Visualization-App-on-World-Events'...\n",
            "remote: Enumerating objects: 192, done.\u001b[K\n",
            "remote: Counting objects: 100% (6/6), done.\u001b[K\n",
            "remote: Compressing objects: 100% (6/6), done.\u001b[K\n",
            "remote: Total 192 (delta 1), reused 2 (delta 0), pack-reused 186\u001b[K\n",
            "Receiving objects: 100% (192/192), 1.49 GiB | 31.98 MiB/s, done.\n",
            "Resolving deltas: 100% (34/34), done.\n"
          ]
        }
      ],
      "source": [
        "#Clone this repository\n",
        "!git clone https://github.com/alexdseo/Visualization-App-on-World-Events"
      ]
    },
    {
      "cell_type": "code",
      "source": [
        "#Change directory\n",
        "%cd Visualization-App-on-World-Events"
      ],
      "metadata": {
        "colab": {
          "base_uri": "https://localhost:8080/"
        },
        "id": "lOcfe7lSvpyP",
        "outputId": "f9fe6361-a2a4-4acc-d908-4d3d2ec2d30d"
      },
      "execution_count": 3,
      "outputs": [
        {
          "output_type": "stream",
          "name": "stdout",
          "text": [
            "/content/Visualization-App-on-World-Events\n"
          ]
        }
      ]
    },
    {
      "cell_type": "code",
      "source": [
        "import spacy\n",
        "#from spacy import displacy #visualize option\n",
        "from collections import Counter\n",
        "from pprint import pprint"
      ],
      "metadata": {
        "id": "-OO4CUA5wLSv"
      },
      "execution_count": 4,
      "outputs": []
    },
    {
      "cell_type": "code",
      "source": [
        "# Use GPU\n",
        "spacy.prefer_gpu()"
      ],
      "metadata": {
        "colab": {
          "base_uri": "https://localhost:8080/"
        },
        "id": "psCMi0SJwTp8",
        "outputId": "d2a245de-adab-42ed-cce7-e1697dec50e9"
      },
      "execution_count": 5,
      "outputs": [
        {
          "output_type": "execute_result",
          "data": {
            "text/plain": [
              "True"
            ]
          },
          "metadata": {},
          "execution_count": 5
        }
      ]
    },
    {
      "cell_type": "code",
      "source": [
        "#Load nlp machine\n",
        "import en_core_web_sm\n",
        "nlp = en_core_web_sm.load()\n",
        "nlp.max_length = 4000000"
      ],
      "metadata": {
        "id": "eC7SviQVwdpn"
      },
      "execution_count": 6,
      "outputs": []
    },
    {
      "cell_type": "code",
      "source": [
        "#Work on entitiy level\n",
        "#Example using Grover-generated text\n",
        "grover_txt = nlp('In a press release dated March 28, 2004, United States Centers for Disease Control and Prevention Director Dr. Michael Osterholm announced the results of the detection and safety trial of SARS-CoV in the Chinese trans- plantation market.')\n",
        "pprint([(t.text, t.label_) for t in grover_txt.ents])"
      ],
      "metadata": {
        "colab": {
          "base_uri": "https://localhost:8080/"
        },
        "id": "Z7quShfRxEP4",
        "outputId": "3f0c5e1f-5095-4246-ece4-57fd103c5f43"
      },
      "execution_count": 7,
      "outputs": [
        {
          "output_type": "stream",
          "name": "stdout",
          "text": [
            "[('March 28, 2004', 'DATE'),\n",
            " ('United States Centers for Disease Control and Prevention', 'ORG'),\n",
            " ('Michael Osterholm', 'PERSON'),\n",
            " ('Chinese', 'NORP')]\n"
          ]
        }
      ]
    },
    {
      "cell_type": "code",
      "source": [
        "#Work on token level\n",
        "# B: The first token of a multi-token entity\n",
        "# I: The inner token of a multi-token entity\n",
        "# L: The Final token of a multi-token entity\n",
        "# U: A single token # O: Non-entity token\n",
        "pprint([(t, t.ent_iob_, t.ent_type_) for t in grover_txt])"
      ],
      "metadata": {
        "colab": {
          "base_uri": "https://localhost:8080/"
        },
        "id": "Dq9kgkdHwr4y",
        "outputId": "ec95b7d6-2bf1-4941-f06e-e21a246a0da6"
      },
      "execution_count": 8,
      "outputs": [
        {
          "output_type": "stream",
          "name": "stdout",
          "text": [
            "[(In, 'O', ''),\n",
            " (a, 'O', ''),\n",
            " (press, 'O', ''),\n",
            " (release, 'O', ''),\n",
            " (dated, 'O', ''),\n",
            " (March, 'B', 'DATE'),\n",
            " (28, 'I', 'DATE'),\n",
            " (,, 'I', 'DATE'),\n",
            " (2004, 'I', 'DATE'),\n",
            " (,, 'O', ''),\n",
            " (United, 'B', 'ORG'),\n",
            " (States, 'I', 'ORG'),\n",
            " (Centers, 'I', 'ORG'),\n",
            " (for, 'I', 'ORG'),\n",
            " (Disease, 'I', 'ORG'),\n",
            " (Control, 'I', 'ORG'),\n",
            " (and, 'I', 'ORG'),\n",
            " (Prevention, 'I', 'ORG'),\n",
            " (Director, 'O', ''),\n",
            " (Dr., 'O', ''),\n",
            " (Michael, 'B', 'PERSON'),\n",
            " (Osterholm, 'I', 'PERSON'),\n",
            " (announced, 'O', ''),\n",
            " (the, 'O', ''),\n",
            " (results, 'O', ''),\n",
            " (of, 'O', ''),\n",
            " (the, 'O', ''),\n",
            " (detection, 'O', ''),\n",
            " (and, 'O', ''),\n",
            " (safety, 'O', ''),\n",
            " (trial, 'O', ''),\n",
            " (of, 'O', ''),\n",
            " (SARS, 'O', ''),\n",
            " (-, 'O', ''),\n",
            " (CoV, 'O', ''),\n",
            " (in, 'O', ''),\n",
            " (the, 'O', ''),\n",
            " (Chinese, 'B', 'NORP'),\n",
            " (trans-, 'O', ''),\n",
            " (plantation, 'O', ''),\n",
            " (market, 'O', ''),\n",
            " (., 'O', '')]\n"
          ]
        }
      ]
    },
    {
      "cell_type": "code",
      "source": [
        "#Get file_path\n",
        "import os\n",
        "\n",
        "all_filepaths = []\n",
        "\n",
        "for newssource in os.listdir('/content/drive/MyDrive/cleaned_text'):\n",
        "    if newssource != \".DS_Store\":\n",
        "        for filename in os.listdir(os.path.join('/content/drive/MyDrive/cleaned_text',newssource)):\n",
        "            if filename != \".DS_Store\":\n",
        "                all_filepaths.append(f\"/content/drive/MyDrive/cleaned_text/{newssource}/{filename}\")\n",
        "\n",
        "all_filepaths.sort()"
      ],
      "metadata": {
        "id": "FZgvA6QxI_LW"
      },
      "execution_count": 9,
      "outputs": []
    },
    {
      "cell_type": "code",
      "source": [
        "len(all_filepaths)"
      ],
      "metadata": {
        "colab": {
          "base_uri": "https://localhost:8080/"
        },
        "id": "GYRT4l6HJsps",
        "outputId": "d51b47c1-6fa3-4003-d01a-83476faa3693"
      },
      "execution_count": 10,
      "outputs": [
        {
          "output_type": "execute_result",
          "data": {
            "text/plain": [
              "81"
            ]
          },
          "metadata": {},
          "execution_count": 10
        }
      ]
    },
    {
      "cell_type": "code",
      "source": [
        "# All txt files into string\n",
        "cnn_texts=''\n",
        "alja_texts=''\n",
        "fox_texts=''\n",
        "all_texts=''\n",
        "for i in all_filepaths:\n",
        "    f = open(i,\"r\").read().replace('\\n', ' ')\n",
        "    components = i.split(\"/\")\n",
        "\n",
        "    all_texts += f\n",
        "    all_texts += ' '\n",
        "\n",
        "    if components[5] == \"aljazeera\":\n",
        "      alja_texts += f\n",
        "      alja_texts += ' '\n",
        "    elif components[5] == \"cnn\":\n",
        "      cnn_texts += f\n",
        "      cnn_texts += ' '\n",
        "    elif components[5] == \"fox\":\n",
        "      fox_texts += f\n",
        "      fox_texts += ' '"
      ],
      "metadata": {
        "id": "9FKf5MT4KSmD"
      },
      "execution_count": 11,
      "outputs": []
    },
    {
      "cell_type": "code",
      "source": [
        "#select 03/12~03/30 files\n",
        "#Fox news missing 03/01~03/11 and aljazeera missing 03/31\n",
        "selected_files=[]\n",
        "for i in all_filepaths:\n",
        "  comp=i.split(\"/\")\n",
        "  day=comp[6].split(\"-\")\n",
        "  if int(day[1]) in range(12,31):\n",
        "    selected_files.append(i)"
      ],
      "metadata": {
        "id": "pUuWiW9NayBz"
      },
      "execution_count": 12,
      "outputs": []
    },
    {
      "cell_type": "code",
      "source": [
        "#19files each with total 57 files\n",
        "len(selected_files)"
      ],
      "metadata": {
        "colab": {
          "base_uri": "https://localhost:8080/"
        },
        "id": "nNV-Lbt0bxkc",
        "outputId": "a4344dee-3431-4c3b-d196-05f1ec0b57a5"
      },
      "execution_count": 13,
      "outputs": [
        {
          "output_type": "execute_result",
          "data": {
            "text/plain": [
              "57"
            ]
          },
          "metadata": {},
          "execution_count": 13
        }
      ]
    },
    {
      "cell_type": "code",
      "source": [
        "#selected 03/12~03/30 files to into string\n",
        "#Fox news missing 03/01~03/11 and aljazeera missing 03/31\n",
        "\n",
        "cnn_texts_1230=''\n",
        "alja_texts_1230=''\n",
        "fox_texts_1230=''\n",
        "all_texts_1230=''\n",
        "for i in selected_files:\n",
        "    f = open(i,\"r\").read().replace('\\n', ' ')\n",
        "    components = i.split(\"/\")\n",
        "\n",
        "    all_texts_1230 += f\n",
        "    all_texts_1230 += ' '\n",
        "\n",
        "    if components[5] == \"aljazeera\":\n",
        "      alja_texts_1230 += f\n",
        "      alja_texts_1230 += ' '\n",
        "    elif components[5] == \"cnn\":\n",
        "      cnn_texts_1230 += f\n",
        "      cnn_texts_1230 += ' '\n",
        "    elif components[5] == \"fox\":\n",
        "      fox_texts_1230 += f\n",
        "      fox_texts_1230 += ' '"
      ],
      "metadata": {
        "id": "U9vR5aVRYiGJ"
      },
      "execution_count": 14,
      "outputs": []
    },
    {
      "cell_type": "code",
      "source": [
        "#Length of texts\n",
        "print('Length of all texts:', len(all_texts))\n",
        "print('Length of cnn texts:',len(cnn_texts))\n",
        "print('Length of fox texts:',len(fox_texts))\n",
        "print('Length of aljazeera texts:',len(alja_texts))"
      ],
      "metadata": {
        "colab": {
          "base_uri": "https://localhost:8080/"
        },
        "id": "Zebet8NhN5rG",
        "outputId": "202a30c2-acc9-472a-9c5b-5dba09a785b1"
      },
      "execution_count": 15,
      "outputs": [
        {
          "output_type": "stream",
          "name": "stdout",
          "text": [
            "Length of all texts: 3619982\n",
            "Length of cnn texts: 1568460\n",
            "Length of fox texts: 603849\n",
            "Length of aljazeera texts: 1447673\n"
          ]
        }
      ]
    },
    {
      "cell_type": "code",
      "source": [
        "#Length of selected texts\n",
        "print('Length of all selected texts:', len(all_texts_1230))\n",
        "print('Length of selected cnn texts:',len(cnn_texts_1230))\n",
        "print('Length of selected fox texts:',len(fox_texts_1230))\n",
        "print('Length of selected aljazeera texts:',len(alja_texts_1230))"
      ],
      "metadata": {
        "colab": {
          "base_uri": "https://localhost:8080/"
        },
        "id": "0WtalqdLcksF",
        "outputId": "7146a61a-3b97-4967-e45f-c5c0ebd5a299"
      },
      "execution_count": 16,
      "outputs": [
        {
          "output_type": "stream",
          "name": "stdout",
          "text": [
            "Length of all selected texts: 2424426\n",
            "Length of selected cnn texts: 944897\n",
            "Length of selected fox texts: 581196\n",
            "Length of selected aljazeera texts: 898333\n"
          ]
        }
      ]
    },
    {
      "cell_type": "code",
      "source": [
        "#Train all\n",
        "#Gets out of memory error\n",
        "#all_article = nlp(all_texts)\n",
        "#len(all_article.ents)"
      ],
      "metadata": {
        "id": "z6bPMCWuTuHo"
      },
      "execution_count": 17,
      "outputs": []
    },
    {
      "cell_type": "code",
      "source": [
        "#Train pipeline\n",
        "fox_article = nlp(fox_texts)\n",
        "#Number of entities in fox datasets\n",
        "len(fox_article.ents)"
      ],
      "metadata": {
        "colab": {
          "base_uri": "https://localhost:8080/"
        },
        "id": "SmpCcKruQeBF",
        "outputId": "1c7123c7-e17a-4b28-d6fd-b7b04c032278"
      },
      "execution_count": 18,
      "outputs": [
        {
          "output_type": "execute_result",
          "data": {
            "text/plain": [
              "16005"
            ]
          },
          "metadata": {},
          "execution_count": 18
        }
      ]
    },
    {
      "cell_type": "code",
      "source": [
        "#Train pipeline\n",
        "cnn_article = nlp(cnn_texts)\n",
        "#Number of entities in cnn datasets\n",
        "len(cnn_article.ents)"
      ],
      "metadata": {
        "colab": {
          "base_uri": "https://localhost:8080/"
        },
        "id": "uwMYF72HQ1ms",
        "outputId": "5daec019-6d75-40f6-9cd1-cd9b5321e32a"
      },
      "execution_count": 19,
      "outputs": [
        {
          "output_type": "execute_result",
          "data": {
            "text/plain": [
              "34036"
            ]
          },
          "metadata": {},
          "execution_count": 19
        }
      ]
    },
    {
      "cell_type": "code",
      "source": [
        "#Train pipeline\n",
        "alja_article = nlp(alja_texts)\n",
        "#Number of entities in aljazeera datasets\n",
        "len(alja_article.ents)"
      ],
      "metadata": {
        "colab": {
          "base_uri": "https://localhost:8080/"
        },
        "id": "ZOfjOvIPQ2Qe",
        "outputId": "9225e564-6316-444b-f228-e0832c523afa"
      },
      "execution_count": 20,
      "outputs": [
        {
          "output_type": "execute_result",
          "data": {
            "text/plain": [
              "34821"
            ]
          },
          "metadata": {},
          "execution_count": 20
        }
      ]
    },
    {
      "cell_type": "code",
      "source": [
        "#Train pipeline\n",
        "fox_article_1230 = nlp(fox_texts_1230)\n",
        "#Number of entities in selected fox datasets\n",
        "len(fox_article_1230.ents)"
      ],
      "metadata": {
        "colab": {
          "base_uri": "https://localhost:8080/"
        },
        "id": "vVpycCaRcsyc",
        "outputId": "5f8fec7c-ea28-40f7-bb3d-caf50eabe8aa"
      },
      "execution_count": 21,
      "outputs": [
        {
          "output_type": "execute_result",
          "data": {
            "text/plain": [
              "15447"
            ]
          },
          "metadata": {},
          "execution_count": 21
        }
      ]
    },
    {
      "cell_type": "code",
      "source": [
        "#Train pipeline\n",
        "cnn_article_1230 = nlp(cnn_texts_1230)\n",
        "#Number of entities in selected cnn datasets\n",
        "len(cnn_article_1230.ents)"
      ],
      "metadata": {
        "colab": {
          "base_uri": "https://localhost:8080/"
        },
        "id": "nXr1WSVqcs5p",
        "outputId": "9360362a-fd1f-49c4-ec68-f700ac6935ae"
      },
      "execution_count": 22,
      "outputs": [
        {
          "output_type": "execute_result",
          "data": {
            "text/plain": [
              "20765"
            ]
          },
          "metadata": {},
          "execution_count": 22
        }
      ]
    },
    {
      "cell_type": "code",
      "source": [
        "#Train pipeline\n",
        "alja_article_1230 = nlp(alja_texts_1230)\n",
        "#Number of entities in selected aljazeera datasets\n",
        "len(alja_article_1230.ents)"
      ],
      "metadata": {
        "colab": {
          "base_uri": "https://localhost:8080/"
        },
        "id": "TwHI-uLLcs9g",
        "outputId": "d9d9d314-719e-4668-ec5a-1e42ce8e8f7f"
      },
      "execution_count": 23,
      "outputs": [
        {
          "output_type": "execute_result",
          "data": {
            "text/plain": [
              "21846"
            ]
          },
          "metadata": {},
          "execution_count": 23
        }
      ]
    },
    {
      "cell_type": "code",
      "source": [
        "#All entities\n",
        "all_article_ents = fox_article.ents + cnn_article.ents + alja_article.ents"
      ],
      "metadata": {
        "id": "kY2Zka1Ibo_L"
      },
      "execution_count": 24,
      "outputs": []
    },
    {
      "cell_type": "code",
      "source": [
        "#length of all article\n",
        "len(all_article_ents)"
      ],
      "metadata": {
        "colab": {
          "base_uri": "https://localhost:8080/"
        },
        "id": "-pP9sO36b85x",
        "outputId": "63af2b3c-e845-466d-d429-279b7c040018"
      },
      "execution_count": 25,
      "outputs": [
        {
          "output_type": "execute_result",
          "data": {
            "text/plain": [
              "84862"
            ]
          },
          "metadata": {},
          "execution_count": 25
        }
      ]
    },
    {
      "cell_type": "markdown",
      "source": [
        "## Get all 10 entities from the text and list the Top 20"
      ],
      "metadata": {
        "id": "-3MDkg-h33Me"
      }
    },
    {
      "cell_type": "code",
      "source": [
        "# Save PERSON in list from text\n",
        "# List Top 20 mentioned PERSON in all article\n",
        "person_all = []\n",
        "for t in all_article_ents:\n",
        "  if t.label_ == 'PERSON':\n",
        "    person_all.append(t.text)\n",
        "\n",
        "Counter(person_all).most_common(20)"
      ],
      "metadata": {
        "colab": {
          "base_uri": "https://localhost:8080/"
        },
        "id": "_PCw5xOgkFxY",
        "outputId": "d3a374b7-40cb-45bd-cd24-12608f7e2207"
      },
      "execution_count": 26,
      "outputs": [
        {
          "output_type": "execute_result",
          "data": {
            "text/plain": [
              "[('Putin', 1113),\n",
              " ('Biden', 624),\n",
              " ('Zelenskyy', 531),\n",
              " ('Vladimir Putin', 404),\n",
              " ('Zelensky', 352),\n",
              " ('Joe Biden', 283),\n",
              " ('Mariupol', 273),\n",
              " ('Kharkiv', 240),\n",
              " ('Volodymyr Zelensky', 204),\n",
              " ('Volodymyr Zelenskyy', 203),\n",
              " ('Kirby', 119),\n",
              " ('Blinken', 105),\n",
              " ('Dmytro Kuleba', 89),\n",
              " ('Lviv', 88),\n",
              " ('Antony Blinken', 87),\n",
              " ('Lavrov', 72),\n",
              " ('Boris Johnson', 71),\n",
              " ('John Kirby', 69),\n",
              " ('Emmanuel Macron', 66),\n",
              " ('Peskov', 65)]"
            ]
          },
          "metadata": {},
          "execution_count": 26
        }
      ]
    },
    {
      "cell_type": "code",
      "source": [
        "# Save NORP in list from text\n",
        "# List Top 20 mentioned NORP in all article\n",
        "norp_all = []\n",
        "for t in all_article_ents:\n",
        "  if t.label_ == 'NORP':\n",
        "    norp_all.append(t.text)\n",
        "\n",
        "Counter(norp_all).most_common(20)"
      ],
      "metadata": {
        "colab": {
          "base_uri": "https://localhost:8080/"
        },
        "id": "O1jLBsQ_kXh3",
        "outputId": "0c6c95e0-aeb5-4bbb-bfc5-626efeccbce3"
      },
      "execution_count": 27,
      "outputs": [
        {
          "output_type": "execute_result",
          "data": {
            "text/plain": [
              "[('Russian', 5800),\n",
              " ('Ukrainian', 2784),\n",
              " ('Ukrainians', 482),\n",
              " ('Russians', 382),\n",
              " ('European', 208),\n",
              " ('French', 188),\n",
              " ('American', 181),\n",
              " ('Polish', 178),\n",
              " ('Chinese', 135),\n",
              " ('British', 120),\n",
              " ('German', 114),\n",
              " ('Western', 111),\n",
              " ('Zaporizhzhia', 107),\n",
              " ('Turkish', 97),\n",
              " ('Belarusian', 90),\n",
              " ('Sumy', 66),\n",
              " ('Israeli', 53),\n",
              " ('Americans', 52),\n",
              " ('Biden', 51),\n",
              " ('Republican', 39)]"
            ]
          },
          "metadata": {},
          "execution_count": 27
        }
      ]
    },
    {
      "cell_type": "code",
      "source": [
        "# Save ORG in list from text\n",
        "# List Top 20 mentioned ORG in all article\n",
        "org_all = []\n",
        "for t in all_article_ents:\n",
        "  if t.label_ == 'ORG':\n",
        "    org_all.append(t.text)\n",
        "\n",
        "Counter(org_all).most_common(20)"
      ],
      "metadata": {
        "colab": {
          "base_uri": "https://localhost:8080/"
        },
        "id": "OYf9C8LlkklU",
        "outputId": "0502e971-c1df-49c1-91b2-337d6029aeb2"
      },
      "execution_count": 28,
      "outputs": [
        {
          "output_type": "execute_result",
          "data": {
            "text/plain": [
              "[('NATO', 1040),\n",
              " ('CNN', 748),\n",
              " ('UN', 431),\n",
              " ('EU', 353),\n",
              " ('Kremlin', 321),\n",
              " ('IAEA', 205),\n",
              " ('Reuters', 200),\n",
              " ('Pentagon', 197),\n",
              " ('Al Jazeera', 197),\n",
              " ('Kyiv', 178),\n",
              " ('White House', 157),\n",
              " ('Fox News', 143),\n",
              " ('the White House', 136),\n",
              " ('Telegram', 124),\n",
              " ('State', 121),\n",
              " ('Congress', 101),\n",
              " ('RUSSIA', 95),\n",
              " ('AP', 91),\n",
              " ('Facebook', 82),\n",
              " ('The Associated Press', 74)]"
            ]
          },
          "metadata": {},
          "execution_count": 28
        }
      ]
    },
    {
      "cell_type": "code",
      "source": [
        "# Save GPE in list from text\n",
        "# List Top 20 mentioned GPE in all article\n",
        "gpe_all = []\n",
        "for t in all_article_ents:\n",
        "  if t.label_ == 'GPE':\n",
        "    gpe_all.append(t.text)\n",
        "\n",
        "Counter(gpe_all).most_common(20)"
      ],
      "metadata": {
        "colab": {
          "base_uri": "https://localhost:8080/"
        },
        "id": "7LnUHLYokroZ",
        "outputId": "77afc9c7-33a5-4222-b3be-c050b7b8ff7d"
      },
      "execution_count": 29,
      "outputs": [
        {
          "output_type": "execute_result",
          "data": {
            "text/plain": [
              "[('Ukraine', 7976),\n",
              " ('Russia', 5820),\n",
              " ('US', 1958),\n",
              " ('Moscow', 888),\n",
              " ('Mariupol', 736),\n",
              " ('Poland', 570),\n",
              " ('China', 480),\n",
              " ('Kyiv', 394),\n",
              " ('UK', 368),\n",
              " ('Ukrainian', 355),\n",
              " ('U.S.', 243),\n",
              " ('the United States', 228),\n",
              " ('Germany', 227),\n",
              " ('Belarus', 215),\n",
              " ('Turkey', 192),\n",
              " ('Chernobyl', 187),\n",
              " ('Brussels', 168),\n",
              " ('France', 152),\n",
              " ('Warsaw', 113),\n",
              " ('Donbas', 102)]"
            ]
          },
          "metadata": {},
          "execution_count": 29
        }
      ]
    },
    {
      "cell_type": "code",
      "source": [
        "# Save LOC in list from text\n",
        "# List Top 20 mentioned LOC in all article\n",
        "loc_all = []\n",
        "for t in all_article_ents:\n",
        "  if t.label_ == 'LOC':\n",
        "    loc_all.append(t.text)\n",
        "\n",
        "Counter(loc_all).most_common(20)"
      ],
      "metadata": {
        "colab": {
          "base_uri": "https://localhost:8080/"
        },
        "id": "jS7uSbJXkzyO",
        "outputId": "39544a04-c56e-4958-84d0-28ee0afc1379"
      },
      "execution_count": 30,
      "outputs": [
        {
          "output_type": "execute_result",
          "data": {
            "text/plain": [
              "[('Kyiv', 667),\n",
              " ('Europe', 423),\n",
              " ('West', 103),\n",
              " ('the Black Sea', 49),\n",
              " ('Black Sea', 45),\n",
              " ('Biden', 38),\n",
              " ('Mariupol', 28),\n",
              " ('the Middle East', 16),\n",
              " ('the Irpin River', 15),\n",
              " ('Eastern Europe', 13),\n",
              " ('Africa', 13),\n",
              " ('the Sea of Azov', 13),\n",
              " ('the Crimean Peninsula', 12),\n",
              " ('Asia', 11),\n",
              " ('Dnipro', 10),\n",
              " ('Berdyansk', 8),\n",
              " ('the Azov Sea', 7),\n",
              " ('the Dnieper River', 7),\n",
              " ('Gulf', 7),\n",
              " ('Podilskyi district', 6)]"
            ]
          },
          "metadata": {},
          "execution_count": 30
        }
      ]
    },
    {
      "cell_type": "code",
      "source": [
        "# Save FAC in list from text\n",
        "# List Top 20 mentioned FAC in all article\n",
        "fac_all = []\n",
        "for t in all_article_ents:\n",
        "  if t.label_ == 'FAC':\n",
        "    fac_all.append(t.text)\n",
        "\n",
        "Counter(fac_all).most_common(20)"
      ],
      "metadata": {
        "colab": {
          "base_uri": "https://localhost:8080/"
        },
        "id": "mFv5XbA7bRDh",
        "outputId": "26ac1f3e-ebcd-49b3-eb33-c242132dacd7"
      },
      "execution_count": 31,
      "outputs": [
        {
          "output_type": "execute_result",
          "data": {
            "text/plain": [
              "[('the White House', 29),\n",
              " ('the Royal Castle', 15),\n",
              " ('Telegram', 10),\n",
              " ('Vatican', 10),\n",
              " ('the International Space Station', 8),\n",
              " ('G7', 8),\n",
              " ('Ramstein Air Base', 7),\n",
              " ('Dnipro', 7),\n",
              " ('the Doha Forum', 7),\n",
              " ('Crimea', 6),\n",
              " ('Kremlin', 6),\n",
              " ('Facebook', 5),\n",
              " ('Downing Street', 5),\n",
              " ('Capitol', 5),\n",
              " ('the International Center for Peacekeeping and Security', 4),\n",
              " ('the Chernobyl Nuclear Power Plant', 4),\n",
              " ('Nuclear Power Plant', 4),\n",
              " ('the Zaporizhzhia Nuclear Power Plant', 4),\n",
              " ('the Elysee Palace', 4),\n",
              " ('Kyiv', 4)]"
            ]
          },
          "metadata": {},
          "execution_count": 31
        }
      ]
    },
    {
      "cell_type": "code",
      "source": [
        "# Save PRODUCT in list from text\n",
        "# List Top 20 mentioned PRODUCT in all article\n",
        "pro_all = []\n",
        "for t in all_article_ents:\n",
        "  if t.label_ == 'PRODUCT':\n",
        "    pro_all.append(t.text)\n",
        "\n",
        "Counter(pro_all).most_common(20)"
      ],
      "metadata": {
        "colab": {
          "base_uri": "https://localhost:8080/"
        },
        "id": "_2i-NeT4cPiO",
        "outputId": "15ce40a5-98ef-41f4-b5e7-292d69930b12"
      },
      "execution_count": 32,
      "outputs": [
        {
          "output_type": "execute_result",
          "data": {
            "text/plain": [
              "[('Mariupol', 47),\n",
              " ('G7', 18),\n",
              " ('MiG-29', 15),\n",
              " ('Lviv', 10),\n",
              " ('Javelin', 10),\n",
              " ('YouTube', 9),\n",
              " ('Air Force One', 8),\n",
              " ('Kyiv', 7),\n",
              " ('Children', 6),\n",
              " ('Soyuz', 6),\n",
              " ('Shoigu', 5),\n",
              " ('@nexta_tv', 5),\n",
              " ('Twitter', 5),\n",
              " ('|', 5),\n",
              " ('Odesa', 5),\n",
              " ('MiG-29s', 4),\n",
              " ('Slavutych', 4),\n",
              " ('Stingers', 3),\n",
              " ('Protesters', 3),\n",
              " ('USS', 2)]"
            ]
          },
          "metadata": {},
          "execution_count": 32
        }
      ]
    },
    {
      "cell_type": "code",
      "source": [
        "# Save EVENT in list from text\n",
        "# List Top 20 mentioned EVENT in all article\n",
        "event_all = []\n",
        "for t in all_article_ents:\n",
        "  if t.label_ == 'EVENT':\n",
        "    event_all.append(t.text)\n",
        "\n",
        "Counter(event_all).most_common(20)"
      ],
      "metadata": {
        "colab": {
          "base_uri": "https://localhost:8080/"
        },
        "id": "hKZ-mZ8ucZJl",
        "outputId": "21e2e8e2-0056-483b-c17a-aac97cb107b3"
      },
      "execution_count": 33,
      "outputs": [
        {
          "output_type": "execute_result",
          "data": {
            "text/plain": [
              "[('World War II', 30),\n",
              " ('World War Il', 16),\n",
              " ('World War III', 11),\n",
              " ('the Cold War', 10),\n",
              " ('World War', 6),\n",
              " ('Cold War', 6),\n",
              " ('Kyiv', 5),\n",
              " ('Winter Games', 5),\n",
              " ('Olympics', 4),\n",
              " ('the NATO summit', 4),\n",
              " ('UKRAINE WAR', 4),\n",
              " ('World War Ill', 3),\n",
              " ('WWII', 3),\n",
              " ('World Cup', 3),\n",
              " ('War', 3),\n",
              " ('World War Ill.', 2),\n",
              " ('the NATO alliance', 2),\n",
              " (\"World War'\", 2),\n",
              " ('the Beijing Olympics', 2),\n",
              " ('the \"Middle East and', 2)]"
            ]
          },
          "metadata": {},
          "execution_count": 33
        }
      ]
    },
    {
      "cell_type": "code",
      "source": [
        "# Save DATE in list from text\n",
        "# List Top 20 mentioned DATE in all article\n",
        "date_all = []\n",
        "for t in all_article_ents:\n",
        "  if t.label_ == 'DATE':\n",
        "    date_all.append(t.text)\n",
        "\n",
        "Counter(date_all).most_common(20)"
      ],
      "metadata": {
        "colab": {
          "base_uri": "https://localhost:8080/"
        },
        "id": "dRIXGicqcoIF",
        "outputId": "a2ca15a0-7faf-478e-ec59-c3fc5383adde"
      },
      "execution_count": 34,
      "outputs": [
        {
          "output_type": "execute_result",
          "data": {
            "text/plain": [
              "[('Thursday', 432),\n",
              " ('Friday', 429),\n",
              " ('Tuesday', 427),\n",
              " ('Wednesday', 404),\n",
              " ('Monday', 396),\n",
              " ('Sunday', 332),\n",
              " ('Saturday', 322),\n",
              " ('today', 208),\n",
              " ('last week', 115),\n",
              " ('this week', 109),\n",
              " ('2014', 80),\n",
              " ('February 24', 73),\n",
              " ('recent days', 61),\n",
              " ('March 14th', 52),\n",
              " ('weeks', 49),\n",
              " ('March 16th', 49),\n",
              " ('daily', 46),\n",
              " ('March 29th', 46),\n",
              " ('March 18th', 45),\n",
              " ('tomorrow', 44)]"
            ]
          },
          "metadata": {},
          "execution_count": 34
        }
      ]
    },
    {
      "cell_type": "code",
      "source": [
        "# Save TIME in list from text\n",
        "# List Top 20 mentioned TIME in all article\n",
        "time_all = []\n",
        "for t in all_article_ents:\n",
        "  if t.label_ == 'TIME':\n",
        "    time_all.append(t.text)\n",
        "\n",
        "Counter(time_all).most_common(20)"
      ],
      "metadata": {
        "colab": {
          "base_uri": "https://localhost:8080/"
        },
        "id": "EOzTERWhcuRk",
        "outputId": "ee02a5e3-ad4c-42a3-ed18-dfe758b1fdea"
      },
      "execution_count": 35,
      "outputs": [
        {
          "output_type": "execute_result",
          "data": {
            "text/plain": [
              "[('morning', 59),\n",
              " ('evening', 39),\n",
              " ('night', 26),\n",
              " ('the last 24 hours', 20),\n",
              " ('this morning', 18),\n",
              " ('tonight', 15),\n",
              " ('afternoon', 13),\n",
              " ('10 a.m.', 13),\n",
              " ('the past 24 hours', 12),\n",
              " ('overnight', 11),\n",
              " ('hours', 11),\n",
              " ('last night', 10),\n",
              " ('Earlier today', 9),\n",
              " ('24 hours', 9),\n",
              " ('72 hours', 8),\n",
              " ('midnight', 8),\n",
              " ('Wednesday night', 8),\n",
              " ('later today', 8),\n",
              " ('10 p.m.', 7),\n",
              " ('5 a.m.', 6)]"
            ]
          },
          "metadata": {},
          "execution_count": 35
        }
      ]
    },
    {
      "cell_type": "markdown",
      "source": [
        "## Plot top 20 mentioned PERSON, NORP, ORG, GPE and LOC in the entire dataset."
      ],
      "metadata": {
        "id": "7ChXqMvq4f0F"
      }
    },
    {
      "cell_type": "code",
      "source": [
        "import altair as alt\n",
        "import pandas as pd\n",
        "#PERSON: Person\n",
        "person_20=pd.DataFrame(Counter(person_all).most_common(20), columns=['Person', 'Frequency'])\n",
        "\n",
        "#NORP: Nationalities or religious or political groups\n",
        "norp_20=pd.DataFrame(Counter(norp_all).most_common(20), columns=['Nationality', 'Frequency'])\n",
        "\n",
        "#ORG: Organization\n",
        "org_20=pd.DataFrame(Counter(org_all).most_common(20), columns=['Organization', 'Frequency'])\n",
        "\n",
        "#GPE: Geopolitical entity\n",
        "gpe_20=pd.DataFrame(Counter(gpe_all).most_common(20), columns=['Geo-political', 'Frequency'])\n",
        "\n",
        "#LOC: Loacation \n",
        "loc_20=pd.DataFrame(Counter(loc_all).most_common(20), columns=['Location', 'Frequency'])\n"
      ],
      "metadata": {
        "id": "MBETr8n_5FhR"
      },
      "execution_count": 37,
      "outputs": []
    },
    {
      "cell_type": "code",
      "source": [
        "#Plot top 20 mentioned PERSON in the entire datset\n",
        "alt.Chart(person_20).mark_bar().encode(\n",
        "    x='Person',\n",
        "    y='Frequency'\n",
        ")"
      ],
      "metadata": {
        "colab": {
          "base_uri": "https://localhost:8080/",
          "height": 453
        },
        "id": "HARsEzXJk5Ox",
        "outputId": "49328944-f13d-4088-94be-b9afd3ae9fd7"
      },
      "execution_count": 38,
      "outputs": [
        {
          "output_type": "execute_result",
          "data": {
            "text/html": [
              "\n",
              "<div id=\"altair-viz-ca45b5835bf642689f4e136b1a4fbf6c\"></div>\n",
              "<script type=\"text/javascript\">\n",
              "  var VEGA_DEBUG = (typeof VEGA_DEBUG == \"undefined\") ? {} : VEGA_DEBUG;\n",
              "  (function(spec, embedOpt){\n",
              "    let outputDiv = document.currentScript.previousElementSibling;\n",
              "    if (outputDiv.id !== \"altair-viz-ca45b5835bf642689f4e136b1a4fbf6c\") {\n",
              "      outputDiv = document.getElementById(\"altair-viz-ca45b5835bf642689f4e136b1a4fbf6c\");\n",
              "    }\n",
              "    const paths = {\n",
              "      \"vega\": \"https://cdn.jsdelivr.net/npm//vega@5?noext\",\n",
              "      \"vega-lib\": \"https://cdn.jsdelivr.net/npm//vega-lib?noext\",\n",
              "      \"vega-lite\": \"https://cdn.jsdelivr.net/npm//vega-lite@4.17.0?noext\",\n",
              "      \"vega-embed\": \"https://cdn.jsdelivr.net/npm//vega-embed@6?noext\",\n",
              "    };\n",
              "\n",
              "    function maybeLoadScript(lib, version) {\n",
              "      var key = `${lib.replace(\"-\", \"\")}_version`;\n",
              "      return (VEGA_DEBUG[key] == version) ?\n",
              "        Promise.resolve(paths[lib]) :\n",
              "        new Promise(function(resolve, reject) {\n",
              "          var s = document.createElement('script');\n",
              "          document.getElementsByTagName(\"head\")[0].appendChild(s);\n",
              "          s.async = true;\n",
              "          s.onload = () => {\n",
              "            VEGA_DEBUG[key] = version;\n",
              "            return resolve(paths[lib]);\n",
              "          };\n",
              "          s.onerror = () => reject(`Error loading script: ${paths[lib]}`);\n",
              "          s.src = paths[lib];\n",
              "        });\n",
              "    }\n",
              "\n",
              "    function showError(err) {\n",
              "      outputDiv.innerHTML = `<div class=\"error\" style=\"color:red;\">${err}</div>`;\n",
              "      throw err;\n",
              "    }\n",
              "\n",
              "    function displayChart(vegaEmbed) {\n",
              "      vegaEmbed(outputDiv, spec, embedOpt)\n",
              "        .catch(err => showError(`Javascript Error: ${err.message}<br>This usually means there's a typo in your chart specification. See the javascript console for the full traceback.`));\n",
              "    }\n",
              "\n",
              "    if(typeof define === \"function\" && define.amd) {\n",
              "      requirejs.config({paths});\n",
              "      require([\"vega-embed\"], displayChart, err => showError(`Error loading script: ${err.message}`));\n",
              "    } else {\n",
              "      maybeLoadScript(\"vega\", \"5\")\n",
              "        .then(() => maybeLoadScript(\"vega-lite\", \"4.17.0\"))\n",
              "        .then(() => maybeLoadScript(\"vega-embed\", \"6\"))\n",
              "        .catch(showError)\n",
              "        .then(() => displayChart(vegaEmbed));\n",
              "    }\n",
              "  })({\"config\": {\"view\": {\"continuousWidth\": 400, \"continuousHeight\": 300}}, \"data\": {\"name\": \"data-bc07c797603fe849eeea08e900e467df\"}, \"mark\": \"bar\", \"encoding\": {\"x\": {\"field\": \"Person\", \"type\": \"nominal\"}, \"y\": {\"field\": \"Frequency\", \"type\": \"quantitative\"}}, \"$schema\": \"https://vega.github.io/schema/vega-lite/v4.17.0.json\", \"datasets\": {\"data-bc07c797603fe849eeea08e900e467df\": [{\"Person\": \"Putin\", \"Frequency\": 1113}, {\"Person\": \"Biden\", \"Frequency\": 624}, {\"Person\": \"Zelenskyy\", \"Frequency\": 531}, {\"Person\": \"Vladimir Putin\", \"Frequency\": 404}, {\"Person\": \"Zelensky\", \"Frequency\": 352}, {\"Person\": \"Joe Biden\", \"Frequency\": 283}, {\"Person\": \"Mariupol\", \"Frequency\": 273}, {\"Person\": \"Kharkiv\", \"Frequency\": 240}, {\"Person\": \"Volodymyr Zelensky\", \"Frequency\": 204}, {\"Person\": \"Volodymyr Zelenskyy\", \"Frequency\": 203}, {\"Person\": \"Kirby\", \"Frequency\": 119}, {\"Person\": \"Blinken\", \"Frequency\": 105}, {\"Person\": \"Dmytro Kuleba\", \"Frequency\": 89}, {\"Person\": \"Lviv\", \"Frequency\": 88}, {\"Person\": \"Antony Blinken\", \"Frequency\": 87}, {\"Person\": \"Lavrov\", \"Frequency\": 72}, {\"Person\": \"Boris Johnson\", \"Frequency\": 71}, {\"Person\": \"John Kirby\", \"Frequency\": 69}, {\"Person\": \"Emmanuel Macron\", \"Frequency\": 66}, {\"Person\": \"Peskov\", \"Frequency\": 65}]}}, {\"mode\": \"vega-lite\"});\n",
              "</script>"
            ],
            "text/plain": [
              "alt.Chart(...)"
            ]
          },
          "metadata": {},
          "execution_count": 38
        }
      ]
    },
    {
      "cell_type": "code",
      "source": [
        "#Plot top 20 mentioned NORP in the entire datset\n",
        "alt.Chart(norp_20).mark_bar().encode(\n",
        "    x='Nationality',\n",
        "    y='Frequency'\n",
        ")"
      ],
      "metadata": {
        "colab": {
          "base_uri": "https://localhost:8080/",
          "height": 416
        },
        "id": "U3QfkGXJl_cb",
        "outputId": "95e7a094-7829-4368-cb8f-48b3fc5c9c98"
      },
      "execution_count": 39,
      "outputs": [
        {
          "output_type": "execute_result",
          "data": {
            "text/html": [
              "\n",
              "<div id=\"altair-viz-51e5c6319fbc4007ae47d0dd0037132c\"></div>\n",
              "<script type=\"text/javascript\">\n",
              "  var VEGA_DEBUG = (typeof VEGA_DEBUG == \"undefined\") ? {} : VEGA_DEBUG;\n",
              "  (function(spec, embedOpt){\n",
              "    let outputDiv = document.currentScript.previousElementSibling;\n",
              "    if (outputDiv.id !== \"altair-viz-51e5c6319fbc4007ae47d0dd0037132c\") {\n",
              "      outputDiv = document.getElementById(\"altair-viz-51e5c6319fbc4007ae47d0dd0037132c\");\n",
              "    }\n",
              "    const paths = {\n",
              "      \"vega\": \"https://cdn.jsdelivr.net/npm//vega@5?noext\",\n",
              "      \"vega-lib\": \"https://cdn.jsdelivr.net/npm//vega-lib?noext\",\n",
              "      \"vega-lite\": \"https://cdn.jsdelivr.net/npm//vega-lite@4.17.0?noext\",\n",
              "      \"vega-embed\": \"https://cdn.jsdelivr.net/npm//vega-embed@6?noext\",\n",
              "    };\n",
              "\n",
              "    function maybeLoadScript(lib, version) {\n",
              "      var key = `${lib.replace(\"-\", \"\")}_version`;\n",
              "      return (VEGA_DEBUG[key] == version) ?\n",
              "        Promise.resolve(paths[lib]) :\n",
              "        new Promise(function(resolve, reject) {\n",
              "          var s = document.createElement('script');\n",
              "          document.getElementsByTagName(\"head\")[0].appendChild(s);\n",
              "          s.async = true;\n",
              "          s.onload = () => {\n",
              "            VEGA_DEBUG[key] = version;\n",
              "            return resolve(paths[lib]);\n",
              "          };\n",
              "          s.onerror = () => reject(`Error loading script: ${paths[lib]}`);\n",
              "          s.src = paths[lib];\n",
              "        });\n",
              "    }\n",
              "\n",
              "    function showError(err) {\n",
              "      outputDiv.innerHTML = `<div class=\"error\" style=\"color:red;\">${err}</div>`;\n",
              "      throw err;\n",
              "    }\n",
              "\n",
              "    function displayChart(vegaEmbed) {\n",
              "      vegaEmbed(outputDiv, spec, embedOpt)\n",
              "        .catch(err => showError(`Javascript Error: ${err.message}<br>This usually means there's a typo in your chart specification. See the javascript console for the full traceback.`));\n",
              "    }\n",
              "\n",
              "    if(typeof define === \"function\" && define.amd) {\n",
              "      requirejs.config({paths});\n",
              "      require([\"vega-embed\"], displayChart, err => showError(`Error loading script: ${err.message}`));\n",
              "    } else {\n",
              "      maybeLoadScript(\"vega\", \"5\")\n",
              "        .then(() => maybeLoadScript(\"vega-lite\", \"4.17.0\"))\n",
              "        .then(() => maybeLoadScript(\"vega-embed\", \"6\"))\n",
              "        .catch(showError)\n",
              "        .then(() => displayChart(vegaEmbed));\n",
              "    }\n",
              "  })({\"config\": {\"view\": {\"continuousWidth\": 400, \"continuousHeight\": 300}}, \"data\": {\"name\": \"data-7c1b63658ec1afab4f6fa6bcd09b0963\"}, \"mark\": \"bar\", \"encoding\": {\"x\": {\"field\": \"Nationality\", \"type\": \"nominal\"}, \"y\": {\"field\": \"Frequency\", \"type\": \"quantitative\"}}, \"$schema\": \"https://vega.github.io/schema/vega-lite/v4.17.0.json\", \"datasets\": {\"data-7c1b63658ec1afab4f6fa6bcd09b0963\": [{\"Nationality\": \"Russian\", \"Frequency\": 5800}, {\"Nationality\": \"Ukrainian\", \"Frequency\": 2784}, {\"Nationality\": \"Ukrainians\", \"Frequency\": 482}, {\"Nationality\": \"Russians\", \"Frequency\": 382}, {\"Nationality\": \"European\", \"Frequency\": 208}, {\"Nationality\": \"French\", \"Frequency\": 188}, {\"Nationality\": \"American\", \"Frequency\": 181}, {\"Nationality\": \"Polish\", \"Frequency\": 178}, {\"Nationality\": \"Chinese\", \"Frequency\": 135}, {\"Nationality\": \"British\", \"Frequency\": 120}, {\"Nationality\": \"German\", \"Frequency\": 114}, {\"Nationality\": \"Western\", \"Frequency\": 111}, {\"Nationality\": \"Zaporizhzhia\", \"Frequency\": 107}, {\"Nationality\": \"Turkish\", \"Frequency\": 97}, {\"Nationality\": \"Belarusian\", \"Frequency\": 90}, {\"Nationality\": \"Sumy\", \"Frequency\": 66}, {\"Nationality\": \"Israeli\", \"Frequency\": 53}, {\"Nationality\": \"Americans\", \"Frequency\": 52}, {\"Nationality\": \"Biden\", \"Frequency\": 51}, {\"Nationality\": \"Republican\", \"Frequency\": 39}]}}, {\"mode\": \"vega-lite\"});\n",
              "</script>"
            ],
            "text/plain": [
              "alt.Chart(...)"
            ]
          },
          "metadata": {},
          "execution_count": 39
        }
      ]
    },
    {
      "cell_type": "code",
      "source": [
        "#Plot top 20 mentioned ORG in the entire datset\n",
        "alt.Chart(org_20).mark_bar().encode(\n",
        "    x='Organization',\n",
        "    y='Frequency'\n",
        ")"
      ],
      "metadata": {
        "colab": {
          "base_uri": "https://localhost:8080/",
          "height": 456
        },
        "id": "0Y8rzdjCmMG7",
        "outputId": "16d19502-c375-4392-ed65-a2f48d30800d"
      },
      "execution_count": 40,
      "outputs": [
        {
          "output_type": "execute_result",
          "data": {
            "text/html": [
              "\n",
              "<div id=\"altair-viz-b8f5b346210240c0915d4fa02919b54e\"></div>\n",
              "<script type=\"text/javascript\">\n",
              "  var VEGA_DEBUG = (typeof VEGA_DEBUG == \"undefined\") ? {} : VEGA_DEBUG;\n",
              "  (function(spec, embedOpt){\n",
              "    let outputDiv = document.currentScript.previousElementSibling;\n",
              "    if (outputDiv.id !== \"altair-viz-b8f5b346210240c0915d4fa02919b54e\") {\n",
              "      outputDiv = document.getElementById(\"altair-viz-b8f5b346210240c0915d4fa02919b54e\");\n",
              "    }\n",
              "    const paths = {\n",
              "      \"vega\": \"https://cdn.jsdelivr.net/npm//vega@5?noext\",\n",
              "      \"vega-lib\": \"https://cdn.jsdelivr.net/npm//vega-lib?noext\",\n",
              "      \"vega-lite\": \"https://cdn.jsdelivr.net/npm//vega-lite@4.17.0?noext\",\n",
              "      \"vega-embed\": \"https://cdn.jsdelivr.net/npm//vega-embed@6?noext\",\n",
              "    };\n",
              "\n",
              "    function maybeLoadScript(lib, version) {\n",
              "      var key = `${lib.replace(\"-\", \"\")}_version`;\n",
              "      return (VEGA_DEBUG[key] == version) ?\n",
              "        Promise.resolve(paths[lib]) :\n",
              "        new Promise(function(resolve, reject) {\n",
              "          var s = document.createElement('script');\n",
              "          document.getElementsByTagName(\"head\")[0].appendChild(s);\n",
              "          s.async = true;\n",
              "          s.onload = () => {\n",
              "            VEGA_DEBUG[key] = version;\n",
              "            return resolve(paths[lib]);\n",
              "          };\n",
              "          s.onerror = () => reject(`Error loading script: ${paths[lib]}`);\n",
              "          s.src = paths[lib];\n",
              "        });\n",
              "    }\n",
              "\n",
              "    function showError(err) {\n",
              "      outputDiv.innerHTML = `<div class=\"error\" style=\"color:red;\">${err}</div>`;\n",
              "      throw err;\n",
              "    }\n",
              "\n",
              "    function displayChart(vegaEmbed) {\n",
              "      vegaEmbed(outputDiv, spec, embedOpt)\n",
              "        .catch(err => showError(`Javascript Error: ${err.message}<br>This usually means there's a typo in your chart specification. See the javascript console for the full traceback.`));\n",
              "    }\n",
              "\n",
              "    if(typeof define === \"function\" && define.amd) {\n",
              "      requirejs.config({paths});\n",
              "      require([\"vega-embed\"], displayChart, err => showError(`Error loading script: ${err.message}`));\n",
              "    } else {\n",
              "      maybeLoadScript(\"vega\", \"5\")\n",
              "        .then(() => maybeLoadScript(\"vega-lite\", \"4.17.0\"))\n",
              "        .then(() => maybeLoadScript(\"vega-embed\", \"6\"))\n",
              "        .catch(showError)\n",
              "        .then(() => displayChart(vegaEmbed));\n",
              "    }\n",
              "  })({\"config\": {\"view\": {\"continuousWidth\": 400, \"continuousHeight\": 300}}, \"data\": {\"name\": \"data-ef96e4f18368264d071c54b56a544077\"}, \"mark\": \"bar\", \"encoding\": {\"x\": {\"field\": \"Organization\", \"type\": \"nominal\"}, \"y\": {\"field\": \"Frequency\", \"type\": \"quantitative\"}}, \"$schema\": \"https://vega.github.io/schema/vega-lite/v4.17.0.json\", \"datasets\": {\"data-ef96e4f18368264d071c54b56a544077\": [{\"Organization\": \"NATO\", \"Frequency\": 1040}, {\"Organization\": \"CNN\", \"Frequency\": 748}, {\"Organization\": \"UN\", \"Frequency\": 431}, {\"Organization\": \"EU\", \"Frequency\": 353}, {\"Organization\": \"Kremlin\", \"Frequency\": 321}, {\"Organization\": \"IAEA\", \"Frequency\": 205}, {\"Organization\": \"Reuters\", \"Frequency\": 200}, {\"Organization\": \"Pentagon\", \"Frequency\": 197}, {\"Organization\": \"Al Jazeera\", \"Frequency\": 197}, {\"Organization\": \"Kyiv\", \"Frequency\": 178}, {\"Organization\": \"White House\", \"Frequency\": 157}, {\"Organization\": \"Fox News\", \"Frequency\": 143}, {\"Organization\": \"the White House\", \"Frequency\": 136}, {\"Organization\": \"Telegram\", \"Frequency\": 124}, {\"Organization\": \"State\", \"Frequency\": 121}, {\"Organization\": \"Congress\", \"Frequency\": 101}, {\"Organization\": \"RUSSIA\", \"Frequency\": 95}, {\"Organization\": \"AP\", \"Frequency\": 91}, {\"Organization\": \"Facebook\", \"Frequency\": 82}, {\"Organization\": \"The Associated Press\", \"Frequency\": 74}]}}, {\"mode\": \"vega-lite\"});\n",
              "</script>"
            ],
            "text/plain": [
              "alt.Chart(...)"
            ]
          },
          "metadata": {},
          "execution_count": 40
        }
      ]
    },
    {
      "cell_type": "code",
      "source": [
        "#Plot top 20 mentioned GPE in the entire datset\n",
        "alt.Chart(gpe_20).mark_bar().encode(\n",
        "    x='Geo-political',\n",
        "    y='Frequency'\n",
        ")"
      ],
      "metadata": {
        "colab": {
          "base_uri": "https://localhost:8080/",
          "height": 435
        },
        "id": "PbH-9l2XmSaz",
        "outputId": "ab4cb0ad-997a-48b7-9ecd-c3f15c245a86"
      },
      "execution_count": 41,
      "outputs": [
        {
          "output_type": "execute_result",
          "data": {
            "text/html": [
              "\n",
              "<div id=\"altair-viz-66674ab5b7094f46b3b80fba220bb11c\"></div>\n",
              "<script type=\"text/javascript\">\n",
              "  var VEGA_DEBUG = (typeof VEGA_DEBUG == \"undefined\") ? {} : VEGA_DEBUG;\n",
              "  (function(spec, embedOpt){\n",
              "    let outputDiv = document.currentScript.previousElementSibling;\n",
              "    if (outputDiv.id !== \"altair-viz-66674ab5b7094f46b3b80fba220bb11c\") {\n",
              "      outputDiv = document.getElementById(\"altair-viz-66674ab5b7094f46b3b80fba220bb11c\");\n",
              "    }\n",
              "    const paths = {\n",
              "      \"vega\": \"https://cdn.jsdelivr.net/npm//vega@5?noext\",\n",
              "      \"vega-lib\": \"https://cdn.jsdelivr.net/npm//vega-lib?noext\",\n",
              "      \"vega-lite\": \"https://cdn.jsdelivr.net/npm//vega-lite@4.17.0?noext\",\n",
              "      \"vega-embed\": \"https://cdn.jsdelivr.net/npm//vega-embed@6?noext\",\n",
              "    };\n",
              "\n",
              "    function maybeLoadScript(lib, version) {\n",
              "      var key = `${lib.replace(\"-\", \"\")}_version`;\n",
              "      return (VEGA_DEBUG[key] == version) ?\n",
              "        Promise.resolve(paths[lib]) :\n",
              "        new Promise(function(resolve, reject) {\n",
              "          var s = document.createElement('script');\n",
              "          document.getElementsByTagName(\"head\")[0].appendChild(s);\n",
              "          s.async = true;\n",
              "          s.onload = () => {\n",
              "            VEGA_DEBUG[key] = version;\n",
              "            return resolve(paths[lib]);\n",
              "          };\n",
              "          s.onerror = () => reject(`Error loading script: ${paths[lib]}`);\n",
              "          s.src = paths[lib];\n",
              "        });\n",
              "    }\n",
              "\n",
              "    function showError(err) {\n",
              "      outputDiv.innerHTML = `<div class=\"error\" style=\"color:red;\">${err}</div>`;\n",
              "      throw err;\n",
              "    }\n",
              "\n",
              "    function displayChart(vegaEmbed) {\n",
              "      vegaEmbed(outputDiv, spec, embedOpt)\n",
              "        .catch(err => showError(`Javascript Error: ${err.message}<br>This usually means there's a typo in your chart specification. See the javascript console for the full traceback.`));\n",
              "    }\n",
              "\n",
              "    if(typeof define === \"function\" && define.amd) {\n",
              "      requirejs.config({paths});\n",
              "      require([\"vega-embed\"], displayChart, err => showError(`Error loading script: ${err.message}`));\n",
              "    } else {\n",
              "      maybeLoadScript(\"vega\", \"5\")\n",
              "        .then(() => maybeLoadScript(\"vega-lite\", \"4.17.0\"))\n",
              "        .then(() => maybeLoadScript(\"vega-embed\", \"6\"))\n",
              "        .catch(showError)\n",
              "        .then(() => displayChart(vegaEmbed));\n",
              "    }\n",
              "  })({\"config\": {\"view\": {\"continuousWidth\": 400, \"continuousHeight\": 300}}, \"data\": {\"name\": \"data-5166bf8bb57365a59b5f47466559770e\"}, \"mark\": \"bar\", \"encoding\": {\"x\": {\"field\": \"Geo-political\", \"type\": \"nominal\"}, \"y\": {\"field\": \"Frequency\", \"type\": \"quantitative\"}}, \"$schema\": \"https://vega.github.io/schema/vega-lite/v4.17.0.json\", \"datasets\": {\"data-5166bf8bb57365a59b5f47466559770e\": [{\"Geo-political\": \"Ukraine\", \"Frequency\": 7976}, {\"Geo-political\": \"Russia\", \"Frequency\": 5820}, {\"Geo-political\": \"US\", \"Frequency\": 1958}, {\"Geo-political\": \"Moscow\", \"Frequency\": 888}, {\"Geo-political\": \"Mariupol\", \"Frequency\": 736}, {\"Geo-political\": \"Poland\", \"Frequency\": 570}, {\"Geo-political\": \"China\", \"Frequency\": 480}, {\"Geo-political\": \"Kyiv\", \"Frequency\": 394}, {\"Geo-political\": \"UK\", \"Frequency\": 368}, {\"Geo-political\": \"Ukrainian\", \"Frequency\": 355}, {\"Geo-political\": \"U.S.\", \"Frequency\": 243}, {\"Geo-political\": \"the United States\", \"Frequency\": 228}, {\"Geo-political\": \"Germany\", \"Frequency\": 227}, {\"Geo-political\": \"Belarus\", \"Frequency\": 215}, {\"Geo-political\": \"Turkey\", \"Frequency\": 192}, {\"Geo-political\": \"Chernobyl\", \"Frequency\": 187}, {\"Geo-political\": \"Brussels\", \"Frequency\": 168}, {\"Geo-political\": \"France\", \"Frequency\": 152}, {\"Geo-political\": \"Warsaw\", \"Frequency\": 113}, {\"Geo-political\": \"Donbas\", \"Frequency\": 102}]}}, {\"mode\": \"vega-lite\"});\n",
              "</script>"
            ],
            "text/plain": [
              "alt.Chart(...)"
            ]
          },
          "metadata": {},
          "execution_count": 41
        }
      ]
    },
    {
      "cell_type": "code",
      "source": [
        "#Plot top 20 mentioned LOC in the entire datset\n",
        "alt.Chart(loc_20).mark_bar().encode(\n",
        "    x='Location',\n",
        "    y='Frequency'\n",
        ")"
      ],
      "metadata": {
        "colab": {
          "base_uri": "https://localhost:8080/",
          "height": 460
        },
        "id": "-kOpiF9ZmY43",
        "outputId": "37cd7156-6cb0-4f14-d5c1-db0faefa570c"
      },
      "execution_count": 42,
      "outputs": [
        {
          "output_type": "execute_result",
          "data": {
            "text/html": [
              "\n",
              "<div id=\"altair-viz-b8d5e8477655446e83a08dea0c0dfb6d\"></div>\n",
              "<script type=\"text/javascript\">\n",
              "  var VEGA_DEBUG = (typeof VEGA_DEBUG == \"undefined\") ? {} : VEGA_DEBUG;\n",
              "  (function(spec, embedOpt){\n",
              "    let outputDiv = document.currentScript.previousElementSibling;\n",
              "    if (outputDiv.id !== \"altair-viz-b8d5e8477655446e83a08dea0c0dfb6d\") {\n",
              "      outputDiv = document.getElementById(\"altair-viz-b8d5e8477655446e83a08dea0c0dfb6d\");\n",
              "    }\n",
              "    const paths = {\n",
              "      \"vega\": \"https://cdn.jsdelivr.net/npm//vega@5?noext\",\n",
              "      \"vega-lib\": \"https://cdn.jsdelivr.net/npm//vega-lib?noext\",\n",
              "      \"vega-lite\": \"https://cdn.jsdelivr.net/npm//vega-lite@4.17.0?noext\",\n",
              "      \"vega-embed\": \"https://cdn.jsdelivr.net/npm//vega-embed@6?noext\",\n",
              "    };\n",
              "\n",
              "    function maybeLoadScript(lib, version) {\n",
              "      var key = `${lib.replace(\"-\", \"\")}_version`;\n",
              "      return (VEGA_DEBUG[key] == version) ?\n",
              "        Promise.resolve(paths[lib]) :\n",
              "        new Promise(function(resolve, reject) {\n",
              "          var s = document.createElement('script');\n",
              "          document.getElementsByTagName(\"head\")[0].appendChild(s);\n",
              "          s.async = true;\n",
              "          s.onload = () => {\n",
              "            VEGA_DEBUG[key] = version;\n",
              "            return resolve(paths[lib]);\n",
              "          };\n",
              "          s.onerror = () => reject(`Error loading script: ${paths[lib]}`);\n",
              "          s.src = paths[lib];\n",
              "        });\n",
              "    }\n",
              "\n",
              "    function showError(err) {\n",
              "      outputDiv.innerHTML = `<div class=\"error\" style=\"color:red;\">${err}</div>`;\n",
              "      throw err;\n",
              "    }\n",
              "\n",
              "    function displayChart(vegaEmbed) {\n",
              "      vegaEmbed(outputDiv, spec, embedOpt)\n",
              "        .catch(err => showError(`Javascript Error: ${err.message}<br>This usually means there's a typo in your chart specification. See the javascript console for the full traceback.`));\n",
              "    }\n",
              "\n",
              "    if(typeof define === \"function\" && define.amd) {\n",
              "      requirejs.config({paths});\n",
              "      require([\"vega-embed\"], displayChart, err => showError(`Error loading script: ${err.message}`));\n",
              "    } else {\n",
              "      maybeLoadScript(\"vega\", \"5\")\n",
              "        .then(() => maybeLoadScript(\"vega-lite\", \"4.17.0\"))\n",
              "        .then(() => maybeLoadScript(\"vega-embed\", \"6\"))\n",
              "        .catch(showError)\n",
              "        .then(() => displayChart(vegaEmbed));\n",
              "    }\n",
              "  })({\"config\": {\"view\": {\"continuousWidth\": 400, \"continuousHeight\": 300}}, \"data\": {\"name\": \"data-652ca79fb07c4431d45f0f10460871b3\"}, \"mark\": \"bar\", \"encoding\": {\"x\": {\"field\": \"Location\", \"type\": \"nominal\"}, \"y\": {\"field\": \"Frequency\", \"type\": \"quantitative\"}}, \"$schema\": \"https://vega.github.io/schema/vega-lite/v4.17.0.json\", \"datasets\": {\"data-652ca79fb07c4431d45f0f10460871b3\": [{\"Location\": \"Kyiv\", \"Frequency\": 667}, {\"Location\": \"Europe\", \"Frequency\": 423}, {\"Location\": \"West\", \"Frequency\": 103}, {\"Location\": \"the Black Sea\", \"Frequency\": 49}, {\"Location\": \"Black Sea\", \"Frequency\": 45}, {\"Location\": \"Biden\", \"Frequency\": 38}, {\"Location\": \"Mariupol\", \"Frequency\": 28}, {\"Location\": \"the Middle East\", \"Frequency\": 16}, {\"Location\": \"the Irpin River\", \"Frequency\": 15}, {\"Location\": \"Eastern Europe\", \"Frequency\": 13}, {\"Location\": \"Africa\", \"Frequency\": 13}, {\"Location\": \"the Sea of Azov\", \"Frequency\": 13}, {\"Location\": \"the Crimean Peninsula\", \"Frequency\": 12}, {\"Location\": \"Asia\", \"Frequency\": 11}, {\"Location\": \"Dnipro\", \"Frequency\": 10}, {\"Location\": \"Berdyansk\", \"Frequency\": 8}, {\"Location\": \"the Azov Sea\", \"Frequency\": 7}, {\"Location\": \"the Dnieper River\", \"Frequency\": 7}, {\"Location\": \"Gulf\", \"Frequency\": 7}, {\"Location\": \"Podilskyi district\", \"Frequency\": 6}]}}, {\"mode\": \"vega-lite\"});\n",
              "</script>"
            ],
            "text/plain": [
              "alt.Chart(...)"
            ]
          },
          "metadata": {},
          "execution_count": 42
        }
      ]
    },
    {
      "cell_type": "markdown",
      "source": [
        "## Compare the distributions of the entities between the news sources."
      ],
      "metadata": {
        "id": "Qu_udtOJg8yo"
      }
    },
    {
      "cell_type": "code",
      "source": [
        "# News from 03/12/2022 ~ 03/30/2022\n",
        "# Top 20 mentioned person in fox\n",
        "person_fox = []\n",
        "for t in fox_article_1230.ents:\n",
        "  if t.label_ == 'PERSON':\n",
        "    person_fox.append(t.text)\n",
        "\n",
        "# Top 20 mentioned person in cnn\n",
        "person_cnn = []\n",
        "for t in cnn_article_1230.ents:\n",
        "  if t.label_ == 'PERSON':\n",
        "    person_cnn.append(t.text)\n",
        "\n",
        "\n",
        "# Top 20 mentioned person in aljazeera\n",
        "person_alja = []\n",
        "for t in alja_article_1230.ents:\n",
        "  if t.label_ == 'PERSON':\n",
        "    person_alja.append(t.text)\n"
      ],
      "metadata": {
        "id": "sOFLGfa4ndAo"
      },
      "execution_count": 43,
      "outputs": []
    },
    {
      "cell_type": "code",
      "source": [
        "# News from 03/12/2022 ~ 03/30/2022\n",
        "# Top 20 mentioned NORP in fox\n",
        "norp_fox = []\n",
        "for t in fox_article_1230.ents:\n",
        "  if t.label_ == 'NORP':\n",
        "    norp_fox.append(t.text)\n",
        "\n",
        "# Top 20 mentioned NORP in cnn\n",
        "norp_cnn = []\n",
        "for t in cnn_article_1230.ents:\n",
        "  if t.label_ == 'NORP':\n",
        "    norp_cnn.append(t.text)\n",
        "\n",
        "# Top 20 mentioned NORP in aljazeera\n",
        "norp_alja = []\n",
        "for t in alja_article_1230.ents:\n",
        "  if t.label_ == 'NORP':\n",
        "    norp_alja.append(t.text)\n"
      ],
      "metadata": {
        "id": "4cUkUESJoepe"
      },
      "execution_count": 44,
      "outputs": []
    },
    {
      "cell_type": "code",
      "source": [
        "# News from 03/12/2022 ~ 03/30/2022\n",
        "# Top 20 mentioned ORG in fox\n",
        "org_fox = []\n",
        "for t in fox_article_1230.ents:\n",
        "  if t.label_ == 'ORG':\n",
        "    org_fox.append(t.text)\n",
        "\n",
        "# Top 20 mentioned ORG in cnn\n",
        "org_cnn = []\n",
        "for t in cnn_article_1230.ents:\n",
        "  if t.label_ == 'ORG':\n",
        "    org_cnn.append(t.text)\n",
        "\n",
        "# Top 20 mentioned ORG in aljazeera\n",
        "org_alja = []\n",
        "for t in alja_article_1230.ents:\n",
        "  if t.label_ == 'ORG':\n",
        "    org_alja.append(t.text)\n"
      ],
      "metadata": {
        "id": "86ArWUpSo3J9"
      },
      "execution_count": 45,
      "outputs": []
    },
    {
      "cell_type": "code",
      "source": [
        "# News from 03/12/2022 ~ 03/30/2022\n",
        "# Top 20 mentioned GPE in fox\n",
        "gpe_fox = []\n",
        "for t in fox_article_1230.ents:\n",
        "  if t.label_ == 'GPE':\n",
        "    gpe_fox.append(t.text)\n",
        "\n",
        "# Top 20 mentioned GPE in cnn\n",
        "gpe_cnn = []\n",
        "for t in cnn_article_1230.ents:\n",
        "  if t.label_ == 'GPE':\n",
        "    gpe_cnn.append(t.text)\n",
        "\n",
        "# Top 20 mentioned GPE in aljazeera\n",
        "gpe_alja = []\n",
        "for t in alja_article_1230.ents:\n",
        "  if t.label_ == 'GPE':\n",
        "    gpe_alja.append(t.text)\n"
      ],
      "metadata": {
        "id": "0QTMyQnFpMf_"
      },
      "execution_count": 46,
      "outputs": []
    },
    {
      "cell_type": "code",
      "source": [
        "# News from 03/12/2022 ~ 03/30/2022\n",
        "# Top 20 mentioned LOC in fox\n",
        "loc_fox = []\n",
        "for t in fox_article_1230.ents:\n",
        "  if t.label_ == 'LOC':\n",
        "    loc_fox.append(t.text)\n",
        "\n",
        "# Top 20 mentioned LOC in cnn\n",
        "loc_cnn = []\n",
        "for t in cnn_article_1230.ents:\n",
        "  if t.label_ == 'LOC':\n",
        "    loc_cnn.append(t.text)\n",
        "\n",
        "# Top 20 mentioned LOC in aljazeera\n",
        "loc_alja = []\n",
        "for t in alja_article_1230.ents:\n",
        "  if t.label_ == 'LOC':\n",
        "    loc_alja.append(t.text)\n"
      ],
      "metadata": {
        "id": "2pf6s19WpfS3"
      },
      "execution_count": 47,
      "outputs": []
    },
    {
      "cell_type": "markdown",
      "source": [
        "> I don't think 'Biden' and 'Macron' is a country or Loacation... Misclassification!"
      ],
      "metadata": {
        "id": "42miBfRup_sj"
      }
    },
    {
      "cell_type": "code",
      "source": [
        "#FOX\n",
        "#PERSON: Person \n",
        "person_fox20=pd.DataFrame(Counter(person_fox).most_common(20), columns=['Person', 'Frequency'])\n",
        "\n",
        "#NORP: Nationalities or religious or political groups\n",
        "norp_fox20=pd.DataFrame(Counter(norp_fox).most_common(20), columns=['Nationality', 'Frequency'])\n",
        "\n",
        "#ORG: Organization\n",
        "org_fox20=pd.DataFrame(Counter(org_fox).most_common(20), columns=['Organization', 'Frequency'])\n",
        "\n",
        "#GPE: Geopolitical entity\n",
        "gpe_fox20=pd.DataFrame(Counter(gpe_fox).most_common(20), columns=['Geo-political', 'Frequency'])\n",
        "\n",
        "#LOC: Loacation \n",
        "loc_fox20=pd.DataFrame(Counter(loc_fox).most_common(20), columns=['Location', 'Frequency'])\n"
      ],
      "metadata": {
        "id": "S_kZd2pQg-C2"
      },
      "execution_count": 48,
      "outputs": []
    },
    {
      "cell_type": "code",
      "source": [
        "#CNN\n",
        "#PERSON: Person \n",
        "person_cnn20=pd.DataFrame(Counter(person_cnn).most_common(20), columns=['Person', 'Frequency'])\n",
        "\n",
        "#NORP: Nationalities or religious or political groups\n",
        "norp_cnn20=pd.DataFrame(Counter(norp_cnn).most_common(20), columns=['Nationality', 'Frequency'])\n",
        "\n",
        "#ORG: Organization\n",
        "org_cnn20=pd.DataFrame(Counter(org_cnn).most_common(20), columns=['Organization', 'Frequency'])\n",
        "\n",
        "#GPE: Geopolitical entity\n",
        "gpe_cnn20=pd.DataFrame(Counter(gpe_cnn).most_common(20), columns=['Geo-political', 'Frequency'])\n",
        "\n",
        "#LOC: Loacation \n",
        "loc_cnn20=pd.DataFrame(Counter(loc_cnn).most_common(20), columns=['Location', 'Frequency'])\n"
      ],
      "metadata": {
        "id": "CrWgGMd4qW3R"
      },
      "execution_count": 49,
      "outputs": []
    },
    {
      "cell_type": "code",
      "source": [
        "#ALJAZEERA\n",
        "#PERSON: Person \n",
        "person_alja20=pd.DataFrame(Counter(person_alja).most_common(20), columns=['Person', 'Frequency'])\n",
        "\n",
        "#NORP: Nationalities or religious or political groups\n",
        "norp_alja20=pd.DataFrame(Counter(norp_alja).most_common(20), columns=['Nationality', 'Frequency'])\n",
        "\n",
        "#ORG: Organization\n",
        "org_alja20=pd.DataFrame(Counter(org_alja).most_common(20), columns=['Organization', 'Frequency'])\n",
        "\n",
        "#GPE: Geopolitical entity\n",
        "gpe_alja20=pd.DataFrame(Counter(gpe_alja).most_common(20), columns=['Geo-political', 'Frequency'])\n",
        "\n",
        "#LOC: Loacation \n",
        "loc_alja20=pd.DataFrame(Counter(loc_alja).most_common(20), columns=['Location', 'Frequency'])\n"
      ],
      "metadata": {
        "id": "3f8zpJkPqXcm"
      },
      "execution_count": 50,
      "outputs": []
    },
    {
      "cell_type": "markdown",
      "source": [
        "### Distribution of \"PERSON\" Entity from each news source "
      ],
      "metadata": {
        "id": "9kA2Ok21q_0f"
      }
    },
    {
      "cell_type": "code",
      "source": [
        "#Bar plots\n",
        "hist1=alt.Chart(person_fox20).mark_bar().encode(\n",
        "    x='Person',\n",
        "    y='Frequency'\n",
        ").properties(\n",
        "    width=350,\n",
        "    height=350,\n",
        "    title='Fox'\n",
        ")\n",
        "\n",
        "hist2=alt.Chart(person_cnn20).mark_bar().encode(\n",
        "    x='Person',\n",
        "    y='Frequency'\n",
        ").properties(\n",
        "    width=350,\n",
        "    height=350,\n",
        "    title='CNN'\n",
        ")\n",
        "\n",
        "hist3=alt.Chart(person_alja20).mark_bar().encode(\n",
        "    x='Person',\n",
        "    y='Frequency'\n",
        ").properties(\n",
        "    width=350,\n",
        "    height=350,\n",
        "    title='Aljazeera'\n",
        ")\n",
        "\n",
        "hist1 | hist2 | hist3"
      ],
      "metadata": {
        "colab": {
          "base_uri": "https://localhost:8080/",
          "height": 522
        },
        "id": "vcmqVC5_qo62",
        "outputId": "884d02ce-4e8f-48f3-e50c-1ecf304feb66"
      },
      "execution_count": 51,
      "outputs": [
        {
          "output_type": "execute_result",
          "data": {
            "text/html": [
              "\n",
              "<div id=\"altair-viz-33a65be1387c4e27ad62a5a2a0ed36dd\"></div>\n",
              "<script type=\"text/javascript\">\n",
              "  var VEGA_DEBUG = (typeof VEGA_DEBUG == \"undefined\") ? {} : VEGA_DEBUG;\n",
              "  (function(spec, embedOpt){\n",
              "    let outputDiv = document.currentScript.previousElementSibling;\n",
              "    if (outputDiv.id !== \"altair-viz-33a65be1387c4e27ad62a5a2a0ed36dd\") {\n",
              "      outputDiv = document.getElementById(\"altair-viz-33a65be1387c4e27ad62a5a2a0ed36dd\");\n",
              "    }\n",
              "    const paths = {\n",
              "      \"vega\": \"https://cdn.jsdelivr.net/npm//vega@5?noext\",\n",
              "      \"vega-lib\": \"https://cdn.jsdelivr.net/npm//vega-lib?noext\",\n",
              "      \"vega-lite\": \"https://cdn.jsdelivr.net/npm//vega-lite@4.17.0?noext\",\n",
              "      \"vega-embed\": \"https://cdn.jsdelivr.net/npm//vega-embed@6?noext\",\n",
              "    };\n",
              "\n",
              "    function maybeLoadScript(lib, version) {\n",
              "      var key = `${lib.replace(\"-\", \"\")}_version`;\n",
              "      return (VEGA_DEBUG[key] == version) ?\n",
              "        Promise.resolve(paths[lib]) :\n",
              "        new Promise(function(resolve, reject) {\n",
              "          var s = document.createElement('script');\n",
              "          document.getElementsByTagName(\"head\")[0].appendChild(s);\n",
              "          s.async = true;\n",
              "          s.onload = () => {\n",
              "            VEGA_DEBUG[key] = version;\n",
              "            return resolve(paths[lib]);\n",
              "          };\n",
              "          s.onerror = () => reject(`Error loading script: ${paths[lib]}`);\n",
              "          s.src = paths[lib];\n",
              "        });\n",
              "    }\n",
              "\n",
              "    function showError(err) {\n",
              "      outputDiv.innerHTML = `<div class=\"error\" style=\"color:red;\">${err}</div>`;\n",
              "      throw err;\n",
              "    }\n",
              "\n",
              "    function displayChart(vegaEmbed) {\n",
              "      vegaEmbed(outputDiv, spec, embedOpt)\n",
              "        .catch(err => showError(`Javascript Error: ${err.message}<br>This usually means there's a typo in your chart specification. See the javascript console for the full traceback.`));\n",
              "    }\n",
              "\n",
              "    if(typeof define === \"function\" && define.amd) {\n",
              "      requirejs.config({paths});\n",
              "      require([\"vega-embed\"], displayChart, err => showError(`Error loading script: ${err.message}`));\n",
              "    } else {\n",
              "      maybeLoadScript(\"vega\", \"5\")\n",
              "        .then(() => maybeLoadScript(\"vega-lite\", \"4.17.0\"))\n",
              "        .then(() => maybeLoadScript(\"vega-embed\", \"6\"))\n",
              "        .catch(showError)\n",
              "        .then(() => displayChart(vegaEmbed));\n",
              "    }\n",
              "  })({\"config\": {\"view\": {\"continuousWidth\": 400, \"continuousHeight\": 300}}, \"hconcat\": [{\"data\": {\"name\": \"data-e8dd1c69804a970ad60b8acad53f6704\"}, \"mark\": \"bar\", \"encoding\": {\"x\": {\"field\": \"Person\", \"type\": \"nominal\"}, \"y\": {\"field\": \"Frequency\", \"type\": \"quantitative\"}}, \"height\": 350, \"title\": \"Fox\", \"width\": 350}, {\"data\": {\"name\": \"data-14459b96693030b2a50b0992131b82c3\"}, \"mark\": \"bar\", \"encoding\": {\"x\": {\"field\": \"Person\", \"type\": \"nominal\"}, \"y\": {\"field\": \"Frequency\", \"type\": \"quantitative\"}}, \"height\": 350, \"title\": \"CNN\", \"width\": 350}, {\"data\": {\"name\": \"data-ad290a58ea77e40917e14e43d2c7ed7c\"}, \"mark\": \"bar\", \"encoding\": {\"x\": {\"field\": \"Person\", \"type\": \"nominal\"}, \"y\": {\"field\": \"Frequency\", \"type\": \"quantitative\"}}, \"height\": 350, \"title\": \"Aljazeera\", \"width\": 350}], \"$schema\": \"https://vega.github.io/schema/vega-lite/v4.17.0.json\", \"datasets\": {\"data-e8dd1c69804a970ad60b8acad53f6704\": [{\"Person\": \"Putin\", \"Frequency\": 260}, {\"Person\": \"Biden\", \"Frequency\": 219}, {\"Person\": \"Zelenskyy\", \"Frequency\": 168}, {\"Person\": \"Vladimir Putin\", \"Frequency\": 127}, {\"Person\": \"Volodymyr Zelenskyy\", \"Frequency\": 120}, {\"Person\": \"Mariupol\", \"Frequency\": 36}, {\"Person\": \"Kirby\", \"Frequency\": 32}, {\"Person\": \"Joe Biden\", \"Frequency\": 23}, {\"Person\": \"John Kirby\", \"Frequency\": 21}, {\"Person\": \"Dmytro Kuleba\", \"Frequency\": 18}, {\"Person\": \"Lviv\", \"Frequency\": 18}, {\"Person\": \"Viadimir Putin\", \"Frequency\": 18}, {\"Person\": \"Xi Jinping\", \"Frequency\": 15}, {\"Person\": \"Boris Johnson\", \"Frequency\": 15}, {\"Person\": \"Brie Stimson\", \"Frequency\": 14}, {\"Person\": \"Greg Norman\", \"Frequency\": 14}, {\"Person\": \"Antony Blinken\", \"Frequency\": 13}, {\"Person\": \"Lawrence Richard\", \"Frequency\": 13}, {\"Person\": \"Jens Stoltenberg\", \"Frequency\": 13}, {\"Person\": \"Blinken\", \"Frequency\": 12}], \"data-14459b96693030b2a50b0992131b82c3\": [{\"Person\": \"Zelensky\", \"Frequency\": 227}, {\"Person\": \"Putin\", \"Frequency\": 225}, {\"Person\": \"Biden\", \"Frequency\": 207}, {\"Person\": \"Joe Biden\", \"Frequency\": 146}, {\"Person\": \"Volodymyr Zelensky\", \"Frequency\": 139}, {\"Person\": \"Vladimir Putin\", \"Frequency\": 112}, {\"Person\": \"Mariupol\", \"Frequency\": 69}, {\"Person\": \"Kharkiv\", \"Frequency\": 48}, {\"Person\": \"Sullivan\", \"Frequency\": 36}, {\"Person\": \"Lviv\", \"Frequency\": 33}, {\"Person\": \"Kirby\", \"Frequency\": 27}, {\"Person\": \"Luhansk\", \"Frequency\": 23}, {\"Person\": \"Emmanuel Macron\", \"Frequency\": 23}, {\"Person\": \"Brent Renaud\", \"Frequency\": 23}, {\"Person\": \"Antony Blinken\", \"Frequency\": 19}, {\"Person\": \"Peskov\", \"Frequency\": 18}, {\"Person\": \"Jake Sullivan\", \"Frequency\": 18}, {\"Person\": \"Johnson\", \"Frequency\": 18}, {\"Person\": \"Jen Psaki\", \"Frequency\": 15}, {\"Person\": \"Bookmark CNN's\", \"Frequency\": 14}], \"data-ad290a58ea77e40917e14e43d2c7ed7c\": [{\"Person\": \"Putin\", \"Frequency\": 271}, {\"Person\": \"Zelenskyy\", \"Frequency\": 229}, {\"Person\": \"Biden\", \"Frequency\": 100}, {\"Person\": \"Mariupol\", \"Frequency\": 80}, {\"Person\": \"Vladimir Putin\", \"Frequency\": 75}, {\"Person\": \"Kharkiv\", \"Frequency\": 68}, {\"Person\": \"Volodymyr Zelenskyy\", \"Frequency\": 63}, {\"Person\": \"Joe Biden\", \"Frequency\": 50}, {\"Person\": \"Iryna Vereshchuk\", \"Frequency\": 32}, {\"Person\": \"Kyiv\", \"Frequency\": 26}, {\"Person\": \"Dmitry Peskov\", \"Frequency\": 25}, {\"Person\": \"Peskov\", \"Frequency\": 23}, {\"Person\": \"Blinken\", \"Frequency\": 23}, {\"Person\": \"Dmytro Kuleba\", \"Frequency\": 22}, {\"Person\": \"Lviv\", \"Frequency\": 20}, {\"Person\": \"Abramovich\", \"Frequency\": 20}, {\"Person\": \"Lavrov\", \"Frequency\": 20}, {\"Person\": \"Erdogan\", \"Frequency\": 19}, {\"Person\": \"Johnson\", \"Frequency\": 19}, {\"Person\": \"Sergey Lavrov\", \"Frequency\": 18}]}}, {\"mode\": \"vega-lite\"});\n",
              "</script>"
            ],
            "text/plain": [
              "alt.HConcatChart(...)"
            ]
          },
          "metadata": {},
          "execution_count": 51
        }
      ]
    },
    {
      "cell_type": "markdown",
      "source": [
        "### Distribution of \"NORP\" Entity from each news source "
      ],
      "metadata": {
        "id": "-aupVDI1tHJ3"
      }
    },
    {
      "cell_type": "code",
      "source": [
        "#Bar plots\n",
        "hist1=alt.Chart(norp_fox20).mark_bar().encode(\n",
        "    x='Nationality',\n",
        "    y='Frequency'\n",
        ").properties(\n",
        "    width=350,\n",
        "    height=350,\n",
        "    title='Fox'\n",
        ")\n",
        "\n",
        "hist2=alt.Chart(norp_cnn20).mark_bar().encode(\n",
        "    x='Nationality',\n",
        "    y='Frequency'\n",
        ").properties(\n",
        "    width=350,\n",
        "    height=350,\n",
        "    title='CNN'\n",
        ")\n",
        "\n",
        "hist3=alt.Chart(norp_alja20).mark_bar().encode(\n",
        "    x='Nationality',\n",
        "    y='Frequency'\n",
        ").properties(\n",
        "    width=350,\n",
        "    height=350,\n",
        "    title='Aljazeera'\n",
        ")\n",
        "\n",
        "hist1 | hist2 | hist3"
      ],
      "metadata": {
        "colab": {
          "base_uri": "https://localhost:8080/",
          "height": 485
        },
        "id": "aNGHQpKZtEko",
        "outputId": "bfe9bfb4-ec77-4882-e4c1-92d161d8ee51"
      },
      "execution_count": 52,
      "outputs": [
        {
          "output_type": "execute_result",
          "data": {
            "text/html": [
              "\n",
              "<div id=\"altair-viz-0635c88beb3046d8bab1b0a5d4c6b58f\"></div>\n",
              "<script type=\"text/javascript\">\n",
              "  var VEGA_DEBUG = (typeof VEGA_DEBUG == \"undefined\") ? {} : VEGA_DEBUG;\n",
              "  (function(spec, embedOpt){\n",
              "    let outputDiv = document.currentScript.previousElementSibling;\n",
              "    if (outputDiv.id !== \"altair-viz-0635c88beb3046d8bab1b0a5d4c6b58f\") {\n",
              "      outputDiv = document.getElementById(\"altair-viz-0635c88beb3046d8bab1b0a5d4c6b58f\");\n",
              "    }\n",
              "    const paths = {\n",
              "      \"vega\": \"https://cdn.jsdelivr.net/npm//vega@5?noext\",\n",
              "      \"vega-lib\": \"https://cdn.jsdelivr.net/npm//vega-lib?noext\",\n",
              "      \"vega-lite\": \"https://cdn.jsdelivr.net/npm//vega-lite@4.17.0?noext\",\n",
              "      \"vega-embed\": \"https://cdn.jsdelivr.net/npm//vega-embed@6?noext\",\n",
              "    };\n",
              "\n",
              "    function maybeLoadScript(lib, version) {\n",
              "      var key = `${lib.replace(\"-\", \"\")}_version`;\n",
              "      return (VEGA_DEBUG[key] == version) ?\n",
              "        Promise.resolve(paths[lib]) :\n",
              "        new Promise(function(resolve, reject) {\n",
              "          var s = document.createElement('script');\n",
              "          document.getElementsByTagName(\"head\")[0].appendChild(s);\n",
              "          s.async = true;\n",
              "          s.onload = () => {\n",
              "            VEGA_DEBUG[key] = version;\n",
              "            return resolve(paths[lib]);\n",
              "          };\n",
              "          s.onerror = () => reject(`Error loading script: ${paths[lib]}`);\n",
              "          s.src = paths[lib];\n",
              "        });\n",
              "    }\n",
              "\n",
              "    function showError(err) {\n",
              "      outputDiv.innerHTML = `<div class=\"error\" style=\"color:red;\">${err}</div>`;\n",
              "      throw err;\n",
              "    }\n",
              "\n",
              "    function displayChart(vegaEmbed) {\n",
              "      vegaEmbed(outputDiv, spec, embedOpt)\n",
              "        .catch(err => showError(`Javascript Error: ${err.message}<br>This usually means there's a typo in your chart specification. See the javascript console for the full traceback.`));\n",
              "    }\n",
              "\n",
              "    if(typeof define === \"function\" && define.amd) {\n",
              "      requirejs.config({paths});\n",
              "      require([\"vega-embed\"], displayChart, err => showError(`Error loading script: ${err.message}`));\n",
              "    } else {\n",
              "      maybeLoadScript(\"vega\", \"5\")\n",
              "        .then(() => maybeLoadScript(\"vega-lite\", \"4.17.0\"))\n",
              "        .then(() => maybeLoadScript(\"vega-embed\", \"6\"))\n",
              "        .catch(showError)\n",
              "        .then(() => displayChart(vegaEmbed));\n",
              "    }\n",
              "  })({\"config\": {\"view\": {\"continuousWidth\": 400, \"continuousHeight\": 300}}, \"hconcat\": [{\"data\": {\"name\": \"data-a82f0c7729b27cf14cde103d606a5bed\"}, \"mark\": \"bar\", \"encoding\": {\"x\": {\"field\": \"Nationality\", \"type\": \"nominal\"}, \"y\": {\"field\": \"Frequency\", \"type\": \"quantitative\"}}, \"height\": 350, \"title\": \"Fox\", \"width\": 350}, {\"data\": {\"name\": \"data-78fa2725c408664db3326c6807254cac\"}, \"mark\": \"bar\", \"encoding\": {\"x\": {\"field\": \"Nationality\", \"type\": \"nominal\"}, \"y\": {\"field\": \"Frequency\", \"type\": \"quantitative\"}}, \"height\": 350, \"title\": \"CNN\", \"width\": 350}, {\"data\": {\"name\": \"data-0f09b6e42f48623d0db15d901d59abab\"}, \"mark\": \"bar\", \"encoding\": {\"x\": {\"field\": \"Nationality\", \"type\": \"nominal\"}, \"y\": {\"field\": \"Frequency\", \"type\": \"quantitative\"}}, \"height\": 350, \"title\": \"Aljazeera\", \"width\": 350}], \"$schema\": \"https://vega.github.io/schema/vega-lite/v4.17.0.json\", \"datasets\": {\"data-a82f0c7729b27cf14cde103d606a5bed\": [{\"Nationality\": \"Russian\", \"Frequency\": 1004}, {\"Nationality\": \"Ukrainian\", \"Frequency\": 483}, {\"Nationality\": \"Russians\", \"Frequency\": 81}, {\"Nationality\": \"Ukrainians\", \"Frequency\": 78}, {\"Nationality\": \"American\", \"Frequency\": 53}, {\"Nationality\": \"Chinese\", \"Frequency\": 31}, {\"Nationality\": \"Polish\", \"Frequency\": 26}, {\"Nationality\": \"European\", \"Frequency\": 19}, {\"Nationality\": \"British\", \"Frequency\": 14}, {\"Nationality\": \"Biden\", \"Frequency\": 12}, {\"Nationality\": \"Turkish\", \"Frequency\": 11}, {\"Nationality\": \"Republican\", \"Frequency\": 10}, {\"Nationality\": \"German\", \"Frequency\": 10}, {\"Nationality\": \"Instagram\", \"Frequency\": 9}, {\"Nationality\": \"Israeli\", \"Frequency\": 9}, {\"Nationality\": \"Democrats\", \"Frequency\": 8}, {\"Nationality\": \"Soviet\", \"Frequency\": 8}, {\"Nationality\": \"French\", \"Frequency\": 7}, {\"Nationality\": \"Belarusian\", \"Frequency\": 6}, {\"Nationality\": \"Japanese\", \"Frequency\": 6}], \"data-78fa2725c408664db3326c6807254cac\": [{\"Nationality\": \"Russian\", \"Frequency\": 1424}, {\"Nationality\": \"Ukrainian\", \"Frequency\": 767}, {\"Nationality\": \"Ukrainians\", \"Frequency\": 153}, {\"Nationality\": \"Russians\", \"Frequency\": 114}, {\"Nationality\": \"European\", \"Frequency\": 74}, {\"Nationality\": \"American\", \"Frequency\": 72}, {\"Nationality\": \"French\", \"Frequency\": 71}, {\"Nationality\": \"Chinese\", \"Frequency\": 44}, {\"Nationality\": \"Polish\", \"Frequency\": 33}, {\"Nationality\": \"German\", \"Frequency\": 32}, {\"Nationality\": \"Western\", \"Frequency\": 29}, {\"Nationality\": \"Turkish\", \"Frequency\": 28}, {\"Nationality\": \"Belarusian\", \"Frequency\": 19}, {\"Nationality\": \"Biden\", \"Frequency\": 18}, {\"Nationality\": \"British\", \"Frequency\": 15}, {\"Nationality\": \"Soviet\", \"Frequency\": 13}, {\"Nationality\": \"Republican\", \"Frequency\": 11}, {\"Nationality\": \"Israeli\", \"Frequency\": 10}, {\"Nationality\": \"Zaporizhzhia\", \"Frequency\": 8}, {\"Nationality\": \"Democrats\", \"Frequency\": 8}], \"data-0f09b6e42f48623d0db15d901d59abab\": [{\"Nationality\": \"Russian\", \"Frequency\": 1448}, {\"Nationality\": \"Ukrainian\", \"Frequency\": 665}, {\"Nationality\": \"Ukrainians\", \"Frequency\": 89}, {\"Nationality\": \"Russians\", \"Frequency\": 69}, {\"Nationality\": \"Polish\", \"Frequency\": 55}, {\"Nationality\": \"French\", \"Frequency\": 53}, {\"Nationality\": \"European\", \"Frequency\": 52}, {\"Nationality\": \"British\", \"Frequency\": 45}, {\"Nationality\": \"Western\", \"Frequency\": 45}, {\"Nationality\": \"Turkish\", \"Frequency\": 39}, {\"Nationality\": \"German\", \"Frequency\": 34}, {\"Nationality\": \"Chinese\", \"Frequency\": 33}, {\"Nationality\": \"Sumy\", \"Frequency\": 23}, {\"Nationality\": \"Belarusian\", \"Frequency\": 18}, {\"Nationality\": \"Italian\", \"Frequency\": 18}, {\"Nationality\": \"Israeli\", \"Frequency\": 18}, {\"Nationality\": \"Japanese\", \"Frequency\": 16}, {\"Nationality\": \"American\", \"Frequency\": 15}, {\"Nationality\": \"Zaporizhzhia\", \"Frequency\": 14}, {\"Nationality\": \"Interfax\", \"Frequency\": 14}]}}, {\"mode\": \"vega-lite\"});\n",
              "</script>"
            ],
            "text/plain": [
              "alt.HConcatChart(...)"
            ]
          },
          "metadata": {},
          "execution_count": 52
        }
      ]
    },
    {
      "cell_type": "markdown",
      "source": [
        "### Distribution of \"ORG\" Entity from each news source "
      ],
      "metadata": {
        "id": "Dz8PzR5ftY5V"
      }
    },
    {
      "cell_type": "code",
      "source": [
        "#Bar plots\n",
        "hist1=alt.Chart(org_fox20).mark_bar().encode(\n",
        "    x='Organization',\n",
        "    y='Frequency'\n",
        ").properties(\n",
        "    width=350,\n",
        "    height=350,\n",
        "    title='Fox'\n",
        ")\n",
        "\n",
        "hist2=alt.Chart(org_cnn20).mark_bar().encode(\n",
        "    x='Organization',\n",
        "    y='Frequency'\n",
        ").properties(\n",
        "    width=350,\n",
        "    height=350,\n",
        "    title='CNN'\n",
        ")\n",
        "\n",
        "hist3=alt.Chart(org_alja20).mark_bar().encode(\n",
        "    x='Organization',\n",
        "    y='Frequency'\n",
        ").properties(\n",
        "    width=350,\n",
        "    height=350,\n",
        "    title='Aljazeera'\n",
        ")\n",
        "\n",
        "hist1 | hist2 | hist3"
      ],
      "metadata": {
        "colab": {
          "base_uri": "https://localhost:8080/",
          "height": 525
        },
        "id": "kLrIZ0jMtdkX",
        "outputId": "4459bdcd-da16-414f-947e-029e21e69f95"
      },
      "execution_count": 53,
      "outputs": [
        {
          "output_type": "execute_result",
          "data": {
            "text/html": [
              "\n",
              "<div id=\"altair-viz-07bae6e1876e4995b47a216ced2340ce\"></div>\n",
              "<script type=\"text/javascript\">\n",
              "  var VEGA_DEBUG = (typeof VEGA_DEBUG == \"undefined\") ? {} : VEGA_DEBUG;\n",
              "  (function(spec, embedOpt){\n",
              "    let outputDiv = document.currentScript.previousElementSibling;\n",
              "    if (outputDiv.id !== \"altair-viz-07bae6e1876e4995b47a216ced2340ce\") {\n",
              "      outputDiv = document.getElementById(\"altair-viz-07bae6e1876e4995b47a216ced2340ce\");\n",
              "    }\n",
              "    const paths = {\n",
              "      \"vega\": \"https://cdn.jsdelivr.net/npm//vega@5?noext\",\n",
              "      \"vega-lib\": \"https://cdn.jsdelivr.net/npm//vega-lib?noext\",\n",
              "      \"vega-lite\": \"https://cdn.jsdelivr.net/npm//vega-lite@4.17.0?noext\",\n",
              "      \"vega-embed\": \"https://cdn.jsdelivr.net/npm//vega-embed@6?noext\",\n",
              "    };\n",
              "\n",
              "    function maybeLoadScript(lib, version) {\n",
              "      var key = `${lib.replace(\"-\", \"\")}_version`;\n",
              "      return (VEGA_DEBUG[key] == version) ?\n",
              "        Promise.resolve(paths[lib]) :\n",
              "        new Promise(function(resolve, reject) {\n",
              "          var s = document.createElement('script');\n",
              "          document.getElementsByTagName(\"head\")[0].appendChild(s);\n",
              "          s.async = true;\n",
              "          s.onload = () => {\n",
              "            VEGA_DEBUG[key] = version;\n",
              "            return resolve(paths[lib]);\n",
              "          };\n",
              "          s.onerror = () => reject(`Error loading script: ${paths[lib]}`);\n",
              "          s.src = paths[lib];\n",
              "        });\n",
              "    }\n",
              "\n",
              "    function showError(err) {\n",
              "      outputDiv.innerHTML = `<div class=\"error\" style=\"color:red;\">${err}</div>`;\n",
              "      throw err;\n",
              "    }\n",
              "\n",
              "    function displayChart(vegaEmbed) {\n",
              "      vegaEmbed(outputDiv, spec, embedOpt)\n",
              "        .catch(err => showError(`Javascript Error: ${err.message}<br>This usually means there's a typo in your chart specification. See the javascript console for the full traceback.`));\n",
              "    }\n",
              "\n",
              "    if(typeof define === \"function\" && define.amd) {\n",
              "      requirejs.config({paths});\n",
              "      require([\"vega-embed\"], displayChart, err => showError(`Error loading script: ${err.message}`));\n",
              "    } else {\n",
              "      maybeLoadScript(\"vega\", \"5\")\n",
              "        .then(() => maybeLoadScript(\"vega-lite\", \"4.17.0\"))\n",
              "        .then(() => maybeLoadScript(\"vega-embed\", \"6\"))\n",
              "        .catch(showError)\n",
              "        .then(() => displayChart(vegaEmbed));\n",
              "    }\n",
              "  })({\"config\": {\"view\": {\"continuousWidth\": 400, \"continuousHeight\": 300}}, \"hconcat\": [{\"data\": {\"name\": \"data-8d846b19e65aef000201735d19c287b2\"}, \"mark\": \"bar\", \"encoding\": {\"x\": {\"field\": \"Organization\", \"type\": \"nominal\"}, \"y\": {\"field\": \"Frequency\", \"type\": \"quantitative\"}}, \"height\": 350, \"title\": \"Fox\", \"width\": 350}, {\"data\": {\"name\": \"data-b88e096638bcb0089038cf7ff89eda34\"}, \"mark\": \"bar\", \"encoding\": {\"x\": {\"field\": \"Organization\", \"type\": \"nominal\"}, \"y\": {\"field\": \"Frequency\", \"type\": \"quantitative\"}}, \"height\": 350, \"title\": \"CNN\", \"width\": 350}, {\"data\": {\"name\": \"data-40e1073edb7def813bec980e5f1d6ffc\"}, \"mark\": \"bar\", \"encoding\": {\"x\": {\"field\": \"Organization\", \"type\": \"nominal\"}, \"y\": {\"field\": \"Frequency\", \"type\": \"quantitative\"}}, \"height\": 350, \"title\": \"Aljazeera\", \"width\": 350}], \"$schema\": \"https://vega.github.io/schema/vega-lite/v4.17.0.json\", \"datasets\": {\"data-8d846b19e65aef000201735d19c287b2\": [{\"Organization\": \"NATO\", \"Frequency\": 241}, {\"Organization\": \"Fox News\", \"Frequency\": 124}, {\"Organization\": \"The Associated Press\", \"Frequency\": 63}, {\"Organization\": \"AP\", \"Frequency\": 60}, {\"Organization\": \"Kremlin\", \"Frequency\": 44}, {\"Organization\": \"Pentagon\", \"Frequency\": 40}, {\"Organization\": \"Reuters\", \"Frequency\": 37}, {\"Organization\": \"Fox News Digital\", \"Frequency\": 36}, {\"Organization\": \"White House\", \"Frequency\": 35}, {\"Organization\": \"Congress\", \"Frequency\": 35}, {\"Organization\": \"the Associated Press\", \"Frequency\": 31}, {\"Organization\": \"the White House\", \"Frequency\": 29}, {\"Organization\": \"UN\", \"Frequency\": 23}, {\"Organization\": \"State\", \"Frequency\": 21}, {\"Organization\": \"EU\", \"Frequency\": 21}, {\"Organization\": \"Getty Images\", \"Frequency\": 18}, {\"Organization\": \"The White House\", \"Frequency\": 18}, {\"Organization\": \"Kyiv\", \"Frequency\": 17}, {\"Organization\": \"Defense\", \"Frequency\": 13}, {\"Organization\": \"Satellite\", \"Frequency\": 12}], \"data-b88e096638bcb0089038cf7ff89eda34\": [{\"Organization\": \"CNN\", \"Frequency\": 464}, {\"Organization\": \"NATO\", \"Frequency\": 320}, {\"Organization\": \"UN\", \"Frequency\": 68}, {\"Organization\": \"White House\", \"Frequency\": 55}, {\"Organization\": \"IAEA\", \"Frequency\": 50}, {\"Organization\": \"Kremlin\", \"Frequency\": 44}, {\"Organization\": \"EU\", \"Frequency\": 43}, {\"Organization\": \"Maxar Technologies\", \"Frequency\": 42}, {\"Organization\": \"Pentagon\", \"Frequency\": 39}, {\"Organization\": \"the White House\", \"Frequency\": 39}, {\"Organization\": \"Congress\", \"Frequency\": 38}, {\"Organization\": \"Telegram\", \"Frequency\": 35}, {\"Organization\": \"State\", \"Frequency\": 32}, {\"Organization\": \"Kyiv\", \"Frequency\": 27}, {\"Organization\": \"Renault\", \"Frequency\": 25}, {\"Organization\": \"AFP/Getty Images\", \"Frequency\": 22}, {\"Organization\": \"Melitopol\", \"Frequency\": 20}, {\"Organization\": \"Senate\", \"Frequency\": 19}, {\"Organization\": \"Defense\", \"Frequency\": 19}, {\"Organization\": \"the European Union\", \"Frequency\": 18}], \"data-40e1073edb7def813bec980e5f1d6ffc\": [{\"Organization\": \"NATO\", \"Frequency\": 237}, {\"Organization\": \"EU\", \"Frequency\": 156}, {\"Organization\": \"Kremlin\", \"Frequency\": 144}, {\"Organization\": \"UN\", \"Frequency\": 141}, {\"Organization\": \"Al Jazeera\", \"Frequency\": 111}, {\"Organization\": \"Reuters\", \"Frequency\": 98}, {\"Organization\": \"Kyiv\", \"Frequency\": 56}, {\"Organization\": \"Telegram\", \"Frequency\": 47}, {\"Organization\": \"IAEA\", \"Frequency\": 45}, {\"Organization\": \"RUSSIA\", \"Frequency\": 39}, {\"Organization\": \"Pentagon\", \"Frequency\": 34}, {\"Organization\": \"White House\", \"Frequency\": 30}, {\"Organization\": \"Facebook\", \"Frequency\": 25}, {\"Organization\": \"GMT\", \"Frequency\": 25}, {\"Organization\": \"the White House\", \"Frequency\": 22}, {\"Organization\": \"European Union\", \"Frequency\": 22}, {\"Organization\": \"Biden\", \"Frequency\": 22}, {\"Organization\": \"ICRC\", \"Frequency\": 21}, {\"Organization\": \"State\", \"Frequency\": 20}, {\"Organization\": \"Mykhailo Podolyak\", \"Frequency\": 15}]}}, {\"mode\": \"vega-lite\"});\n",
              "</script>"
            ],
            "text/plain": [
              "alt.HConcatChart(...)"
            ]
          },
          "metadata": {},
          "execution_count": 53
        }
      ]
    },
    {
      "cell_type": "markdown",
      "source": [
        "### Distribution of \"GPE\" Entity from each news source "
      ],
      "metadata": {
        "id": "ppKZxNi4t2Wo"
      }
    },
    {
      "cell_type": "code",
      "source": [
        "#Bar plots\n",
        "hist1=alt.Chart(gpe_fox20).mark_bar().encode(\n",
        "    x='Geo-political',\n",
        "    y='Frequency'\n",
        ").properties(\n",
        "    width=350,\n",
        "    height=350,\n",
        "    title='Fox'\n",
        ")\n",
        "\n",
        "hist2=alt.Chart(gpe_cnn20).mark_bar().encode(\n",
        "    x='Geo-political',\n",
        "    y='Frequency'\n",
        ").properties(\n",
        "    width=350,\n",
        "    height=350,\n",
        "    title='CNN'\n",
        ")\n",
        "\n",
        "hist3=alt.Chart(gpe_alja20).mark_bar().encode(\n",
        "    x='Geo-political',\n",
        "    y='Frequency'\n",
        ").properties(\n",
        "    width=350,\n",
        "    height=350,\n",
        "    title='Aljazeera'\n",
        ")\n",
        "\n",
        "hist1 | hist2 | hist3"
      ],
      "metadata": {
        "colab": {
          "base_uri": "https://localhost:8080/",
          "height": 504
        },
        "id": "LnokTrh1t60d",
        "outputId": "b70b6839-cc6f-4c5a-f769-74de5feb69a1"
      },
      "execution_count": 54,
      "outputs": [
        {
          "output_type": "execute_result",
          "data": {
            "text/html": [
              "\n",
              "<div id=\"altair-viz-50ed7c48f84645f8b7f1eaca8f13f5dd\"></div>\n",
              "<script type=\"text/javascript\">\n",
              "  var VEGA_DEBUG = (typeof VEGA_DEBUG == \"undefined\") ? {} : VEGA_DEBUG;\n",
              "  (function(spec, embedOpt){\n",
              "    let outputDiv = document.currentScript.previousElementSibling;\n",
              "    if (outputDiv.id !== \"altair-viz-50ed7c48f84645f8b7f1eaca8f13f5dd\") {\n",
              "      outputDiv = document.getElementById(\"altair-viz-50ed7c48f84645f8b7f1eaca8f13f5dd\");\n",
              "    }\n",
              "    const paths = {\n",
              "      \"vega\": \"https://cdn.jsdelivr.net/npm//vega@5?noext\",\n",
              "      \"vega-lib\": \"https://cdn.jsdelivr.net/npm//vega-lib?noext\",\n",
              "      \"vega-lite\": \"https://cdn.jsdelivr.net/npm//vega-lite@4.17.0?noext\",\n",
              "      \"vega-embed\": \"https://cdn.jsdelivr.net/npm//vega-embed@6?noext\",\n",
              "    };\n",
              "\n",
              "    function maybeLoadScript(lib, version) {\n",
              "      var key = `${lib.replace(\"-\", \"\")}_version`;\n",
              "      return (VEGA_DEBUG[key] == version) ?\n",
              "        Promise.resolve(paths[lib]) :\n",
              "        new Promise(function(resolve, reject) {\n",
              "          var s = document.createElement('script');\n",
              "          document.getElementsByTagName(\"head\")[0].appendChild(s);\n",
              "          s.async = true;\n",
              "          s.onload = () => {\n",
              "            VEGA_DEBUG[key] = version;\n",
              "            return resolve(paths[lib]);\n",
              "          };\n",
              "          s.onerror = () => reject(`Error loading script: ${paths[lib]}`);\n",
              "          s.src = paths[lib];\n",
              "        });\n",
              "    }\n",
              "\n",
              "    function showError(err) {\n",
              "      outputDiv.innerHTML = `<div class=\"error\" style=\"color:red;\">${err}</div>`;\n",
              "      throw err;\n",
              "    }\n",
              "\n",
              "    function displayChart(vegaEmbed) {\n",
              "      vegaEmbed(outputDiv, spec, embedOpt)\n",
              "        .catch(err => showError(`Javascript Error: ${err.message}<br>This usually means there's a typo in your chart specification. See the javascript console for the full traceback.`));\n",
              "    }\n",
              "\n",
              "    if(typeof define === \"function\" && define.amd) {\n",
              "      requirejs.config({paths});\n",
              "      require([\"vega-embed\"], displayChart, err => showError(`Error loading script: ${err.message}`));\n",
              "    } else {\n",
              "      maybeLoadScript(\"vega\", \"5\")\n",
              "        .then(() => maybeLoadScript(\"vega-lite\", \"4.17.0\"))\n",
              "        .then(() => maybeLoadScript(\"vega-embed\", \"6\"))\n",
              "        .catch(showError)\n",
              "        .then(() => displayChart(vegaEmbed));\n",
              "    }\n",
              "  })({\"config\": {\"view\": {\"continuousWidth\": 400, \"continuousHeight\": 300}}, \"hconcat\": [{\"data\": {\"name\": \"data-266e2ff6df2e765d6095c48dc343d5a3\"}, \"mark\": \"bar\", \"encoding\": {\"x\": {\"field\": \"Geo-political\", \"type\": \"nominal\"}, \"y\": {\"field\": \"Frequency\", \"type\": \"quantitative\"}}, \"height\": 350, \"title\": \"Fox\", \"width\": 350}, {\"data\": {\"name\": \"data-d2378d76a51cbc8d993e0b3a275bd575\"}, \"mark\": \"bar\", \"encoding\": {\"x\": {\"field\": \"Geo-political\", \"type\": \"nominal\"}, \"y\": {\"field\": \"Frequency\", \"type\": \"quantitative\"}}, \"height\": 350, \"title\": \"CNN\", \"width\": 350}, {\"data\": {\"name\": \"data-a1a9ae859356fd0ef8d57bbf7b7c037f\"}, \"mark\": \"bar\", \"encoding\": {\"x\": {\"field\": \"Geo-political\", \"type\": \"nominal\"}, \"y\": {\"field\": \"Frequency\", \"type\": \"quantitative\"}}, \"height\": 350, \"title\": \"Aljazeera\", \"width\": 350}], \"$schema\": \"https://vega.github.io/schema/vega-lite/v4.17.0.json\", \"datasets\": {\"data-266e2ff6df2e765d6095c48dc343d5a3\": [{\"Geo-political\": \"Ukraine\", \"Frequency\": 1386}, {\"Geo-political\": \"Russia\", \"Frequency\": 944}, {\"Geo-political\": \"U.S.\", \"Frequency\": 205}, {\"Geo-political\": \"Poland\", \"Frequency\": 117}, {\"Geo-political\": \"Mariupol\", \"Frequency\": 113}, {\"Geo-political\": \"US\", \"Frequency\": 104}, {\"Geo-political\": \"China\", \"Frequency\": 94}, {\"Geo-political\": \"Moscow\", \"Frequency\": 85}, {\"Geo-political\": \"Kyiv\", \"Frequency\": 68}, {\"Geo-political\": \"Ukrainian\", \"Frequency\": 57}, {\"Geo-political\": \"the United States\", \"Frequency\": 49}, {\"Geo-political\": \"Turkey\", \"Frequency\": 35}, {\"Geo-political\": \"Brussels\", \"Frequency\": 33}, {\"Geo-political\": \"Biden\", \"Frequency\": 28}, {\"Geo-political\": \"Germany\", \"Frequency\": 25}, {\"Geo-political\": \"Belarus\", \"Frequency\": 22}, {\"Geo-political\": \"Warsaw\", \"Frequency\": 20}, {\"Geo-political\": \"UK\", \"Frequency\": 20}, {\"Geo-political\": \"Chernobyl\", \"Frequency\": 18}, {\"Geo-political\": \"Donetsk\", \"Frequency\": 16}], \"data-d2378d76a51cbc8d993e0b3a275bd575\": [{\"Geo-political\": \"Ukraine\", \"Frequency\": 1738}, {\"Geo-political\": \"Russia\", \"Frequency\": 1138}, {\"Geo-political\": \"US\", \"Frequency\": 692}, {\"Geo-political\": \"Mariupol\", \"Frequency\": 172}, {\"Geo-political\": \"Poland\", \"Frequency\": 140}, {\"Geo-political\": \"China\", \"Frequency\": 133}, {\"Geo-political\": \"Moscow\", \"Frequency\": 102}, {\"Geo-political\": \"Ukrainian\", \"Frequency\": 92}, {\"Geo-political\": \"Kyiv\", \"Frequency\": 89}, {\"Geo-political\": \"UK\", \"Frequency\": 71}, {\"Geo-political\": \"Germany\", \"Frequency\": 58}, {\"Geo-political\": \"Brussels\", \"Frequency\": 56}, {\"Geo-political\": \"the United States\", \"Frequency\": 54}, {\"Geo-political\": \"Warsaw\", \"Frequency\": 44}, {\"Geo-political\": \"France\", \"Frequency\": 41}, {\"Geo-political\": \"Macron\", \"Frequency\": 37}, {\"Geo-political\": \"Lviv\", \"Frequency\": 35}, {\"Geo-political\": \"Chernobyl\", \"Frequency\": 35}, {\"Geo-political\": \"Turkey\", \"Frequency\": 33}, {\"Geo-political\": \"Donbas\", \"Frequency\": 33}], \"data-a1a9ae859356fd0ef8d57bbf7b7c037f\": [{\"Geo-political\": \"Ukraine\", \"Frequency\": 2351}, {\"Geo-political\": \"Russia\", \"Frequency\": 1792}, {\"Geo-political\": \"US\", \"Frequency\": 413}, {\"Geo-political\": \"Moscow\", \"Frequency\": 374}, {\"Geo-political\": \"Mariupol\", \"Frequency\": 234}, {\"Geo-political\": \"China\", \"Frequency\": 172}, {\"Geo-political\": \"UK\", \"Frequency\": 145}, {\"Geo-political\": \"Poland\", \"Frequency\": 121}, {\"Geo-political\": \"Kyiv\", \"Frequency\": 105}, {\"Geo-political\": \"Ukrainian\", \"Frequency\": 87}, {\"Geo-political\": \"Germany\", \"Frequency\": 72}, {\"Geo-political\": \"Turkey\", \"Frequency\": 70}, {\"Geo-political\": \"France\", \"Frequency\": 59}, {\"Geo-political\": \"Japan\", \"Frequency\": 59}, {\"Geo-political\": \"Chernobyl\", \"Frequency\": 57}, {\"Geo-political\": \"Brussels\", \"Frequency\": 51}, {\"Geo-political\": \"Belarus\", \"Frequency\": 51}, {\"Geo-political\": \"Donetsk\", \"Frequency\": 38}, {\"Geo-political\": \"the United States\", \"Frequency\": 37}, {\"Geo-political\": \"Beijing\", \"Frequency\": 36}]}}, {\"mode\": \"vega-lite\"});\n",
              "</script>"
            ],
            "text/plain": [
              "alt.HConcatChart(...)"
            ]
          },
          "metadata": {},
          "execution_count": 54
        }
      ]
    },
    {
      "cell_type": "markdown",
      "source": [
        "### Distribution of \"LOC\" Entity from each news source "
      ],
      "metadata": {
        "id": "NME4Yd4st5PJ"
      }
    },
    {
      "cell_type": "code",
      "source": [
        "#Bar plots\n",
        "hist1=alt.Chart(loc_fox20).mark_bar().encode(\n",
        "    x='Location',\n",
        "    y='Frequency'\n",
        ").properties(\n",
        "    width=350,\n",
        "    height=350,\n",
        "    title='Fox'\n",
        ")\n",
        "\n",
        "hist2=alt.Chart(loc_cnn20).mark_bar().encode(\n",
        "    x='Location',\n",
        "    y='Frequency'\n",
        ").properties(\n",
        "    width=350,\n",
        "    height=350,\n",
        "    title='CNN'\n",
        ")\n",
        "\n",
        "hist3=alt.Chart(loc_alja20).mark_bar().encode(\n",
        "    x='Location',\n",
        "    y='Frequency'\n",
        ").properties(\n",
        "    width=350,\n",
        "    height=350,\n",
        "    title='Aljazeera'\n",
        ")\n",
        "\n",
        "hist1 | hist2 | hist3"
      ],
      "metadata": {
        "colab": {
          "base_uri": "https://localhost:8080/",
          "height": 533
        },
        "id": "zSyWkgJJt7Lg",
        "outputId": "a4c7ac8b-b79e-4608-9663-9996a499182f"
      },
      "execution_count": 55,
      "outputs": [
        {
          "output_type": "execute_result",
          "data": {
            "text/html": [
              "\n",
              "<div id=\"altair-viz-8d8f434b6d14402f82bcc6420558d726\"></div>\n",
              "<script type=\"text/javascript\">\n",
              "  var VEGA_DEBUG = (typeof VEGA_DEBUG == \"undefined\") ? {} : VEGA_DEBUG;\n",
              "  (function(spec, embedOpt){\n",
              "    let outputDiv = document.currentScript.previousElementSibling;\n",
              "    if (outputDiv.id !== \"altair-viz-8d8f434b6d14402f82bcc6420558d726\") {\n",
              "      outputDiv = document.getElementById(\"altair-viz-8d8f434b6d14402f82bcc6420558d726\");\n",
              "    }\n",
              "    const paths = {\n",
              "      \"vega\": \"https://cdn.jsdelivr.net/npm//vega@5?noext\",\n",
              "      \"vega-lib\": \"https://cdn.jsdelivr.net/npm//vega-lib?noext\",\n",
              "      \"vega-lite\": \"https://cdn.jsdelivr.net/npm//vega-lite@4.17.0?noext\",\n",
              "      \"vega-embed\": \"https://cdn.jsdelivr.net/npm//vega-embed@6?noext\",\n",
              "    };\n",
              "\n",
              "    function maybeLoadScript(lib, version) {\n",
              "      var key = `${lib.replace(\"-\", \"\")}_version`;\n",
              "      return (VEGA_DEBUG[key] == version) ?\n",
              "        Promise.resolve(paths[lib]) :\n",
              "        new Promise(function(resolve, reject) {\n",
              "          var s = document.createElement('script');\n",
              "          document.getElementsByTagName(\"head\")[0].appendChild(s);\n",
              "          s.async = true;\n",
              "          s.onload = () => {\n",
              "            VEGA_DEBUG[key] = version;\n",
              "            return resolve(paths[lib]);\n",
              "          };\n",
              "          s.onerror = () => reject(`Error loading script: ${paths[lib]}`);\n",
              "          s.src = paths[lib];\n",
              "        });\n",
              "    }\n",
              "\n",
              "    function showError(err) {\n",
              "      outputDiv.innerHTML = `<div class=\"error\" style=\"color:red;\">${err}</div>`;\n",
              "      throw err;\n",
              "    }\n",
              "\n",
              "    function displayChart(vegaEmbed) {\n",
              "      vegaEmbed(outputDiv, spec, embedOpt)\n",
              "        .catch(err => showError(`Javascript Error: ${err.message}<br>This usually means there's a typo in your chart specification. See the javascript console for the full traceback.`));\n",
              "    }\n",
              "\n",
              "    if(typeof define === \"function\" && define.amd) {\n",
              "      requirejs.config({paths});\n",
              "      require([\"vega-embed\"], displayChart, err => showError(`Error loading script: ${err.message}`));\n",
              "    } else {\n",
              "      maybeLoadScript(\"vega\", \"5\")\n",
              "        .then(() => maybeLoadScript(\"vega-lite\", \"4.17.0\"))\n",
              "        .then(() => maybeLoadScript(\"vega-embed\", \"6\"))\n",
              "        .catch(showError)\n",
              "        .then(() => displayChart(vegaEmbed));\n",
              "    }\n",
              "  })({\"config\": {\"view\": {\"continuousWidth\": 400, \"continuousHeight\": 300}}, \"hconcat\": [{\"data\": {\"name\": \"data-d23e9f4bdf73eeff70cd0b684a1d83ba\"}, \"mark\": \"bar\", \"encoding\": {\"x\": {\"field\": \"Location\", \"type\": \"nominal\"}, \"y\": {\"field\": \"Frequency\", \"type\": \"quantitative\"}}, \"height\": 350, \"title\": \"Fox\", \"width\": 350}, {\"data\": {\"name\": \"data-80995cc543c67be50f095668aab9f621\"}, \"mark\": \"bar\", \"encoding\": {\"x\": {\"field\": \"Location\", \"type\": \"nominal\"}, \"y\": {\"field\": \"Frequency\", \"type\": \"quantitative\"}}, \"height\": 350, \"title\": \"CNN\", \"width\": 350}, {\"data\": {\"name\": \"data-a5672c2701632a69889406ac840a4d76\"}, \"mark\": \"bar\", \"encoding\": {\"x\": {\"field\": \"Location\", \"type\": \"nominal\"}, \"y\": {\"field\": \"Frequency\", \"type\": \"quantitative\"}}, \"height\": 350, \"title\": \"Aljazeera\", \"width\": 350}], \"$schema\": \"https://vega.github.io/schema/vega-lite/v4.17.0.json\", \"datasets\": {\"data-d23e9f4bdf73eeff70cd0b684a1d83ba\": [{\"Location\": \"Kyiv\", \"Frequency\": 98}, {\"Location\": \"Europe\", \"Frequency\": 55}, {\"Location\": \"West\", \"Frequency\": 19}, {\"Location\": \"Biden\", \"Frequency\": 9}, {\"Location\": \"the Black Sea\", \"Frequency\": 6}, {\"Location\": \"MiGs\", \"Frequency\": 5}, {\"Location\": \"the Crimean Peninsula\", \"Frequency\": 4}, {\"Location\": \"Mariupol\", \"Frequency\": 3}, {\"Location\": \"the Azov Sea\", \"Frequency\": 3}, {\"Location\": \"Black Sea\", \"Frequency\": 3}, {\"Location\": \"Snake Island\", \"Frequency\": 3}, {\"Location\": \"Earth\", \"Frequency\": 2}, {\"Location\": \"Pearl Harbor\", \"Frequency\": 2}, {\"Location\": \"Katya Hill\", \"Frequency\": 2}, {\"Location\": \"West 255th Street\", \"Frequency\": 2}, {\"Location\": \"the Zaporizhzhia Oblast\", \"Frequency\": 2}, {\"Location\": \"Daines\", \"Frequency\": 1}, {\"Location\": \"western Mariupol\", \"Frequency\": 1}, {\"Location\": \"Dnipro\", \"Frequency\": 1}, {\"Location\": \"Pocivicbki oKynaHtu\", \"Frequency\": 1}], \"data-80995cc543c67be50f095668aab9f621\": [{\"Location\": \"Kyiv\", \"Frequency\": 180}, {\"Location\": \"Europe\", \"Frequency\": 98}, {\"Location\": \"West\", \"Frequency\": 20}, {\"Location\": \"the Irpin River\", \"Frequency\": 14}, {\"Location\": \"Black Sea\", \"Frequency\": 13}, {\"Location\": \"the Black Sea\", \"Frequency\": 11}, {\"Location\": \"Biden\", \"Frequency\": 7}, {\"Location\": \"Mariupol\", \"Frequency\": 7}, {\"Location\": \"Irpin River\", \"Frequency\": 6}, {\"Location\": \"Asia\", \"Frequency\": 5}, {\"Location\": \"Gulf\", \"Frequency\": 5}, {\"Location\": \"Berdyansk\", \"Frequency\": 4}, {\"Location\": \"Kharkiv\", \"Frequency\": 4}, {\"Location\": \"the Sea of Azov\", \"Frequency\": 4}, {\"Location\": \"Africa\", \"Frequency\": 4}, {\"Location\": \"Luhansk\", \"Frequency\": 3}, {\"Location\": \"Livoberezhny\", \"Frequency\": 3}, {\"Location\": \"the Dnieper River\", \"Frequency\": 3}, {\"Location\": \"western Mariupol\", \"Frequency\": 3}, {\"Location\": \"the far east\", \"Frequency\": 3}], \"data-a5672c2701632a69889406ac840a4d76\": [{\"Location\": \"Kyiv\", \"Frequency\": 165}, {\"Location\": \"Europe\", \"Frequency\": 117}, {\"Location\": \"West\", \"Frequency\": 31}, {\"Location\": \"the Black Sea\", \"Frequency\": 16}, {\"Location\": \"Black Sea\", \"Frequency\": 15}, {\"Location\": \"Biden\", \"Frequency\": 10}, {\"Location\": \"Mariupol\", \"Frequency\": 9}, {\"Location\": \"Dnipro\", \"Frequency\": 7}, {\"Location\": \"the Sea of Azov\", \"Frequency\": 7}, {\"Location\": \"the Crimean Peninsula\", \"Frequency\": 6}, {\"Location\": \"the Middle East\", \"Frequency\": 6}, {\"Location\": \"Eastern Europe\", \"Frequency\": 6}, {\"Location\": \"Mars\", \"Frequency\": 5}, {\"Location\": \"Asia\", \"Frequency\": 5}, {\"Location\": \"Berdyansk\", \"Frequency\": 3}, {\"Location\": \"Podilskyi district\", \"Frequency\": 3}, {\"Location\": \"Middle East\", \"Frequency\": 3}, {\"Location\": \"Africa\", \"Frequency\": 3}, {\"Location\": \"East\", \"Frequency\": 2}, {\"Location\": \"Pacific\", \"Frequency\": 2}]}}, {\"mode\": \"vega-lite\"});\n",
              "</script>"
            ],
            "text/plain": [
              "alt.HConcatChart(...)"
            ]
          },
          "metadata": {},
          "execution_count": 55
        }
      ]
    },
    {
      "cell_type": "markdown",
      "source": [
        "## Additional statistics\n",
        "\n",
        "### Top mentioned Entities for each news source"
      ],
      "metadata": {
        "id": "rW_-RG_ag_dW"
      }
    },
    {
      "cell_type": "code",
      "source": [
        "# Top mentioned entities in fox\n",
        "labels_fox = [t.label_ for t in fox_article.ents]\n",
        "Counter(labels_fox).most_common()"
      ],
      "metadata": {
        "colab": {
          "base_uri": "https://localhost:8080/"
        },
        "id": "0mJP-mQXSvgU",
        "outputId": "25f58c52-5c60-46a2-cde5-3adefcdfc797"
      },
      "execution_count": 56,
      "outputs": [
        {
          "output_type": "execute_result",
          "data": {
            "text/plain": [
              "[('GPE', 4397),\n",
              " ('PERSON', 2771),\n",
              " ('ORG', 2508),\n",
              " ('NORP', 2128),\n",
              " ('DATE', 2088),\n",
              " ('CARDINAL', 1003),\n",
              " ('LOC', 272),\n",
              " ('TIME', 226),\n",
              " ('ORDINAL', 125),\n",
              " ('WORK_OF_ART', 104),\n",
              " ('PRODUCT', 97),\n",
              " ('FAC', 67),\n",
              " ('MONEY', 63),\n",
              " ('PERCENT', 47),\n",
              " ('EVENT', 40),\n",
              " ('QUANTITY', 35),\n",
              " ('LAW', 21),\n",
              " ('LANGUAGE', 13)]"
            ]
          },
          "metadata": {},
          "execution_count": 56
        }
      ]
    },
    {
      "cell_type": "code",
      "source": [
        "# Top mentioned entities in cnn\n",
        "labels_cnn = [t.label_ for t in cnn_article.ents]\n",
        "Counter(labels_cnn).most_common()"
      ],
      "metadata": {
        "colab": {
          "base_uri": "https://localhost:8080/"
        },
        "id": "lPYNw7QM1aRk",
        "outputId": "1e171a08-2e4f-415c-e028-35e436e81cde"
      },
      "execution_count": 57,
      "outputs": [
        {
          "output_type": "execute_result",
          "data": {
            "text/plain": [
              "[('GPE', 10094),\n",
              " ('ORG', 5519),\n",
              " ('PERSON', 5480),\n",
              " ('NORP', 5296),\n",
              " ('DATE', 3277),\n",
              " ('CARDINAL', 1798),\n",
              " ('LOC', 761),\n",
              " ('TIME', 420),\n",
              " ('ORDINAL', 217),\n",
              " ('QUANTITY', 210),\n",
              " ('FAC', 203),\n",
              " ('WORK_OF_ART', 192),\n",
              " ('PRODUCT', 171),\n",
              " ('MONEY', 153),\n",
              " ('PERCENT', 93),\n",
              " ('EVENT', 77),\n",
              " ('LAW', 49),\n",
              " ('LANGUAGE', 26)]"
            ]
          },
          "metadata": {},
          "execution_count": 57
        }
      ]
    },
    {
      "cell_type": "code",
      "source": [
        "# Top mentioned entities in aljazeera\n",
        "labels_alja = [t.label_ for t in alja_article.ents]\n",
        "Counter(labels_alja).most_common()"
      ],
      "metadata": {
        "colab": {
          "base_uri": "https://localhost:8080/"
        },
        "id": "vKIE-ktiSwGX",
        "outputId": "33198d81-f431-4628-d78b-c9a21bd94b1f"
      },
      "execution_count": 58,
      "outputs": [
        {
          "output_type": "execute_result",
          "data": {
            "text/plain": [
              "[('GPE', 12649),\n",
              " ('ORG', 5447),\n",
              " ('NORP', 5122),\n",
              " ('PERSON', 4981),\n",
              " ('CARDINAL', 2248),\n",
              " ('DATE', 1988),\n",
              " ('LOC', 801),\n",
              " ('ORDINAL', 257),\n",
              " ('TIME', 240),\n",
              " ('MONEY', 238),\n",
              " ('FAC', 175),\n",
              " ('WORK_OF_ART', 158),\n",
              " ('QUANTITY', 150),\n",
              " ('PRODUCT', 141),\n",
              " ('PERCENT', 92),\n",
              " ('EVENT', 78),\n",
              " ('LANGUAGE', 30),\n",
              " ('LAW', 26)]"
            ]
          },
          "metadata": {},
          "execution_count": 58
        }
      ]
    },
    {
      "cell_type": "markdown",
      "source": [
        "### Top mentioned words for each news source"
      ],
      "metadata": {
        "id": "jcpj4TpwYDE2"
      }
    },
    {
      "cell_type": "code",
      "source": [
        "# Top 20 mentioned word in fox\n",
        "words_fox = [t.text for t in fox_article.ents]\n",
        "Counter(words_fox).most_common(20)"
      ],
      "metadata": {
        "colab": {
          "base_uri": "https://localhost:8080/"
        },
        "id": "Ks0R97KST0vr",
        "outputId": "7be65367-8909-460d-e13b-e6722bedac64"
      },
      "execution_count": 59,
      "outputs": [
        {
          "output_type": "execute_result",
          "data": {
            "text/plain": [
              "[('Ukraine', 1440),\n",
              " ('Russian', 1054),\n",
              " ('Russia', 989),\n",
              " ('Ukrainian', 558),\n",
              " ('Biden', 287),\n",
              " ('Putin', 273),\n",
              " ('NATO', 243),\n",
              " ('U.S.', 219),\n",
              " ('Kyiv', 208),\n",
              " ('Zelenskyy', 181),\n",
              " ('Mariupol', 175),\n",
              " ('Vladimir Putin', 132),\n",
              " ('Fox News', 129),\n",
              " ('Wednesday', 126),\n",
              " ('Volodymyr Zelenskyy', 124),\n",
              " ('Poland', 118),\n",
              " ('Friday', 115),\n",
              " ('Thursday', 110),\n",
              " ('US', 109),\n",
              " ('Monday', 101)]"
            ]
          },
          "metadata": {},
          "execution_count": 59
        }
      ]
    },
    {
      "cell_type": "code",
      "source": [
        "# Top 20 mentioned word in cnn\n",
        "words_cnn = [t.text for t in cnn_article.ents]\n",
        "Counter(words_cnn).most_common(20)"
      ],
      "metadata": {
        "colab": {
          "base_uri": "https://localhost:8080/"
        },
        "id": "9wfYWsr-2kvo",
        "outputId": "84d3f0c0-2af6-46f4-f73a-f517532832a9"
      },
      "execution_count": 60,
      "outputs": [
        {
          "output_type": "execute_result",
          "data": {
            "text/plain": [
              "[('Ukraine', 2830),\n",
              " ('Russian', 2378),\n",
              " ('Russia', 1913),\n",
              " ('Ukrainian', 1368),\n",
              " ('US', 1157),\n",
              " ('CNN', 730),\n",
              " ('Kyiv', 529),\n",
              " ('NATO', 455),\n",
              " ('Putin', 385),\n",
              " ('Mariupol', 377),\n",
              " ('Zelensky', 372),\n",
              " ('Biden', 354),\n",
              " ('Poland', 267),\n",
              " ('Ukrainians', 248),\n",
              " ('two', 235),\n",
              " ('Friday', 232),\n",
              " ('Tuesday', 230),\n",
              " ('Thursday', 227),\n",
              " ('Wednesday', 211),\n",
              " ('Volodymyr Zelensky', 202)]"
            ]
          },
          "metadata": {},
          "execution_count": 60
        }
      ]
    },
    {
      "cell_type": "code",
      "source": [
        "# Top 20 mentioned word in aljazeera\n",
        "words_alja = [t.text for t in alja_article.ents]\n",
        "Counter(words_alja).most_common(20)"
      ],
      "metadata": {
        "colab": {
          "base_uri": "https://localhost:8080/"
        },
        "id": "byoms8c_T7UT",
        "outputId": "b060e321-93e3-4617-88de-fc9367f79ec8"
      },
      "execution_count": 61,
      "outputs": [
        {
          "output_type": "execute_result",
          "data": {
            "text/plain": [
              "[('Ukraine', 3735),\n",
              " ('Russia', 2919),\n",
              " ('Russian', 2411),\n",
              " ('Ukrainian', 1214),\n",
              " ('US', 693),\n",
              " ('Moscow', 629),\n",
              " ('Kyiv', 598),\n",
              " ('Mariupol', 556),\n",
              " ('Putin', 455),\n",
              " ('Zelenskyy', 357),\n",
              " ('NATO', 342),\n",
              " ('UN', 280),\n",
              " ('EU', 247),\n",
              " ('UK', 235),\n",
              " ('Biden', 217),\n",
              " ('Kremlin', 214),\n",
              " ('China', 211),\n",
              " ('Al Jazeera', 200),\n",
              " ('Europe', 198),\n",
              " ('two', 195)]"
            ]
          },
          "metadata": {},
          "execution_count": 61
        }
      ]
    }
  ]
}