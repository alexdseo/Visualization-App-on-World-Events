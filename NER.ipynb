{
  "nbformat": 4,
  "nbformat_minor": 0,
  "metadata": {
    "colab": {
      "name": "NER.ipynb",
      "provenance": [],
      "collapsed_sections": []
    },
    "kernelspec": {
      "name": "python3",
      "display_name": "Python 3"
    },
    "language_info": {
      "name": "python"
    },
    "accelerator": "GPU"
  },
  "cells": [
    {
      "cell_type": "code",
      "source": [
        "#Mount your drive to get cleaned_text\n",
        "from google.colab import drive\n",
        "drive.mount('/content/drive')"
      ],
      "metadata": {
        "colab": {
          "base_uri": "https://localhost:8080/"
        },
        "id": "Y4sq006oIjbk",
        "outputId": "64f8eb93-3106-4c4c-ce04-409ddaa2f6dc"
      },
      "execution_count": 1,
      "outputs": [
        {
          "output_type": "stream",
          "name": "stdout",
          "text": [
            "Mounted at /content/drive\n"
          ]
        }
      ]
    },
    {
      "cell_type": "code",
      "execution_count": 2,
      "metadata": {
        "colab": {
          "base_uri": "https://localhost:8080/"
        },
        "id": "Jlfodt55vVHm",
        "outputId": "67415122-94d1-42b3-b687-db68ae748cab"
      },
      "outputs": [
        {
          "output_type": "stream",
          "name": "stdout",
          "text": [
            "Cloning into 'Visualization-App-on-World-Events'...\n",
            "remote: Enumerating objects: 186, done.\u001b[K\n",
            "remote: Total 186 (delta 0), reused 0 (delta 0), pack-reused 186\u001b[K\n",
            "Receiving objects: 100% (186/186), 1.49 GiB | 12.06 MiB/s, done.\n",
            "Resolving deltas: 100% (33/33), done.\n"
          ]
        }
      ],
      "source": [
        "#Clone this repository\n",
        "!git clone https://github.com/alexdseo/Visualization-App-on-World-Events"
      ]
    },
    {
      "cell_type": "code",
      "source": [
        "#Change directory\n",
        "%cd Visualization-App-on-World-Events"
      ],
      "metadata": {
        "colab": {
          "base_uri": "https://localhost:8080/"
        },
        "id": "lOcfe7lSvpyP",
        "outputId": "cf1377cc-4a92-498e-8acd-7667885c6db2"
      },
      "execution_count": 3,
      "outputs": [
        {
          "output_type": "stream",
          "name": "stdout",
          "text": [
            "/content/Visualization-App-on-World-Events\n"
          ]
        }
      ]
    },
    {
      "cell_type": "code",
      "source": [
        "import spacy\n",
        "#from spacy import displacy #visualize option\n",
        "from collections import Counter\n",
        "from pprint import pprint"
      ],
      "metadata": {
        "id": "-OO4CUA5wLSv"
      },
      "execution_count": 7,
      "outputs": []
    },
    {
      "cell_type": "code",
      "source": [
        "# Use GPU\n",
        "spacy.prefer_gpu()"
      ],
      "metadata": {
        "colab": {
          "base_uri": "https://localhost:8080/"
        },
        "id": "psCMi0SJwTp8",
        "outputId": "7f6ee0a5-64e4-407a-e7d6-5b88ef5bf7ec"
      },
      "execution_count": 8,
      "outputs": [
        {
          "output_type": "execute_result",
          "data": {
            "text/plain": [
              "True"
            ]
          },
          "metadata": {},
          "execution_count": 8
        }
      ]
    },
    {
      "cell_type": "code",
      "source": [
        "import en_core_web_sm\n",
        "nlp = en_core_web_sm.load()\n",
        "nlp.max_length = 4000000"
      ],
      "metadata": {
        "id": "eC7SviQVwdpn"
      },
      "execution_count": 9,
      "outputs": []
    },
    {
      "cell_type": "code",
      "source": [
        "#Work on entitiy level\n",
        "#Example using Grover-generated text\n",
        "grover_txt = nlp('In a press release dated March 28, 2004, United States Centers for Disease Control and Prevention Director Dr. Michael Osterholm announced the results of the detection and safety trial of SARS-CoV in the Chinese trans- plantation market.')\n",
        "pprint([(t.text, t.label_) for t in grover_txt.ents])"
      ],
      "metadata": {
        "colab": {
          "base_uri": "https://localhost:8080/"
        },
        "id": "Z7quShfRxEP4",
        "outputId": "55b92b53-f852-4dce-95c6-b3bd7c9ec1da"
      },
      "execution_count": 10,
      "outputs": [
        {
          "output_type": "stream",
          "name": "stdout",
          "text": [
            "[('March 28, 2004', 'DATE'),\n",
            " ('United States Centers for Disease Control and Prevention', 'ORG'),\n",
            " ('Michael Osterholm', 'PERSON'),\n",
            " ('Chinese', 'NORP')]\n"
          ]
        }
      ]
    },
    {
      "cell_type": "code",
      "source": [
        "#Work on token level\n",
        "# B: The first token of a multi-token entity\n",
        "# I: The inner token of a multi-token entity\n",
        "# L: The Final token of a multi-token entity\n",
        "# U: A single token # O: Non-entity token\n",
        "pprint([(t, t.ent_iob_, t.ent_type_) for t in grover_txt])"
      ],
      "metadata": {
        "colab": {
          "base_uri": "https://localhost:8080/"
        },
        "id": "Dq9kgkdHwr4y",
        "outputId": "40805053-1db2-43e2-c45e-002b247576f2"
      },
      "execution_count": 11,
      "outputs": [
        {
          "output_type": "stream",
          "name": "stdout",
          "text": [
            "[(In, 'O', ''),\n",
            " (a, 'O', ''),\n",
            " (press, 'O', ''),\n",
            " (release, 'O', ''),\n",
            " (dated, 'O', ''),\n",
            " (March, 'B', 'DATE'),\n",
            " (28, 'I', 'DATE'),\n",
            " (,, 'I', 'DATE'),\n",
            " (2004, 'I', 'DATE'),\n",
            " (,, 'O', ''),\n",
            " (United, 'B', 'ORG'),\n",
            " (States, 'I', 'ORG'),\n",
            " (Centers, 'I', 'ORG'),\n",
            " (for, 'I', 'ORG'),\n",
            " (Disease, 'I', 'ORG'),\n",
            " (Control, 'I', 'ORG'),\n",
            " (and, 'I', 'ORG'),\n",
            " (Prevention, 'I', 'ORG'),\n",
            " (Director, 'O', ''),\n",
            " (Dr., 'O', ''),\n",
            " (Michael, 'B', 'PERSON'),\n",
            " (Osterholm, 'I', 'PERSON'),\n",
            " (announced, 'O', ''),\n",
            " (the, 'O', ''),\n",
            " (results, 'O', ''),\n",
            " (of, 'O', ''),\n",
            " (the, 'O', ''),\n",
            " (detection, 'O', ''),\n",
            " (and, 'O', ''),\n",
            " (safety, 'O', ''),\n",
            " (trial, 'O', ''),\n",
            " (of, 'O', ''),\n",
            " (SARS, 'O', ''),\n",
            " (-, 'O', ''),\n",
            " (CoV, 'O', ''),\n",
            " (in, 'O', ''),\n",
            " (the, 'O', ''),\n",
            " (Chinese, 'B', 'NORP'),\n",
            " (trans-, 'O', ''),\n",
            " (plantation, 'O', ''),\n",
            " (market, 'O', ''),\n",
            " (., 'O', '')]\n"
          ]
        }
      ]
    },
    {
      "cell_type": "code",
      "source": [
        "#Get file_path\n",
        "import os\n",
        "\n",
        "all_filepaths = []\n",
        "\n",
        "for newssource in os.listdir('/content/drive/MyDrive/cleaned_text'):\n",
        "    if newssource != \".DS_Store\":\n",
        "        for filename in os.listdir(os.path.join('/content/drive/MyDrive/cleaned_text',newssource)):\n",
        "            if filename != \".DS_Store\":\n",
        "                all_filepaths.append(f\"/content/drive/MyDrive/cleaned_text/{newssource}/{filename}\")\n",
        "\n",
        "all_filepaths.sort()"
      ],
      "metadata": {
        "id": "FZgvA6QxI_LW"
      },
      "execution_count": 12,
      "outputs": []
    },
    {
      "cell_type": "code",
      "source": [
        "len(all_filepaths)"
      ],
      "metadata": {
        "colab": {
          "base_uri": "https://localhost:8080/"
        },
        "id": "GYRT4l6HJsps",
        "outputId": "a4e4761a-5f0e-480b-8794-2b3eb11c57e6"
      },
      "execution_count": 13,
      "outputs": [
        {
          "output_type": "execute_result",
          "data": {
            "text/plain": [
              "81"
            ]
          },
          "metadata": {},
          "execution_count": 13
        }
      ]
    },
    {
      "cell_type": "code",
      "source": [
        "# All txt files into string\n",
        "count = 0\n",
        "cnn_texts=''\n",
        "alja_texts=''\n",
        "fox_texts=''\n",
        "all_texts=''\n",
        "for i in all_filepaths:\n",
        "    f = open(i,\"r\").read().replace('\\n', ' ')\n",
        "    components = i.split(\"/\")\n",
        "\n",
        "    all_texts += f\n",
        "    all_texts += ' '\n",
        "\n",
        "    if components[5] == \"aljazeera\":\n",
        "      alja_texts += f\n",
        "      alja_texts += ' '\n",
        "    elif components[5] == \"cnn\":\n",
        "      cnn_texts += f\n",
        "      cnn_texts += ' '\n",
        "    elif components[5] == \"fox\":\n",
        "      fox_texts += f\n",
        "      fox_texts += ' '\n",
        "    \n",
        "    count += 1"
      ],
      "metadata": {
        "id": "9FKf5MT4KSmD"
      },
      "execution_count": 14,
      "outputs": []
    },
    {
      "cell_type": "code",
      "source": [
        "#Length of texts\n",
        "print('Length of all texts:', len(all_texts))\n",
        "print('Length of cnn texts:',len(cnn_texts))\n",
        "print('Length of fox texts:',len(fox_texts))\n",
        "print('Length of aljazeera texts:',len(alja_texts))"
      ],
      "metadata": {
        "colab": {
          "base_uri": "https://localhost:8080/"
        },
        "id": "Zebet8NhN5rG",
        "outputId": "08b60ee9-c080-4513-e46f-406e6fcf9e0d"
      },
      "execution_count": 15,
      "outputs": [
        {
          "output_type": "stream",
          "name": "stdout",
          "text": [
            "Length of all texts: 3619982\n",
            "Length of cnn texts: 1568460\n",
            "Length of fox texts: 603849\n",
            "Length of aljazeera texts: 1447673\n"
          ]
        }
      ]
    },
    {
      "cell_type": "code",
      "source": [
        "#Train all\n",
        "#Gets out of memory error\n",
        "#all_article = nlp(all_texts)\n",
        "#len(all_article.ents)"
      ],
      "metadata": {
        "id": "z6bPMCWuTuHo"
      },
      "execution_count": null,
      "outputs": []
    },
    {
      "cell_type": "code",
      "source": [
        "#Train pipeline\n",
        "fox_article = nlp(fox_texts)\n",
        "#Number of entities in fox datasets\n",
        "len(fox_article.ents)"
      ],
      "metadata": {
        "colab": {
          "base_uri": "https://localhost:8080/"
        },
        "id": "SmpCcKruQeBF",
        "outputId": "4788919d-052c-4036-ae06-ee9037617597"
      },
      "execution_count": 16,
      "outputs": [
        {
          "output_type": "execute_result",
          "data": {
            "text/plain": [
              "16005"
            ]
          },
          "metadata": {},
          "execution_count": 16
        }
      ]
    },
    {
      "cell_type": "code",
      "source": [
        "#Train pipeline\n",
        "cnn_article = nlp(cnn_texts)\n",
        "#Number of entities in cnn datasets\n",
        "len(cnn_article.ents)"
      ],
      "metadata": {
        "colab": {
          "base_uri": "https://localhost:8080/"
        },
        "id": "uwMYF72HQ1ms",
        "outputId": "da0b9034-8a70-46f2-9294-d30e769444ff"
      },
      "execution_count": 17,
      "outputs": [
        {
          "output_type": "execute_result",
          "data": {
            "text/plain": [
              "34036"
            ]
          },
          "metadata": {},
          "execution_count": 17
        }
      ]
    },
    {
      "cell_type": "code",
      "source": [
        "#Train pipeline\n",
        "alja_article = nlp(alja_texts)\n",
        "#Number of entities in aljazeera datasets\n",
        "len(alja_article.ents)"
      ],
      "metadata": {
        "colab": {
          "base_uri": "https://localhost:8080/"
        },
        "id": "ZOfjOvIPQ2Qe",
        "outputId": "424ae6db-282c-4929-ca7a-9af6bce4775e"
      },
      "execution_count": 18,
      "outputs": [
        {
          "output_type": "execute_result",
          "data": {
            "text/plain": [
              "34821"
            ]
          },
          "metadata": {},
          "execution_count": 18
        }
      ]
    },
    {
      "cell_type": "markdown",
      "source": [
        "## Top mentioned Entities"
      ],
      "metadata": {
        "id": "43WQV0PZX-sg"
      }
    },
    {
      "cell_type": "code",
      "source": [
        "# Top mentioned entities in fox\n",
        "labels_fox = [t.label_ for t in fox_article.ents]\n",
        "Counter(labels_fox).most_common()"
      ],
      "metadata": {
        "colab": {
          "base_uri": "https://localhost:8080/"
        },
        "id": "0mJP-mQXSvgU",
        "outputId": "ad7d5923-5741-4a6b-b3f0-d8602ce8c96a"
      },
      "execution_count": 20,
      "outputs": [
        {
          "output_type": "execute_result",
          "data": {
            "text/plain": [
              "[('GPE', 4397),\n",
              " ('PERSON', 2771),\n",
              " ('ORG', 2508),\n",
              " ('NORP', 2128),\n",
              " ('DATE', 2088),\n",
              " ('CARDINAL', 1003),\n",
              " ('LOC', 272),\n",
              " ('TIME', 226),\n",
              " ('ORDINAL', 125),\n",
              " ('WORK_OF_ART', 104),\n",
              " ('PRODUCT', 97),\n",
              " ('FAC', 67),\n",
              " ('MONEY', 63),\n",
              " ('PERCENT', 47),\n",
              " ('EVENT', 40),\n",
              " ('QUANTITY', 35),\n",
              " ('LAW', 21),\n",
              " ('LANGUAGE', 13)]"
            ]
          },
          "metadata": {},
          "execution_count": 20
        }
      ]
    },
    {
      "cell_type": "code",
      "source": [
        "# Top mentioned entities in cnn\n",
        "labels_cnn = [t.label_ for t in cnn_article.ents]\n",
        "Counter(labels_cnn).most_common()"
      ],
      "metadata": {
        "colab": {
          "base_uri": "https://localhost:8080/"
        },
        "id": "lPYNw7QM1aRk",
        "outputId": "e58a6a9c-c436-43ff-ebdd-bdf30ef02a0e"
      },
      "execution_count": 21,
      "outputs": [
        {
          "output_type": "execute_result",
          "data": {
            "text/plain": [
              "[('GPE', 10094),\n",
              " ('ORG', 5519),\n",
              " ('PERSON', 5480),\n",
              " ('NORP', 5296),\n",
              " ('DATE', 3277),\n",
              " ('CARDINAL', 1798),\n",
              " ('LOC', 761),\n",
              " ('TIME', 420),\n",
              " ('ORDINAL', 217),\n",
              " ('QUANTITY', 210),\n",
              " ('FAC', 203),\n",
              " ('WORK_OF_ART', 192),\n",
              " ('PRODUCT', 171),\n",
              " ('MONEY', 153),\n",
              " ('PERCENT', 93),\n",
              " ('EVENT', 77),\n",
              " ('LAW', 49),\n",
              " ('LANGUAGE', 26)]"
            ]
          },
          "metadata": {},
          "execution_count": 21
        }
      ]
    },
    {
      "cell_type": "code",
      "source": [
        "# Top mentioned entities in aljazeera\n",
        "labels_alja = [t.label_ for t in alja_article.ents]\n",
        "Counter(labels_alja).most_common()"
      ],
      "metadata": {
        "colab": {
          "base_uri": "https://localhost:8080/"
        },
        "id": "vKIE-ktiSwGX",
        "outputId": "4bca7d3d-753d-4f9f-d347-908bca07fce8"
      },
      "execution_count": 24,
      "outputs": [
        {
          "output_type": "execute_result",
          "data": {
            "text/plain": [
              "[('GPE', 12649),\n",
              " ('ORG', 5447),\n",
              " ('NORP', 5122),\n",
              " ('PERSON', 4981),\n",
              " ('CARDINAL', 2248),\n",
              " ('DATE', 1988),\n",
              " ('LOC', 801),\n",
              " ('ORDINAL', 257),\n",
              " ('TIME', 240),\n",
              " ('MONEY', 238),\n",
              " ('FAC', 175),\n",
              " ('WORK_OF_ART', 158),\n",
              " ('QUANTITY', 150),\n",
              " ('PRODUCT', 141),\n",
              " ('PERCENT', 92),\n",
              " ('EVENT', 78),\n",
              " ('LANGUAGE', 30),\n",
              " ('LAW', 26)]"
            ]
          },
          "metadata": {},
          "execution_count": 24
        }
      ]
    },
    {
      "cell_type": "markdown",
      "source": [
        "## Top mentioned words"
      ],
      "metadata": {
        "id": "jcpj4TpwYDE2"
      }
    },
    {
      "cell_type": "code",
      "source": [
        "# Top 20 mentioned word in fox\n",
        "words_fox = [t.text for t in fox_article.ents]\n",
        "Counter(words_fox).most_common(20)"
      ],
      "metadata": {
        "colab": {
          "base_uri": "https://localhost:8080/"
        },
        "id": "Ks0R97KST0vr",
        "outputId": "595e80d7-7e7d-4c36-e5de-019e6ac29018"
      },
      "execution_count": 27,
      "outputs": [
        {
          "output_type": "execute_result",
          "data": {
            "text/plain": [
              "[('Ukraine', 1440),\n",
              " ('Russian', 1054),\n",
              " ('Russia', 989),\n",
              " ('Ukrainian', 558),\n",
              " ('Biden', 287),\n",
              " ('Putin', 273),\n",
              " ('NATO', 243),\n",
              " ('U.S.', 219),\n",
              " ('Kyiv', 208),\n",
              " ('Zelenskyy', 181),\n",
              " ('Mariupol', 175),\n",
              " ('Vladimir Putin', 132),\n",
              " ('Fox News', 129),\n",
              " ('Wednesday', 126),\n",
              " ('Volodymyr Zelenskyy', 124),\n",
              " ('Poland', 118),\n",
              " ('Friday', 115),\n",
              " ('Thursday', 110),\n",
              " ('US', 109),\n",
              " ('Monday', 101)]"
            ]
          },
          "metadata": {},
          "execution_count": 27
        }
      ]
    },
    {
      "cell_type": "code",
      "source": [
        "# Top 20 mentioned word in cnn\n",
        "words_cnn = [t.text for t in cnn_article.ents]\n",
        "Counter(words_cnn).most_common(20)"
      ],
      "metadata": {
        "colab": {
          "base_uri": "https://localhost:8080/"
        },
        "id": "9wfYWsr-2kvo",
        "outputId": "c82c009e-39ad-4a39-d558-8722ba496b4d"
      },
      "execution_count": 28,
      "outputs": [
        {
          "output_type": "execute_result",
          "data": {
            "text/plain": [
              "[('Ukraine', 2830),\n",
              " ('Russian', 2378),\n",
              " ('Russia', 1913),\n",
              " ('Ukrainian', 1368),\n",
              " ('US', 1157),\n",
              " ('CNN', 730),\n",
              " ('Kyiv', 529),\n",
              " ('NATO', 455),\n",
              " ('Putin', 385),\n",
              " ('Mariupol', 377),\n",
              " ('Zelensky', 372),\n",
              " ('Biden', 354),\n",
              " ('Poland', 267),\n",
              " ('Ukrainians', 248),\n",
              " ('two', 235),\n",
              " ('Friday', 232),\n",
              " ('Tuesday', 230),\n",
              " ('Thursday', 227),\n",
              " ('Wednesday', 211),\n",
              " ('Volodymyr Zelensky', 202)]"
            ]
          },
          "metadata": {},
          "execution_count": 28
        }
      ]
    },
    {
      "cell_type": "code",
      "source": [
        "# Top 20 mentioned word in aljazeera\n",
        "words_alja = [t.text for t in alja_article.ents]\n",
        "Counter(words_alja).most_common(20)"
      ],
      "metadata": {
        "colab": {
          "base_uri": "https://localhost:8080/"
        },
        "id": "byoms8c_T7UT",
        "outputId": "868d4563-de58-45a8-fcc7-de2ad3e218a6"
      },
      "execution_count": 29,
      "outputs": [
        {
          "output_type": "execute_result",
          "data": {
            "text/plain": [
              "[('Ukraine', 3735),\n",
              " ('Russia', 2919),\n",
              " ('Russian', 2411),\n",
              " ('Ukrainian', 1214),\n",
              " ('US', 693),\n",
              " ('Moscow', 629),\n",
              " ('Kyiv', 598),\n",
              " ('Mariupol', 556),\n",
              " ('Putin', 455),\n",
              " ('Zelenskyy', 357),\n",
              " ('NATO', 342),\n",
              " ('UN', 280),\n",
              " ('EU', 247),\n",
              " ('UK', 235),\n",
              " ('Biden', 217),\n",
              " ('Kremlin', 214),\n",
              " ('China', 211),\n",
              " ('Al Jazeera', 200),\n",
              " ('Europe', 198),\n",
              " ('two', 195)]"
            ]
          },
          "metadata": {},
          "execution_count": 29
        }
      ]
    },
    {
      "cell_type": "markdown",
      "source": [
        "## Top mentioned person"
      ],
      "metadata": {
        "id": "p16A1ztCYGRA"
      }
    },
    {
      "cell_type": "code",
      "source": [
        "# Top 20 mentioned person in fox\n",
        "person_fox = []\n",
        "for t in fox_article.ents:\n",
        "  if t.label_ == 'PERSON':\n",
        "    person_fox.append(t.text)\n",
        "\n",
        "Counter(person_fox).most_common(20)"
      ],
      "metadata": {
        "colab": {
          "base_uri": "https://localhost:8080/"
        },
        "id": "VNdiAJjMUO0g",
        "outputId": "2e6f5a30-8d45-457a-a4a7-0e86f5fac590"
      },
      "execution_count": 30,
      "outputs": [
        {
          "output_type": "execute_result",
          "data": {
            "text/plain": [
              "[('Putin', 273),\n",
              " ('Biden', 223),\n",
              " ('Zelenskyy', 179),\n",
              " ('Vladimir Putin', 132),\n",
              " ('Volodymyr Zelenskyy', 124),\n",
              " ('Kirby', 37),\n",
              " ('Mariupol', 36),\n",
              " ('John Kirby', 23),\n",
              " ('Joe Biden', 23),\n",
              " ('Viadimir Putin', 19),\n",
              " ('Dmytro Kuleba', 18),\n",
              " ('Lviv', 18),\n",
              " ('Xi Jinping', 15),\n",
              " ('Greg Norman', 15),\n",
              " ('Boris Johnson', 15),\n",
              " ('Brie Stimson', 14),\n",
              " ('Antony Blinken', 13),\n",
              " ('Lawrence Richard', 13),\n",
              " ('Jens Stoltenberg', 13),\n",
              " (\"Tyler O'Neil\", 12)]"
            ]
          },
          "metadata": {},
          "execution_count": 30
        }
      ]
    },
    {
      "cell_type": "code",
      "source": [
        "# Top 20 mentioned person in cnn\n",
        "person_cnn = []\n",
        "for t in cnn_article.ents:\n",
        "  if t.label_ == 'PERSON':\n",
        "    person_cnn.append(t.text)\n",
        "\n",
        "Counter(person_cnn).most_common(20)"
      ],
      "metadata": {
        "colab": {
          "base_uri": "https://localhost:8080/"
        },
        "id": "tx08-UVC3S1O",
        "outputId": "67e9383e-f94f-43b0-d01f-64324cb1dce4"
      },
      "execution_count": 31,
      "outputs": [
        {
          "output_type": "execute_result",
          "data": {
            "text/plain": [
              "[('Putin', 385),\n",
              " ('Zelensky', 344),\n",
              " ('Biden', 276),\n",
              " ('Volodymyr Zelensky', 202),\n",
              " ('Joe Biden', 190),\n",
              " ('Vladimir Putin', 175),\n",
              " ('Mariupol', 99),\n",
              " ('Kharkiv', 94),\n",
              " ('Kirby', 75),\n",
              " ('Antony Blinken', 41),\n",
              " ('Lviv', 40),\n",
              " ('Blinken', 38),\n",
              " ('Sullivan', 36),\n",
              " ('Luhansk', 32),\n",
              " ('Emmanuel Macron', 32),\n",
              " ('John Kirby', 31),\n",
              " ('Johnson', 29),\n",
              " ('Jen Psaki', 27),\n",
              " (\"Bookmark CNN's\", 26),\n",
              " ('Boris Johnson', 26)]"
            ]
          },
          "metadata": {},
          "execution_count": 31
        }
      ]
    },
    {
      "cell_type": "code",
      "source": [
        "# Top 20 mentioned person in aljazeera\n",
        "person_alja = []\n",
        "for t in alja_article.ents:\n",
        "  if t.label_ == 'PERSON':\n",
        "    person_alja.append(t.text)\n",
        "\n",
        "Counter(person_alja).most_common(20)"
      ],
      "metadata": {
        "colab": {
          "base_uri": "https://localhost:8080/"
        },
        "id": "zIdC0f2SUg_n",
        "outputId": "be743604-df18-4266-e5fe-d010c72812ab"
      },
      "execution_count": 32,
      "outputs": [
        {
          "output_type": "execute_result",
          "data": {
            "text/plain": [
              "[('Putin', 455),\n",
              " ('Zelenskyy', 351),\n",
              " ('Mariupol', 138),\n",
              " ('Kharkiv', 137),\n",
              " ('Biden', 125),\n",
              " ('Vladimir Putin', 97),\n",
              " ('Volodymyr Zelenskyy', 78),\n",
              " ('Joe Biden', 70),\n",
              " ('Blinken', 55),\n",
              " ('Lavrov', 50),\n",
              " ('Dmytro Kuleba', 49),\n",
              " ('Iryna Vereshchuk', 43),\n",
              " ('Kyiv', 39),\n",
              " ('Dmitry Peskov', 34),\n",
              " ('Antony Blinken', 33),\n",
              " ('Sergey Lavrov', 33),\n",
              " ('Peskov', 33),\n",
              " ('Abramovich', 31),\n",
              " ('Boris Johnson', 30),\n",
              " ('Lviv', 30)]"
            ]
          },
          "metadata": {},
          "execution_count": 32
        }
      ]
    },
    {
      "cell_type": "markdown",
      "source": [
        "## Top mentioned Nationalities or religious or political groups"
      ],
      "metadata": {
        "id": "eZ3TefPnYJPM"
      }
    },
    {
      "cell_type": "code",
      "source": [
        "# Top 20 mentioned NORP in fox\n",
        "norp_fox = []\n",
        "for t in fox_article.ents:\n",
        "  if t.label_ == 'NORP':\n",
        "    norp_fox.append(t.text)\n",
        "\n",
        "Counter(norp_fox).most_common(20)"
      ],
      "metadata": {
        "colab": {
          "base_uri": "https://localhost:8080/"
        },
        "id": "JQIf0DKkU3M7",
        "outputId": "04d5ff05-6bc0-43c1-ca9d-f94cf479a4f6"
      },
      "execution_count": 33,
      "outputs": [
        {
          "output_type": "execute_result",
          "data": {
            "text/plain": [
              "[('Russian', 1045),\n",
              " ('Ukrainian', 499),\n",
              " ('Ukrainians', 83),\n",
              " ('Russians', 82),\n",
              " ('American', 55),\n",
              " ('Chinese', 32),\n",
              " ('Polish', 26),\n",
              " ('European', 21),\n",
              " ('Biden', 14),\n",
              " ('British', 14),\n",
              " ('Turkish', 12),\n",
              " ('Republican', 10),\n",
              " ('German', 10),\n",
              " ('Instagram', 9),\n",
              " ('Israeli', 9),\n",
              " ('Democrats', 8),\n",
              " ('Soviet', 8),\n",
              " ('French', 7),\n",
              " ('Belarusian', 6),\n",
              " ('Japanese', 6)]"
            ]
          },
          "metadata": {},
          "execution_count": 33
        }
      ]
    },
    {
      "cell_type": "code",
      "source": [
        "# Top 20 mentioned NORP in cnn\n",
        "norp_cnn = []\n",
        "for t in cnn_article.ents:\n",
        "  if t.label_ == 'NORP':\n",
        "    norp_cnn.append(t.text)\n",
        "\n",
        "Counter(norp_cnn).most_common(20)"
      ],
      "metadata": {
        "colab": {
          "base_uri": "https://localhost:8080/"
        },
        "id": "s0N9puEn4UnM",
        "outputId": "b6951e20-6c10-4b36-ea46-eae1083a6406"
      },
      "execution_count": 34,
      "outputs": [
        {
          "output_type": "execute_result",
          "data": {
            "text/plain": [
              "[('Russian', 2365),\n",
              " ('Ukrainian', 1220),\n",
              " ('Ukrainians', 248),\n",
              " ('Russians', 180),\n",
              " ('European', 109),\n",
              " ('American', 98),\n",
              " ('French', 98),\n",
              " ('Polish', 77),\n",
              " ('Chinese', 57),\n",
              " ('Zaporizhzhia', 50),\n",
              " ('German', 49),\n",
              " ('Western', 41),\n",
              " ('British', 37),\n",
              " ('Belarusian', 36),\n",
              " ('Turkish', 31),\n",
              " ('Americans', 28),\n",
              " ('Biden', 27),\n",
              " ('Republican', 25),\n",
              " ('Israeli', 20),\n",
              " ('Soviet', 19)]"
            ]
          },
          "metadata": {},
          "execution_count": 34
        }
      ]
    },
    {
      "cell_type": "code",
      "source": [
        "# Top 20 mentioned NORP in aljazeera\n",
        "norp_alja = []\n",
        "for t in alja_article.ents:\n",
        "  if t.label_ == 'NORP':\n",
        "    norp_alja.append(t.text)\n",
        "\n",
        "Counter(norp_alja).most_common(20)"
      ],
      "metadata": {
        "colab": {
          "base_uri": "https://localhost:8080/"
        },
        "id": "FY8MMyf3VFby",
        "outputId": "68f4f31e-b174-4dbc-e437-ff133f099549"
      },
      "execution_count": 35,
      "outputs": [
        {
          "output_type": "execute_result",
          "data": {
            "text/plain": [
              "[('Russian', 2390),\n",
              " ('Ukrainian', 1065),\n",
              " ('Ukrainians', 151),\n",
              " ('Russians', 120),\n",
              " ('French', 83),\n",
              " ('European', 78),\n",
              " ('Polish', 75),\n",
              " ('British', 69),\n",
              " ('Western', 66),\n",
              " ('German', 55),\n",
              " ('Zaporizhzhia', 55),\n",
              " ('Turkish', 54),\n",
              " ('Belarusian', 48),\n",
              " ('Chinese', 46),\n",
              " ('Sumy', 45),\n",
              " ('American', 28),\n",
              " ('Interfax', 25),\n",
              " ('Italian', 24),\n",
              " ('Israeli', 24),\n",
              " ('Japanese', 19)]"
            ]
          },
          "metadata": {},
          "execution_count": 35
        }
      ]
    },
    {
      "cell_type": "markdown",
      "source": [
        "## Top mentioned organization"
      ],
      "metadata": {
        "id": "c9MJpcmNY2um"
      }
    },
    {
      "cell_type": "code",
      "source": [
        "# Top 20 mentioned ORG in fox\n",
        "org_fox = []\n",
        "for t in fox_article.ents:\n",
        "  if t.label_ == 'ORG':\n",
        "    org_fox.append(t.text)\n",
        "\n",
        "Counter(org_fox).most_common(20)"
      ],
      "metadata": {
        "colab": {
          "base_uri": "https://localhost:8080/"
        },
        "id": "WVo4GUxfVUQ_",
        "outputId": "759d1313-5f26-4798-f0a6-687dea479829"
      },
      "execution_count": 36,
      "outputs": [
        {
          "output_type": "execute_result",
          "data": {
            "text/plain": [
              "[('NATO', 243),\n",
              " ('Fox News', 128),\n",
              " ('AP', 66),\n",
              " ('The Associated Press', 65),\n",
              " ('Kremlin', 48),\n",
              " ('Pentagon', 44),\n",
              " ('Reuters', 41),\n",
              " ('Fox News Digital', 36),\n",
              " ('White House', 35),\n",
              " ('Congress', 35),\n",
              " ('the Associated Press', 35),\n",
              " ('the White House', 29),\n",
              " ('UN', 23),\n",
              " ('State', 21),\n",
              " ('EU', 21),\n",
              " ('Kyiv', 20),\n",
              " ('Getty Images', 18),\n",
              " ('The White House', 18),\n",
              " ('Defense', 13),\n",
              " ('Satellite', 12)]"
            ]
          },
          "metadata": {},
          "execution_count": 36
        }
      ]
    },
    {
      "cell_type": "code",
      "source": [
        "# Top 20 mentioned ORG in cnn\n",
        "org_cnn = []\n",
        "for t in cnn_article.ents:\n",
        "  if t.label_ == 'ORG':\n",
        "    org_cnn.append(t.text)\n",
        "\n",
        "Counter(org_cnn).most_common(20)"
      ],
      "metadata": {
        "colab": {
          "base_uri": "https://localhost:8080/"
        },
        "id": "kR3MBiqt4qDM",
        "outputId": "f1892bc1-bd9b-4f38-f807-5c45f5b8a127"
      },
      "execution_count": 37,
      "outputs": [
        {
          "output_type": "execute_result",
          "data": {
            "text/plain": [
              "[('CNN', 730),\n",
              " ('NATO', 455),\n",
              " ('UN', 128),\n",
              " ('IAEA', 105),\n",
              " ('Pentagon', 95),\n",
              " ('EU', 91),\n",
              " ('White House', 83),\n",
              " ('Kremlin', 70),\n",
              " ('the White House', 68),\n",
              " ('State', 60),\n",
              " ('Congress', 56),\n",
              " ('Maxar Technologies', 55),\n",
              " ('Kyiv', 54),\n",
              " ('Telegram', 53),\n",
              " ('House', 37),\n",
              " ('Facebook', 35),\n",
              " ('Defense', 33),\n",
              " ('Kherson', 31),\n",
              " ('the European Union', 31),\n",
              " ('AFP/Getty Images', 27)]"
            ]
          },
          "metadata": {},
          "execution_count": 37
        }
      ]
    },
    {
      "cell_type": "code",
      "source": [
        "# Top 20 mentioned ORG in aljazeera\n",
        "org_alja = []\n",
        "for t in alja_article.ents:\n",
        "  if t.label_ == 'ORG':\n",
        "    org_alja.append(t.text)\n",
        "\n",
        "Counter(org_alja).most_common(20)"
      ],
      "metadata": {
        "colab": {
          "base_uri": "https://localhost:8080/"
        },
        "id": "7bFRTNgwVdP9",
        "outputId": "1e48b283-982a-436b-bd7a-d8aa5abc56d4"
      },
      "execution_count": 38,
      "outputs": [
        {
          "output_type": "execute_result",
          "data": {
            "text/plain": [
              "[('NATO', 342),\n",
              " ('UN', 280),\n",
              " ('EU', 241),\n",
              " ('Kremlin', 203),\n",
              " ('Al Jazeera', 196),\n",
              " ('Reuters', 150),\n",
              " ('Kyiv', 104),\n",
              " ('IAEA', 90),\n",
              " ('RUSSIA', 75),\n",
              " ('Telegram', 62),\n",
              " ('Pentagon', 58),\n",
              " ('State', 40),\n",
              " ('GMT', 40),\n",
              " ('Facebook', 40),\n",
              " ('the White House', 39),\n",
              " ('White House', 39),\n",
              " ('European Union', 28),\n",
              " ('UAE', 26),\n",
              " ('SWIFT', 26),\n",
              " ('Mykhailo Podolyak', 25)]"
            ]
          },
          "metadata": {},
          "execution_count": 38
        }
      ]
    },
    {
      "cell_type": "markdown",
      "source": [
        "## Top mentioned Geopolitical entity"
      ],
      "metadata": {
        "id": "cfyRIb1tY53Q"
      }
    },
    {
      "cell_type": "code",
      "source": [
        "# Top 20 mentioned GPE in fox\n",
        "gpe_fox = []\n",
        "for t in fox_article.ents:\n",
        "  if t.label_ == 'GPE':\n",
        "    gpe_fox.append(t.text)\n",
        "\n",
        "Counter(gpe_fox).most_common(20)"
      ],
      "metadata": {
        "colab": {
          "base_uri": "https://localhost:8080/"
        },
        "id": "cD__joEbVsRv",
        "outputId": "fca05f74-8ff2-4200-f680-c534074ca352"
      },
      "execution_count": 39,
      "outputs": [
        {
          "output_type": "execute_result",
          "data": {
            "text/plain": [
              "[('Ukraine', 1437),\n",
              " ('Russia', 988),\n",
              " ('U.S.', 219),\n",
              " ('Mariupol', 121),\n",
              " ('Poland', 118),\n",
              " ('US', 109),\n",
              " ('China', 100),\n",
              " ('Moscow', 92),\n",
              " ('Kyiv', 70),\n",
              " ('Ukrainian', 59),\n",
              " ('the United States', 50),\n",
              " ('Turkey', 38),\n",
              " ('Brussels', 33),\n",
              " ('Biden', 28),\n",
              " ('Germany', 25),\n",
              " ('UK', 23),\n",
              " ('Belarus', 22),\n",
              " ('Warsaw', 21),\n",
              " ('Chernobyl', 18),\n",
              " ('France', 16)]"
            ]
          },
          "metadata": {},
          "execution_count": 39
        }
      ]
    },
    {
      "cell_type": "markdown",
      "source": [
        "I don't think Biden is a country.. Misclassification!"
      ],
      "metadata": {
        "id": "gasWpBFBXkAX"
      }
    },
    {
      "cell_type": "code",
      "source": [
        "# Top 20 mentioned GPE in cnn\n",
        "gpe_cnn = []\n",
        "for t in cnn_article.ents:\n",
        "  if t.label_ == 'GPE':\n",
        "    gpe_cnn.append(t.text)\n",
        "\n",
        "Counter(gpe_cnn).most_common(20)"
      ],
      "metadata": {
        "colab": {
          "base_uri": "https://localhost:8080/"
        },
        "id": "As7a2EQA5DSm",
        "outputId": "4d40d473-74e0-44d3-f929-81123dc29c45"
      },
      "execution_count": 40,
      "outputs": [
        {
          "output_type": "execute_result",
          "data": {
            "text/plain": [
              "[('Ukraine', 2830),\n",
              " ('Russia', 1913),\n",
              " ('US', 1156),\n",
              " ('Poland', 267),\n",
              " ('Mariupol', 243),\n",
              " ('China', 169),\n",
              " ('Moscow', 167),\n",
              " ('Kyiv', 164),\n",
              " ('Ukrainian', 148),\n",
              " ('the United States', 118),\n",
              " ('UK', 110),\n",
              " ('Germany', 88),\n",
              " ('Belarus', 77),\n",
              " ('Chernobyl', 77),\n",
              " ('Brussels', 74),\n",
              " ('France', 56),\n",
              " ('Kherson', 54),\n",
              " ('Donbas', 53),\n",
              " ('Warsaw', 51),\n",
              " ('Macron', 47)]"
            ]
          },
          "metadata": {},
          "execution_count": 40
        }
      ]
    },
    {
      "cell_type": "markdown",
      "source": [
        "> I don't think Macron is a country.. Misclassification!"
      ],
      "metadata": {
        "id": "3-JvvyrOXcRA"
      }
    },
    {
      "cell_type": "code",
      "source": [
        "# Top 20 mentioned GPE in aljazeera\n",
        "gpe_alja = []\n",
        "for t in alja_article.ents:\n",
        "  if t.label_ == 'GPE':\n",
        "    gpe_alja.append(t.text)\n",
        "\n",
        "Counter(gpe_alja).most_common(20)"
      ],
      "metadata": {
        "colab": {
          "base_uri": "https://localhost:8080/"
        },
        "id": "AU89QHinV346",
        "outputId": "f1a745b7-2027-4a7c-ad75-ed78560e981f"
      },
      "execution_count": 41,
      "outputs": [
        {
          "output_type": "execute_result",
          "data": {
            "text/plain": [
              "[('Ukraine', 3709),\n",
              " ('Russia', 2919),\n",
              " ('US', 693),\n",
              " ('Moscow', 629),\n",
              " ('Mariupol', 372),\n",
              " ('UK', 235),\n",
              " ('China', 211),\n",
              " ('Poland', 185),\n",
              " ('Kyiv', 160),\n",
              " ('Ukrainian', 148),\n",
              " ('Belarus', 116),\n",
              " ('Germany', 114),\n",
              " ('Turkey', 112),\n",
              " ('Chernobyl', 92),\n",
              " ('France', 80),\n",
              " ('Japan', 74),\n",
              " ('Brussels', 61),\n",
              " ('the United States', 60),\n",
              " ('Washington', 60),\n",
              " ('UKRAINE', 57)]"
            ]
          },
          "metadata": {},
          "execution_count": 41
        }
      ]
    },
    {
      "cell_type": "markdown",
      "source": [
        "## Top mentioned Location"
      ],
      "metadata": {
        "id": "P1OCJDBtY8kr"
      }
    },
    {
      "cell_type": "code",
      "source": [
        "# Top 20 mentioned LOC in fox\n",
        "loc_fox = []\n",
        "for t in fox_article.ents:\n",
        "  if t.label_ == 'LOC':\n",
        "    loc_fox.append(t.text)\n",
        "\n",
        "Counter(loc_fox).most_common(20)"
      ],
      "metadata": {
        "colab": {
          "base_uri": "https://localhost:8080/"
        },
        "id": "Z9j_-VabWHc_",
        "outputId": "3358478f-0b03-4ac4-dae2-15c912c60774"
      },
      "execution_count": 42,
      "outputs": [
        {
          "output_type": "execute_result",
          "data": {
            "text/plain": [
              "[('Kyiv', 102),\n",
              " ('Europe', 57),\n",
              " ('West', 19),\n",
              " ('Biden', 9),\n",
              " ('the Black Sea', 6),\n",
              " ('MiGs', 5),\n",
              " ('Mariupol', 5),\n",
              " ('the Crimean Peninsula', 4),\n",
              " ('the Azov Sea', 3),\n",
              " ('Black Sea', 3),\n",
              " ('Snake Island', 3),\n",
              " ('Earth', 2),\n",
              " ('Pearl Harbor', 2),\n",
              " ('Katya Hill', 2),\n",
              " ('West 255th Street', 2),\n",
              " ('the Zaporizhzhia Oblast', 2),\n",
              " ('Daines', 1),\n",
              " ('western Mariupol', 1),\n",
              " ('Dnipro', 1),\n",
              " ('Pocivicbki oKynaHtu', 1)]"
            ]
          },
          "metadata": {},
          "execution_count": 42
        }
      ]
    },
    {
      "cell_type": "markdown",
      "source": [
        "> I don't think Biden is a location.. Misclassification!"
      ],
      "metadata": {
        "id": "3vSevDUyWcio"
      }
    },
    {
      "cell_type": "code",
      "source": [
        "# Top 20 mentioned LOC in cnn\n",
        "loc_cnn = []\n",
        "for t in cnn_article.ents:\n",
        "  if t.label_ == 'LOC':\n",
        "    loc_cnn.append(t.text)\n",
        "\n",
        "Counter(loc_cnn).most_common(20)"
      ],
      "metadata": {
        "colab": {
          "base_uri": "https://localhost:8080/"
        },
        "id": "EOJxiLUv5LWt",
        "outputId": "3a3980d6-d709-4cea-c94b-2a2938ccd86b"
      },
      "execution_count": 43,
      "outputs": [
        {
          "output_type": "execute_result",
          "data": {
            "text/plain": [
              "[('Kyiv', 287),\n",
              " ('Europe', 168),\n",
              " ('West', 38),\n",
              " ('Black Sea', 18),\n",
              " ('the Black Sea', 18),\n",
              " ('Biden', 14),\n",
              " ('the Irpin River', 14),\n",
              " ('Mariupol', 8),\n",
              " ('the Dnieper River', 6),\n",
              " ('Asia', 6),\n",
              " ('Africa', 6),\n",
              " ('Irpin River', 6),\n",
              " ('Kharkiv', 5),\n",
              " ('the Sea of Azov', 5),\n",
              " ('Gulf', 5),\n",
              " ('East', 4),\n",
              " ('the Middle East', 4),\n",
              " ('Berdyansk', 4),\n",
              " ('the East Room', 3),\n",
              " ('Eastern Europe', 3)]"
            ]
          },
          "metadata": {},
          "execution_count": 43
        }
      ]
    },
    {
      "cell_type": "markdown",
      "source": [
        ">Maybe Biden is a location.."
      ],
      "metadata": {
        "id": "JiQqNc9bWlAB"
      }
    },
    {
      "cell_type": "code",
      "source": [
        "# Top 20 mentioned LOC in aljazeera\n",
        "loc_alja = []\n",
        "for t in alja_article.ents:\n",
        "  if t.label_ == 'LOC':\n",
        "    loc_alja.append(t.text)\n",
        "\n",
        "Counter(loc_alja).most_common(20)"
      ],
      "metadata": {
        "colab": {
          "base_uri": "https://localhost:8080/"
        },
        "id": "cFYKkf2WWR5Q",
        "outputId": "a005abbc-e63e-42d9-9411-b0c64db35aac"
      },
      "execution_count": 47,
      "outputs": [
        {
          "output_type": "execute_result",
          "data": {
            "text/plain": [
              "[('Kyiv', 278),\n",
              " ('Europe', 198),\n",
              " ('West', 46),\n",
              " ('the Black Sea', 25),\n",
              " ('Black Sea', 24),\n",
              " ('Biden', 15),\n",
              " ('Mariupol', 15),\n",
              " ('the Middle East', 11),\n",
              " ('Eastern Europe', 9),\n",
              " ('Dnipro', 8),\n",
              " ('the Sea of Azov', 8),\n",
              " ('the Crimean Peninsula', 7),\n",
              " ('Africa', 6),\n",
              " ('Mars', 5),\n",
              " ('Asia', 5),\n",
              " ('Middle East', 4),\n",
              " ('Crimean Peninsula', 3),\n",
              " ('Mykolayiv', 3),\n",
              " ('Latin America', 3),\n",
              " ('Sumy', 3)]"
            ]
          },
          "metadata": {},
          "execution_count": 47
        }
      ]
    },
    {
      "cell_type": "markdown",
      "source": [
        "> Next: Fix misclassified entites"
      ],
      "metadata": {
        "id": "0s4wkI2SWrR6"
      }
    }
  ]
}