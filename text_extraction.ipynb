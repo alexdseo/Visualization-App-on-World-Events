{
 "cells": [
  {
   "cell_type": "markdown",
   "id": "47cbe0a9",
   "metadata": {},
   "source": [
    "# Set up (MacOS)\n",
    "\n",
    "[PyTesseract](https://pypi.org/project/pytesseract)\n",
    "- Install PyTesseract: `pip install pytesseract`\n",
    "\n",
    "[Tesseract](https://tesseract-ocr.github.io/tessdoc/Installation.html)\n",
    "- [Install Homebrew](https://brew.sh)\n",
    "- Install Tesseract: `brew install tesseract`\n",
    "- Find Tesseract directory: `brew info tesseract`"
   ]
  },
  {
   "cell_type": "markdown",
   "id": "4384316e",
   "metadata": {},
   "source": [
    "# Documentation\n",
    "\n",
    "```python\n",
    "# Simple image to string\n",
    "print(pytesseract.image_to_string(Image.open('test.png')))\n",
    "# Batch processing with a single file containing the list of multiple image file paths\n",
    "print(pytesseract.image_to_string('images.txt'))\n",
    "```"
   ]
  },
  {
   "cell_type": "markdown",
   "id": "c79c7de5",
   "metadata": {},
   "source": [
    "# Import libraries"
   ]
  },
  {
   "cell_type": "code",
   "execution_count": 1,
   "id": "657ba203",
   "metadata": {},
   "outputs": [],
   "source": [
    "import os\n",
    "from PIL import Image\n",
    "import pytesseract"
   ]
  },
  {
   "cell_type": "markdown",
   "id": "1a52138c",
   "metadata": {},
   "source": [
    "# Extract text"
   ]
  },
  {
   "cell_type": "code",
   "execution_count": 2,
   "id": "c1b9b5d6",
   "metadata": {},
   "outputs": [],
   "source": [
    "# Tesseract directory + /bin/tesseract\n",
    "\n",
    "pytesseract.pytesseract.tesseract_cmd = r'/opt/homebrew/Cellar/tesseract/5.1.0/bin/tesseract'"
   ]
  },
  {
   "cell_type": "code",
   "execution_count": null,
   "id": "90cc1f0b",
   "metadata": {},
   "outputs": [],
   "source": [
    "# Example on one image\n",
    "# print(pytesseract.image_to_string(Image.open('data_resized/fox/03-12-22/00.png')))"
   ]
  },
  {
   "cell_type": "code",
   "execution_count": 3,
   "id": "8a64e371",
   "metadata": {},
   "outputs": [],
   "source": [
    "# Imagepaths for data_resized directory\n",
    "\n",
    "all_imagepaths = []\n",
    "\n",
    "for newssource in os.listdir('data_resized'):\n",
    "    if newssource != \".DS_Store\":\n",
    "        for date in os.listdir(os.path.join('data_resized',newssource)):\n",
    "            if date != \".DS_Store\":\n",
    "                for imagename in os.listdir(os.path.join('data_resized',newssource,date)):\n",
    "                    if imagename != \".DS_Store\":\n",
    "                        all_imagepaths.append(f\"data_resized/{newssource}/{date}/{imagename}\")\n",
    "\n",
    "all_imagepaths.sort()\n",
    "# all_imagepaths"
   ]
  },
  {
   "cell_type": "code",
   "execution_count": null,
   "id": "b03d7f7b",
   "metadata": {},
   "outputs": [],
   "source": [
    "# Without .DS_Store issues\n",
    "\n",
    "all_imagepaths = []\n",
    "\n",
    "for newssource in os.listdir('data_resized'):\n",
    "    for date in os.listdir(os.path.join('data_resized',newssource)):\n",
    "        for imagename in os.listdir(os.path.join('data_resized',newssource,date)):\n",
    "            all_imagepaths.append(f\"data_resized/{newssource}/{date}/{imagename}\")\n",
    "\n",
    "all_imagepaths.sort()\n",
    "all_imagepaths"
   ]
  },
  {
   "cell_type": "code",
   "execution_count": 4,
   "id": "be8e561f",
   "metadata": {},
   "outputs": [
    {
     "name": "stdout",
     "output_type": "stream",
     "text": [
      "Text extracted from 100 images.\n",
      "Text extracted from 200 images.\n",
      "Text extracted from 300 images.\n",
      "Text extracted from 400 images.\n",
      "Text extracted from 500 images.\n",
      "Text extracted from 600 images.\n",
      "Text extracted from 700 images.\n",
      "Text extracted from 800 images.\n",
      "Text extracted from 900 images.\n",
      "Text extracted from 1000 images.\n",
      "Text extracted from 1100 images.\n",
      "Text extracted from 1200 images.\n",
      "Text extracted from 1300 images.\n",
      "Text extracted from 1400 images.\n",
      "Text extracted from 1500 images.\n",
      "Text extracted from 1600 images.\n",
      "Text extracted from 1700 images.\n",
      "Text extracted from 1800 images.\n",
      "Text extracted from 1900 images.\n",
      "Text extracted from 2000 images.\n",
      "Text extracted from 2100 images.\n",
      "Text extracted from 2200 images.\n",
      "Text extracted from 2300 images.\n",
      "Text extracted from 2400 images.\n",
      "Text extracted from 2500 images.\n",
      "Text extracted from 2600 images.\n",
      "Text extracted from 2700 images.\n",
      "Text extracted from 2800 images.\n",
      "Text extracted from 2900 images.\n",
      "Text extracted from 3000 images.\n",
      "Text extracted from 3100 images.\n",
      "Text extracted from 3200 images.\n",
      "Text extracted from 3300 images.\n",
      "Text extracted from 3400 images.\n",
      "Text extracted from 3500 images.\n",
      "Text extracted from 3600 images.\n",
      "Text extracted from 3700 images.\n",
      "Text extracted from 3800 images.\n",
      "Text extracted from 3900 images.\n",
      "Text extracted from 4000 images.\n",
      "Text extracted from 4100 images.\n"
     ]
    }
   ],
   "source": [
    "count = 0\n",
    "for i in all_imagepaths:\n",
    "    components = i.split(\"/\")\n",
    "    filename = f\"raw_text/{components[1]}/{components[2]}.txt\"\n",
    "    with open(filename, \"a\") as f:\n",
    "        extracted_text = pytesseract.image_to_string(Image.open(i))\n",
    "        f.write(extracted_text)\n",
    "        # print(f\">>> {extracted_text}\") # FEEDBACK\n",
    "    count += 1\n",
    "    if count%100 == 0:\n",
    "        print(f\"Text extracted from {count} images.\") # FEEDBACK"
   ]
  },
  {
   "cell_type": "code",
   "execution_count": null,
   "id": "35249cc2",
   "metadata": {},
   "outputs": [],
   "source": []
  }
 ],
 "metadata": {
  "kernelspec": {
   "display_name": "Python 3 (ipykernel)",
   "language": "python",
   "name": "python3"
  },
  "language_info": {
   "codemirror_mode": {
    "name": "ipython",
    "version": 3
   },
   "file_extension": ".py",
   "mimetype": "text/x-python",
   "name": "python",
   "nbconvert_exporter": "python",
   "pygments_lexer": "ipython3",
   "version": "3.9.7"
  }
 },
 "nbformat": 4,
 "nbformat_minor": 5
}
