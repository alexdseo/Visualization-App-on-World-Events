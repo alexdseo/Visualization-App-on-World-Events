{
 "cells": [
  {
   "cell_type": "markdown",
   "id": "cfd2e2e8",
   "metadata": {},
   "source": [
    "# Set up (MacOS)\n",
    "\n",
    "[PyTesseract](https://pypi.org/project/pytesseract)\n",
    "- Install PyTesseract: `pip install pytesseract`\n",
    "\n",
    "[Tesseract](https://tesseract-ocr.github.io/tessdoc/Installation.html)\n",
    "- [Install Homebrew](https://brew.sh)\n",
    "- Install Tesseract: `brew install tesseract`\n",
    "- Find Tesseract directory: `brew info tesseract`"
   ]
  },
  {
   "cell_type": "markdown",
   "id": "0b1a4758",
   "metadata": {},
   "source": [
    "# Import libraries"
   ]
  },
  {
   "cell_type": "code",
   "execution_count": 1,
   "id": "8b2566bc",
   "metadata": {},
   "outputs": [],
   "source": [
    "from PIL import Image\n",
    "import pytesseract"
   ]
  },
  {
   "cell_type": "markdown",
   "id": "03c2a839",
   "metadata": {},
   "source": [
    "# Extract text"
   ]
  },
  {
   "cell_type": "code",
   "execution_count": 2,
   "id": "13b004ae",
   "metadata": {},
   "outputs": [],
   "source": [
    "# Tesseract directory + /bin/tesseract\n",
    "\n",
    "pytesseract.pytesseract.tesseract_cmd = r'/opt/homebrew/Cellar/tesseract/5.1.0/bin/tesseract'"
   ]
  },
  {
   "cell_type": "code",
   "execution_count": 3,
   "id": "7877a4b3",
   "metadata": {},
   "outputs": [
    {
     "name": "stdout",
     "output_type": "stream",
     "text": [
      "Q Login WatchTv\n",
      "\n",
      "TAME scr roics\n",
      "=\n",
      "\n",
      "tendifgtree Refinance Select loan amount $400,000\n",
      "Our experts predict rates will continue to °s)\n",
      "\n",
      "rise. Refinance before they get too high!\n",
      "\n",
      "Last Update March 13, 2022 04:09am EST\n",
      "\n",
      "Zelenskyy denounces abduction of Melitopol mayor,\n",
      "reports 1,300 Ukrainian troops lost: LIVE UPDATES\n",
      "\n",
      "The Russian military broadened its attacks on Friday, targeting an airfield in the west and a major industrial hub in the east. The Ukrainians also said the\n",
      "Russians shelled a cancer hospital south of Kyiv and a mosque in Mariupol where more than 80 people were hiding\n",
      "\n",
      "Covered by: Brie Stimson, Peter Aitken, Fox News, FOX Business and Kyle Morris Cf] (vy) e e\n",
      "\n",
      "Fast Facts\n",
      "\n",
      "@ Zelenskyy announced Saturday that his forces lost 1,300 troops since the invasion started.\n",
      "\n",
      "©. Ukrainian President Volodymyr Zelenskyy late Friday accused Russians of kidnapping the mayor of Melitopol, saying “They have transitioned into a\n",
      "new stage of terror\"\n",
      "\n",
      "@ Atleast 2.5 million people have fled Ukraine as refugees since the conflict started, according to the United Nations\n",
      "\n",
      "49 Posts SortBy — Sortby Newest\n",
      "\n"
     ]
    }
   ],
   "source": [
    "# Example on one image\n",
    "\n",
    "print(pytesseract.image_to_string(Image.open('data_resized/fox/03-12-22/0.png')))"
   ]
  },
  {
   "cell_type": "code",
   "execution_count": null,
   "id": "883fffc9",
   "metadata": {},
   "outputs": [],
   "source": []
  }
 ],
 "metadata": {
  "kernelspec": {
   "display_name": "Python 3 (ipykernel)",
   "language": "python",
   "name": "python3"
  },
  "language_info": {
   "codemirror_mode": {
    "name": "ipython",
    "version": 3
   },
   "file_extension": ".py",
   "mimetype": "text/x-python",
   "name": "python",
   "nbconvert_exporter": "python",
   "pygments_lexer": "ipython3",
   "version": "3.9.7"
  }
 },
 "nbformat": 4,
 "nbformat_minor": 5
}
