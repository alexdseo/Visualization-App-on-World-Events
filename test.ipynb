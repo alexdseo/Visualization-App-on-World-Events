{
 "cells": [
  {
   "cell_type": "code",
   "execution_count": 1,
   "id": "117e2c49",
   "metadata": {},
   "outputs": [],
   "source": [
    "import os\n",
    "\n",
    "from PIL import Image\n",
    "import pytesseract"
   ]
  },
  {
   "cell_type": "code",
   "execution_count": 5,
   "id": "7448d9ff",
   "metadata": {},
   "outputs": [
    {
     "data": {
      "text/plain": [
       "['03-12-22',\n",
       " '03-13-22',\n",
       " '03-14-22',\n",
       " '03-15-22',\n",
       " '03-16-22',\n",
       " '03-17-22',\n",
       " '03-18-22',\n",
       " '03-19-22',\n",
       " '03-20-22',\n",
       " '03-21-22',\n",
       " '03-22-22',\n",
       " '03-23-22',\n",
       " '03-24-22',\n",
       " '03-25-22',\n",
       " '03-26-22',\n",
       " '03-27-22',\n",
       " '03-28-22',\n",
       " '03-29-22',\n",
       " '03-30-22']"
      ]
     },
     "execution_count": 5,
     "metadata": {},
     "output_type": "execute_result"
    }
   ],
   "source": [
    "# Some news sources are missing dates.\n",
    "# When comparing news sources, consider\n",
    "# this and exclude those dates from the\n",
    "# other journals as well.\n",
    "\n",
    "# Initialize list\n",
    "shared_dates = []\n",
    "\n",
    "# Get list of all dates\n",
    "for newssource in os.listdir('data'):\n",
    "    # print(f\"----- {newssource} -----\")\n",
    "    if newssource != '.DS_Store':\n",
    "        for imagename in os.listdir(os.path.join('data', newssource)):\n",
    "            # print(f\"{imagename}\")\\\n",
    "            shared_dates.append(imagename)\n",
    "\n",
    "# Keep date in list if it appears three times\n",
    "shared_dates = [i for i in shared_dates if shared_dates.count(i)==3]\n",
    "\n",
    "# Keep unique dates in list\n",
    "shared_dates = list(set(shared_dates))\n",
    "shared_dates.sort()\n",
    "shared_dates\n",
    "\n",
    "# Remove file extension\n",
    "shared_dates = [i[:-4] for i in shared_dates]\n",
    "shared_dates"
   ]
  },
  {
   "cell_type": "code",
   "execution_count": 15,
   "id": "fafd714f",
   "metadata": {},
   "outputs": [],
   "source": [
    "# Image processing with Pillow: https://auth0.com/blog/image-processing-in-pytho\n",
    "\n",
    "def split_image(filepath):\n",
    "    \n",
    "    # Extract newssource and imagename from filepath\n",
    "    newssource = filepath.split(\"/\")[1]\n",
    "    imagename = filepath.split(\"/\")[2][:-4]\n",
    "    \n",
    "    # Create directory for image output\n",
    "    outputdir = f\"data_resized/{newssource}\"\n",
    "    if not os.path.exists(outputdir): os.mkdir(outputdir)\n",
    "    \n",
    "    # Open image input\n",
    "    im = Image.open(filepath)\n",
    "    width,height = im.size\n",
    "    count = 0\n",
    "    \n",
    "    # Split/crop image in increments\n",
    "    increment = 1000\n",
    "    \n",
    "    # Initialize first crop\n",
    "    left = 0\n",
    "    upper = 0\n",
    "    right = width\n",
    "    lower = increment\n",
    "    \n",
    "    # Keep cropping image of size width x increment\n",
    "    # until you reach or almost reach the bottom\n",
    "    while lower <= height:\n",
    "        im_cropped = im.crop((left,upper,right,lower))\n",
    "        outputname = f\"{imagename}_{count}.png\"\n",
    "        im_cropped.save(f\"{outputdir}/{outputname}\")\n",
    "        print(f\"{outputname} saved\") # FEEDBACK\n",
    "        upper = lower\n",
    "        lower = lower + increment\n",
    "        count += 1\n",
    "    \n",
    "    # Crop remaining part of image\n",
    "    if lower > height:\n",
    "        im_cropped = im.crop((left,upper,right,height))\n",
    "        outputname = f\"{imagename}_{count}.png\"\n",
    "        im_cropped.save(f\"{outputdir}/{outputname}\")\n",
    "        print(f\"{outputname} saved\") # FEEDBACK"
   ]
  },
  {
   "cell_type": "code",
   "execution_count": 16,
   "id": "3731a65d",
   "metadata": {},
   "outputs": [
    {
     "name": "stdout",
     "output_type": "stream",
     "text": [
      "03-12-22_0.png saved\n",
      "03-12-22_1.png saved\n",
      "03-12-22_2.png saved\n",
      "03-12-22_3.png saved\n",
      "03-12-22_4.png saved\n",
      "03-12-22_5.png saved\n",
      "03-12-22_6.png saved\n",
      "03-12-22_7.png saved\n",
      "03-12-22_8.png saved\n",
      "03-12-22_9.png saved\n",
      "03-12-22_10.png saved\n",
      "03-12-22_11.png saved\n",
      "03-12-22_12.png saved\n",
      "03-12-22_13.png saved\n",
      "03-12-22_14.png saved\n",
      "03-12-22_15.png saved\n",
      "03-12-22_16.png saved\n",
      "03-12-22_17.png saved\n",
      "03-12-22_18.png saved\n",
      "03-12-22_19.png saved\n",
      "03-12-22_20.png saved\n",
      "03-12-22_21.png saved\n",
      "03-12-22_22.png saved\n",
      "03-12-22_23.png saved\n",
      "03-12-22_24.png saved\n",
      "03-12-22_25.png saved\n",
      "03-12-22_26.png saved\n",
      "03-12-22_27.png saved\n",
      "03-12-22_28.png saved\n",
      "03-12-22_29.png saved\n",
      "03-12-22_30.png saved\n",
      "03-12-22_31.png saved\n",
      "03-12-22_32.png saved\n",
      "03-12-22_33.png saved\n",
      "03-12-22_34.png saved\n",
      "03-12-22_35.png saved\n",
      "03-12-22_36.png saved\n",
      "03-12-22_37.png saved\n"
     ]
    }
   ],
   "source": [
    "# Example on one image\n",
    "\n",
    "split_image(\"data/fox/03-12-22.png\")"
   ]
  },
  {
   "cell_type": "code",
   "execution_count": 17,
   "id": "eb62c214",
   "metadata": {},
   "outputs": [],
   "source": [
    "pytesseract.pytesseract.tesseract_cmd = r'/opt/homebrew/Cellar/tesseract/5.1.0/bin/tesseract'"
   ]
  },
  {
   "cell_type": "code",
   "execution_count": 20,
   "id": "7701547a",
   "metadata": {},
   "outputs": [
    {
     "name": "stdout",
     "output_type": "stream",
     "text": [
      "Q Login WatchTv\n",
      "\n",
      "TAME scr roics\n",
      "=\n",
      "\n",
      "tendifgtree Refinance Select loan amount $400,000\n",
      "Our experts predict rates will continue to °s)\n",
      "\n",
      "rise. Refinance before they get too high!\n",
      "\n",
      "Last Update March 13, 2022 04:09am EST\n",
      "\n",
      "Zelenskyy denounces abduction of Melitopol mayor,\n",
      "reports 1,300 Ukrainian troops lost: LIVE UPDATES\n",
      "\n",
      "The Russian military broadened its attacks on Friday, targeting an airfield in the west and a major industrial hub in the east. The Ukrainians also said the\n",
      "Russians shelled a cancer hospital south of Kyiv and a mosque in Mariupol where more than 80 people were hiding\n",
      "\n",
      "Covered by: Brie Stimson, Peter Aitken, Fox News, FOX Business and Kyle Morris Cf] (vy) e e\n",
      "\n",
      "Fast Facts\n",
      "\n",
      "@ Zelenskyy announced Saturday that his forces lost 1,300 troops since the invasion started.\n",
      "\n",
      "©. Ukrainian President Volodymyr Zelenskyy late Friday accused Russians of kidnapping the mayor of Melitopol, saying “They have transitioned into a\n",
      "new stage of terror\"\n",
      "\n",
      "@ Atleast 2.5 million people have fled Ukraine as refugees since the conflict started, according to the United Nations\n",
      "\n",
      "49 Posts SortBy — Sortby Newest\n",
      "\n"
     ]
    }
   ],
   "source": [
    "print(pytesseract.image_to_string(Image.open('data_resized/fox/03-12-22_0.png')))"
   ]
  }
 ],
 "metadata": {
  "kernelspec": {
   "display_name": "Python 3 (ipykernel)",
   "language": "python",
   "name": "python3"
  },
  "language_info": {
   "codemirror_mode": {
    "name": "ipython",
    "version": 3
   },
   "file_extension": ".py",
   "mimetype": "text/x-python",
   "name": "python",
   "nbconvert_exporter": "python",
   "pygments_lexer": "ipython3",
   "version": "3.9.7"
  }
 },
 "nbformat": 4,
 "nbformat_minor": 5
}
